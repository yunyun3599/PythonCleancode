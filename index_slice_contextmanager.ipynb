{
 "cells": [
  {
   "cell_type": "markdown",
   "id": "3fa90b69",
   "metadata": {},
   "source": [
    "# 인덱스와 슬라이스"
   ]
  },
  {
   "cell_type": "markdown",
   "id": "7fc7d7cf",
   "metadata": {},
   "source": [
    "### 음수 인덱스를 통해 뒤에서부터 접근하기"
   ]
  },
  {
   "cell_type": "code",
   "execution_count": 4,
   "id": "047f2e38",
   "metadata": {},
   "outputs": [
    {
     "name": "stdout",
     "output_type": "stream",
     "text": [
      "9\n",
      "5\n"
     ]
    }
   ],
   "source": [
    "my_numbers = (4, 5, 3, 9)\n",
    "print(my_numbers[-1])\n",
    "print(my_numbers[-3])"
   ]
  },
  {
   "cell_type": "markdown",
   "id": "d042140d",
   "metadata": {},
   "source": [
    "### slice를 통한 특정 구간의 요소 구하기"
   ]
  },
  {
   "cell_type": "code",
   "execution_count": 11,
   "id": "e76a17da",
   "metadata": {},
   "outputs": [
    {
     "name": "stdout",
     "output_type": "stream",
     "text": [
      "(2, 3, 5)\n",
      "(1, 1, 2)\n",
      "(3, 5, 8, 13, 21)\n",
      "(1, 1, 2, 3, 5, 8, 13, 21)\n",
      "(1, 3, 8)\n"
     ]
    }
   ],
   "source": [
    "my_numbers = (1, 1, 2, 3, 5, 8, 13, 21)\n",
    "print(my_numbers[2:5])\n",
    "print(my_numbers[:3])\n",
    "print(my_numbers[3:])\n",
    "print(my_numbers[::])\n",
    "print(my_numbers[1:7:2])   # 1에서 7 사이의 위치에 있는 요소를 2칸씩 점프하여 가져옴"
   ]
  },
  {
   "cell_type": "code",
   "execution_count": 13,
   "id": "fa3bb32d",
   "metadata": {},
   "outputs": [
    {
     "name": "stdout",
     "output_type": "stream",
     "text": [
      "(1, 3, 8)\n"
     ]
    }
   ],
   "source": [
    "# 시퀀스에 간격을 전달하는 것 = 슬라이스를 전달하는 것\n",
    "# slice는 파이썬 내장 객체로 직접 빌드하여 전달도 가능\n",
    "interval = slice(1, 7, 2)\n",
    "print(my_numbers[interval])"
   ]
  },
  {
   "cell_type": "code",
   "execution_count": 14,
   "id": "bd9a0b93",
   "metadata": {},
   "outputs": [
    {
     "name": "stdout",
     "output_type": "stream",
     "text": [
      "True\n"
     ]
    }
   ],
   "source": [
    "interval = slice(None, 3)\n",
    "print(my_numbers[interval] == my_numbers[:3])"
   ]
  },
  {
   "cell_type": "markdown",
   "id": "d610314f",
   "metadata": {},
   "source": [
    "## 자체 시퀀스 생성\n",
    "- 슬라이스 객체를 만들어 시퀀스에 전달하는 방법은 __getitem__이라는 매직 메서드 덕분에 동작\n",
    "- 시퀀스는 __getitem_과 __len__을 모두 구현하는 객체이므로 반복 가능\n",
    "- 리스트, 튜플, 문자열은 표준 라이브러리에 있는 시퀀스 객체"
   ]
  },
  {
   "cell_type": "code",
   "execution_count": 33,
   "id": "87dfd0be",
   "metadata": {},
   "outputs": [],
   "source": [
    "class Items:\n",
    "    def __init__(self, *values):\n",
    "        self._values = list(values)\n",
    "        \n",
    "    def __len__(self):\n",
    "        return len(self._values)\n",
    "    \n",
    "    def __getitem__(self, item):\n",
    "        return self._values.__getitem__(item)"
   ]
  },
  {
   "cell_type": "markdown",
   "id": "666e17cb",
   "metadata": {},
   "source": [
    "**위의 코드는 클래스가 표준 라이브러리 객체를 감싸는 래퍼인 경우**\n",
    "- self._values = list(values)로 클래스가 리스트 래퍼\n",
    "- getitem에서 동일한 메서드를 호출하여 호환성을 유지 (리스트의 getitem 함수를 그대로 호출)"
   ]
  },
  {
   "cell_type": "code",
   "execution_count": 34,
   "id": "1b543a70",
   "metadata": {},
   "outputs": [
    {
     "name": "stdout",
     "output_type": "stream",
     "text": [
      "3\n",
      "1\n"
     ]
    }
   ],
   "source": [
    "item = Items(1,2,3)\n",
    "print(item.__len__())\n",
    "print(item.__getitem__(0))"
   ]
  },
  {
   "cell_type": "markdown",
   "id": "06dc4234",
   "metadata": {},
   "source": [
    "### 래퍼나 내장 객체를 사용하지 않고 자체적인 시퀀스를 구현하는 경우\n",
    "1. 범위로 인덱싱하는 결과는 해당 클래스와 같은 타입의 인스턴스일 것\n",
    "1. slice에 의해 제공된 범위는 파이썬이 하는 것처럼 마지막 요소는 제외해야 함"
   ]
  },
  {
   "cell_type": "code",
   "execution_count": 35,
   "id": "2a185cf5",
   "metadata": {},
   "outputs": [
    {
     "data": {
      "text/plain": [
       "range(26, 51)"
      ]
     },
     "execution_count": 35,
     "metadata": {},
     "output_type": "execute_result"
    }
   ],
   "source": [
    "#1번 사항\n",
    "range(1, 100)[25:50] #결과도 range여야 함"
   ]
  },
  {
   "cell_type": "markdown",
   "id": "b1391183",
   "metadata": {},
   "source": [
    "# 컨텍스트 관리자 (Context manager)\n",
    "##### 주요 동작의 전후에 작업을 실행하려고 할 때 유용\n",
    "- 파일을 열면 파일 디스크립터 누수를 막기 위해 작업 종료 시 적절히 닫는 과정 필요\n",
    "- 서비스나 소켓 연결에 대해서도 적절히 닫는 과정 필요  \n",
    "\n",
    "<u>위와 같은 상황을 해결하는 일반적인 방법은 **finally** 블록에 정리 코드를 넣는 것</u>\n",
    "\n",
    "```python\n",
    "fd = open(filename)\n",
    "try:\n",
    "    process_file(fd)\n",
    "finally:\n",
    "    fd.close()\n",
    "```\n",
    "\n",
    "##### 위 코드에 대한 조금 더 파이썬스러운 방식은 아래와 같음\n",
    "```python\n",
    "with open(filename) as fd:\n",
    "    process_file(fd)\n",
    "```\n",
    "###   \n",
    "with문은 컨텍스트 관리자로 진입하게 해줌  \n",
    "컨텍스트 관리자의 구성 메서드\n",
    "1. &#95;&#95;enter&#95;&#95;\n",
    "2. &#95;&#95;exit&#95;&#95;\n",
    "\n",
    "with문은 &#95;&#95;enter&#95;&#95;메서드 호출 -> 메서드가 반환한 것을 as 이후에 지정된 변수에 할당  \n",
    "해당 블록에 대한 마지막 문장이 끝나면 컨텍스트가 종료되며 컨텍스트 관리자 객체의 &#95;&#95;exit&#95;&#95; 메서드를 호출함  \n",
    "_블록 내에 예외 or 오류가 있어도 &#95;&#95;exit&#95;&#95; 메서드는 호출됨_\n",
    "\n",
    "<blockQuote>컨텍스트 관리자는 관심사를 분리하고 독립적으로 유지되어야하는 코드를 분리하는 좋은 방법</blockQuote>\n",
    "<blockQuote>블록의 전후에 필요로하는 특정 논리를 제공하기 위해 자체 컨텍스트 관리자 구현 가능</blockQuote>\n",
    "\n",
    "---"
   ]
  },
  {
   "cell_type": "markdown",
   "id": "50cbfdc8",
   "metadata": {},
   "source": [
    "### 스크립트를 사용해 데이터베이스 백업을 하려는 예시\n",
    "- 데이터베이스 실행 X 일 때에만 백업 가능\n",
    "- 백업 위해서는 서비스 중지\n",
    "- 백업 끝나면 프로세스 재시작"
   ]
  },
  {
   "cell_type": "code",
   "execution_count": 42,
   "id": "bdf06e02",
   "metadata": {},
   "outputs": [],
   "source": [
    "def stop_database():\n",
    "    run(\"systemctl stop postgresql.service\")\n",
    "    \n",
    "def start_database():\n",
    "    run(\"systemctl start postgresql.service\")\n",
    "    \n",
    "class DBHandler:\n",
    "    def __enter__(self):\n",
    "        stop_database()\n",
    "        return self\n",
    "    \n",
    "    def __exit__(self, exec_type, ex_value, ex_traceback):\n",
    "        start_database()\n",
    "        \n",
    "def db_backup():\n",
    "    run(\"pg_dump database\")\n",
    "\n",
    "def main():\n",
    "    with DBHandler():\n",
    "        db_backup()"
   ]
  },
  {
   "cell_type": "markdown",
   "id": "8bb17789",
   "metadata": {},
   "source": [
    " **&#95;&#95;enter&#95;&#95; 메서드**\n",
    " - 반환 값이 쓸 데 없음\n",
    " - &#95;&#95;enter&#95;&#95; 함수에서 무언가를 반환 하는 것이 좋은 습관  \n",
    " \n",
    " \n",
    " **&#95;&#95;exit&#95;&#95; 메서드**\n",
    " - 예외를 파라미터로 받음\n",
    " - 특별한 작업을 할 필요가 없으면 아무것도 반환하지 않아도 됨\n",
    " \n",
    " > 실수로 __exit__에서 True를 반환하지 않도록 주의! 만일 True를 반환한다면 이것이 정말 원하는 결과인지, 그리고 그렇게 하는 충분한 이유가 있는 지 확인 필요\n",
    " "
   ]
  },
  {
   "cell_type": "markdown",
   "id": "c4f4f638",
   "metadata": {},
   "source": [
    "### 컨텍스트 관리자 구현\n",
    " **&#95;&#95;enter&#95;&#95; 메서드**와 **&#95;&#95;exit&#95;&#95; 메서드** 두가지 매직 메서드만 구현하면 해당 객체는 컨텍스트 관리자 프로토콜을 지원할 수 있음  \n",
    " 위의 방법은 일반적이나 유일한 방법은 X\n",
    "\n",
    "**&#60;todo&#62;**  \n",
    "컨텍스트 관리자를 좀 더 간결하게 구현하는 방법   \n",
    "표준 라이브러리 (contextlib 모듈 등)를 사용하여 보다 쉽게 구현하는 방법"
   ]
  },
  {
   "cell_type": "markdown",
   "id": "862a04b4",
   "metadata": {},
   "source": [
    "<hr>\n",
    "\n",
    "### Contextlib 모듈\n",
    "컨텍스트 관리자를 구현하거나 더 간결한 코드를 작성하는 데 도움이 되는 많은 도우미 함수와 객체를 제공\n",
    "### contextmanager 데코레이터\n",
    "- 데코레이터를 적용한 함수의 코드를 컨텍스트 관리자로 변환\n",
    "- 적용받는 함수는 **제너레이터** 라는 특수한 형태여야 함\n",
    "- 제너레이터 함수는 코드의 문장을 **&#95;&#95;enter&#95;&#95;**와 **&#95;&#95;exit&#95;&#95;** 매직 메서드로 분리"
   ]
  },
  {
   "cell_type": "code",
   "execution_count": 50,
   "id": "c4bd2ef4",
   "metadata": {},
   "outputs": [],
   "source": [
    "import contextlib\n",
    "\n",
    "@contextlib.contextmanager\n",
    "def db_handler():\n",
    "    stop_database()\n",
    "    yield\n",
    "    start_database()\n",
    "    \n",
    "def main():    \n",
    "    with db_handler():\n",
    "        db_backup()"
   ]
  },
  {
   "cell_type": "markdown",
   "id": "75f21dcd",
   "metadata": {},
   "source": [
    "**위의 코드는**  \n",
    "- 제너레이터 함수 정의 후 @contextlib.contextmanager 데코레이터 적용\n",
    "- db_handler는 yield문을 사용했으므로 제너레이터 함수가 됨\n",
    "- 데코레이터를 적용하면 yield문 앞의 모든 것은 &#95;&#95;enter&#95;&#95; 메서드의 일부처럼 취급\n",
    "    - &#95;&#95;enter&#95;&#95; 메서드의 반환값과 같은 역할을 하는 것으로 as x: 와 같은 형태로 변수에 할당 가능\n",
    "- yield문 뒤의 모든 것은 &#95;&#95;exit&#95;&#95;의 로직\n",
    "<hr>"
   ]
  },
  {
   "cell_type": "markdown",
   "id": "ddbb34ff",
   "metadata": {},
   "source": [
    "### contextlib.ContextDecorator 클래스로 컨텍스트 관리자 만들기\n",
    "컨텍스트 관리자 안에서 실행될 함수에 데코레이터를 적용하기 위한 로직을 제공하는 믹스인 클래스\n",
    "> 믹스인 클래스 = 다른 클래스에서 필요한 기능만 섞어서 사용할 수 있도록 메서드만을 제공하는 유틸리티 형태의 클래스\n"
   ]
  },
  {
   "cell_type": "code",
   "execution_count": 49,
   "id": "e1caed84",
   "metadata": {},
   "outputs": [],
   "source": [
    "class dbhandler_decorator(contextlib.ContextDecorator):\n",
    "    def __enter__(self):\n",
    "        stop_database()\n",
    "        \n",
    "    def __exit__(self, exec_type, ex_value, ex_traceback):\n",
    "        start_database()\n",
    "        \n",
    "@dbhandler_decorator()\n",
    "def offline_backup():\n",
    "    run(\"pg_dump database\")"
   ]
  },
  {
   "cell_type": "markdown",
   "id": "f3a0575c",
   "metadata": {},
   "source": [
    "**위의 코드는**  \n",
    "- with 문을 사용하지 않음\n",
    "- 함수를 호출하기만 하면 offline_backup 함수가 자동으로 컨텍스트 관리자 안에서 실행됨\n",
    "- 컨텍스트 관리자 내부에서 사용하고자 하는 객체를 얻을 수 없음  \n",
    "    ```python\n",
    "    with offline_backup() as bp:\n",
    "    ```\n",
    "    위처럼 &#95;&#95;enter&#95;&#95; 메서드가 반환한 객체를 사용해야 하는 경우는 이전의 접근방식을 사용해야 함  \n",
    "    \n",
    "<hr>"
   ]
  },
  {
   "cell_type": "markdown",
   "id": "4b811d89",
   "metadata": {},
   "source": [
    "### contextlib.suppress\n",
    "- 제공한 예외 중 하나가 발생한 경우에는 실패하지 않도록 함\n",
    "- try/except와 유사하나 suppress 메서드를 호출하면 로직에서 자체적으로 처리하고 있는 예외임을 명시함\n",
    "- 아래의 예시에서 DataConversionException은 입력 데이터가 이미 기대한 것과 같은 포맷이어서 변환할 필요가 없으므로 무시해도 안전하다는 뜻"
   ]
  },
  {
   "cell_type": "code",
   "execution_count": 52,
   "id": "e493e9d0",
   "metadata": {},
   "outputs": [],
   "source": [
    "import contextlib\n",
    "\n",
    "def main():\n",
    "    with contextlib.suppress(DataConversionException):\n",
    "        parse_data(input_json_or_dict)"
   ]
  },
  {
   "cell_type": "code",
   "execution_count": null,
   "id": "f383af7c",
   "metadata": {},
   "outputs": [],
   "source": []
  }
 ],
 "metadata": {
  "kernelspec": {
   "display_name": "Python 3 (ipykernel)",
   "language": "python",
   "name": "python3"
  },
  "language_info": {
   "codemirror_mode": {
    "name": "ipython",
    "version": 3
   },
   "file_extension": ".py",
   "mimetype": "text/x-python",
   "name": "python",
   "nbconvert_exporter": "python",
   "pygments_lexer": "ipython3",
   "version": "3.9.12"
  }
 },
 "nbformat": 4,
 "nbformat_minor": 5
}
