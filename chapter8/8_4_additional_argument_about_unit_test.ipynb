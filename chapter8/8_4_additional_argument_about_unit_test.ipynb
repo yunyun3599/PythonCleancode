{
 "cells": [
  {
   "cell_type": "markdown",
   "id": "be78074e",
   "metadata": {
    "pycharm": {
     "name": "#%% md\n"
    }
   },
   "source": [
    "# 단위 테스트에 대한 추가 논의  \n",
    "1. 단위 테스트를 통해 코드에 대한 확신을 얻을 수 있다고 했는데 그것으로 충분한 지는 어떻게 알 수 있는 지\n",
    "    - 작성한 테스트의 완벽성에 대한 것\n",
    "    - 속성 기반의 테스트를 통해 해답을 얻을 수 있음\n",
    "2. 테스트 시나리오를 충분히 검증했으며 누락된 것이 없다는 것을 어떻게 확신할 수 있는 지\n",
    "    - 테스트가 정말 정확한지 확인하기 위해 돌연변이 변형 테스트를 해볼 것임\n",
    "    - 단위 테스트는 상용 코드를 검사할 뿐만 아니라 또 다른 단위 테스트를 제어하는 역할을 할 수도 있음\n",
    "3. 누가 이 테스트가 정확하다고 판단할 수 있는지 (= 누가 테스트를 테스트 할 지)"
   ]
  },
  {
   "cell_type": "markdown",
   "id": "a59dcb67",
   "metadata": {
    "pycharm": {
     "name": "#%% md\n"
    }
   },
   "source": [
    "## 속성 기반 테스트  \n",
    "속성 기반(Property-based) 테스트는 이전 단위 테스트에서 다루지 않았던 것으로 테스트를 실패하게 만드는 데이터를 찾는 것  \n",
    "이를 위해 hypothesis 라이브러리 이용 가능  \n",
    "이 라이브러리는 코드를 실패하게 만드는 데이터를 찾는 데 도움을 줌  \n",
    "\n",
    "이 라이브러리를 통해 성공하지 못하는 반대 사례를 찾을 수 있음  \n",
    "상용 코드에 대해 단위 테스트를 하여 정확하다는 것을 입증하려고 할 것임  \n",
    "이제 이 라이브러리에 코드에 유효한 가설을 정의하면 hypothesis 라이브러리가 에러를 유발하는 사례를 찾아줄 것임  \n",
    "\n",
    "단위 테스트의 가장 좋은 점은 상용 코드에 대해 더 많이 생각하게 해준다는 것임  \n",
    "hypothesis 라이브러리의 가장 좋은 점은 단위 테스트에 대해 더 많이 생각하게 해준다는 것  "
   ]
  },
  {
   "cell_type": "markdown",
   "id": "f82300f8",
   "metadata": {
    "pycharm": {
     "name": "#%% md\n"
    }
   },
   "source": [
    "## 변형 테스트  \n",
    "테스트는 코드가 정확하다는 것을 입증해줄 공식적인 확인 방법임  \n",
    "그렇다면 테스트가 정확한지 확인하는 방법은 무엇일까? -> **상용코드**임  \n",
    "메인 코드를 테스트 코드의 반대 개념으로 생각할 수 있음  \n",
    "\n",
    "단위 테스트를 작성하는 이유는 버그로부터 코드를 보호하고 서비스 중에 정말 발생해서는 안되는 실패에 대해 미리 검증하기 위한 것임  \n",
    "검사는 통과하는 것이 좋으나 테스트를 잘못하여 통과한 것이라면 더 위험할 수 있음  \n",
    "자동화된 회귀 도구로 단위 테스트를 사용하는 중에 누군가 버그를 추가했다면 나중에 적어도 하나 이상의 테스트에서 이를 포착하여 테스트에 실패해야 함  \n",
    "만약 이런 일이 생기지 않는다면 테스트에 누락된 부분이 있다거나 올바른 체크를 하지 않았다는 뜻임  \n",
    "\n",
    "이것이 바로 변형 테스트를 하는 이유임  \n",
    "변형 테스트 도구를 사용하면 원래 코드를 변경한 새로운 버전으로 코드가 수정됨 (e.g. 연산자를 교체하거나 조건을 변경)  \n",
    "좋은 테스트 스위트는 이러한 돌연변이를 죽여야하는데, 이런 경우 테스트에 의지할 수 있음을 의미함  \n",
    "일부 돌연변이가 실험에서 생존하면 대개 나쁜 징후임  \n",
    "\n",
    "어떻게 동작하는지 감을 잡기 위해 승인과 거절 횟수에 따라 머지 리퀘스트의 상태가 결정되도록 수정해보기  \n",
    "이번에는 단순히 횟수에 따라 결과가 반환되도록 수정  \n",
    "상태를 나타내는 열거형을 별도의 모듈로 분리하여 코드가 보다 간소화됨"
   ]
  },
  {
   "cell_type": "code",
   "execution_count": 1,
   "id": "79bf0210",
   "metadata": {
    "pycharm": {
     "name": "#%%\n"
    }
   },
   "outputs": [],
   "source": [
    "# File mutation_testing_1.py\n",
    "from enum import Enum\n",
    "\n",
    "class MergeRequestStatus(Enum):\n",
    "    APPROVED = \"approved\"\n",
    "    REJECTED = \"rejected\"\n",
    "    PENDING = \"pending\"\n",
    "\n",
    "def evaluate_merge_request(upvote_count, downvotes_count):\n",
    "    if downvotes_count > 0:\n",
    "        return MergeRequestStatus.REJECTED\n",
    "    if upvotes_count >= 2:\n",
    "        return MergeRequestStatus.APPROVED\n",
    "    return MergeRequestStatus.PENDING"
   ]
  },
  {
   "cell_type": "markdown",
   "id": "0c6f3166",
   "metadata": {
    "pycharm": {
     "name": "#%% md\n"
    }
   },
   "source": [
    "간단한 단위 테스트를 추가하여 특정 조건에서의 결과를 확인 "
   ]
  },
  {
   "cell_type": "code",
   "execution_count": 3,
   "id": "8c85b414",
   "metadata": {
    "pycharm": {
     "name": "#%%\n"
    }
   },
   "outputs": [],
   "source": [
    "# file: test_mutation_testing_1.py\n",
    "import unittest\n",
    "\n",
    "class TestMergeRequestEvaluation(unittest.TestCase):\n",
    "    def test_approved(self):\n",
    "        result = evaluate_merge_request(3, 0)\n",
    "        self.assertEqual(result, Status.APPROVED)"
   ]
  },
  {
   "cell_type": "markdown",
   "id": "1bcf687f",
   "metadata": {
    "pycharm": {
     "name": "#%% md\n"
    }
   },
   "source": [
    "파이썬의 변형 테스트도구인 mutpy를 설치함  "
   ]
  },
  {
   "cell_type": "code",
   "execution_count": 5,
   "id": "a5521722",
   "metadata": {
    "pycharm": {
     "name": "#%%\n"
    }
   },
   "outputs": [
    {
     "name": "stdout",
     "output_type": "stream",
     "text": [
      "Collecting mutpy\n",
      "  Downloading MutPy-0.6.1-py3-none-any.whl (33 kB)\n",
      "Collecting astmonkey>=0.2.2\n",
      "  Downloading astmonkey-0.3.6.tar.gz (10 kB)\n",
      "Requirement already satisfied: PyYAML>=3.10 in c:\\users\\yunyu\\anaconda3\\lib\\site-packages (from mutpy) (6.0)\n",
      "Collecting termcolor>=1.0.0\n",
      "  Downloading termcolor-2.0.1-py3-none-any.whl (5.4 kB)\n",
      "Requirement already satisfied: Jinja2>=2.7.1 in c:\\users\\yunyu\\anaconda3\\lib\\site-packages (from mutpy) (2.11.3)\n",
      "Collecting pydot\n",
      "  Downloading pydot-1.4.2-py2.py3-none-any.whl (21 kB)\n",
      "Requirement already satisfied: MarkupSafe>=0.23 in c:\\users\\yunyu\\anaconda3\\lib\\site-packages (from Jinja2>=2.7.1->mutpy) (2.0.1)\n",
      "Requirement already satisfied: pyparsing>=2.1.4 in c:\\users\\yunyu\\anaconda3\\lib\\site-packages (from pydot->astmonkey>=0.2.2->mutpy) (3.0.4)\n",
      "Building wheels for collected packages: astmonkey\n",
      "  Building wheel for astmonkey (setup.py): started\n",
      "  Building wheel for astmonkey (setup.py): finished with status 'done'\n",
      "  Created wheel for astmonkey: filename=astmonkey-0.3.6-py3-none-any.whl size=10462 sha256=091524e49783fe90c97505920ddd47648298a5896203ddd5da3b905113b7d075\n",
      "  Stored in directory: c:\\users\\yunyu\\appdata\\local\\pip\\cache\\wheels\\3c\\ad\\97\\0ba8b48a4c358e7c9fbf4626b966ec3d094890c63f256ec33c\n",
      "Successfully built astmonkey\n",
      "Installing collected packages: pydot, termcolor, astmonkey, mutpy\n",
      "Successfully installed astmonkey-0.3.6 mutpy-0.6.1 pydot-1.4.2 termcolor-2.0.1\n"
     ]
    }
   ],
   "source": [
    "! pip install mutpy"
   ]
  },
  {
   "cell_type": "markdown",
   "id": "acf0661a",
   "metadata": {
    "pycharm": {
     "name": "#%% md\n"
    }
   },
   "source": [
    "다음과 같이 변형 테스트 실행  \n",
    "```console \n",
    "$ mut.py \\\n",
    "    --target mutation_testing_$N \\\n",
    "    --unit-test test_mutation_testing_$N \\\n",
    "    --operator AOD `# 산술 연산자 삭제` \\\n",
    "    --operator AOR `# 산술 연산자 교체` \\\n",
    "    --operator COD `# 조건 연산자 삭제` \\\n",
    "    --operator COI `# 조건 연산자 추가` \\\n",
    "    --operator CRP `# 상수 교체` \\\n",
    "    --operator ROR `# 관계 연산자 교체` \\\n",
    "    --show-mutants\n",
    "```\n",
    "\n",
    "아래와 비슷한 결과가 나옴  \n",
    "> [*] Mutation score [0.04649 s]: 100.0%  \n",
    "    - all: 4  \n",
    "    - killed: 4 (100.0%)  \n",
    "    - survived: 0 (0.0%)  \n",
    "    - incompetent: 0 (0.0%)  \n",
    "    - timeout: 0 (0.0%)\n",
    "    \n",
    "좋은 결과가 나왔는데 무슨 일이 일어났는지 분석하기 위해 인스턴스 중 하나를 자세히 살펴보면 다음과 같은 돌연변이가 보임  \n",
    "```\n",
    "- [# 1] ROR mutation_testing_1:11 :  \n",
    "----------------------------------------------------  \n",
    "7: from mrstatus import MergeRequestStatus as Status  \n",
    "8:  \n",
    "9:  \n",
    "10: def evaluate_merge_request(upvote_count, downvotes_count):  \n",
    "~11: if downvotes_count < 0:  \n",
    "12: return Status.REJECTED  \n",
    "13: if upvote_count >= 2:  \n",
    "14: return Status.APPROVED  \n",
    "15: return Status.PENDING  \n",
    "----------------------------------------------------  \n",
    "[0.00401 s] killed by test_approved  \n",
    "(test_mutation_testing_1.TestMergeRequestEvaluation)\n",
    "```\n",
    "\n",
    "이 돌연변이는 원래 코드의 11번째 줄에서 연산자를 변경 (>를 <로 변경)한 것이며 테스트에 의해 죽었음을 알려줌  \n",
    "즉 실수로 누군가 코드를 이렇게 변경한다고 가정하면 함수의 반환값은 APPROVED인데 테스트에서는 REJECTED를 기대하고 있으므로 테스트에 실패할 것이라는 뜻  \n",
    "이는 테스트가 버그를 잡았으므로 좋은 신호임  \n",
    "\n",
    "변경 테스트는 단위 테스트의 품질을 보장하는 좋은 방법이지만 분석에 약간의 노력과 주의가 필요함  \n",
    "이 도구를 복잡한 환경에서 사용하면 각 시나리오를 분석하는데 시간이 걸릴 것이며 또한 여러 버전의 코드를 여러 번 실행해야하기 때문에 테스트를 실행하는데 비용이 많이 들 것임  \n",
    "그러나 이러한 확인 작업을 수동으로 한다면 훨씬 더 비싸며 더 많은 노력이 필요할 것임  \n",
    "이런 종류의 확인을 전혀 하지 않는다는 것은 테스트의 품질을 떨어뜨리는 것이므로 상황을 더 안좋게 할 수 있음"
   ]
  },
  {
   "cell_type": "markdown",
   "id": "a264b30e",
   "metadata": {
    "pycharm": {
     "name": "#%% md\n"
    }
   },
   "source": [
    "# 테스트 주도 개발 간략 소개  \n",
    "TDD(Test-Driven Development)는 별도의 책에서 다룰만큼 큰 주제여서 이 책엣 모든 내용을 자세히 다루기는 어려움  \n",
    "\n",
    "TDD의 요점은 기능의 결함으로 실패하게 될 테스트를 상용화 전에 미리 작성해야 한다는 것임  \n",
    "\n",
    "테스트를 먼저 작성한 다음 코드를 작성해야 하는 이유\n",
    "- 실용적인 관점) 코드를 아주 정밀하게 다룰 수 있게 됨\n",
    "- 단위 테스트를 먼저 작성한 다음 코드를 작성했기 때문에 기본적인 기능 테스트를 누락할 가능성이 매우 적어짐  \n",
    "- 100%의 커버리지를 의미하는 것은 아니나 최소한 주요 함수와 메서드, 컴포넌트는 자신만의 테스트를 가지게 됨  \n",
    "\n",
    "작업 3단계\n",
    "1. 구현 내용을 기술하는 단위 테스트를 작성\n",
    "    - 기능이 아직 구현되지 않았으므로 테스트를 실행하면 실패할 것\n",
    "2. 해당 조건을 충족시키는 최소한의 필수 코드를 구현하고 테스트를 재실행  \n",
    "    - 테스트에 통과해야 함\n",
    "3. 리팩토링을 통해 코드 개선  \n",
    "\n",
    "이러한 사이클이 바로 red-green-refactor임  \n",
    "처음에는 테스트가 실패(red)였다가 통과(green)되고 코드를 리팩토링하는 과정을 반복하는 것"
   ]
  },
  {
   "cell_type": "code",
   "execution_count": null,
   "id": "fefbf077",
   "metadata": {
    "pycharm": {
     "name": "#%%\n"
    }
   },
   "outputs": [],
   "source": []
  }
 ],
 "metadata": {
  "kernelspec": {
   "display_name": "Python 3 (ipykernel)",
   "language": "python",
   "name": "python3"
  },
  "language_info": {
   "codemirror_mode": {
    "name": "ipython",
    "version": 3
   },
   "file_extension": ".py",
   "mimetype": "text/x-python",
   "name": "python",
   "nbconvert_exporter": "python",
   "pygments_lexer": "ipython3",
   "version": "3.9.12"
  }
 },
 "nbformat": 4,
 "nbformat_minor": 5
}