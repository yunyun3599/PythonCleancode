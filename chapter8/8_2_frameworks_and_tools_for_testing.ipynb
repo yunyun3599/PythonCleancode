{
 "cells": [
  {
   "cell_type": "markdown",
   "id": "6f969527",
   "metadata": {
    "pycharm": {
     "name": "#%% md\n"
    }
   },
   "source": [
    "# 테스트를 위한 프레임워크와 도구 \n",
    "단위 테스트를 작성하기 위한 많은 도구 중 거의 모든 시나리오를 다룰 수 있는 두 가지 도구에 대해 논의  \n",
    "테스트 프레임워크와 라이브러리와 함께 코드 커버리지를 설정하여 같이 사용하는 것이 일반적  \n",
    "커버리지 지표를 잘못 해석할 여지가 있으므로 우선 단위 테스트를 만드는 방법을 살펴본 후에 왜 커버리지가 중요한지 살펴볼 것  \n",
    "\n",
    "## 단위 테스트 프레임워크와 라이브러리  \n",
    "단위테스트를 작성하고 실행하기 위한 두 가지 프레임워크  \n",
    "1. unittest: 파이썬 표준 라이브러리  \n",
    "2. pytest:  pip 통해 설치 필요  \n",
    "\n",
    "테스트 시나리오를 다루는 것은 다양한 헬퍼 기능을 제공하는 unittest로 충분하지만 외부 시스템 연결 등 의존성이 많은 경우 테스트 케이스를 파라미터화 할 수 있는 fixture라는 객체가 필요함. 이렇게 더 복잡한 옵션이 필요한 경우는 pytest가 적합함  \n",
    "\n",
    "unittest와 pytest를 비교하는 데 머지 리퀘스터에 대한 코드 리뷰를 도와주는 간단한 버전 제어 도구 예제를 사용할 것이며 해당 예제는 다음과 같은 전제를 포함하고 있음  \n",
    "- 한 명 이상의 사용자가 변경 내용에 동의하지 않은 경우 머지 리퀘스트가 거절됨\n",
    "- 아무도 반대하지 않은 상태에서 두 명 이상의 개발자가 동의하면 해당 머지 리퀘스트는 승인됨  \n",
    "- 이외의 상태는 보류 상태임\n"
   ]
  },
  {
   "cell_type": "code",
   "execution_count": 21,
   "id": "55ed2c6a",
   "metadata": {
    "pycharm": {
     "name": "#%%\n"
    }
   },
   "outputs": [],
   "source": [
    "from enum import Enum\n",
    "\n",
    "class MergeRequestStatus(Enum):\n",
    "    APPROVED = \"approved\"\n",
    "    REJECTED = \"rejected\"\n",
    "    PENDING = \"pending\"\n",
    "    \n",
    "class MergeRequest:\n",
    "    def __init__(self):\n",
    "        self._context= {\n",
    "            \"upvotes\": set(),\n",
    "            \"downvotes\": selt()\n",
    "        }\n",
    "        \n",
    "    @property\n",
    "    def status(self):\n",
    "        if self._context[\"downvotes\"]:\n",
    "            return MergeRequestStatus.REJECTED\n",
    "        elif len(self._context[\"upvotes\"]) >= 2:\n",
    "            return MergeRequestStatus.APPROVED\n",
    "        return MergeRequestStatus.PENDING\n",
    "    \n",
    "    def upvote(self, by_user):\n",
    "        self._context[\"downvotes\"].discard(by_user)\n",
    "        self._context[\"upvotes\"].add(by_user)\n",
    "        \n",
    "    def downvote(self, by_user):\n",
    "        self._context[\"upvotes\"].discard(by_user)\n",
    "        self._context[\"downvotes\"].add(by_user)"
   ]
  },
  {
   "cell_type": "markdown",
   "id": "ecdb799d",
   "metadata": {
    "pycharm": {
     "name": "#%% md\n"
    }
   },
   "source": [
    "### unittest\n",
    "unittest 모듈은 모든 종류의 테스트를 작성할 수 있는 풍부한 API를 제공하므로 단위테스트를 시작하기에 훌륭한 선택임  \n",
    "또한 표준 라이브러리에 포함되어 있으므로 다방면에서 편리하게 사용 가능  \n",
    "\n",
    "unittest는 자바의 JUnit을 기반으로 함.\n",
    "JUnit은 Smalltalk의 아이디어를 기반으로 만들어졌으므로 객체지향적임  \n",
    "이러한 이유로 테스트는 객체를 사용해 작성되며 클래스의 시나리오별로 테스트를 그룹화하는 것이 일반적임  \n",
    "\n",
    "단위 테스트를 만들려면 unittest.TestCase를 상속하여 테스트 클래스를 만들고 메서드에 테스트할 조건을 정의하면 됨  \n",
    "이러한 메서드는 test_로 시작해양하며 본문에서는 unittest.TestCase에서 상속받은 메서드를 사용하여 체크하려는 조건이 참인지 확인하면 됨  "
   ]
  },
  {
   "cell_type": "code",
   "execution_count": 5,
   "id": "76d7d59b",
   "metadata": {
    "pycharm": {
     "name": "#%%\n"
    }
   },
   "outputs": [],
   "source": [
    "import unittest\n",
    "\n",
    "class TestMergeRequestStatus(unittest.TestCase):\n",
    "    def test_simple_rejected(self):\n",
    "        merge_request = MergeRequest()\n",
    "        merge_request.downvote(\"maintainer\")\n",
    "        self.assertEqual(merge_request.status, MergeRequestStatus.REJECTED)\n",
    "        \n",
    "    def test_just_created_is_pending(self):\n",
    "        self.assertEqual(MergeRequest().status, MergeRequestStatus.PENDING)\n",
    "        \n",
    "    def test_pending_awaiting_review(self):\n",
    "        merge_request = MergeRequest()\n",
    "        merge_request.upvote(\"core-dev\")\n",
    "        self.assertEqual(merge_request.status, MergeRequestStatus.PENDING)\n",
    "        \n",
    "    def test_approved(self):\n",
    "        merge_request = MergeRequest()\n",
    "        merge_request.upvote(\"dev1\")\n",
    "        merge_request.upvote(\"dev2\")\n",
    "        self.assertEqual(merge_request.status, MergeRequestStatus.APPROVED)"
   ]
  },
  {
   "cell_type": "markdown",
   "id": "8c405cac",
   "metadata": {
    "pycharm": {
     "name": "#%% md\n"
    }
   },
   "source": [
    "단위 테스트 API는 비교를 위한 다양한 메서드를 제공하는데, 가장 일반적인 메서드는 실제 실행 값과 예상 값을 비교하는 assertEquals(<actual>, <expected>[, message])임  \n",
    "이 메서드에는 에러가 발생한 경우를 대비해 메시지를 지정할 수 있음  \n",
    "    \n",
    "또 다른 메서드를 사용하면 특정 예외가 발생했는지 여부를 확인 가능  \n",
    "예외적인 상황이 발생하면 잘못된 가정 하에 실행을 계속 하는 것보다 예외를 발생시키고 호출자에게 바로 알려주는 것이 좋음  \n",
    "\n",
    "    \n",
    "이제 기존 기능을 좀 더 확장하여 사용자가 머지 리퀘스트를 종료할 수 있게 해볼 것임  \n",
    "병합을 종료하면 더 이상 투표를 할 수 없는데 이를 확인하기 위해 코드를 약간 수정하고 누군가가 종료된 머지 리퀘스트에 투표를 시도하면 예외를 발생시키도록 해보기  \n",
    "    \n",
    "두 개의 새로운 상태(OPEN, CLOSED)와 한 개의 새로운 메서드 close()를 추가한 후, 투표 메서드에 조건을 추가"
   ]
  },
  {
   "cell_type": "code",
   "execution_count": 6,
   "id": "44993f0c",
   "metadata": {
    "pycharm": {
     "name": "#%%\n"
    }
   },
   "outputs": [],
   "source": [
    "from enum import Enum\n",
    "\n",
    "class MergeRequestStatus(Enum):\n",
    "    APPROVED = \"approved\"\n",
    "    REJECTED = \"rejected\"\n",
    "    PENDING = \"pending\"\n",
    "    OPEN = \"open\"\n",
    "    CLOSED = \"closed\"\n",
    "    \n",
    "class MergeRequest:\n",
    "    def __init__(self):\n",
    "        self._context= {\n",
    "            \"upvotes\": set(),\n",
    "            \"downvotes\": selt()\n",
    "        }\n",
    "        self._status = MergeRequestStatus.OPEN\n",
    "        \n",
    "    def close(self):\n",
    "        self._status = MergeRequestStatus.CLOSED\n",
    "    \n",
    "    @property\n",
    "    def status(self):\n",
    "        if self._context[\"downvots\"]:\n",
    "            return MergeRequestStatus.REJECTED\n",
    "        elif len(self._context[\"upvotes\"]) >= 2:\n",
    "            return MergeRequestStatus.APPROVED\n",
    "        return MergeRequestStatus.PENDING\n",
    "    \n",
    "    def _cannot_vote_if_closed(self):\n",
    "        if self._status == MergeRequestStatus.CLOSED:\n",
    "            raise MergeRequestException(\"종료된 머지 리퀘스트에 투표할 수 없음\")\n",
    "    \n",
    "    def upvote(self, by_user):\n",
    "        self._cannot_vote_if_closed()\n",
    "        \n",
    "        self._context[\"downvotes\"].discard(by_user)\n",
    "        self._context[\"upvotes\"].add(by_user)\n",
    "        \n",
    "    def downvote(self, by_user):\n",
    "        self._cannot_vote_if_closed()\n",
    "        \n",
    "        self._context[\"upvotes\"].discard(by_user)\n",
    "        self._context[\"downvotes\"].add(by_user)"
   ]
  },
  {
   "cell_type": "markdown",
   "id": "c13491f0",
   "metadata": {
    "pycharm": {
     "name": "#%% md\n"
    }
   },
   "source": [
    "유효성 검사가 실제로 작동하는지 확인하기 위해 assertRaises와 assertRaisesRegex 메서드 이용"
   ]
  },
  {
   "cell_type": "code",
   "execution_count": 7,
   "id": "dc7d5972",
   "metadata": {
    "pycharm": {
     "name": "#%%\n"
    }
   },
   "outputs": [],
   "source": [
    "import unittest\n",
    "\n",
    "class TestMergeRequestStatus(unittest.TestCase):\n",
    "    def test_cannot_upvote_on_closed_merge_request(self):\n",
    "        self.merge_request.close()\n",
    "        self.assertRaises(MergeRequestException, self.merge_request.upvote, \"dev1\")\n",
    "    \n",
    "    def test_cannot_downvote_on_closesd_merge_request(self):\n",
    "        self.merge_request.close()\n",
    "        self.assertRaisesReges(\"종료된 머지 리퀘스트에 투표할 수 없음\", self.merge_request.downvote, \"dev1\")"
   ]
  },
  {
   "cell_type": "markdown",
   "id": "80f2a01c",
   "metadata": {
    "pycharm": {
     "name": "#%% md\n"
    }
   },
   "source": [
    "전자는 제공한 예외가 실제로 발생하는 지롤 확인하는 것이고 두 번째 파라미터로 호출 가능한 객체를 전달하고 나머지 파라미터에 호출에 필요한 파라미터를(*args와 ***kwargs)를 전달하면 됨  \n",
    "\n",
    "후자는 동일한 방식으로 처리하지만 발생된 예외의 메시지가 제공된 정규식과 일치하는 지 확인함  \n",
    "예외가 발생했지만 정규 표현식과 일치하지 않는 다른 메시지가 있는 경우에도 테스트에 실패\n",
    "\n",
    "#### 테스트 파라미터화\n",
    "데이터에 따라 머지 리퀘스트가 정상적으로 동작하는지를 확인하기 위해 임계값을 변경하여 테스트  \n",
    "status 프로퍼티에서 종료 여부를 확인한 뒤의 코드를 테스트  \n",
    "\n",
    "이렇게 하는 가장 좋은 방법은 해당 컴포넌트를 다른 클래스로 분리하고 컴포지션을 사용하여 다시 가져오는 것임  \n",
    "분리된 클래스에 대해서는 자체 테스트 스위트를 가진 새로운 추상화 객체를 만들고 이것에 대해 테스트를 수행함  "
   ]
  },
  {
   "cell_type": "code",
   "execution_count": 8,
   "id": "a67b3145",
   "metadata": {
    "pycharm": {
     "name": "#%%\n"
    }
   },
   "outputs": [],
   "source": [
    "class AcceptanceThreshold:\n",
    "    def __init__(self, merge_request_context: dict) -> None:\n",
    "        self._context = merge_request_context\n",
    "        \n",
    "    def status(self):\n",
    "        if self._context[\"downvotes\"]:\n",
    "            return MergeRequestStatus.REJECTED\n",
    "        elif len(self._context[\"upvotes\"]) >= 2:\n",
    "            return MergeRequestStatus.APPROVED\n",
    "        return MergeRequestStatus.PENDING\n",
    "    \n",
    "class MergeRequest:\n",
    "    ...\n",
    "    @property\n",
    "    def status(self):\n",
    "        if self._status == MergeRequestStatus.CLOSED:\n",
    "            return self._status\n",
    "        \n",
    "        return AcceptanceThreshold(self._context).status()"
   ]
  },
  {
   "cell_type": "markdown",
   "id": "7b742775",
   "metadata": {
    "pycharm": {
     "name": "#%% md\n"
    }
   },
   "source": [
    "이렇게 수정하고 다시 테스트를 실행하면 테스트에 통과함  \n",
    "조금 전의 작은 리팩토링이 현재 기능을 전혀 손상시키지 않은 것임  \n",
    "이를 통해 새로운 클래스에 특정한 테스트를 작성하려는 목표 달성 가능"
   ]
  },
  {
   "cell_type": "code",
   "execution_count": 9,
   "id": "9a38def3",
   "metadata": {
    "pycharm": {
     "name": "#%%\n"
    }
   },
   "outputs": [],
   "source": [
    "class TestAcceptanceThreshold(unittest.TestCase):\n",
    "    def setUp(self):\n",
    "        self.fixture_data = (\n",
    "            (\n",
    "                {\"downvotes\": set(), \"upvotes\": set()}, \n",
    "                MergeRequestStatus.PENDING\n",
    "            ),\n",
    "            (\n",
    "                {\"downvotes\": set(), \"upvotes\": {\"dev1\"}},\n",
    "                MergeRequestStatus.PENDING\n",
    "            ),\n",
    "            (\n",
    "                {\"downvotes\": {\"dev1\"}, \"upvotes\": set()},\n",
    "                MergeRequestStatus.REJECTED\n",
    "            ),\n",
    "            (\n",
    "                {\"downvotes\": set(), \"upvotes\": {\"dev1\", \"dev2\"}},\n",
    "                MergeRequestStatus.APPROVED\n",
    "            )\n",
    "        )\n",
    "        \n",
    "    def test_status_resolution(self):\n",
    "        for context, expected in self.fixture_data:\n",
    "            with self.subTest(context=context):\n",
    "                status = AcceptanceThreshold(context).status()\n",
    "                self.assertEqual(status, exepcted)"
   ]
  },
  {
   "cell_type": "markdown",
   "id": "e9308e9e",
   "metadata": {
    "pycharm": {
     "name": "#%% md\n"
    }
   },
   "source": [
    "setUp() 메서드에서는 테스트 전반에 걸쳐 사용될 데이터 픽스처를 정의함  \n",
    "\n",
    "테스트 코드를 이렇게 수정함으로써 코드의 파라미터를 쉽고 간결하게 전달할 수 있게 되었으며 각각의 결과도 쉽게 확인할 수 있게 됨  \n",
    "\n",
    "모든 경우에 대해 테스트하려면 모든 데이터를 반복하며 각 인스턴스에 대해 테스트를 해야함  \n",
    "한 가지 재미있는 것은 subTest를 사용하는 것임  \n",
    "subTest는 호출되는 테스트 조건을 표시하는 데 사용됨  \n",
    "이러한 반복 중 하나가 실패하면 unittest는 subTest에 전달된 변수의 값을 보고함 (여기서는 context라는 이름을 사용했으나 다른 키워드 인자도 모두 동일하게 동작함)\n",
    "\n",
    ">오류가 난 경우\n",
    "    FAIL: (context={\"downvotes\": set(), \"upvotes\": {\"dev1\", \"dev2\"}})  \n",
    "    -----------------------------------------------------------------  \n",
    "    Traceback (most recent call last):  \n",
    "        FILE \"\"test_status_resolution  \n",
    "            self.assertEqual(status, expected)  \n",
    "    AssertionError: <MergeRequestStatus.APPROVED: 'approved'> != <MergeRequestStatus.REJECTED: 'rejected'>"
   ]
  },
  {
   "cell_type": "markdown",
   "id": "d227a7fc",
   "metadata": {
    "pycharm": {
     "name": "#%% md\n"
    }
   },
   "source": [
    "### pytest\n",
    "Pytest는 테스트 프레임워크로 pip install pytest 명령어를 통해 설치 가능  \n",
    "unittest와의 차이점으로는 테스트 시나리오를 클래스로 만들고 객체 지향 모델을 생성하는 것이 가능하지만 필수사항이 아니며 단순히 assert 구문을 사용해 조건을 검사하는 것이 가능하므로 보다 자유롭게 코드 작성이 가능하다는 것  \n",
    "\n",
    "기본적으로 pytest에서는 assert 비교만으로 단위 테스트를 식별하고 결과를 보고하는 것이 가능  \n",
    "\n",
    "pytest는 명령어를 통해 탐색 가능한 모든 테스트를 한번에 실행함  \n",
    "unittest로 작성한 테스트도 실행 가능  \n",
    "이러한 호환성 때문에 unittest에서 pytest로 점진적으로 전환하는 것도 가능\n",
    "\n",
    "\n",
    "#### 기초적인 pytest 사용 예\n",
    "앞에서 사용했던 테스트는 pytest를 사용해 다음과 같이 다시 작성 가능  \n",
    "다음은 간단한 어설션을 사용한 예"
   ]
  },
  {
   "cell_type": "code",
   "execution_count": 17,
   "id": "da588293",
   "metadata": {
    "pycharm": {
     "name": "#%%\n"
    }
   },
   "outputs": [],
   "source": [
    "import pytest\n",
    "\n",
    "def test_simple_rejected():\n",
    "    merge_request = MergeRequest()\n",
    "    merge_request.downvote(\"maintainer\")\n",
    "    assert merge_request.status == MergeRequestStatus.REJECTED\n",
    "    \n",
    "def test_just_created_is_pending():\n",
    "    assert MergeRequest().status == MergeRequestStatus.PENDING\n",
    "    \n",
    "def test_pending_awaiting_review():\n",
    "    merge_request = MergeRequest()\n",
    "    merge_request.upvote(\"core-dev\")\n",
    "    assert merge_request.status == MergeRequestStatus.PENDING"
   ]
  },
  {
   "cell_type": "markdown",
   "id": "91c73c2f",
   "metadata": {
    "pycharm": {
     "name": "#%% md\n"
    }
   },
   "source": [
    "간단히 결과가 참인지를 비교하는 것은 assert 구문만 사용하면 되지만, 예외의 발생 유무 검사와 같은 검사는 일부 함수를 사용해야 함"
   ]
  },
  {
   "cell_type": "code",
   "execution_count": 18,
   "id": "9c387dfc",
   "metadata": {
    "pycharm": {
     "name": "#%%\n"
    }
   },
   "outputs": [],
   "source": [
    "def test_invalid_types():\n",
    "    merge_request = MergeRequest()\n",
    "    ptyest.raises(TypeError, merge_request.upvote, {\"invalid-object\"})\n",
    "    \n",
    "def test_cannot_vote_on_close_merge_request():\n",
    "    merge_request = MergeRequest()\n",
    "    merge_request.close()\n",
    "    pytest.raises(MergeRequestException, merge_request.upvote, \"dev1\")\n",
    "    with pytest.raises(MergeRequestException, match=\"종료된 머지 리퀘스트에 투표할 수 없음\"):\n",
    "        merge_request.downvote(\"dev1\")"
   ]
  },
  {
   "cell_type": "markdown",
   "id": "b173332a",
   "metadata": {
    "pycharm": {
     "name": "#%% md\n"
    }
   },
   "source": [
    "이 경우 pytest.raises는 unittest.TestCase.assertRaises와 동일하며 메서드 형태 또는 컨텍스트 관리자 형태로 호출될 수 있음  \n",
    "예외의 메시지를 검사하고 싶으면 assertRaisesRegex와 같은 다른 메서드를 사용하는 대신 같은 함수를 사용하되 match 파라미터에 확인하려는 표현식을 전달하면 됨  \n",
    "\n",
    "pytest는 .value 같은 속성을 통해 추가 검사를 할 수 있도록 원래의 예외를 래핑하지만, 지금 사용한 함수를 사용해도 대부분의 경우에 대해서 확인할 수 있음  \n",
    "\n",
    "#### 테스트 파라미터화\n",
    "pytest로 파라미터화 된 테스트를 하는 것은 이전보다 훌륭하게 할 수 있음  \n",
    "단순히 더 깔끔한 API를 제공해서가 아니라 테스트 조합마다 새로운 테스트 케이스를 생성하기 때문  \n",
    "\n",
    "이렇게 하려면 pytest.mark.parametrize 데코레이터를 사용해야 함   \n",
    "- 데코레이터의 첫번째 파라미터 = 테스트 함수에 전달할 파라미터의 이름을 나타내는 문자열  \n",
    "- 데코레이터의 두번째 파라미터 = 해당 파라미터에 대한 각각의 값으로 반복 가능해야 함  \n",
    "\n",
    "테스트 함수의 본문에서 내부 for 루프와 중첩된 컨텍스트 관리자가 제거되고, 한 줄로 변경되었음  \n",
    "각 테스트 케이스의 데이터는 함수 본문에서 올바르게 분리되어 확장과 유지보수에 유리한 구조가 됨  "
   ]
  },
  {
   "cell_type": "code",
   "execution_count": 19,
   "id": "7fbbfa9d",
   "metadata": {
    "pycharm": {
     "name": "#%%\n"
    }
   },
   "outputs": [],
   "source": [
    "@pytest.mark.parametrize(\"context,expected_status\",(\n",
    "    (\n",
    "        {\"downvotes\": set(), \"upvotes\": set()}, \n",
    "        MergeRequestStatus.PENDING\n",
    "    ),\n",
    "    (\n",
    "        {\"downvotes\": set(), \"upvotes\": {\"dev1\"}}, \n",
    "        MergeRequestStatus.PENDING\n",
    "    ),\n",
    "    (\n",
    "        {\"downvotes\": \"dev1\", \"upvotes\": set()}, \n",
    "        MergeRequestStatus.REJECTED\n",
    "    ),\n",
    "    (\n",
    "        {\"downvotes\": set(), \"upvotes\": {\"dev1\", \"dev2\"}}, \n",
    "        MergeRequestStatus.APPROVED\n",
    "    ),\n",
    "))\n",
    "def test_acceptance_threshold_status_resolution(context, expected_status):\n",
    "    assert AcceptanceThreshold(context).status() == expected_status"
   ]
  },
  {
   "cell_type": "markdown",
   "id": "ab24acc1",
   "metadata": {
    "pycharm": {
     "name": "#%% md\n"
    }
   },
   "source": [
    "#### 픽스처(Fixture)\n",
    "pytest의 가장 큰 장점 중 하나는 재사용 가능한 기능을 쉽게 만들 수 있다는 점임  \n",
    "이렇게 생성한 데이터나 객체를 재사용해 보다 효율적으로 테스트 가능  \n",
    "\n",
    "예를 들어 특정 상태를 가진 MergeRequest 객체를 만들고 여러 테스트에서 이 객체를 재사용할 수 있음  \n",
    "픽스처를 정의하려면 먼저 함수를 만들고 @pytest.fixture 데코레이터를 적용  \n",
    "이 픽스처를 사용하길 원하는 테스트에는 파라미터로 픽스처의 이름을 전달하면 pytest가 그것을 활용"
   ]
  },
  {
   "cell_type": "code",
   "execution_count": 20,
   "id": "c74792d0",
   "metadata": {
    "pycharm": {
     "name": "#%%\n"
    }
   },
   "outputs": [],
   "source": [
    "@pytest.fixture\n",
    "def rejected_mr():\n",
    "    merge_request = MergeRequest()\n",
    "    \n",
    "    merge_request.downvote(\"dev1\")\n",
    "    merge_request.upvote(\"dev2\")\n",
    "    merge_request.upvote(\"dev3\")\n",
    "    merge_request.downvote(\"dev4\")\n",
    "    \n",
    "    return merge_request\n",
    "\n",
    "def test_simple_rejected(rejected_mr):\n",
    "    assert rejected_mr.status == MergeRequestStatus.REJECTED\n",
    "    \n",
    "def test_rejected_with_approvals(rejected_mr):\n",
    "    rejected_mr.upvote(\"dev2\")\n",
    "    rejected_mr.upvote(\"dev3\")\n",
    "    assert rejected_mr.status == MergeRequestStatus.REJECTED\n",
    "    \n",
    "def test_rejected_to_pending(rejected_mr):\n",
    "    rejected_mr.upvote(\"dev1\")\n",
    "    assert rejected_mr.status == MergeRequestStatus.PENDING\n",
    "    \n",
    "def test_rejected_to_approved(rejected_mr):\n",
    "    rejected_mr.upvote(\"dev1\")\n",
    "    rejected_mr.upvote(\"dev2\")\n",
    "    assert rejected_mr.status == MergeRequestStatus.APPROVED"
   ]
  },
  {
   "cell_type": "markdown",
   "id": "ca350c56",
   "metadata": {
    "pycharm": {
     "name": "#%% md\n"
    }
   },
   "source": [
    "테스트 코드는 메인 코드에도 영향을 미치므로 클린 코드의 원칙이테스트에도 적용됨을 기억하기  \n",
    "이번 예제는 이전 장에서 살펴본 DRY(Do not Repeat Yourself) 원칙을 적용할 수 있으며 pytest의 픽스처를 활용하여 해당 원칙을 준수할 수 있었음   \n",
    "\n",
    "픽스처는 테스트 스위터 전반에 걸쳐 사용될 여러 객체를 생성하거나 데이터를 노출하는 것 이외에도, 직접 호출되지 않는 함수를 수정하거나 사용될 객체를 미리 설정하는 등의 사전 조건 설정에 사용될 수도 있음"
   ]
  },
  {
   "cell_type": "markdown",
   "id": "4d24902b",
   "metadata": {
    "pycharm": {
     "name": "#%% md\n"
    }
   },
   "source": [
    "## 코드 커버리지  \n",
    "테스트 러너는 pip를 통해 설치 가능한 커버리지 플러그인을 제공함  \n",
    "이 플러그인은 테스트 도중 코드의 어떤 부분이 실행되었는 지 알려줌  \n",
    "이 정보는 테스트에서 어떤 부분을 다뤄야 할지, 어떤 부분이 개선되었는지를 알 수 있게 해줌  \n",
    "가장 널리 사용되는 것 = coverage 라이브러리  \n",
    "-> 이는 훌륭한 도구로 CI에서 테스트를 실행할 때 같이 설정하기를 추천하나 특히 파이썬에서는 가끔 잘못 분석하는 경우도 있음. (커버리지 보고서 주의해서 살펴보아야 함)\n",
    "\n",
    "### 코드 커버리지 도구 설정  \n",
    "pytest의 경우 pytest-cov 패키지를 설치하고 설치 후에 테스트를 실행할 때 pytest 러너에게 pytest-cov가 실행될 것이라는 것과 어떤 패키지를 사용할 지 알려줘야 함  \n",
    "이 패키지는 다양한 출력 옵션과 같은 여러 설정을 지원하며 모든 CI 도구와 쉽게 통합할 수 있음  \n",
    "그러나 여러 기능 중에서 가장 권장되는 것은 테스트 되지 않은 행을 알려주는 기능임  \n",
    "*- 커버되지 않은 코드를 확인하면 추가로 테스트를 작성할 수 있기 때문*\n",
    "\n",
    "다음 명령을 사용하여 실행 결과를 확인할 수 있음\n",
    "```python\n",
    "pytest \\\n",
    "    --cov-report term-missing \\\n",
    "    --cov=coverage_1 \\\n",
    "    test_coverage_1.py\n",
    "```\n",
    "이렇게 하면 다음과 같은 출력이 나옴  \n",
    "> test_coverage_1.py ..................[100%]  \n",
    "--------- coverage: platform linux, python 3.6.5-final-0 --------  \n",
    "Name Stmt Miss Cover Missing  \n",
    "\\------------------------------------  \n",
    "coverage_1.py 38 1 97% 53\n",
    "\n",
    "출력 결과에 단위텐스트를 하지 않은 라인이 있다는 것이 표시됨. 이것을 보고 단위 테스트를 어떻게 작성할지 살펴볼 수 있음  \n",
    "이렇게 단위 테스트에서 커버하지 못한 부분을 발견하고 작은 메서드를 만들어서 리팩토링 하는 것이 일반적인 시나리오  \n",
    "\n",
    "반대의 경우 높은 커버리지를 있는 그대로 신뢰할 수 있을 지 여부 역시 생각해 보아야 함  \n",
    "높은 테스트 커버리지를 갖는 것은 좋은 것이지만 클린 코드를 위한 조건으로는 부족함  \n",
    "코드의 모든 부분을 테스트 하는 것은 실제로 해당 코드에 대해 품질을 보증할 수 있으나 이것만으로는 충분한 클린코드의 조건을 가졌다고 할 수 없음  \n",
    "높은 커버리지에도 불구하고 보다 많은 테스트가 필요할 수 있음 => **테스트 커버리지의 맹점**\n",
    "\n",
    "### 코드 커버리지 사용 시 주의사항\n",
    "파이썬은 인터프리트 방식의 언어로 커버리지 도구는 테스트가 실행되는 동안 고수준에서 인터프리트되는 라인을 식별하여 커버리지를 측정함  \n",
    "그리고 정보를 취합하여 보고서를 만들기 때문에 라인이 인터프리트 되었다고 해서 적절히 테스트되었다는 것을 의미하지는 않음  \n",
    "-> 최종 커버리지 보고서를 해석할 때 주의해야 하는 이유  \n",
    "\n",
    "실제로 이것은 어떤 언어에서든 마찬가지인데, 라인이 실행되었다는 것이 가능한 모든 조합에 대해 테스트 되었음을 의미하는 것은 전혀 아님  \n",
    "모든 브랜치의 코드가 제공된 데이터에 대해 통과했다는 것은 해당 데이터에 문제가 없다는 것이지, 그 외의 모든 데이터 조합에 대해서도 안전하다는 것을 의미하는 것은 아님 "
   ]
  },
  {
   "cell_type": "markdown",
   "id": "160821e3",
   "metadata": {
    "pycharm": {
     "name": "#%% md\n"
    }
   },
   "source": [
    "## 모의 객체\n",
    "테스트를 하는 과정 중에는 우리가 작성한 코드만 실행되는 것이 아님  \n",
    "어떤 시스템이 실제로 서비스되기 위해서는 외부 서비스(데이터베이스, 스토리지 서비스, 외부 API, 클라우드 서비스 등)와 연결하게 됨  \n",
    "이런 외부 서비스에는 필연적으로 부작용이 존재하는데 부작용을 최소화하기 위해 외부 요소를 분리하고 인터페이스를 사용해 최대한 추상화하겠지만 이러한 부분 역시 테스트에 포함되어야 하며 효과적으로 처리할 수 있어야 함  \n",
    "\n",
    "모의 객체는 원하지 않는 부작용으로부터 테스트코드를 보호하는 가장 좋은 방법 중 하나임  \n",
    "코드에서 HTTP 요청을 수행하거나 알림 이메일을 보내야 할 수도 있지만, 단위 테스트에서 확인할 내용은 아님  \n",
    "단위 테스트는 빠르게 실행되어야 하기 때문에 이러한 대기 시간을 감당할 수 없음 -> 단위 테스트에서는 이러한 외부 서비스를 호출하지 않음  \n",
    "**데이터베이스에 연결하지 않고 HTTP 요청을 하지 않으며 기본적으로 상용 코드를 시뮬레이션하는 것 외에는 아무것도 수행하지 않음**  \n",
    "\n",
    "단위 테스트에서 확인할 것은 오직 이것들이 호출되는 지 여부임  \n",
    "통합 테스트: 거의 실제 사용자의 행동을 모방하여 더 넓은 관점에서 기능을 테스트 (시간 오래 걸림, 비용 많이 듦, 외부 시스템과 서비스에 실제로 연결)  \n",
    "일반적으로 단위테스트는 많이, 항상 실행하며 통합테스트는 덜 자주 실행하도록 함 (e.g 새로운 머지 리퀘스트가 있는 경우에만 통합 테스트 실행)  \n",
    "모의 객체는 유용하지만 남용하여 안티패턴을 만들지 않도록 유의  \n",
    "\n",
    "### 패치와 모의에 대한 주의사항\n",
    "단위 테스트가 보다 나은 코드를 작성하는 데 도움이 되는 이유\n",
    "+ 테스트가 가능한 코드는 응집력이 뛰어나고 세분화되어 있으며 작기 때문  \n",
    "+ 테스트를 통해 문제가 없다고 생각하던 부분에서 코드의 나쁜 냄새를 맡을 수 있음 (간단한 테스트 코드 작성을 위해 다양한 몽키패치(or mock)를 사용해야 한다면 코드에서 나쁜 냄새가 난다는 것)  \n",
    "\n",
    "**unittest 모듈**\n",
    "- unittest.mock.patch에서 객체를 패치하기 위한 도구를 제공  \n",
    "- 패치: 임포트 중에 경로를 지정했던 원본 코드를 다른 것으로 대체하는 것  \n",
    "    - 런타임 중에 코드가 바뀌고 처음에 있던 원래 코드와 연결이 끊어져 테스트가 조금 더 어려워지는 단점이 있음\n",
    "    - 런타임 시 인터프리터에서 객체를 수정하는 오버헤드도 있으므로 성능상의 이슈도 있음\n",
    "- 몽키 패치 또는 모의를 사용하는 것 자체가 문제가 되지는 않으나 남용하게 된다면 원본 코드를 개선할 여지가 있다는 것\n",
    "\n",
    "### Mock 객체 사용하기  \n",
    "단위 테스트에서 말하는 테스트 더블(test double)의 카테고리에 속하는 타입에는 여러 객체가 있음  \n",
    "> 테스트 더블: 여러가지 이유로 테스트 스위터에서 실제 코드를 대신해 실제인 것처럼 동작하는 코드  \n",
    "실제 상용 코드는 필요하지 않다거나 특정 서비스에 접근해야 하는데 권한이 없다거나, 부작용이 있어서 단위 테스트에서 실행하고 싶지 않은 겨우 등  \n",
    "\n",
    "테스트 더블에는 더미(dummy), 스텁(stub), 스파이(spy), 모의(mock)와 같은 다양한 타입의 객체가 있음  \n",
    "모의 객체는 가장 일반적인 유형의 객체이며 매우 융통성이 있고 다양한 기능을 가지고 있기 때문에 나머지 객체에 대해 자세히 설명할 필요 없이 모든 경우에 적합함  \n",
    "이러한 이유로 표준 라이브러리에서도 모의 객체를 포함하고 있으며 많은 파이썬 프로그램에서도 쉽게 찾아볼 수 있음  \n",
    "\n",
    "**unittest.mock.Mock**  \n",
    "**모의(mock)** 는 스펙(보통 상용 클래스의 객체와 유사)을 따르는 객체 타입으로 응답 값을 수정할 수 있음  \n",
    "-> 모의 객체 호출 시 응답해야 하는 값이나 행동을 특정할 수 있음  \n",
    "Mock 객체는 내부에 호출 방법(파라미터, 호출횟수 등)을 기록하고 나중에 이 정보를 사용하여 애플리케이션의 동작을 검증함  \n",
    "파이썬 표준 라이브러리에서 제공하는 Mock 객체는 호출횟수, 사용된 파라미터 등 모든 종류의 검증을 할 수 있는 API를 제공함"
   ]
  },
  {
   "cell_type": "markdown",
   "id": "3a2728ac",
   "metadata": {
    "pycharm": {
     "name": "#%% md\n"
    }
   },
   "source": [
    "#### *Mock 객체의 종류*\n",
    "파이썬 표준 라이브러리는 unittest.mock 모듈에서 Mock과 MagicMock 객체를 제공함  \n",
    "- Mock: 모든 값을 반환하도록 설정할 수 있는 테스트 더블이며 모든 호출을 추적함  \n",
    "- MagicMock: 똑같지만 매직 메서드를 지원함  \n",
    "매직 메서드를 사용한 경우는 Mock 객체 대신에 MagicMock 객체를 사용해야 함  \n",
    "\n",
    "만약 Mock 객체에서 매직 메서드를 사용하려고 하면 에러가 발생함  "
   ]
  },
  {
   "cell_type": "code",
   "execution_count": 3,
   "id": "b4c2dfb4",
   "metadata": {
    "pycharm": {
     "name": "#%%\n"
    }
   },
   "outputs": [],
   "source": [
    "from typing import List, Dict\n",
    "\n",
    "class GitBranch:\n",
    "    def __init__(self, commits: List[Dict]):\n",
    "        sef._commits = {c[\"id\"]: c for c in commits}\n",
    "        \n",
    "    def __getitem__(self, commit_id):\n",
    "        return self._commits[commit_id]\n",
    "    \n",
    "    def __len__(self):\n",
    "        return len(self.__commits)\n",
    "    \n",
    "def author_by_id(commit_id, branch):\n",
    "    return branch[commit_id][\"author\"]"
   ]
  },
  {
   "cell_type": "markdown",
   "id": "06863a3d",
   "metadata": {
    "pycharm": {
     "name": "#%% md\n"
    }
   },
   "source": [
    "author_by_id 함수를 테스트하기  \n",
    "-> 다른 함수에서도 author_by_id를 호출하면 됨  "
   ]
  },
  {
   "cell_type": "code",
   "execution_count": 7,
   "id": "0e9f746b",
   "metadata": {
    "pycharm": {
     "name": "#%%\n"
    }
   },
   "outputs": [],
   "source": [
    "from unittest.mock import Mock\n",
    "\n",
    "def test_find_commit():\n",
    "    branch = GitBranch([{\"id\": \"123\", \"author\": \"dev1\"}])\n",
    "    assert author_by_id(\"123\", branch) == \"dev1\"\n",
    "    \n",
    "def test_find_any():\n",
    "    author = author_by_id(\"123\", Mock()) is not None\n",
    "    # ... 나머지 테스트"
   ]
  },
  {
   "cell_type": "code",
   "execution_count": 8,
   "id": "0df92e33",
   "metadata": {
    "scrolled": true,
    "pycharm": {
     "name": "#%%\n"
    }
   },
   "outputs": [
    {
     "ename": "TypeError",
     "evalue": "'Mock' object is not subscriptable",
     "output_type": "error",
     "traceback": [
      "\u001B[1;31m---------------------------------------------------------------------------\u001B[0m",
      "\u001B[1;31mTypeError\u001B[0m                                 Traceback (most recent call last)",
      "Input \u001B[1;32mIn [8]\u001B[0m, in \u001B[0;36m<cell line: 1>\u001B[1;34m()\u001B[0m\n\u001B[1;32m----> 1\u001B[0m \u001B[43mtest_find_any\u001B[49m\u001B[43m(\u001B[49m\u001B[43m)\u001B[49m\n",
      "Input \u001B[1;32mIn [7]\u001B[0m, in \u001B[0;36mtest_find_any\u001B[1;34m()\u001B[0m\n\u001B[0;32m      7\u001B[0m \u001B[38;5;28;01mdef\u001B[39;00m \u001B[38;5;21mtest_find_any\u001B[39m():\n\u001B[1;32m----> 8\u001B[0m     author \u001B[38;5;241m=\u001B[39m \u001B[43mauthor_by_id\u001B[49m\u001B[43m(\u001B[49m\u001B[38;5;124;43m\"\u001B[39;49m\u001B[38;5;124;43m123\u001B[39;49m\u001B[38;5;124;43m\"\u001B[39;49m\u001B[43m,\u001B[49m\u001B[43m \u001B[49m\u001B[43mMock\u001B[49m\u001B[43m(\u001B[49m\u001B[43m)\u001B[49m\u001B[43m)\u001B[49m \u001B[38;5;129;01mis\u001B[39;00m \u001B[38;5;129;01mnot\u001B[39;00m \u001B[38;5;28;01mNone\u001B[39;00m\n",
      "Input \u001B[1;32mIn [5]\u001B[0m, in \u001B[0;36mauthor_by_id\u001B[1;34m(commit_id, branch)\u001B[0m\n\u001B[0;32m      1\u001B[0m \u001B[38;5;28;01mdef\u001B[39;00m \u001B[38;5;21mauthor_by_id\u001B[39m(commit_id, branch):\n\u001B[1;32m----> 2\u001B[0m     \u001B[38;5;28;01mreturn\u001B[39;00m \u001B[43mbranch\u001B[49m\u001B[43m[\u001B[49m\u001B[43mcommit_id\u001B[49m\u001B[43m]\u001B[49m[\u001B[38;5;124m\"\u001B[39m\u001B[38;5;124mauthor\u001B[39m\u001B[38;5;124m\"\u001B[39m]\n",
      "\u001B[1;31mTypeError\u001B[0m: 'Mock' object is not subscriptable"
     ]
    }
   ],
   "source": [
    "test_find_any()"
   ]
  },
  {
   "cell_type": "markdown",
   "id": "ef634dfc",
   "metadata": {
    "pycharm": {
     "name": "#%% md\n"
    }
   },
   "source": [
    "매직 매서드를 사용했으므로 예상한 것처럼 제대로 동작하지 않음  \n",
    "\n",
    "이런 경우는 MagicMock을 사용하면 됨  \n",
    "테스트에 필요한 값을 반환하도록 매직 메서드를 직접 수정 가능"
   ]
  },
  {
   "cell_type": "code",
   "execution_count": 11,
   "id": "7640208d",
   "metadata": {
    "pycharm": {
     "name": "#%%\n"
    }
   },
   "outputs": [],
   "source": [
    "from unittest.mock import MagicMock\n",
    "\n",
    "def test_find_any():\n",
    "    mbranch = MagicMock()\n",
    "    mbranch.__getitem__.return_value = {\"author\": \"test\"}\n",
    "    assert author_by_id(\"123\", mbranch) == \"test\"\n",
    "    # ... 나머지 테스트\n",
    "    \n",
    "test_find_any()"
   ]
  },
  {
   "cell_type": "markdown",
   "id": "7cfe14c3",
   "metadata": {
    "pycharm": {
     "name": "#%% md\n"
    }
   },
   "source": [
    "#### *테스트 더블의 사용 예*\n",
    "모의 객체의 사용 예로 애플리케이션에 머지 리퀘스트 빌드 상태를 알리는 컴포넌트 추가  \n",
    "빌드가 끝나면 머지 리퀘스트 아이디와 빌드 상태를 파라미터로 하여 객체를 호출  \n",
    "그러면 특정 엔드포인트에 POST 요청을 보내 최종 머지 리퀘스트의 상태를 업데이트"
   ]
  },
  {
   "cell_type": "code",
   "execution_count": 14,
   "id": "20248022",
   "metadata": {
    "pycharm": {
     "name": "#%%\n"
    }
   },
   "outputs": [],
   "source": [
    "# mock_2.py\n",
    "\n",
    "from datetime import datetime\n",
    "\n",
    "import requests\n",
    "\n",
    "class BuildStatus:\n",
    "    \"\"\"Continuous Integration 도구에서의 머지 리퀘스트 상태\"\"\"\n",
    "    \n",
    "    STATUS_ENDPOINT = \"url.of.endpoint\"\n",
    "    \n",
    "    @staticmethod\n",
    "    def build_date() -> str:\n",
    "        return datetime.utcnow().isoformat()\n",
    "    \n",
    "    @classmethod\n",
    "    def notify(cls, merge_request_id, status):\n",
    "        build_status = {\n",
    "            \"id\": merge_request_id,\n",
    "            \"status\": status,\n",
    "            \"built_at\": cls.build_date()\n",
    "        }\n",
    "        response = requests.post(STATUS_ENDPOINT, json=build_status)\n",
    "        response.raise_for_status() #200이 아니면 예외 발생\n",
    "        return response"
   ]
  },
  {
   "cell_type": "markdown",
   "id": "850b555d",
   "metadata": {
    "pycharm": {
     "name": "#%% md\n"
    }
   },
   "source": [
    "이 클래스는 많은 부작용을 가지고 있지만 그 중 하나는 외부 모듈에 의존성이 너무 크다는 것  \n",
    "아무것도 수정하지 않고 바로 위의 코드를 그대로 실행하면 HTTP 연결 시도 중에 바로 실패할 것  \n",
    "\n",
    "지금 테스트 하려는것은 적절하게 정보가 구성되어 API에 잘 전달되었는지 여부임  \n",
    "따라서 실제로 API를 호출할 필요는 없고 단지 잘 호출되는 지만 확인하면 됨\n",
    "\n",
    "또 다른 문제는 API에 전달하는 값 중에 시간 값이 있는데 만약 빌드 시간을 비교하는 조건이 있다면 이 시간 값이 고정되어야 하는데, 실시간으로 변하는 값이므로 정확히 예측을 할 수가 없다는 점임  \n",
    "datetime 모듈 자체는 C로 작성되었으므로 datetime을 직접 패치할 수는 없음  \n",
    "이런 경우를 위해 datetime 모듈을 override하여 사용자가 지정한 시간으로 반환해주는 freezegun 같은 외부 라이브러리도 있지만 성능상의 불이익이 따르고 이 예제에서는 과도한 기능임  \n",
    "따라서 직접 패치할 수 있는 build_date 정적 메서드를 래핑할 것임  "
   ]
  },
  {
   "cell_type": "markdown",
   "id": "949b508d",
   "metadata": {
    "pycharm": {
     "name": "#%% md\n"
    }
   },
   "source": [
    "```python\n",
    "from unittest import mock\n",
    "from mock_2 import BuildStatus\n",
    "\n",
    "@mock.patch(\"mock_2.requests\")\n",
    "def test_build_notification_sent(mock_requests):\n",
    "    STATUS_ENDPOINT = \"url.of.endpoint\"\n",
    "    \n",
    "    build_date = \"2019-01-01T00:00:01\"\n",
    "    with mock.patch(\"mock_2.BuildStatus.build_date\", return_value=build_state):\n",
    "        BuildStatus.notify(123, \"OK\")\n",
    "        \n",
    "    expected_payload = {\"id\":123, \"status\": \"OK\", \"build_at\": build_date}\n",
    "    mock_request.post.assert_called_with(\n",
    "        STATUS_ENDPOINT, json=expected_payload\n",
    "    )\n",
    "```"
   ]
  },
  {
   "cell_type": "markdown",
   "id": "27e3667a",
   "metadata": {
    "pycharm": {
     "name": "#%% md\n"
    }
   },
   "source": [
    "먼저 @mock.patch 데코레이터를 사용해 테스트 안에서 mock_2.request를 호출하면 mock_requests라는 mock 객체가 대신할 것이라고 알려줌  \n",
    "그리고 mock.patch 함수를 컨택스트 매니저로 사용하여 build_date() 메서드 호출 시 assertion에 사용할 build_date 날짜를 반환하도록 패치  \n",
    "\n",
    "이제 BuildStatus.notify @classmethod를 호출을 통해 mock 객체의 post 메서드에 특정 날짜를 포함한 파라미터가 전달될 경우 HTTP 상태가 200이 될 것이라는 지정을 한 셈임  \n",
    "따라서 mock_request.post에 동일한 파라미터를 사용해 호출하면 assert_called_with는 성공하게 됨  \n",
    "\n",
    "mock 객체는 이번처럼 알림을 보내는 외부 HTTP 요청을 하지 않아도 될 뿐만 아니라 API 호출 성공 여부와 파라미터의 유효셩까지도 확인할 수 있음  \n",
    "비록 테스트에서 사용하는 각각의 외부 컴포넌트를 mock 객체로 패치하여 테스트를 할 수 있었지만, 코드의 상당 부분을 수정해야 했던 것도 사실임  \n",
    "테스트의 몇 퍼센트까지만 모의 실험을 해야 하는지는 정해진 바가 없음  \n",
    "그러나 상식적으로 특정 부분을 반복적으로 패치해야 한다면 분명 추상화가 잘못된 것이고 뭔가 코드의 나쁜 냄새를 맡을 수 있음  "
   ]
  },
  {
   "cell_type": "code",
   "execution_count": null,
   "id": "b0622459",
   "metadata": {
    "pycharm": {
     "name": "#%%\n"
    }
   },
   "outputs": [],
   "source": []
  }
 ],
 "metadata": {
  "kernelspec": {
   "display_name": "Python 3 (ipykernel)",
   "language": "python",
   "name": "python3"
  },
  "language_info": {
   "codemirror_mode": {
    "name": "ipython",
    "version": 3
   },
   "file_extension": ".py",
   "mimetype": "text/x-python",
   "name": "python",
   "nbconvert_exporter": "python",
   "pygments_lexer": "ipython3",
   "version": "3.9.12"
  }
 },
 "nbformat": 4,
 "nbformat_minor": 5
}