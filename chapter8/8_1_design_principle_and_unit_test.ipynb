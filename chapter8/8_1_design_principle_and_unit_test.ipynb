{
 "cells": [
  {
   "cell_type": "markdown",
   "id": "06fac60f",
   "metadata": {},
   "source": [
    "# 디자인 원칙과 단위 테스트\n",
    "**단위 테스트**: 다른 코드의 일부분이 유효한지를 검사하는 코드  \n",
    "단위 테스트는 소프트웨어의 핵심이 되는 필수적인 기능으로서 일반 비즈니스 로직과 동일한 수준으로 다루어져야 함  \n",
    "\n",
    "단위 테스트의 특징\n",
    "- **격리**: 단위테스트는 다른 외부 에이전트와 완전히 독립적이어야 하며 비즈니스 로직에만 집중해야함. 따라서 데이터베이스에 연결하지 않아야 하고 HTTP 요청도 하지 않아야 함. 격리는 테스트 자체가 독립적이라는 것도 의미하므로 테스트는 이전 상태에 관계 없이 임의의 순서로 실행될 수 있어야 함  \n",
    "- **성능**: 단위 테스트는 신속하게 실행되어야 함. 반복적으로 여러 번 실행될 수 있도록 설계해야 함  \n",
    "- **자체 검증**: 단위 테스트의 실행만으로 결과를 결정할 수 있어야 함. 단위 테스트를 처리하기 위한 추가 단계가 없어야 함  \n",
    "\n",
    "단위테스트를 작성하기 위한 .py 파일 내에는 비즈니스 로직에서 필요한 것들을 가져오기 위한 import 구문과 비즈니스 로직을 테스트하기 위한 프로그램이 있음  \n",
    "테스트 도구에서 파일의 내용을 호출하면 테스트가 실행됨  \n",
    "테스트에 실패하면 프로세스는 오류 코드와 함께 종료됨  \n",
    "일반적으로 테스트에서 성공하면 점(.)을 찍고 실패하면 F를, 예외가 있으면 E를 출력함"
   ]
  },
  {
   "cell_type": "markdown",
   "id": "ca758991",
   "metadata": {},
   "source": [
    "## 자동화된 테스트의 다른 형태  \n",
    "단위테스트는 함수 또는 메서드와 같은 매우 작은 단위를 확인하기 위한 것임  \n",
    "클래스를 테스트하려면 단위테스트가 아니라 단위 테스트의 집합인 테스트 스위트를 사용함  \n",
    "테스트 스위트를 구성하는 테스트들은 메서드처럼 보다 작은 것을 테스트함  \n",
    "\n",
    "단위테스트는 여러 방법으로 할 수 있으며 모든 오류를 잡을 수 있는 것은 아님\n",
    "단위테스트 외에도 인수 테스트나 통합 테스트 같은 것들도 있음\n",
    "\n",
    "**통합 테스트**\n",
    "- 한 번에 여러 컴포넌트를 테스트함  \n",
    "- 종합적으로 예상대로 잘 동작하는 지 검증함  \n",
    "- 부작용이나 격리를 고려하지 않은 채로, 즉 HTTP 요청을 하거나 데이터베이스에 연결하는 등의 작업을 수행하는 것이 가능하고 떄로는 그렇게 하는 것이 바람직함\n",
    "\n",
    "**인수 테스트**\n",
    "- 유스 케이스(use case)를 활용하여 사용자의 관점에서 시스템의 유효성을 검사하는 자동화된 테스트  \n",
    "\n",
    "통합테스트 & 인수테스트를 하면 단위테스트와 관련된 중요한 특성인 \"속도\"를 잃게 됨  \n",
    "이러한 테스트들은 실행하는데 더 많은 시간이 걸리기 때문에 보다 덜 자주 실행하게 됨  \n",
    "<br/><br/>\n",
    "개발 환경이 잘 구축되었다면 개발자는 전체 테스트 스위트를 만들고 코드에 수정이 생길 때마다 반복적으로 단위 테스트와 리팩토링을 할 수 있어야 함  \n",
    "\n",
    "pull request가 생기면 CI가 실행되어 해당 브랜치에 빌드를 실행함  \n",
    "통합 테스트나 인수 테스트가 있는 경우는 빌드 중에 단위 테스트도 함께 수행함  \n",
    "\n",
    "일반적으로 단위 테스트는 항상 수행되기 원하지만 통합 테스트나 인수 테스트는 그보다 덜 자주 수행되길 바람  \n",
    "-> 전략적으로 단위테스트에서 작은 기능을 많이 테스트하고, 단위 테스트에서 확인할 수 없는 부분(e.g. 데이터베이스)을 다른 자동화된 테스트에서 커버하려고 하기 때문\n",
    "<br/><br/><br/>\n",
    "그러나 실용성이 이상보다 우선이므로 도커 컨테이너를 이용하여 데이터베이스를 테스트하는 단위 테스트가 있을 수도 있음"
   ]
  },
  {
   "cell_type": "markdown",
   "id": "faa553cc",
   "metadata": {},
   "source": [
    "## 단위 테스트와 애자일 소프트웨어 개발  \n",
    "최근의 소프트웨어 개발은 가능한 한 신속하고도 지속적으로 가치를 제공하려고 함  \n",
    "따라서 변화에 효과적으로 대응할 수 있는 소츠트웨어를 개발하고자 한다면 유연하며 확장 가능해야 함  \n",
    "\n",
    "코드 자체만으로는 변경에 충분히 유안하다는 보장을 할 수 없음  \n",
    "SOLID 원칙을 준수하고 개방/폐쇄 원칙을 따르는 변화에 효과적인 컴포넌트를 만들었을 때 변경 작업이 아무런 버그를 만들지 않고 기존 기능이 보존되었음을 확신할 수 있는 방법  \n",
    "**-> 공식적인 증거로 단위 테스트가 프로그램 명세에 따라 정확하게 동작한다는 것을 들 수 있음**  \n",
    "\n",
    "단위테스트 (or 자동화된 테스트)는 작성된 코드가 기대한 것처럼 동작한다는 확신을 줄 수 있는 안전망이 될 수 있음  \n",
    "단위테스트와 같은 도구가 잘 갖춰진 코드는 보다 효율적으로 개발이 진행될 것이므로 궁극적으로 팀의 개발 속도(or 범위)를 향상시킬 수 있음  \n",
    "좋은 테스트를 가질수록 버그에 의해 프로젝트를 중단하지 않고 신속하게 가치를 제공할 가능성이 높아짐  "
   ]
  },
  {
   "cell_type": "markdown",
   "id": "09538068",
   "metadata": {},
   "source": [
    "## 단위 테스트와 소프트웨어 디자인\n",
    "테스트의 용이성은 단순히 있으면 좋은 것이 아니라 클린 코드의 핵심 가치임  \n",
    "단위 테스트는 기본 코드를 보완하기 위한 것이 아니라 실제 코드의 작성 방식에 직접적인 영향을 미치는 것임  \n",
    "\n",
    "단위 테스트의 단계: 특정 코드에 단위 테스트를 해야겠다고 발견하는 단계 -> 더 나은 코드를 작성하는 단계 -> 모든 코드가 테스트에 의해 작성되는 TDD 단계  \n",
    "\n",
    "다음 예제는 특정 작업에서 얻은 지표를 외부 시스템에 보내는 프로세스임  \n",
    "Process 객체는 도메인 문제에 대한 일부 작업을 나타내며 MetricsClient는 외부 엔터티에 실제 지표를 전송하기 위한 객체임"
   ]
  },
  {
   "cell_type": "code",
   "execution_count": 12,
   "id": "020315e7",
   "metadata": {},
   "outputs": [],
   "source": [
    "class MetricsClient:\n",
    "    \"\"\"타사 지표 전송 클라이언트\"\"\"\n",
    "    \n",
    "    def send(self, metric_name, metric_value):\n",
    "        if not isinstance(metric_name, str):\n",
    "            raise TypeError(\"metric_name으로 문자열 타입을 사용해야 함\")\n",
    "        \n",
    "        if not isinstance(metric_value, str):\n",
    "            raise TypeError(\"metric_value로 문자열 타입을 사용해야 함\")\n",
    "            \n",
    "        logger.info(\"%s 전송값 = %s\", metric_name, metric_value)\n",
    "        \n",
    "class Process:\n",
    "    \n",
    "    def __init__(self):\n",
    "        self.client = MetricsCleint() # 타사 지표 전송 클라이언트\n",
    "        \n",
    "    def process_iterations(self, n_iterations):\n",
    "        for i in range(n_iterations):\n",
    "            result = self.run_process()\n",
    "            self.client.send(\"iteration{0}\".format(i), result)"
   ]
  },
  {
   "cell_type": "markdown",
   "id": "54422aac",
   "metadata": {},
   "source": [
    "타사 지표 전송 클라잉언트는 파라미터가 문자열 타입이어야 한다는 요구사항이 있으므로 run_process 메서드에서 반환한 result가 문자열이 아닌 경우 전송에 실패하게 됨\n",
    "> Traceback (most recent call last):  \n",
    "  ...  \n",
    "  &emsp;raise TypeError(\"metric_value 타입으로 문자열을 사용해야 함\")  \n",
    "  TypeError: metric_value 타입으로 문자열을 사용해야 함\n",
    "  \n",
    "타사에서 제공하는 라이브러리는 직접 제어할 수 없으므로 반드시 실행 전에 정확한 타입을 제공해야 함.  \n",
    "이러한 문제점을 발견했으므로 단위 테스트를 통해 문제가 발생하지 않도록 확실히 해야함  \n",
    "단위테스트가 있으면 이후 리팩토링을 하더라도 재현되지 않는다는 것을 증명할 수 있음  \n",
    "\n",
    "Process 객체의 client를 Mock하여 테스트할 수 있으나 그렇게 하기 위해서는 더 많은 코드가 필요함  \n",
    "다행히 메서드가 상대적으로 작은데, 메서드가 크다면 Mock 과정에서 불필요한 것들을 더 많이 실행해야기 떄문임  \n",
    "또한 메서드가 작다는 것은 테스트 가능성과 관련해 좋은 디자인(작고 응집력이 높은 함수 또는 메서드)라고 할 수 있음  \n",
    "\n",
    "필요한 부분만 테스트하기 위해 main 메서드에서 client를 직접 다루지 않고 래퍼(wrapper) 메서드에 위임할 것임  \n",
    "아래 코드는 새로운 클래스임  "
   ]
  },
  {
   "cell_type": "code",
   "execution_count": 13,
   "id": "7d022eb1",
   "metadata": {},
   "outputs": [],
   "source": [
    "class WrappedClient:\n",
    "    def __init__(self):\n",
    "        self.client = MetricsClient()\n",
    "        \n",
    "    def send(self, metric_name, metric_value):\n",
    "        return self.client.send(str(metric_name), str(metric_value))\n",
    "    \n",
    "class Process:\n",
    "    def __init__(self):\n",
    "        self.cleint = WrappedClient()\n",
    "        \n",
    "    def process_iterations(self, n_iterations):\n",
    "        for i in range(n_iterations):\n",
    "            result = self.run_process()\n",
    "            self.client.send(\"iteration{0}\".format(i), result)"
   ]
  },
  {
   "cell_type": "raw",
   "id": "00c795ea",
   "metadata": {},
   "source": [
    "여기서는 타사 라이브러리를 직접 사용하는 대신 자체적으로 만든 클래스를 지표 전송 client로 사용함  \n",
    "래퍼 클래스는 동일한 인터페이스를 가지고 있음  \n",
    "\n",
    "이러한 컴포지션 방식은 어댑터 디자인과 유사함  \n",
    "이는 새 객체이므로 새로운 단위 테스트를 가질 수 있음  \n",
    "이 객체는 일관된 인터페이스를 제공할 것이므로 테스트가 더 간단해질 것임  \n",
    "메인 코드에 직접 단위테스트를 작성하면 가장 중요한 속성 중 하나인 추상화를 하지 못하게 됨  \n",
    "\n",
    "메서드 분리를 했으므로 실제 단위테스트를 작성  \n",
    "이 예제에서 사용된 모듈은 unittest 모듈임 (추후 상세히 살펴볼 예정)"
   ]
  },
  {
   "cell_type": "code",
   "execution_count": 18,
   "id": "c92485e5",
   "metadata": {},
   "outputs": [],
   "source": [
    "import unittest\n",
    "from unittest.mock import Mock\n",
    "\n",
    "class TestWrappedClient(unittest.TestCase):\n",
    "    def test_send_converts_types(self):\n",
    "        wrapped_client = WrappedClient()\n",
    "        wrapped_client.client = Mock()\n",
    "        wrapped_client.send(\"value\", 1)\n",
    "        wrapped_client.client.send.assert_called_with(\"value\", \"1\")"
   ]
  },
  {
   "cell_type": "markdown",
   "id": "1bb09170",
   "metadata": {},
   "source": [
    "Mock은 unittest.mock 모듈에서 사용할 수 있는 타입으로 어떤 종류의 타입에도 사용할 수 있는 편리한 객체임  \n",
    "예를 들어 타사 라이브러리 대신 Mock 객체를 사용하면 예상대로 호출되는지 확인할 수 있음 (라이브러리 자체를 테스트 X, 올바르게 호출되었나 확인O)  \n",
    "send 메서드에서는 Process 객체에서 호출하는 것처럼 숫자 1을 입력했으나 send.assert_called_with엣는 문자열 \"1\"을 기대함에 유의 "
   ]
  },
  {
   "cell_type": "markdown",
   "id": "ff466e56",
   "metadata": {},
   "source": [
    "## 테스트의 경계 정하기\n",
    "무엇을 테스트할지 주의하지 않으면 끝없이 테스트를 해야 하고 뚜렷한 결실도 없이 시간을 낭비하게 됨  \n",
    "\n",
    "테스트의 범위는 우리가 작성한 코드의 범위로 한정해야 됨  \n",
    "외부 라이브러리나 모듈과 같은 의존성까지 확인해야 한다면 의존성의 의존성을 확인해야하고, 끝을 내기 힘들어짐  \n",
    "의존성을 테스트하는 것은 우리의 책임이 아니므로 외부 프로젝트에 대해서는 자체적인 테스트가 있다고 가정하고 진행해도 됨  \n",
    "외부 의존성에 대해서는 올바른 파라미터를 사용해 호출하면 정상적으로 실행된다는 것만 확인해도 충분  \n",
    "\n",
    "이는 좋은 소프트웨어 디자인을 할 만한 가치가 있음을 증명하는 예이기도 함  \n",
    "신중하게 디자인하여 시스템의 기준을 명확히 했다면 (인터세이스를 사용하여 외부 컴포넌트와의 결합력을 낮추고 의존성을 역전시킨 경우) 단위 테스트를 작성할 때 이런한 인터페이스를 모의하는 것이 훨씬 쉬워짐  \n",
    "\n",
    "좋은 단위테스트는 시스템의 경계에는 패치를 적용하여 넘어가고 핵심 기능에 초점을 둠  \n",
    "이 때는 외부 라이브러리를 테스트하지는 않지만 대신 ㅈ"
   ]
  }
 ],
 "metadata": {
  "kernelspec": {
   "display_name": "Python 3 (ipykernel)",
   "language": "python",
   "name": "python3"
  },
  "language_info": {
   "codemirror_mode": {
    "name": "ipython",
    "version": 3
   },
   "file_extension": ".py",
   "mimetype": "text/x-python",
   "name": "python",
   "nbconvert_exporter": "python",
   "pygments_lexer": "ipython3",
   "version": "3.9.12"
  }
 },
 "nbformat": 4,
 "nbformat_minor": 5
}
