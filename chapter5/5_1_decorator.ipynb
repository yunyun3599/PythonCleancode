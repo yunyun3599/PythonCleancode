{
 "cells": [
  {
   "cell_type": "markdown",
   "id": "993fe4e7",
   "metadata": {},
   "source": [
    "# 파이썬의 데코레이터\n",
    "파이썬의 데코레이터는 함수와 메서드의 기능을 쉽게 수정하기 위한 수단  \n",
    "이전에는 함수에 변형을 할 때마다 modifier 함수를 사용하여 함수를 호출한 다음 함수를 처음 정의한 것과 같은 이름으로 재할당 해야했음  \n",
    "\n",
    "e.g) original 이라는 함수가 있고 그 기능을 약간 수정한 modifier라고 하는 함수가 있는 경우 다음과 같이 작성해야 함\n",
    "```python\n",
    "def original(...):\n",
    "    ...\n",
    "    original = modifier(original)\n",
    "```\n",
    "위와 같이 함수를 동일한 이름으로 다시 할당하는 것은 혼란스럽고 오류가 발생하기 쉬우며 번거로움.  \n",
    "따라서 위의 예제를 아래와 같이 작성할 수 있는 새로운 구문이 등장함  \n",
    "```python\n",
    "@modifier\n",
    "def original(...):\n",
    "    ...\n",
    "```\n",
    "데코레이터는 데코레이터 이후에 나오는 것을 데코레이터의 첫번째 파라미터로 하고 데코레이터의 결과 값을 반환하게 하는 문법  \n",
    "위의 예제에서 modifier = 데코레이터, original = 데코레이팅된(decorated) 함수 or 래핑된(wrapped) 객체  \n",
    "\n",
    "처음에는 함수와 메서드를 위해 고안되었으나 실제로는 어떤 종류의 객체에도 적용 가능하므로 함수와 메서드, 제너레이터, 클래스에 적용 가능"
   ]
  },
  {
   "cell_type": "markdown",
   "id": "199b1d73",
   "metadata": {},
   "source": [
    "## 함수 데코레이터\n",
    "함수에 데코레이터를 사용하면 어떤 종류의 로직이라도 적용할 수 있음  \n",
    "- 파라미터의 유효성 검사\n",
    "- 사전 조건 검사\n",
    "- 기능 전체 새롭게 정의\n",
    "- 서명 변경\n",
    "- 원래 함수의 결과를 캐시\n",
    "\n",
    "e.g) 도메인의 특정 예외에 대해서 특정 횟수만큼 재시도하는 데코레이터"
   ]
  },
  {
   "cell_type": "code",
   "execution_count": 24,
   "id": "dafc67f5",
   "metadata": {},
   "outputs": [],
   "source": [
    "# decorator_func_1.py\n",
    "from functools import wraps\n",
    "\n",
    "class ControlledException(Exception):\n",
    "    \"\"\"도메인에서 발생하는 일반적인 예외\"\"\"\n",
    "    \n",
    "def retry(operation):\n",
    "    @wraps(operation)\n",
    "    def wrapped(*args, **kwargs):\n",
    "        last_raised = None\n",
    "        RETRIES_LIMIT = 3\n",
    "        for _ in range(RETRIES_LIMIT):\n",
    "            try:\n",
    "                return operation(*args, **kwargs)\n",
    "            except ControlledException as e:\n",
    "                logger.info(\"retrying %s\", operation.__qualname__)\n",
    "                last_raised = e\n",
    "        raise last_raised\n",
    "        \n",
    "    return wrapped"
   ]
  },
  {
   "cell_type": "code",
   "execution_count": 26,
   "id": "012f03a5",
   "metadata": {},
   "outputs": [],
   "source": [
    "@retry\n",
    "def run_operation(task):\n",
    "    \"\"\"실행 중 예외가 발생할 것으로 예상되는 특정 작업을 실행\"\"\"\n",
    "    return task.run()"
   ]
  },
  {
   "cell_type": "markdown",
   "id": "f38c08ee",
   "metadata": {},
   "source": [
    "여기에서 run_operation 위의 @retry는 실제로 파이썬에서\n",
    "```python\n",
    "run_operation = retry(run_operation)\n",
    "```\n",
    "을 실행하게 해주는 문법적 설탕일 뿐임"
   ]
  },
  {
   "cell_type": "markdown",
   "id": "1e8791a0",
   "metadata": {},
   "source": [
    "## 클래스 데코레이터\n",
    "클래스에도 데코레이터를 사용할 수 있는데, 유일한 차이점은 데코레이터 함수의 파라미터로 함수가 아닌 클래스를 받는다는 점  \n",
    "클래스에서 정의한 속성과 메서드를 데코레이터 안에서 완전히 다른 용도로 변경할 수 있기 때문에 잘못 사용하면 데코레이터는 복잡하고 가독성을 떨어뜨릴 수 있음  \n",
    "\n",
    "그러나 데코레이터를 클래스에 사용했을 때의 장점 역시 다음과 같이 존재\n",
    "- 클래스 데코레이터는 코드 재사용과 DRY 원칙의 이점을 공유함. 클래스 데코레이터를 사용하면 여러 클래스가 특정 인터페이스나 기준을 따르도록 강제 가능. 여러 클래스에 적용할 검사를 데코레이터에서 한 번만 하면 됨\n",
    "- 당장은 작고 간단한 클래스를 생성하고 나중에 데코레이터로 기능 보강 가능\n",
    "- 어떤 클래스에 대해서는 유지보수 시 데코레이터를 사용해 기존 로직을 훨씬 쉽게 변경 가능. 메타클래스와 같은 방법을 사용해 보다 복잡하게 만드는 것은 권장되지 않음\n",
    "\n",
    "데코레이터가 유용하게 사용될 수 있는 예제로 모니터링 플랫폼을 위한 이벤트 시스템 예제  \n",
    "- 각 이벤트의 데이터를 변환하여 외부 시스템으로 보내는 기능\n",
    "- 이벤트 유형은 데이터 전송 방법에 특별한 점이 있을 수 있음\n",
    "- e.g 로그인 이벤트에는 자격 증명과 같은 중요한 정보를 숨겨야 함 / timestamp같은 필드는 특별한 포맷으로 표시하므로 변환 필요성 있음"
   ]
  },
  {
   "cell_type": "code",
   "execution_count": 20,
   "id": "5c23728b",
   "metadata": {},
   "outputs": [],
   "source": [
    "class LoginEventSerializer:\n",
    "    def __init__(self, event):\n",
    "        self.event = event\n",
    "        \n",
    "    def serialize(self) -> dict:\n",
    "        return{\n",
    "            \"username\": self.event.username,\n",
    "            \"password\": \"**민감한 정보 삭제**\",\n",
    "            \"ip\": self.event.ip,\n",
    "            \"timestamp\": self.event.timestamp.strftime(\"%Y-%m-%d %H:%M\")\n",
    "        }\n",
    "    \n",
    "class LoginEvent:\n",
    "    SERIALIZER = LoginEventSerializer\n",
    "    \n",
    "    def __init__(self, username, password, ip, timestamp):\n",
    "        self.username = username\n",
    "        self.password = password\n",
    "        self.ip = ip\n",
    "        self.timestamp = timestamp\n",
    "        \n",
    "    def serialize(self) -> dict:\n",
    "        return self.SERIALIZER(self).serialize()"
   ]
  },
  {
   "cell_type": "markdown",
   "id": "7139c1bf",
   "metadata": {},
   "source": [
    "여기에서는 로그인 이벤트에 직접 매핑할 클래스를 선언함. 이 클래스는 password 필드를 숨기고 timestamp 필드를 포매팅하는 기능이 들어있음  \n",
    "위의 방법은 시간이 지나면서 시스템이 확장할수록 다음과 같은 문제가 발생  \n",
    "- 클래스가 너무 많아짐: 이벤트 클래스와 직렬화 클래스가 1대 1로 매핑되어 있으므로 직렬화 클래스가 점점 많아짐\n",
    "- 이러한 방법은 충분히 유연하지 않음: 만약 password를 가진 다른 클래스에서도 이 필드를 숨기려고 한다면 함수로 분리한 다음 여러 클래스에서 호출해야함. 이는 코드를 충분히 재사용했다고 볼 수가 없음\n",
    "- 표준화: serialize() 메서드는 모든 이벤트 클래스에 있어야함. 비록 믹스인을 사용해 다른 클래스로 분리할 수 있지만 상속을 제대로 사용했다고 볼 수 없음  \n",
    "\n",
    "**또 다른 방법은 이벤트 인스턴스와 변형 함수를 필터로 받아서 동적으로 객체를 만드는 것**  \n",
    "필터를 이벤트 인스턴스의 필드들에 적용해 직렬화하는 방법"
   ]
  },
  {
   "cell_type": "code",
   "execution_count": 21,
   "id": "7e153be4",
   "metadata": {},
   "outputs": [],
   "source": [
    "from datetime import datetime\n",
    "\n",
    "def hide_field(field) -> str:\n",
    "    return \"**민감한 정보 삭제**\"\n",
    "\n",
    "def format_time(field_timestamp: datetime) -> str:\n",
    "    return field_timestamp.strftime(\"%Y-%m-%d %H:%M\")\n",
    "\n",
    "def show_original(event_field):\n",
    "    return event_field\n",
    "\n",
    "class EventSerializer:\n",
    "    def __init__(self, serialization_fields: dict) -> None:\n",
    "        self.serialization_fields = serialization_fields\n",
    "        \n",
    "    def serialize(self, event) -> dict:\n",
    "        return {\n",
    "            field: transformation(getattr(event, field))\n",
    "            for field, transformation in\n",
    "            self.serialization_fields.items()\n",
    "        }\n",
    "    \n",
    "class Serialization:\n",
    "    def __init__(self, **transformations):\n",
    "        self.serializer = EventSerializer(transformations)\n",
    "        \n",
    "    def __call__(self, event_class):\n",
    "        def serialize_method(event_instance):\n",
    "            return self.serializer.serialize(event_instance)\n",
    "        event_class.serialize = serialize_method\n",
    "        return event_class\n",
    "    \n",
    "@Serialization(\n",
    "    username=show_original, \n",
    "    password=hide_field, \n",
    "    ip=show_original, \n",
    "    timestamp=format_time\n",
    ")\n",
    "class LoginEvent:\n",
    "    def __init__(self, username, password, ip, timestamp):\n",
    "        self.username = username\n",
    "        self.password = password\n",
    "        self.ip = ip\n",
    "        self.timestamp = timestamp"
   ]
  },
  {
   "cell_type": "markdown",
   "id": "979941a3",
   "metadata": {},
   "source": [
    "클래스 데코레이터에 전달된 인수를 읽는 것만으로도 username과 ip는 수정되지 않고, password 필드는 숨겨지고, timestamp는 포매팅 됨을 알 수 있음  \n",
    "\n",
    "\n",
    "python3.7 이상의 버전에서는 데코레이터를 사용하여 init함수의 템플릿화된 단순 코드를 작성하지 않고도 앞의 예제를 보다 간단히 작성할 수 있음"
   ]
  },
  {
   "cell_type": "code",
   "execution_count": 22,
   "id": "bc97ccf3",
   "metadata": {},
   "outputs": [],
   "source": [
    "from dataclasses import dataclass\n",
    "from datetime import datetime\n",
    "\n",
    "@Serialization(\n",
    "    username=show_original, \n",
    "    password=hide_field, \n",
    "    ip=show_original, \n",
    "    timestamp=format_time\n",
    ")\n",
    "@dataclass\n",
    "class LoginEvent:\n",
    "    username: str\n",
    "    password: str\n",
    "    ip: str\n",
    "    timestamp: datetime"
   ]
  },
  {
   "cell_type": "markdown",
   "id": "319ab3ac",
   "metadata": {},
   "source": [
    "## 다른 유형의 데코레이터\n",
    "데코레이터는 단지 함수나 메서드, 클래스에만 적용되지 않음  \n",
    "제너레이터나 코루틴, 이미 데코레이트 된 객체도 데코레이트 가능 (데코레이터는 스택 형태로 쌓일 수 있음)  \n",
    "앞의 예제는 데코레이터의 연결을 보여줌\n",
    "- 클래스를 정의하고 @dataclass를 적용하여 속성의 컨테이너 역할을 하는 데이터 클래스로 변환\n",
    "- @Serialization에서 serialize()메서드가 추가된 새로운 클래스를 반환\n",
    "\n",
    "**데코레이터의 또 다른 사용 예)** 코루틴으로 사용되는 제너레이터  \n",
    "- 새로 생성된 제너레이터에 데이터를 보내기 전에 next()를 호출하여 다음 yield문으로 넘어가야 한다는 것\n",
    "- 수작업은 모든 사용자가 기억해야 하는 것이므로 에러를 유발하기 쉽기 때문에 제너레이터를 파라미터로 받아 next()를 호출한 후 다시 제너레이터를 반환하는 데코레이터를 생섬함으로써 해결"
   ]
  },
  {
   "cell_type": "markdown",
   "id": "9177fe9d",
   "metadata": {},
   "source": [
    "## 데코레이터에 인자 전달\n",
    "파라미터를 전달받아 로직을 추상화한다면 더욱 강력한 도구로 데코레이터를 사용할 수 있음  \n",
    "파라미터를 갖는 데코레이터 구현법은 여러가지가 있지만 가장 일반적인 방법은 다음과 같음\n",
    "1. 간접참조(indirection)를 통해 새로운 레벨의 중첩함수를 만들어 데코레이터의 모든 것을 한 단계 더 깊게 만드는 것  \n",
    "1. 데코레이터를 위한 클래스를 만드는 것  "
   ]
  },
  {
   "cell_type": "markdown",
   "id": "d5c3608d",
   "metadata": {},
   "source": [
    "### 중첩 함수의 데코레이터\n",
    "데코레이터는 함수를 파라미터로 받아서 함수를 반환하는 함수임\n",
    "이와 같은 함수를 **고차함수**라고 부름. 실제로는 데코레이터의 본문에 정의된 함수가 호출됨  \n",
    "\n",
    "데코레이터를 파라미터에 전달하려면 다른 수준의 간접 참조가 필요  \n",
    "1. 첫번째 함수) 파라미터를 받아서 내부 함수에 전달  \n",
    "1. 두번째 함수) 데코레이터가 될 함수  \n",
    "1. 세번째 함수) 데코레이팅의 결과를 반환하는 함수\n",
    "\n",
    "-> 최소 세 단계의 중첩 함수가 필요  \n",
    "\n",
    "아래 예제는 인스턴스마다 재시도 횟수를 지정하기 위해 파라미터에 기본값을 추가한 데코레이터를 생성함.  \n",
    "이와 같이 하기 위해 함수를 한 단계 추가해야 하며 아래와 같은 형태가 됨\n",
    "```python\n",
    "@retry(arg1, arg2, ...)\n",
    "```\n",
    "이 코드의 의미는 다음과 같음\n",
    "```python\n",
    "<original_function> = retry(arg1, arg1, ...)(<original_function>)\n",
    "```\n",
    "\n",
    "원하는 재시도 횟수 외에도 제어하려는 예외 유형을 나태낼 수도 있음.  \n",
    "새 요구 사항을 반영한 새 코드는 아래와 같음"
   ]
  },
  {
   "cell_type": "code",
   "execution_count": 29,
   "id": "c4d1f27f",
   "metadata": {},
   "outputs": [],
   "source": [
    "RETRIES_LIMIT = 3\n",
    "\n",
    "def with_retry(retries_limit=RETRIES_LIMIT, allowed_exceptions=None):\n",
    "    allowed_exceptions = allowed_exceptions or (ControlledException,)\n",
    "    \n",
    "    def retry(operation):\n",
    "\n",
    "        @wraps(operation)\n",
    "        def wrapped(*args, **kwargs):\n",
    "            last_raised = None\n",
    "            for _ in range(retries_limit):\n",
    "                try:\n",
    "                    return operation(*args, **kwargs)\n",
    "                except allowed_exceptions as e:\n",
    "                    logger.info(\"retrying %s due to %s\", operation, e)\n",
    "                    last_raised = e\n",
    "            raise last_raised\n",
    "\n",
    "        return wrapped\n",
    "    \n",
    "    return retry"
   ]
  },
  {
   "cell_type": "markdown",
   "id": "af90537d",
   "metadata": {},
   "source": [
    "위의 데코레이터를 함수에 적용한 예는 아래와 같음"
   ]
  },
  {
   "cell_type": "code",
   "execution_count": 31,
   "id": "dc99efb2",
   "metadata": {},
   "outputs": [],
   "source": [
    "#decorator_parametrized_1.py\n",
    "@with_retry()\n",
    "def run_operation(task):\n",
    "    return task.run()\n",
    "\n",
    "@with_retry(retries_limit=5)\n",
    "def run_with_custom_retries_limit(task):\n",
    "    return task.run()\n",
    "\n",
    "@with_retry(allowed_exceptions=(AttributeError,))\n",
    "def run_with_custom_exceptions(task):\n",
    "    return task.run()\n",
    "\n",
    "@with_retry(retries_limit=4, allowed_exceptions=(ZeroDivisionError, AttributeError))\n",
    "def run_with_custom_parameters(task):\n",
    "    return task.run()"
   ]
  },
  {
   "cell_type": "markdown",
   "id": "d4c8aeff",
   "metadata": {},
   "source": [
    "### 데코레이터 객체\n",
    "위의 예제에서는 세 단계의 중첩된 함수가 필요했음  \n",
    "1. 데코레이터의 파라미터를 받는 함수\n",
    "2. 함수 내부의 다른 함수 = 위에서 전달된 파라미터를 로직에서 사용하는 클로저 \n",
    "\n",
    "이를 보다 깔끔하게 구현하기 위해서는 클래스를 사용하여 데코레이터를 정의할 수 있음  \n",
    "이 경우 &#95;&#95;init&#95;&#95; 메서드에 파라미터를 전달한 다음 &#95;&#95;call&#95;&#95;이라는 매직 메서드에서 데코레이터의 로직을 구현하면 됨"
   ]
  },
  {
   "cell_type": "code",
   "execution_count": 32,
   "id": "8b4c3c27",
   "metadata": {},
   "outputs": [],
   "source": [
    "class WithRetry:\n",
    "    \n",
    "    def __init__(self, retries_limit=RETRIES_LIMIT, allowed_exceptions=None):\n",
    "        self.retries_limit = retries_limit\n",
    "        self.allowed_exceptions = allowed_exceptions or (ControlledException,)\n",
    "        \n",
    "    def __call__(self, operation):\n",
    "        \n",
    "        @wraps(operation)\n",
    "        def wrapped(*args, **kwargs):\n",
    "            last_raised = None\n",
    "            \n",
    "            for _ in range(self.retries_limit):\n",
    "                try:\n",
    "                    return operation(*args, **kwargs)\n",
    "                except self.allowed_exceptions as e:\n",
    "                    logger.info(\"retrying %s due to %s\", operation, e)\n",
    "                    last_raised = e\n",
    "            raise last_raised\n",
    "                \n",
    "        return wrapped"
   ]
  },
  {
   "cell_type": "markdown",
   "id": "5cb83be4",
   "metadata": {},
   "source": [
    "사용방법은 이전과 유사"
   ]
  },
  {
   "cell_type": "code",
   "execution_count": 33,
   "id": "73f6fe94",
   "metadata": {},
   "outputs": [],
   "source": [
    "@WithRetry(retries_limit=5)\n",
    "def run_with_custom_retries_limit(task):\n",
    "    return task.run()"
   ]
  },
  {
   "cell_type": "markdown",
   "id": "d1d5011c",
   "metadata": {},
   "source": [
    "구문 처리 순서\n",
    "1. @ 연산 전에 전달된 파라미터를 사용해 데코레이터 객체 생성\n",
    "1. 데코레이터 객체는 &#95;&#95;init&#95;&#95; 메서드에서 정해진 로직에 따라 초기화 진행\n",
    "1. @ 연산 호출\n",
    "1. 데코레이터 객체는 run&#95;with&#95;custom&#95;retries&#95;limit 함수를 래핑해여 &#95;&#95;call&#95;&#95; 매직 메서드를 호출\n",
    "1. &#95;&#95;call&#95;&#95; 매직 메서드는 앞의 데코레이터에서 하던 것처럼 원본 함수를 래핑하여 원하는 로직이 적용된 새로운 함수를 반환"
   ]
  },
  {
   "cell_type": "markdown",
   "id": "4870e240",
   "metadata": {},
   "source": [
    "## 데코레이터 활용 우수 사례\n",
    "- 파라미터 변환: 더 나은 API를 노출하기 위해 함수의 서명을 변경하는 경우, 이 때 파라미터가 어떻게 처리되고 변환되는 지를 캡슐화하여 숨길 수 있음  \n",
    "- 코드 추적: 파라미터와 함께 함수의 실행을 로깅하려는 경우\n",
    "- 파라미터 유효성 검사\n",
    "- 재시도 로직 구현\n",
    "- 일부 반복 작업을 데코레이터로 이동하여 클래스 단순화\n",
    "\n",
    "### 파라미터 변환\n",
    "- 데코레이터를 사용하여 파라미터의 유효성 검사 가능  \n",
    "- DbC 원칙에 따라 사전조건 또는 사후조건을 강제하는 것도 가능  \n",
    "- -> 일반적으로 파라미터를 다룰 때 데코레이터를 많이 사용하게 됨  \n",
    "- 특히 유사한 객체를 반복적으로 생성하거나 추상화를 위해 유사한 변형을 반복하는 경우 데코레이터를 사용하면 쉽게 작업을 처리 가능   \n",
    "\n",
    "### 코드 추적\n",
    "추적(tracing) = 모니터링 하고자 하는 함수의 실행과 관련되어 다음과 같은 상황에서 사용  \n",
    "- 실제 함수의 실행 경로 추적 (e.g. 실행 함수 로깅)\n",
    "- 함수 지표 모니터링(CPU 사용률이나 메모리 사용량 등)\n",
    "- 함수의 실행 시간 측정\n",
    "- 언제 함수가 실행되고 전달된 파라미터는 무엇인지 로깅"
   ]
  },
  {
   "cell_type": "code",
   "execution_count": null,
   "id": "df249f7a",
   "metadata": {},
   "outputs": [],
   "source": []
  }
 ],
 "metadata": {
  "kernelspec": {
   "display_name": "Python 3 (ipykernel)",
   "language": "python",
   "name": "python3"
  },
  "language_info": {
   "codemirror_mode": {
    "name": "ipython",
    "version": 3
   },
   "file_extension": ".py",
   "mimetype": "text/x-python",
   "name": "python",
   "nbconvert_exporter": "python",
   "pygments_lexer": "ipython3",
   "version": "3.9.12"
  }
 },
 "nbformat": 4,
 "nbformat_minor": 5
}
