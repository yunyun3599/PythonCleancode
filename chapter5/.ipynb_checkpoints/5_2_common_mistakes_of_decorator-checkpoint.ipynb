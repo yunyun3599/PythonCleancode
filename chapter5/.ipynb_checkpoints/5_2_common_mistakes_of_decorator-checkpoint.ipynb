{
 "cells": [
  {
   "cell_type": "markdown",
   "id": "5b4e9ba2",
   "metadata": {},
   "source": [
    "# 데코레이터의 활용 - 흔한 실수 피하기\n",
    "\n",
    "## 래핑된 원본 객체의 데이터 보존\n",
    "데코레이터 사용 시 많이 발생하는 문제 중 하나는 원본 함수의 일부 프로퍼티 또는 속성을 유지하지 않아 원하지 않는 부작용을 유발한다는 것  \n",
    "\n",
    "아래 코드는 함수가 실행될 때 로그를 남기는 데코레이터"
   ]
  },
  {
   "cell_type": "code",
   "execution_count": 8,
   "id": "62b05704",
   "metadata": {},
   "outputs": [],
   "source": [
    "# decorator_wraps_1.py\n",
    "def trace_decorator(function):\n",
    "    def wrapped(*args, **kwargs):\n",
    "        logger.info(\"%s 실행\", function.__qualname__)\n",
    "        return function(*args, **kwargs)\n",
    "    \n",
    "    return wrapped"
   ]
  },
  {
   "cell_type": "code",
   "execution_count": 9,
   "id": "f06f9471",
   "metadata": {},
   "outputs": [],
   "source": [
    "@trace_decorator\n",
    "def process_account(account_id):\n",
    "    \"\"\"id별 계정 처리\"\"\"\n",
    "    logger.info(\"%s 계정 처리\", account_id)"
   ]
  },
  {
   "cell_type": "code",
   "execution_count": 10,
   "id": "a4e48f0b",
   "metadata": {},
   "outputs": [
    {
     "name": "stdout",
     "output_type": "stream",
     "text": [
      "Help on function wrapped in module __main__:\n",
      "\n",
      "wrapped(*args, **kwargs)\n",
      "\n"
     ]
    }
   ],
   "source": [
    "help(process_account)"
   ]
  },
  {
   "cell_type": "code",
   "execution_count": 11,
   "id": "99ce30a6",
   "metadata": {},
   "outputs": [
    {
     "name": "stdout",
     "output_type": "stream",
     "text": [
      "trace_decorator.<locals>.wrapped\n"
     ]
    }
   ],
   "source": [
    "print(process_account.__qualname__)"
   ]
  },
  {
   "cell_type": "markdown",
   "id": "290109af",
   "metadata": {},
   "source": [
    "데코레이터는 원래 함수의 어떤 것도 변경하지 않아야 하지만 코드에 결함이 있어서 이름이나 docstring을 변경하는 경우가 있음  \n",
    "위의 경우에도 데코레이터가 실제로 원봄 함수를 wrapped라 불리는 새로운 함수로 변경했기 때문에 원본 함수의 이름이 아닌 새로운 함수의 이름을 출력하게 됨 \n",
    "\n",
    "위의 데코레이터를 이름이 다른 여러 함수에 적용하더라고 결국은 wrapped라는 이름만 출력하게 됨  \n",
    "-> 개별 함수를 확인하고 싶은 경우에 실제 실행된 함수를 알 수 없으므로 오히려 디버깅이 더 어려워짐\n",
    "\n",
    "이런 문제를 수정하기 위해서는 래핑된 함수, 즉 wrapped 함수에 **@wraps** 데코레이터를 적용하여 실제로는 fucntion 파리미터 함수를 래핑한 것이라고 알려주는 것"
   ]
  },
  {
   "cell_type": "code",
   "execution_count": 13,
   "id": "4bb0781f",
   "metadata": {},
   "outputs": [],
   "source": [
    "# decorator_wraps_2.py\n",
    "\n",
    "from functools import wraps\n",
    "\n",
    "def trace_decorator(function):\n",
    "    @wraps(function)\n",
    "    def wrapped(*args, **kwargs):\n",
    "        logger.info(\"running %s\", function.__qualname__)\n",
    "        return function(*args, **kwargs)\n",
    "    \n",
    "    return wrapped\n",
    "\n",
    "@trace_decorator\n",
    "def process_account(account_id):\n",
    "    \"\"\"id별 계정 처리\"\"\"\n",
    "    logger.info(\"%s 계정 처리\", account_id)"
   ]
  },
  {
   "cell_type": "code",
   "execution_count": 14,
   "id": "67ef3f2d",
   "metadata": {},
   "outputs": [
    {
     "name": "stdout",
     "output_type": "stream",
     "text": [
      "Help on function process_account in module __main__:\n",
      "\n",
      "process_account(account_id)\n",
      "    id별 계정 처리\n",
      "\n"
     ]
    }
   ],
   "source": [
    "help(process_account)"
   ]
  },
  {
   "cell_type": "code",
   "execution_count": 15,
   "id": "64bfd632",
   "metadata": {},
   "outputs": [
    {
     "data": {
      "text/plain": [
       "'process_account'"
      ]
     },
     "execution_count": 15,
     "metadata": {},
     "output_type": "execute_result"
    }
   ],
   "source": [
    "process_account.__qualname__"
   ]
  },
  {
   "cell_type": "markdown",
   "id": "56902f91",
   "metadata": {},
   "source": [
    "이와 같이 @wraps 데코레이터를 사용한 결과 원본 함수에 대한 정보를 얻을 수 있게 됨  \n",
    "\n",
    "또한 @wraps 데코레이터를 사용하면 docstring에 포함된 단위 테스트 기능이 복구됨  \n",
    "@wraps 데코레이터를 사용해 &#95;&#95;wrapped&#95;&#95; 속성을 통해 수정되지 않은 원본에도 접근할 수 있게 됨."
   ]
  },
  {
   "cell_type": "code",
   "execution_count": 16,
   "id": "e439257f",
   "metadata": {},
   "outputs": [],
   "source": [
    "def decorator(original_function):\n",
    "    @wraps(original_function)\n",
    "    def decorated_function(*args, **kwargs):\n",
    "        # 데코레이터에 의한 수정 작업 ...\n",
    "        return original_function(*args, **kwargs)\n",
    "    \n",
    "    return decorated_function"
   ]
  },
  {
   "cell_type": "code",
   "execution_count": null,
   "id": "0e10fd00",
   "metadata": {},
   "outputs": [],
   "source": []
  }
 ],
 "metadata": {
  "kernelspec": {
   "display_name": "Python 3 (ipykernel)",
   "language": "python",
   "name": "python3"
  },
  "language_info": {
   "codemirror_mode": {
    "name": "ipython",
    "version": 3
   },
   "file_extension": ".py",
   "mimetype": "text/x-python",
   "name": "python",
   "nbconvert_exporter": "python",
   "pygments_lexer": "ipython3",
   "version": "3.9.12"
  }
 },
 "nbformat": 4,
 "nbformat_minor": 5
}
