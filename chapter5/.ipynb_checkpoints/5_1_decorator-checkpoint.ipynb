{
 "cells": [
  {
   "cell_type": "markdown",
   "id": "78796277",
   "metadata": {},
   "source": [
    "# 파이썬의 데코레이터\n",
    "파이썬의 데코레이터는 함수와 메서드의 기능을 쉽게 수정하기 위한 수단  \n",
    "이전에는 함수에 변형을 할 때마다 modifier 함수를 사용하여 함수를 호출한 다음 함수를 처음 정의한 것과 같은 이름으로 재할당 해야했음  \n",
    "\n",
    "e.g) original 이라는 함수가 있고 그 기능을 약간 수정한 modifier라고 하는 함수가 있는 경우 다음과 같이 작성해야 함\n",
    "```python\n",
    "def original(...):\n",
    "    ...\n",
    "    original = modifier(original)\n",
    "```\n",
    "위와 같이 함수를 동일한 이름으로 다시 할당하는 것은 혼란스럽고 오류가 발생하기 쉬우며 번거로움.  \n",
    "따라서 위의 예제를 아래와 같이 작성할 수 있는 새로운 구문이 등장함  \n",
    "```python\n",
    "@modifier\n",
    "def original(...):\n",
    "    ...\n",
    "```\n",
    "데코레이터는 데코레이터 이후에 나오는 것을 데코레이터의 첫번째 파라미터로 하고 데코레이터의 결과 값을 반환하게 하는 문법  \n",
    "위의 예제에서 modifier = 데코레이터, original = 데코레이팅된(decorated) 함수 or 래핑된(wrapped) 객체  \n",
    "\n",
    "처음에는 함수와 메서드를 위해 고안되었으나 실제로는 어떤 종류의 객체에도 적용 가능하므로 함수와 메서드, 제너레이터, 클래스에 적용 가능"
   ]
  },
  {
   "cell_type": "markdown",
   "id": "e6d81c1c",
   "metadata": {},
   "source": [
    "## 함수 데코레이터\n",
    "함수에 데코레이터를 사용하면 어떤 종류의 로직이라도 적용할 수 있음  \n",
    "- 파라미터의 유효성 검사\n",
    "- 사전 조건 검사\n",
    "- 기능 전체 새롭게 정의\n",
    "- 서명 변경\n",
    "- 원래 함수의 결과를 캐시\n",
    "\n",
    "e.g) 도메인의 특정 예외에 대해서 특정 횟수만큼 재시도하는 데코레이터"
   ]
  },
  {
   "cell_type": "code",
   "execution_count": 11,
   "id": "d242db96",
   "metadata": {},
   "outputs": [],
   "source": [
    "# decorator_func_1.py\n",
    "from functools import wraps\n",
    "\n",
    "class ControlledException(Exception):\n",
    "    \"\"\"도메인에서 발생하는 일반적인 예외\"\"\"\n",
    "    \n",
    "def retry(operation):\n",
    "    @wraps(operation)\n",
    "    def wrapped(*args, **kwargs):\n",
    "        last_raised = None\n",
    "        RETRIES_LIMIT = 3\n",
    "        for _ in range(RETRIES_LIMIT):\n",
    "            try:\n",
    "                return operation(*args, **kwargs)\n",
    "            except ControlledException as e:\n",
    "                logger.info(\"retrying %s\", operation.__qualname__)\n",
    "                last_raised = e\n",
    "        raise last_raised\n",
    "        \n",
    "    return wrapped"
   ]
  },
  {
   "cell_type": "code",
   "execution_count": 18,
   "id": "5f39e433",
   "metadata": {},
   "outputs": [],
   "source": [
    "@retry\n",
    "def run_operation(task):\n",
    "    \"\"\"실행 중 예외가 발생할 것으로 예상되는 특정 작업을 실행\"\"\"\n",
    "    return task.run()"
   ]
  },
  {
   "cell_type": "markdown",
   "id": "0bfe225b",
   "metadata": {},
   "source": [
    "여기에서 run_operation 위의 @retry는 실제로 파이썬에서\n",
    "```python\n",
    "run_operation = retry(run_operation)\n",
    "```\n",
    "을 실행하게 해주는 문법적 설탕일 뿐임"
   ]
  },
  {
   "cell_type": "markdown",
   "id": "ca2bd0c5",
   "metadata": {},
   "source": [
    "## 클래스 데코레이터\n",
    "클래스에도 데코레이터를 사용할 수 있는데, 유일한 차이점은 데코레이터 함수의 파라미터로 함수가 아닌 클래스를 받는다는 점  \n",
    "클래스에서 정의한 속성과 메서드를 데코레이터 안에서 완전히 다른 용도로 변경할 수 있기 때문에 잘못 사용하면 데코레이터는 복잡하고 가독성을 떨어뜨릴 수 있음  \n",
    "\n",
    "그러나 데코레이터를 클래스에 사용했을 때의 장점 역시 다음과 같이 존재\n",
    "- 클래스 데코레이터는 코드 재사용과 DRY 원칙의 이점을 공유함. 클래스 데코레이터를 사용하면 여러 클래스가 특정 인터페이스나 기준을 따르도록 강제 가능. 여러 클래스에 적용할 검사를 데코레이터에서 한 번만 하면 됨\n",
    "- 당장은 작고 간단한 클래스를 생성하고 나중에 데코레이터로 기능 보강 가능\n",
    "- 어떤 클래스에 대해서는 유지보수 시 데코레이터를 사용해 기존 로직을 훨씬 쉽게 변경 가능. 메타클래스와 같은 방법을 사용해 보다 복잡하게 만드는 것은 권장되지 않음\n",
    "\n",
    "데코레이터가 유용하게 사용될 수 있는 예제로 모니터링 플랫폼을 위한 이벤트 시스템 예제  \n",
    "- 각 이벤트의 데이터를 변환하여 외부 시스템으로 보내는 기능\n",
    "- 이벤트 유형은 데이터 전송 방법에 특별한 점이 있을 수 있음\n",
    "- e.g 로그인 이벤트에는 자격 증명과 같은 중요한 정보를 숨겨야 함 / timestamp같은 필드는 특별한 포맷으로 표시하므로 변환 필요성 있음"
   ]
  },
  {
   "cell_type": "code",
   "execution_count": 20,
   "id": "08d7c302",
   "metadata": {},
   "outputs": [],
   "source": [
    "class LoginEventSerializer:\n",
    "    def __init__(self, event):\n",
    "        self.event = event\n",
    "        \n",
    "    def serialize(self) -> dict:\n",
    "        return{\n",
    "            \"username\": self.event.username,\n",
    "            \"password\": \"**민감한 정보 삭제**\",\n",
    "            \"ip\": self.event.ip,\n",
    "            \"timestamp\": self.event.timestamp.strftime(\"%Y-%m-%d %H:%M\")\n",
    "        }\n",
    "    \n",
    "class LoginEvent:\n",
    "    SERIALIZER = LoginEventSerializer\n",
    "    \n",
    "    def __init__(self, username, password, ip, timestamp):\n",
    "        self.username = username\n",
    "        self.password = password\n",
    "        self.ip = ip\n",
    "        self.timestamp = timestamp\n",
    "        \n",
    "    def serialize(self) -> dict:\n",
    "        return self.SERIALIZER(self).serialize()"
   ]
  },
  {
   "cell_type": "markdown",
   "id": "1c2faf0a",
   "metadata": {},
   "source": [
    "여기에서는 로그인 이벤트에 직접 매핑할 클래스를 선언함. 이 클래스는 password 필드를 숨기고 timestamp 필드를 포매팅하는 기능이 들어있음  \n",
    "위의 방법은 시간이 지나면서 시스템이 확장할수록 다음과 같은 문제가 발생  \n",
    "- 클래스가 너무 많아짐: 이벤트 클래스와 직렬화 클래스가 1대 1로 매핑되어 있으므로 직렬화 클래스가 점점 많아짐\n",
    "- 이러한 방법은 충분히 유연하지 않음: 만약 password를 가진 다른 클래스에서도 이 필드를 숨기려고 한다면 함수로 분리한 다음 여러 클래스에서 호출해야함. 이는 코드를 충분히 재사용했다고 볼 수가 없음\n",
    "- 표준화: serialize() 메서드는 모든 이벤트 클래스에 있어야함. 비록 믹스인을 사용해 다른 클래스로 분리할 수 있지만 상속을 제대로 사용했다고 볼 수 없음  \n",
    "\n",
    "**또 다른 방법은 이벤트 인스턴스와 변형 함수를 필터로 받아서 동적으로 객체를 만드는 것**  \n",
    "필터를 이벤트 인스턴스의 필드들에 적용해 직렬화하는 방법"
   ]
  },
  {
   "cell_type": "code",
   "execution_count": 21,
   "id": "e36d4d53",
   "metadata": {},
   "outputs": [],
   "source": [
    "from datetime import datetime\n",
    "\n",
    "def hide_field(field) -> str:\n",
    "    return \"**민감한 정보 삭제**\"\n",
    "\n",
    "def format_time(field_timestamp: datetime) -> str:\n",
    "    return field_timestamp.strftime(\"%Y-%m-%d %H:%M\")\n",
    "\n",
    "def show_original(event_field):\n",
    "    return event_field\n",
    "\n",
    "class EventSerializer:\n",
    "    def __init__(self, serialization_fields: dict) -> None:\n",
    "        self.serialization_fields = serialization_fields\n",
    "        \n",
    "    def serialize(self, event) -> dict:\n",
    "        return {\n",
    "            field: transformation(getattr(event, field))\n",
    "            for field, transformation in\n",
    "            self.serialization_fields.items()\n",
    "        }\n",
    "    \n",
    "class Serialization:\n",
    "    def __init__(self, **transformations):\n",
    "        self.serializer = EventSerializer(transformations)\n",
    "        \n",
    "    def __call__(self, event_class):\n",
    "        def serialize_method(event_instance):\n",
    "            return self.serializer.serialize(event_instance)\n",
    "        event_class.serialize = serialize_method\n",
    "        return event_class\n",
    "    \n",
    "@Serialization(\n",
    "    username=show_original, \n",
    "    password=hide_field, \n",
    "    ip=show_original, \n",
    "    timestamp=format_time\n",
    ")\n",
    "class LoginEvent:\n",
    "    def __init__(self, username, password, ip, timestamp):\n",
    "        self.username = username\n",
    "        self.password = password\n",
    "        self.ip = ip\n",
    "        self.timestamp = timestamp"
   ]
  },
  {
   "cell_type": "markdown",
   "id": "ddb63fc9",
   "metadata": {},
   "source": [
    "클래스 데코레이터에 전달된 인수를 읽는 것만으로도 username과 ip는 수정되지 않고, password 필드는 숨겨지고, timestamp는 포매팅 됨을 알 수 있음  \n",
    "\n",
    "\n",
    "python3.7 이상의 버전에서는 데코레이터를 사용하여 init함수의 템플릿화된 단순 코드를 작성하지 않고도 앞의 예제를 보다 간단히 작성할 수 있음"
   ]
  },
  {
   "cell_type": "code",
   "execution_count": 22,
   "id": "bacaf027",
   "metadata": {},
   "outputs": [],
   "source": [
    "from dataclasses import dataclass\n",
    "from datetime import datetime\n",
    "\n",
    "@Serialization(\n",
    "    username=show_original, \n",
    "    password=hide_field, \n",
    "    ip=show_original, \n",
    "    timestamp=format_time\n",
    ")\n",
    "@dataclass\n",
    "class LoginEvent:\n",
    "    username: str\n",
    "    password: str\n",
    "    ip: str\n",
    "    timestamp: datetime"
   ]
  },
  {
   "cell_type": "code",
   "execution_count": null,
   "id": "0ec1c19c",
   "metadata": {},
   "outputs": [],
   "source": []
  }
 ],
 "metadata": {
  "kernelspec": {
   "display_name": "Python 3 (ipykernel)",
   "language": "python",
   "name": "python3"
  },
  "language_info": {
   "codemirror_mode": {
    "name": "ipython",
    "version": 3
   },
   "file_extension": ".py",
   "mimetype": "text/x-python",
   "name": "python",
   "nbconvert_exporter": "python",
   "pygments_lexer": "ipython3",
   "version": "3.9.12"
  }
 },
 "nbformat": 4,
 "nbformat_minor": 5
}
