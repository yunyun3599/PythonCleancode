{
 "cells": [
  {
   "cell_type": "markdown",
   "id": "902ea556",
   "metadata": {},
   "source": [
    "# 데코레이터의 활용 - 흔한 실수 피하기\n",
    "\n",
    "## 래핑된 원본 객체의 데이터 보존\n",
    "데코레이터 사용 시 많이 발생하는 문제 중 하나는 원본 함수의 일부 프로퍼티 또는 속성을 유지하지 않아 원하지 않는 부작용을 유발한다는 것  \n",
    "\n",
    "아래 코드는 함수가 실행될 때 로그를 남기는 데코레이터"
   ]
  },
  {
   "cell_type": "code",
   "execution_count": 32,
   "id": "93bee847",
   "metadata": {},
   "outputs": [],
   "source": [
    "# decorator_wraps_1.py\n",
    "def trace_decorator(function):\n",
    "    def wrapped(*args, **kwargs):\n",
    "        logger.info(\"%s 실행\", function.__qualname__)\n",
    "        return function(*args, **kwargs)\n",
    "    \n",
    "    return wrapped"
   ]
  },
  {
   "cell_type": "code",
   "execution_count": 23,
   "id": "48dc3a42",
   "metadata": {},
   "outputs": [],
   "source": [
    "@trace_decorator\n",
    "def process_account(account_id):\n",
    "    \"\"\"id별 계정 처리\"\"\"\n",
    "    logger.info(\"%s 계정 처리\", account_id)"
   ]
  },
  {
   "cell_type": "code",
   "execution_count": 24,
   "id": "8ec95b21",
   "metadata": {},
   "outputs": [
    {
     "name": "stdout",
     "output_type": "stream",
     "text": [
      "Help on function wrapped in module __main__:\n",
      "\n",
      "wrapped(*args, **kwargs)\n",
      "\n"
     ]
    }
   ],
   "source": [
    "help(process_account)"
   ]
  },
  {
   "cell_type": "code",
   "execution_count": 25,
   "id": "66a43438",
   "metadata": {},
   "outputs": [
    {
     "name": "stdout",
     "output_type": "stream",
     "text": [
      "trace_decorator.<locals>.wrapped\n"
     ]
    }
   ],
   "source": [
    "print(process_account.__qualname__)"
   ]
  },
  {
   "cell_type": "markdown",
   "id": "1455b62d",
   "metadata": {},
   "source": [
    "데코레이터는 원래 함수의 어떤 것도 변경하지 않아야 하지만 코드에 결함이 있어서 이름이나 docstring을 변경하는 경우가 있음  \n",
    "위의 경우에도 데코레이터가 실제로 원본 함수를 wrapped라 불리는 새로운 함수로 변경했기 때문에 원본 함수의 이름이 아닌 새로운 함수의 이름을 출력하게 됨 \n",
    "\n",
    "위의 데코레이터를 이름이 다른 여러 함수에 적용하더라고 결국은 wrapped라는 이름만 출력하게 됨  \n",
    "-> 개별 함수를 확인하고 싶은 경우에 실제 실행된 함수를 알 수 없으므로 오히려 디버깅이 더 어려워짐\n",
    "\n",
    "이런 문제를 수정하기 위해서는 래핑된 함수, 즉 wrapped 함수에 **@wraps** 데코레이터를 적용하여 실제로는 fucntion 파리미터 함수를 래핑한 것이라고 알려주는 것"
   ]
  },
  {
   "cell_type": "code",
   "execution_count": 26,
   "id": "8492ae27",
   "metadata": {},
   "outputs": [],
   "source": [
    "# decorator_wraps_2.py\n",
    "\n",
    "from functools import wraps\n",
    "\n",
    "def trace_decorator(function):\n",
    "    @wraps(function)\n",
    "    def wrapped(*args, **kwargs):\n",
    "        logger.info(\"running %s\", function.__qualname__)\n",
    "        return function(*args, **kwargs)\n",
    "    \n",
    "    return wrapped\n",
    "\n",
    "@trace_decorator\n",
    "def process_account(account_id):\n",
    "    \"\"\"id별 계정 처리\"\"\"\n",
    "    logger.info(\"%s 계정 처리\", account_id)"
   ]
  },
  {
   "cell_type": "code",
   "execution_count": 27,
   "id": "0fd164da",
   "metadata": {},
   "outputs": [
    {
     "name": "stdout",
     "output_type": "stream",
     "text": [
      "Help on function process_account in module __main__:\n",
      "\n",
      "process_account(account_id)\n",
      "    id별 계정 처리\n",
      "\n"
     ]
    }
   ],
   "source": [
    "help(process_account)"
   ]
  },
  {
   "cell_type": "code",
   "execution_count": 28,
   "id": "ffe4a107",
   "metadata": {},
   "outputs": [
    {
     "data": {
      "text/plain": [
       "'process_account'"
      ]
     },
     "execution_count": 28,
     "metadata": {},
     "output_type": "execute_result"
    }
   ],
   "source": [
    "process_account.__qualname__"
   ]
  },
  {
   "cell_type": "markdown",
   "id": "5551335e",
   "metadata": {},
   "source": [
    "이와 같이 @wraps 데코레이터를 사용한 결과 원본 함수에 대한 정보를 얻을 수 있게 됨  \n",
    "\n",
    "또한 @wraps 데코레이터를 사용하면 docstring에 포함된 단위 테스트 기능이 복구됨  \n",
    "@wraps 데코레이터를 사용해 &#95;&#95;wrapped&#95;&#95; 속성을 통해 수정되지 않은 원본에도 접근할 수 있게 됨."
   ]
  },
  {
   "cell_type": "code",
   "execution_count": 29,
   "id": "17d44d60",
   "metadata": {},
   "outputs": [],
   "source": [
    "def decorator(original_function):\n",
    "    @wraps(original_function)\n",
    "    def decorated_function(*args, **kwargs):\n",
    "        # 데코레이터에 의한 수정 작업 ...\n",
    "        return original_function(*args, **kwargs)\n",
    "    \n",
    "    return decorated_function"
   ]
  },
  {
   "cell_type": "markdown",
   "id": "7458c9d5",
   "metadata": {},
   "source": [
    "### 데코레이터 부작용 처리\n",
    "\n",
    "#### 데코레이터 부작용의 잘못된 처리\n",
    "함수의 실행과 실행시간을 로깅하는 데코레이터"
   ]
  },
  {
   "cell_type": "code",
   "execution_count": 6,
   "id": "5102f689",
   "metadata": {},
   "outputs": [],
   "source": [
    "from functools import wraps\n",
    "import logging\n",
    "import time\n",
    "\n",
    "def traced_function_wrong(function):\n",
    "    logging.info(\"%s 함수 실행\", function)\n",
    "    start_time = time.time()\n",
    "    \n",
    "    @wraps(function)\n",
    "    def wrapped(*args, **kwargs):\n",
    "        result = function(*args, **kwargs)\n",
    "        logging.info(\"함수 %s의 실행시간: %.2fs\", function, time.time() - start_time)\n",
    "        return result\n",
    "    return wrapped"
   ]
  },
  {
   "cell_type": "markdown",
   "id": "0d751468",
   "metadata": {},
   "source": [
    "일반 함수에 위 데코레이터를 적용하면 문제 없이 동작"
   ]
  },
  {
   "cell_type": "code",
   "execution_count": 7,
   "id": "2392771d",
   "metadata": {},
   "outputs": [],
   "source": [
    "@traced_function_wrong\n",
    "def process_with_deplay(callback, delay=0):\n",
    "    time.sleep(delay)\n",
    "    return callback()"
   ]
  },
  {
   "cell_type": "markdown",
   "id": "2e9c8db1",
   "metadata": {},
   "source": [
    "함수를 여러번 임포트 할 경우 문제가 발생할 수 있음\n",
    "```python\n",
    "from 파일명 import process_with_delay\n",
    "```\n",
    ">INFO:<function process_with_deplay at 0x ...> 함수 실행\n",
    "\n",
    "함수를 임포트만 했을 뿐인데 로그가 남는 문제 발생\n",
    "\n",
    "함수를 실행하고 실행하는 데 걸리는 시간을 확인하면 같은 함수를 여러번 호출하면 비슷한 결과가 나올 것으로 예상됨\n",
    "> main()\n",
    ">> INFO: 함수 <function process_with_delay at 0x> 의 실행시간: 8.67s\n",
    "\n",
    "> main()\n",
    ">> INFO: 함수 <function process_with_delay at 0x> 의 실행시간: 13.39s\n",
    "\n",
    "> main()\n",
    ">> INFO: 함수 <function process_with_delay at 0x> 의 실행시간: 17.01s\n",
    "\n",
    "그러나 실제로는 동일한 기능인데 실행할 때마다 오래 걸리는 결과를 얻게 됨.  \n",
    "데코레이터 구문 @traced_function_wrong은 실제로 다음을 의미함\n",
    "```python\n",
    "process_with_delay = traced_function_wrong(process_with_delay)\n",
    "```\n",
    "위의 문장은 모듈을 임포트할 때 실행됨.  \n",
    "따라서 함수에 설정된 start_time은 모듈을 처음 임포트할 때의 시간이 됨.  \n",
    "함수를 연속적으로 호출하면 함수의 실행시간으로 최초 시작 시점과의 시간차를 계산하고 함수가 실제로 호출될 때가 아니라 잘못된 시점에 기록됨 \n",
    "\n",
    "위의 문제를 해결하기 위한 방법은 실행을 지연시키기 위해 아래와 같이 래핑된 함수 내부로 코드를 이동하면 됨  "
   ]
  },
  {
   "cell_type": "code",
   "execution_count": 10,
   "id": "18386b51",
   "metadata": {},
   "outputs": [],
   "source": [
    "def traced_function(function):\n",
    "    @wraps(function)\n",
    "    def wrapped(*args, **kwargs):\n",
    "        logger.info(\"%s 함수 실행\", function.__qualname__)\n",
    "        start_time = time.time()\n",
    "        result = function(*args, **kwargs)\n",
    "        logger.info(\"function %s took %.2fs\", function.__qualname__, time.time() - start_time)\n",
    "        return result\n",
    "    return wrapped"
   ]
  },
  {
   "cell_type": "markdown",
   "id": "a410df1a",
   "metadata": {},
   "source": [
    "### 데코레이터 부작용의 활용\n",
    "의도적으로 데코레이터의 부작용을 사용하여 실제 실행이 가능한 시점까지 기다리지 않는 경우도 있음  \n",
    "부작용을 활용하는 대표적인 예로는 모듈의 공용 레지스트리에 객체를 등록하는 경우가 있음  \n",
    "\n",
    "**Example**  \n",
    "이벤트 시스템에서 일부 이벤트만 사용하려는 경우 이벤트 계층 구조의 중간에 가상의 클래스를 만들고 일부 파생 클래스에 대해서만 이벤트를 처리하도록 할 수 있음  \n",
    "각 클래스마다 처리 여부에 flag 표시를 하는 대신 데코레이터를 사용해 명시적으로 표시할 수 있음\n",
    "\n",
    "사용자와 관련된 모든 이벤트 클래스가 존재하는데 여기서는 실제 UserLoginEvent와 UserLogoutEvent만 처리한다고 가정"
   ]
  },
  {
   "cell_type": "code",
   "execution_count": 11,
   "id": "9cfd3162",
   "metadata": {},
   "outputs": [],
   "source": [
    "EVENT_REGISTRY = {}\n",
    "\n",
    "def register_event(event_cls):\n",
    "    \"\"\"모듈에서 접근 가능하도록 이벤트 클래스를 레지스트리에 등록\"\"\"\n",
    "    EVENT_REGISTRY[event_cls.__name__] = event_cls\n",
    "    return event_cls\n",
    "\n",
    "class Event:\n",
    "    \"\"\"기본 이벤트 객체\"\"\"\n",
    "    \n",
    "class UserEvent:\n",
    "    TYPE = \"user\"\n",
    "    \n",
    "@register_event\n",
    "class UserLoginEvent(UserEvent):\n",
    "    \"\"\"사용자가 시스템에 접근했을 때 발생하는 이벤트\"\"\"\n",
    "    \n",
    "@register_event\n",
    "class UserLogoutEvent(UserEvent):\n",
    "    \"\"\"사용자가 시스템에서 나갈 때 발생하는 이벤트\"\"\""
   ]
  },
  {
   "cell_type": "markdown",
   "id": "ef763f8d",
   "metadata": {},
   "source": [
    "위의 코드를 보면 처음에 EVENT_REGISTRY는 비어있는 것처럼 보이지만 모듈의 일부를 임포트하면 register_event 데코레이터로 지정한 클래스로 채워지게 됨\n",
    "```python\n",
    "from 파일명 import EVENT_REGISTRY\n",
    "EVENT_REGISTRY\n",
    "```\n",
    ">결과: {\"UserLoginEvent\": 파일명.UserLoginEvent, \"UserLogoutEvent\": 파일명.UserLogoutEvent}\n",
    "\n",
    "데코레이터는 레핑된 객체를 변경하거나 동작 방식을 수정하지 않고 원래 함수를 그대로 반환  \n",
    "만약 래핑된 객체를 일부 수정하거나 수정하는 내부 함수를 정의했다고 해도 결과 객체를 외부에 노출하는 코드가 있어야 함  \n",
    "**\"외부\"**: 결과 객체가 같은 클로저에 있지 않고 외부 스코프에 있으며 여기서 데코레이팅한 것만으로 스스로 결과 객체에 저장됨"
   ]
  },
  {
   "cell_type": "markdown",
   "id": "bd22a507",
   "metadata": {},
   "source": [
    "### 어느 곳에서나 동작하는 데코레이터 만들기 \n",
    "같은 데코레이터를 함수나 클래스, 메서드 또는 정적 메서드 등 여러 곳에 재사용 할 수 있음  \n",
    "보통 데코레이터를 만들면 장식하고 싶은 첫 번째 유형의 객체만을 지원하려고 생각하게 됨.  \n",
    "그러나 같은 데코레이터를 다른 유형에 적용하려고 하면 오류가 발생. (e.g. 함수에 사용될 데코레이터를 클래스의 메서드에 적용하려는 경우)  \n",
    "데코레이터를 만들 때는 일반적으로 재사용을 고려하여 함수 뿐 아니라 메서드에서도 동작하기를 바람. \n",
    "\n",
    "&#42;args와 &#42;&#42;kwargs 서명을 사용하여 데코레이터를 정의하면 모든 경우에 사용 가능  \n",
    "그러나 아래 두가지 이유로 인해 원래 함수의 서명과 비슷하게 데코레이터를 정의하는 것이 좋을 때가 있음\n",
    "1. 원래 함수와 모양이 비슷하므로 읽기가 쉬움\n",
    "1. 파라미터를 받아서 뭔가를 하려면 &#42;args와 &#42;&#42;kwargs를 사용하는 것이 불편함  \n",
    "\n",
    "문자열을 받아 드라이버 객체를 초기화하는 등 파라미터를 받아 특정 객체를 생성하는 경우 파라미터를 변환해주는 데코레이터를 만들어 중복 제거 가능  \n",
    "아래 예시에서 DBDriver 객체는 연결 문자열을 받아 데이터베이스에 연결하고 DB 연산을 수행하는 객체임.  \n",
    "메서드는 DB 정보 문자열을 받아서 DBDriver 인스턴스를 생성  \n",
    "데코레이터는 이러한 변환을 자동화하여 문자열을 받아 DBDriver를 생성하고 함수에 전달  \n",
    "-> 객체를 직접 받은 것처럼 가정 가능"
   ]
  },
  {
   "cell_type": "code",
   "execution_count": 12,
   "id": "d319c15c",
   "metadata": {},
   "outputs": [],
   "source": [
    "import logging\n",
    "from functools import wraps\n",
    "\n",
    "logger = logging.getLogger(__name__)\n",
    "\n",
    "class DBDriver:\n",
    "    def __init__(self, dbstring):\n",
    "        self.dbstring = dbstring\n",
    "        \n",
    "    def execute(self, query):\n",
    "        return f\"{self.dbstring} 에서 쿼리 {query} 실행\"\n",
    "    \n",
    "def inject_db_driver(function):\n",
    "    \"\"\"데이터베이스 dns 문자열을 받아서 DBDriver 인스턴스를 생성하는 데코레이터\"\"\"\n",
    "    @wraps(function)\n",
    "    def wrapped(dbstring):\n",
    "        return function(DBDriver(dbstring))\n",
    "    return wrapped\n",
    "\n",
    "@inject_db_driver\n",
    "def run_query(driver):\n",
    "    return driver.execute(\"test_function\")"
   ]
  },
  {
   "cell_type": "code",
   "execution_count": 13,
   "id": "b1f6467f",
   "metadata": {},
   "outputs": [
    {
     "data": {
      "text/plain": [
       "'test_OK 에서 쿼리 test_function 실행'"
      ]
     },
     "execution_count": 13,
     "metadata": {},
     "output_type": "execute_result"
    }
   ],
   "source": [
    "run_query(\"test_OK\")"
   ]
  },
  {
   "cell_type": "markdown",
   "id": "cee89b70",
   "metadata": {},
   "source": [
    "같은 기능을 하는 데코레이터를 클래스 메서드에서 재사용하고자 하면 다음과 같은 결과가 발생함"
   ]
  },
  {
   "cell_type": "code",
   "execution_count": 16,
   "id": "2f0b9cee",
   "metadata": {},
   "outputs": [],
   "source": [
    "class DataHandler:\n",
    "    @inject_db_driver\n",
    "    def run_query(self, driver):\n",
    "        return driver.execute(self.__class__.__name__)"
   ]
  },
  {
   "cell_type": "code",
   "execution_count": 17,
   "id": "3c2b10e5",
   "metadata": {},
   "outputs": [
    {
     "ename": "TypeError",
     "evalue": "wrapped() takes 1 positional argument but 2 were given",
     "output_type": "error",
     "traceback": [
      "\u001b[1;31m---------------------------------------------------------------------------\u001b[0m",
      "\u001b[1;31mTypeError\u001b[0m                                 Traceback (most recent call last)",
      "Input \u001b[1;32mIn [17]\u001b[0m, in \u001b[0;36m<cell line: 1>\u001b[1;34m()\u001b[0m\n\u001b[1;32m----> 1\u001b[0m \u001b[43mDataHandler\u001b[49m\u001b[43m(\u001b[49m\u001b[43m)\u001b[49m\u001b[38;5;241;43m.\u001b[39;49m\u001b[43mrun_query\u001b[49m\u001b[43m(\u001b[49m\u001b[38;5;124;43m\"\u001b[39;49m\u001b[38;5;124;43mtest_fails\u001b[39;49m\u001b[38;5;124;43m\"\u001b[39;49m\u001b[43m)\u001b[49m\n",
      "\u001b[1;31mTypeError\u001b[0m: wrapped() takes 1 positional argument but 2 were given"
     ]
    }
   ],
   "source": [
    "DataHandler().run_query(\"test_fails\")"
   ]
  },
  {
   "cell_type": "markdown",
   "id": "d6f8d6e2",
   "metadata": {},
   "source": [
    "수행에 실패하게 되는데, 이는 클래스의 메서드에는 self라는 추가 변수가 있기 때문임  \n",
    "메서드는 자신이 정의된 객체를 나타내는 self라는 특수한 변수를 항상 첫 번째 파라미터로 받도록 되어있음  \n",
    "따라서 하나의 파라미터만 받도록 설계된 데코레이터는 연결 문자열 자리에 self를 전달하고, 두번째 파라미터에는 아무것도 전달하지 않아서 에러가 발생  \n",
    "\n",
    "이 문제를 해결하려면 메서드와 함수에 대해서 동일하게 동작하는 데코레이터를 만들어야 하는데 이를 위해서는 **디스크립터 프로토콜**을 구현한 데코레이터 객체를 만들어야 함  \n",
    "해결책으로는 데코레이터를 클래스 객체로 구현하고 &#95;&#95;get&#95;&#95; 메서드를 구현한 디스크립터 객체를 만드는 것임"
   ]
  },
  {
   "cell_type": "code",
   "execution_count": 18,
   "id": "5ec5098b",
   "metadata": {},
   "outputs": [],
   "source": [
    "from functools import wraps\n",
    "from types import MethodType\n",
    "\n",
    "class inject_db_driver:\n",
    "    \"\"\"문자열을 DBDriver 인스턴스로 변환하여 래핑된 함수에 전달\"\"\"\n",
    "    \n",
    "    def __init__(self, function):\n",
    "        self.function = function\n",
    "        wraps(self.function)(self)\n",
    "        \n",
    "    def __call__(self, dbstring):\n",
    "        return self.function(DBDriver(dbstring))\n",
    "    \n",
    "    def __get__(self, instance, owner):\n",
    "        if instance is None:\n",
    "            return self\n",
    "        return self.__class__(MethodType(self.function, instance))"
   ]
  },
  {
   "cell_type": "code",
   "execution_count": 19,
   "id": "8c8743bd",
   "metadata": {},
   "outputs": [
    {
     "data": {
      "text/plain": [
       "'test_succeeds 에서 쿼리 DataHandler 실행'"
      ]
     },
     "execution_count": 19,
     "metadata": {},
     "output_type": "execute_result"
    }
   ],
   "source": [
    "class DataHandler:\n",
    "    @inject_db_driver\n",
    "    def run_query(self, driver):\n",
    "        return driver.execute(self.__class__.__name__)\n",
    "    \n",
    "DataHandler().run_query(\"test_succeeds\")"
   ]
  },
  {
   "cell_type": "markdown",
   "id": "9bda6cdc",
   "metadata": {},
   "source": [
    "디스크립터에 대한 자세한 내용은 뒷장에서 추가 학습  \n",
    "현재는 호출할 수 있는 객체를 메서드에 다시 바인딩 함을 알고 있기  \n",
    "**함수를 객체에 바인딩하고 데코레이터를 새로운 호출 가능 객체로 다시 생성**  \n",
    "함수의 경우 &#95;&#95;get&#95;&#95; 메서드를 사용하지 않기 때문에 여전히 잘 작동"
   ]
  },
  {
   "cell_type": "code",
   "execution_count": 20,
   "id": "734f2e6e",
   "metadata": {},
   "outputs": [
    {
     "data": {
      "text/plain": [
       "'test_OK 에서 쿼리 test_function 실행'"
      ]
     },
     "execution_count": 20,
     "metadata": {},
     "output_type": "execute_result"
    }
   ],
   "source": [
    "run_query(\"test_OK\")"
   ]
  },
  {
   "cell_type": "code",
   "execution_count": null,
   "id": "45196ff4",
   "metadata": {},
   "outputs": [],
   "source": []
  }
 ],
 "metadata": {
  "kernelspec": {
   "display_name": "Python 3 (ipykernel)",
   "language": "python",
   "name": "python3"
  },
  "language_info": {
   "codemirror_mode": {
    "name": "ipython",
    "version": 3
   },
   "file_extension": ".py",
   "mimetype": "text/x-python",
   "name": "python",
   "nbconvert_exporter": "python",
   "pygments_lexer": "ipython3",
   "version": "3.9.12"
  }
 },
 "nbformat": 4,
 "nbformat_minor": 5
}
