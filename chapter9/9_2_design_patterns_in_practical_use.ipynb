{
 "cells": [
  {
   "cell_type": "markdown",
   "id": "a5c5f174",
   "metadata": {},
   "source": [
    "# 실전 속의 디자인 패턴\n",
    "<br>\n",
    "\n",
    "**패턴 종류**\n",
    "- 생성(creational) 패턴\n",
    "- 구조(structural) 패턴 \n",
    "- 행동(behavioral) 패턴  \n",
    "\n",
    "염두에 둘 사항\n",
    "1. 일부 패턴은 파이썬 내부에서 자체적으로 구현되어 있으므로 보이지 않은 채로도 적절히 적용될 수 있음  \n",
    "2. 모든 패턴이 똑같이 일반적인 것은 아님\n",
    "     - 몇 개는 대단이 유용하여 빈번하게 언급되는 반면 다른 것들은 특별한 상황에서만 사용되는 것도 있음  \n",
    "     \n",
    "애플리케이션의 솔루션에 강제로 디자인 패턴을 적용해서는 안되며, 패턴이 출현할 때까지는 솔루션을 진화시키고 리팩토링하고 개선해야함  \n",
    "-> **디자인 패턴은 발명되는 것이 아니라 발견되는 것**  \n",
    "-> 코드에 반복적으로 같은 내용이 출현할 때 비로소 일반적이고 추상화된 클래스, 객체 또는 컴포넌트의 패턴이 발견되는 것  \n",
    "\n",
    "디자인 패턴은 상황을 설명할 수 있는 언어를 제공함  \n",
    "디자인 패턴을 통해 디자인 아이디어를 효과적으로 전달할 수 있음  \n",
    "두 명 이상의 소프트웨어 엔지니어가 동일한 어휘를 공유하고 있다면 한 명의 엔지니어가 \"빌더\" 라고만 하면 다른 엔지니어들은 별다른 설명 없이도 어떠한 클래스들이 있으며 각 클래스가 어떠한 관계를 가지는지 등을 바로 떠올릴 수 있음  \n",
    "\n",
    "앞으로 나오는 코드가 원래의 디자인 패턴 표준이나 구상과는 상이할 것인데, 그렇게 되는 이유는 다음과 같음  \n",
    "1. 예제를 통해 일반적인 디자인 이론을 살펴보는 것이 아니라 특정 시나리오에 대한 솔루션을 찾는 실용적인 접근법을 취했기 때문  \n",
    "2. 때로는 미묘하지만 때로는 큰 차이를 가진 파이썬의 특수성을 감안하여 패턴을 일반화하여 구현했기 때문"
   ]
  },
  {
   "cell_type": "markdown",
   "id": "2ec1ae4d",
   "metadata": {},
   "source": [
    "## 생성(creational) 패턴\n",
    "**생성 패턴**: 객체를 인스턴스화 할 때의 복잡성을 최대한 추상화하기 위한 것  \n",
    "- 객체 초기화를 위한 파라미터를 결정하거나 초기화에 필요한 관련 객체를 준비하는 것 등의 모든 관련 작업을 단순화 하려는 것  \n",
    "- 더 간단한 인터페이스를 제공할 수 있고 사용자는 보다 안전하게 객체 생성 가능  \n",
    "- 객체 생성의 기본 형태는 디자인을 복잡하게 만들거나 문제를 유발할 수 있으므로 생성패턴을 통해 이를 제어함으로써 문제를 해결하고자 하는 것  \n",
    "\n",
    "객체 생성을 위한 다섯가지 패턴 중 주로 싱글턴 패턴을 피하기 위한 방법에 대해 살펴보고 특히 파이썬에서 많이 사용되는 Borg 패턴으로 대체한 후 기존 버전과에 차이점과 장점에 대해 알아보기  "
   ]
  },
  {
   "cell_type": "markdown",
   "id": "d2766109",
   "metadata": {},
   "source": [
    "### 팩토리  \n",
    "파이썬의 핵심 기능 중 하나는 모든 것이 <span style=\"color:red\">객체</span>라는 것이며 따라서 모두 똑같이 취급될 수 있다는 것임  \n",
    "즉 클래스, 함수 또는 사용자 정의 객체 각각의 역할이 특별히 구분되어 있지 않아 모두 파라미터나 할당 등에 사용될 수 있음  \n",
    "이러한 이유로 파이썬에서는 팩토리 패턴이 별로 필요하지 않음.  \n",
    "간단히 객체들을 생성할 수 있는 함수를 만들 수 있으며, 생성하려는 클래스를 파라미터로 전달할 수 있음"
   ]
  },
  {
   "cell_type": "markdown",
   "id": "3d926d08",
   "metadata": {},
   "source": [
    "### 싱글턴과 공유 상태(monostate)  \n",
    "싱글턴 패턴은 파이썬에 의해 완전히 추상화 되지 않은 패턴  \n",
    "대부분의 경우 이 패턴은 실제로 필요하지 않거나 나쁜 선택임  \n",
    "\n",
    "싱글턴의 문제  \n",
    "- 싱글턴은 객체 지향 소프트웨어를 위한 전역변수의 한 형태이며 결국은 나쁜 선택임  \n",
    "- 싱글턴은 단위 테스트가 어려움\n",
    "- 어떤 객체에 의해서 언제든지 수정될 수 있다는 사실은 예측하기 어렵다는 뜻이고, 실제로는 부작용이 큰 문제를 일으킬 수 있음  \n",
    "\n",
    "일반적으로 싱글턴은 가능하면 사용하지 않는 것이 좋음  \n",
    "어떤 극단적인 경우에 꼭 필요하다면 파이썬에서 이를 해결하는 가장 쉬운 방법은 모듈을 사용하는 것임  \n",
    "모듈에 객체를 생성할 수 있으며 모듈을 임포트한 모든 곳에서 사용할 수 있음  \n",
    "파이썬에서 모듈은 이미 싱글턴이라는 것을 의미함  \n",
    "즉, 여러번 임포트 하더라도 sys.modules에 로딩되는 것은 항상 한 개임  \n",
    "<br>\n",
    "\n",
    "#### 공유 상태  \n",
    "객체가 어떻게 호출, 생성 또는 초기화 되는지에 상관 없이 하나의 인스턴스만 갖는 싱글턴을 사용하는 것보다는 여러 인스턴스에서 사용할 수 있도록 데이터를 복제하는 것이 좋음  \n",
    "\n",
    "**<i>모노 스테이트 패턴</i>**(SNGMONO)의 주요 개념은 싱글턴인지 아닌지에 상관 없이 일반 객체처럼 많은 인스턴스를 만들 수 있어야 한다는 것임  \n",
    "이 패턴의 장점은 완전히 투명한 방법으로 정보를 동기화하기 대문에 사용자는 내부에서 어떻게 동작하는지 전혀 신경쓰지 않아도 된다는 점임\n",
    "이 패턴을 사용하는 것이 싱글턴을 사용하는 것보다 에러가 발생할 가능성이 적고 테스트가 어렵다거나 파생 클래스를 만들기 어렵다는 싱글턴의 단점을 해결할 수 있기 때문에 더욱 좋은 선택임  \n",
    "\n",
    "얼마나 많은 정보를 동기화해야 하는지 여부에 따라 다양한 수준으로 이 패턴을 적용할 수 있음  \n",
    "\n",
    "가장 간단한 형태로 모든 인스턴스에 하나의 속성만 공유될 필요가 있다고 할 때  \n",
    "-> 단지 클래스 변수를 사용하는 것처럼 쉽게 구현할 수 있으나 속성의 값을 업데이트하고 검색하는 올바른 인터페이스를 제공해야 함  \n",
    "\n",
    "Git 저장소에서 최신 태그의 코드를 가져오는 객체가 있다고 가정  \n",
    "이 객체의 인스턴스는 여러 개가 있을 수 있으며 어떤 클라이언트에서든 코드 가져오기 요청을 하면 tag라는 공통의 속성을 참조할 것임  \n",
    "tag는 언제든지 새 버전으로 업데이트될 수 있으며 fetch 요청을 하면 기존의 인스턴스뿐 아니라 새로운 인스턴스에서도 해당 버전을 참조해야 함  \n"
   ]
  },
  {
   "cell_type": "code",
   "execution_count": 8,
   "id": "c31597db",
   "metadata": {},
   "outputs": [],
   "source": [
    "class GitFetcher:\n",
    "    _current_tag = None\n",
    "    \n",
    "    def __init__(self, tag):\n",
    "        self.current_tag = tag\n",
    "        \n",
    "    @property\n",
    "    def current_tag(self):\n",
    "        if self._current_tag is None:\n",
    "            raise AttributeError(\"tag가 초기화되지 않음\")\n",
    "        return self._current_tag\n",
    "    \n",
    "    @current_tag.setter\n",
    "    def current_tag(self, new_tag):\n",
    "        self.__class__._current_tag = new_tag\n",
    "        \n",
    "    def pull(self):\n",
    "        print(f\"{self.current_tag}에서 풀\")\n",
    "        return self.current_tag"
   ]
  },
  {
   "cell_type": "code",
   "execution_count": 22,
   "id": "e6abdd3f",
   "metadata": {},
   "outputs": [
    {
     "name": "stdout",
     "output_type": "stream",
     "text": [
      "===0.1===\n",
      "0.1에서 풀\n",
      "0.1\n",
      "===0.2===\n",
      "0.2에서 풀\n",
      "0.2\n",
      "0.2에서 풀\n",
      "0.2\n",
      "===0.3===\n",
      "0.3에서 풀\n",
      "0.3\n",
      "0.3에서 풀\n",
      "0.3\n"
     ]
    }
   ],
   "source": [
    "f1 = GitFetcher(0.1)\n",
    "print(\"===0.1===\")\n",
    "print(f1.pull())\n",
    "f2 = GitFetcher(0.2)\n",
    "print(\"===0.2===\")\n",
    "print(f2.pull())\n",
    "print(f1.pull())\n",
    "f1.current_tag = 0.3\n",
    "print(\"===0.3===\")\n",
    "print(f2.pull())\n",
    "print(f1.pull())"
   ]
  },
  {
   "cell_type": "markdown",
   "id": "6af73974",
   "metadata": {},
   "source": [
    "더 많은 속성이 필요하거나 공유 속성을 좀 더 캡슐화하고 싶다면 깔끔한 디자인을 위해 디스크립터를 이용할 수 있음  \n",
    "다음 코드와 같은 디스크립터를 사용하여 문제를 해결하면 좀 더 많은 코드가 필요한 것이 사실이지만, 구체적인 책임을 캡슐화하고 코드를 분리하여 각각이 응집력을 갖게 되므로 단일 책임 원칙을 준수할 수 있게 됨  "
   ]
  },
  {
   "cell_type": "code",
   "execution_count": 23,
   "id": "a7cd5889",
   "metadata": {},
   "outputs": [],
   "source": [
    "class SharedAttribute:\n",
    "    def __init__(self, initial_value=None):\n",
    "        self.value = initial_value\n",
    "        self._name = None\n",
    "    \n",
    "    def __get__(self, instance, owner):\n",
    "        if instance is None:\n",
    "            return self\n",
    "        if self.value is None:\n",
    "            raise AttributeError(f\"{self._name} was never set\")\n",
    "        return self.value\n",
    "    \n",
    "    def __set__(self, instance, new_value):\n",
    "        self.value = new_value\n",
    "        \n",
    "    def __set_name__(self, owner, name):\n",
    "        self._name = name"
   ]
  },
  {
   "cell_type": "markdown",
   "id": "74a9f409",
   "metadata": {},
   "source": [
    "뿐만 아니라 디스크립터를 사용함으로써 재사용성 또한 높아질 수 있음  \n",
    "만약 이 로직을 반복해야 한다면 그저 새로운 디스크립터 객체를 멤버로 만들기만 하면 됨  \n",
    "DRY 원칙을 자연스럽게 준수 가능  \n",
    "\n",
    "동일한 로직을 현재 태그 기준이 아니라 현재 브랜치 기준으로 적용하고 싶으면 다른 코드는 그대로 두고 새로운 클래스 속성만 추가하면 됨  "
   ]
  },
  {
   "cell_type": "code",
   "execution_count": 24,
   "id": "64809327",
   "metadata": {},
   "outputs": [],
   "source": [
    "class GitFetcher:\n",
    "    current_tag = SharedAttribute()\n",
    "    current_branch = SharedAttribute()\n",
    "    \n",
    "    def __init__(self, tag, branch=None):\n",
    "        self.current_tag = tag\n",
    "        self.current_branch = branch\n",
    "        \n",
    "    def pull(self):\n",
    "        print(f\"{self.current_tag}에서 풀\")\n",
    "        return self.current_tag"
   ]
  },
  {
   "cell_type": "markdown",
   "id": "940a5517",
   "metadata": {},
   "source": [
    "지금까지는 새로운 접근 방법의 균형점과 트레이드 오프가 명확  \n",
    "새로운 구현은 좀 더 많은 코드를 사용하지만 재사용할 수 있으므로 장기적으로 보면 중복된 코드나 로직을 제거  \n",
    "\n",
    "이 솔루션의 또 다른 중요한 이점은 단위 테스트의 반복을 줄일 수 있다는 점임  \n",
    "이제 모든 클래스를 테스트할 필요 없이 디스크립터 객체에 대해서만 테스트하면 되기 때문에 전체 품질에 대해서도 보장 가능"
   ]
  },
  {
   "cell_type": "markdown",
   "id": "8aa10217",
   "metadata": {},
   "source": [
    "**<i>borg 패턴</i>**  \n",
    "이전의 솔루션은 대부분의 경우에 잘 동작하지만 꼭 싱글턴을 사용해야하는 경우라면 최후의 더 나은 대안이 있음  \n",
    "이는 실제로도 모노 스테이트 패턴으로 파이썬에서는 borg 패턴이라고 부름  \n",
    "주요 개념은 같은 클래스의 모든 인스턴스가 모든 속성을 복제하는 객체를 만드는 것  \n",
    "*모든 속성이 완벽하게 복제된다는 것은 부작용 또한 염두에 둬야 한다는 것을 뜻함*  \n",
    "그러나 여전히 이 패턴은 싱글턴보다 많은 장점을 가짐  \n",
    "\n",
    "이 예제에서는 이전의 객체를 두 개로 나눔\n",
    "1. Git 태그에 기반을 두어 동작\n",
    "2. 브랜치 기반 동작"
   ]
  },
  {
   "cell_type": "code",
   "execution_count": 26,
   "id": "9cda91bd",
   "metadata": {},
   "outputs": [],
   "source": [
    "class BaseFetcher:\n",
    "    def __init__(self, source):\n",
    "        self.source = source\n",
    "        \n",
    "class TagFetcher(BaseFetcher):\n",
    "    _attributes = {}\n",
    "    \n",
    "    def __init__(self, source):\n",
    "        self.__dict__ = self.__class__._attributes\n",
    "        super().__init__(source)\n",
    "        \n",
    "    def pull(self):\n",
    "        print(f\"{self.source} 태그에서 풀\")\n",
    "        return f\"Tag = {self.source}\"\n",
    "    \n",
    "class BranchFetcher(BaseFetcher):\n",
    "    _attributes = {}\n",
    "    \n",
    "    def __init__(self, source):\n",
    "        self.__dict__ = self.__class__._attributes\n",
    "        super().__init__(source)\n",
    "        \n",
    "    def pull(self):\n",
    "        print(f\"{self.source} 브랜치에서 풀\")\n",
    "        return f\"Branch = {self.source}\""
   ]
  },
  {
   "cell_type": "markdown",
   "id": "0c8b6f1e",
   "metadata": {},
   "source": [
    "두 객체 모두 초기화 메서드를 공유하는 기본 클래스를 가짐  \n",
    "그러나 borg 로직을 제대로 구현하려면 코드를 약간 수정해야 함  \n",
    "속성을 저장할 사전을 클래스 속성으로 지정하고, 객체를 초기화할 때 모든 객체에서 바로 이 동일한 사전을 참조하도록 해야 함  \n",
    "\n",
    "사전은 레퍼런스 형태로 전달되는 변경 가능한 mutable 객체이므로 한 곳에서 사전을 업데이트하면 모든 객체에 동일하게 업데이트 됨  \n",
    "즉, 이런 타입의 새로운 객체에 대해서는 같은 사전을 사용할 것이므로 사전은 공통적으로 지속 업데이트 될 것임  \n",
    "\n",
    "의도치 않게 다른 클래스의 객체에도 영향을 미칠 수 있으므로 기본 클래스에 사전과 관련된 로직을 추가하면 안된다는 점에 주의  \n",
    "이 때문에 많은 사람들이 이것을 패턴 보다는 관용구에 가깝다고 생각함  \n",
    "\n",
    "DRY 원칙을 준수하면서 추상화를 하려면 다음과 같이 믹스인 클래스를 만들면 됨  "
   ]
  },
  {
   "cell_type": "code",
   "execution_count": 27,
   "id": "17c7896a",
   "metadata": {},
   "outputs": [],
   "source": [
    "class SharedAllMixin:\n",
    "    def __init__(self, *args, **kwargs):\n",
    "        try:\n",
    "            self.__class__._attributes\n",
    "        except AttributeError:\n",
    "            self.__class__._attributes = {}\n",
    "                \n",
    "        self.__dict__ = self.__class__._attributes\n",
    "        super().__init__(*args, **kwargs)\n",
    "        \n",
    "class BaseFetcher:\n",
    "    def __init__(self, source):\n",
    "        self.source = source\n",
    "        \n",
    "class TagFetcher(SharedAllMixin, BaseFetcher):\n",
    "    def pull(self):\n",
    "        print(f\"{self.source} 태그에서 풀\")\n",
    "        return f\"Tag = {self.source}\"\n",
    "    \n",
    "class BranchFetcher(SharedAllMixin, BaseFetcher):\n",
    "    def pull(self):\n",
    "        print(f\"{self.source} 브랜치에서 풀\")\n",
    "        return f\"Branch = {self.source}\""
   ]
  },
  {
   "cell_type": "markdown",
   "id": "c0897536",
   "metadata": {},
   "source": [
    "이버에는 각각의 클래스에서 믹스인 클래스를 사용해 사전을 만듦  \n",
    "만약 사전이 없는 경우에는 초기화를 함  \n",
    "나머지는 동일한 로직  \n",
    "\n",
    "이렇게 구현하면 상속에도 문제가 없으므로 보다 실용적인 대안이 됨  "
   ]
  },
  {
   "cell_type": "markdown",
   "id": "84ec5b57",
   "metadata": {},
   "source": [
    "**<i>빌더</i>**  \n",
    "빌더 패턴은 객체의 복잡한 초기화를 추상화하는 흥미로운 패턴임  \n",
    "이 패턴은 언어의 특수성에 의존하지 않으므로 다른 언어와 마찬가지로 파이썬에도 똑같이 적용됨  \n",
    "간단한 경우에서부터 프레임워크, 라이브러리 또는 API의 디자인에까지 복잡한 케이스에 적용할 수 있음  \n",
    "디스크립터와 마찬가지로 여러 사용자가 사용하는 API 같은 것을 노출하는 경우에만 구현해야 함  \n",
    "\n",
    "이 패턴의 큰 개념은 필요로하는 모든 객체를 직접 생성해주는 하나의 복잡한 객체를 만들어야 한다는 것임  \n",
    "사용자가 필요로 하는 모든 보조 객체를 직접 생성하여 메인 객체에 전달하는 것이 아니라 한 번에 모든 것을 처리해주는 추상화를 해야한다는 것  빌더 객체는 필요한 모든 것들을 어떻게 생성하고 연결하는 지 알고 있음  \n",
    "빌더 객체는 클래스 메서드와 같은 사용자 인터페이스를 제공하며, 사용자는 최종 객체에 대한 모든 정보를 해당 인터페이스에 파라미터로 전달하면 됨  "
   ]
  },
  {
   "cell_type": "code",
   "execution_count": null,
   "id": "073df82d",
   "metadata": {},
   "outputs": [],
   "source": []
  }
 ],
 "metadata": {
  "kernelspec": {
   "display_name": "Python 3 (ipykernel)",
   "language": "python",
   "name": "python3"
  },
  "language_info": {
   "codemirror_mode": {
    "name": "ipython",
    "version": 3
   },
   "file_extension": ".py",
   "mimetype": "text/x-python",
   "name": "python",
   "nbconvert_exporter": "python",
   "pygments_lexer": "ipython3",
   "version": "3.9.12"
  }
 },
 "nbformat": 4,
 "nbformat_minor": 5
}
