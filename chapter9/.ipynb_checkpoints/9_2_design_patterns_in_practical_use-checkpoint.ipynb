{
 "cells": [
  {
   "cell_type": "markdown",
   "id": "ce73ddd0",
   "metadata": {},
   "source": [
    "# 실전 속의 디자인 패턴\n",
    "<br>\n",
    "\n",
    "**패턴 종류**\n",
    "- 생성(creational) 패턴\n",
    "- 구조(structural) 패턴 \n",
    "- 행동(behavioral) 패턴  \n",
    "\n",
    "염두에 둘 사항\n",
    "1. 일부 패턴은 파이썬 내부에서 자체적으로 구현되어 있으므로 보이지 않은 채로도 적절히 적용될 수 있음  \n",
    "2. 모든 패턴이 똑같이 일반적인 것은 아님\n",
    "     - 몇 개는 대단이 유용하여 빈번하게 언급되는 반면 다른 것들은 특별한 상황에서만 사용되는 것도 있음  \n",
    "     \n",
    "애플리케이션의 솔루션에 강제로 디자인 패턴을 적용해서는 안되며, 패턴이 출현할 때까지는 솔루션을 진화시키고 리팩토링하고 개선해야함  \n",
    "-> **디자인 패턴은 발명되는 것이 아니라 발견되는 것**  \n",
    "-> 코드에 반복적으로 같은 내용이 출현할 때 비로소 일반적이고 추상화된 클래스, 객체 또는 컴포넌트의 패턴이 발견되는 것  \n",
    "\n",
    "디자인 패턴은 상황을 설명할 수 있는 언어를 제공함  \n",
    "디자인 패턴을 통해 디자인 아이디어를 효과적으로 전달할 수 있음  \n",
    "두 명 이상의 소프트웨어 엔지니어가 동일한 어휘를 공유하고 있다면 한 명의 엔지니어가 \"빌더\" 라고만 하면 다른 엔지니어들은 별다른 설명 없이도 어떠한 클래스들이 있으며 각 클래스가 어떠한 관계를 가지는지 등을 바로 떠올릴 수 있음  \n",
    "\n",
    "앞으로 나오는 코드가 원래의 디자인 패턴 표준이나 구상과는 상이할 것인데, 그렇게 되는 이유는 다음과 같음  \n",
    "1. 예제를 통해 일반적인 디자인 이론을 살펴보는 것이 아니라 특정 시나리오에 대한 솔루션을 찾는 실용적인 접근법을 취했기 때문  \n",
    "2. 때로는 미묘하지만 때로는 큰 차이를 가진 파이썬의 특수성을 감안하여 패턴을 일반화하여 구현했기 때문"
   ]
  },
  {
   "cell_type": "markdown",
   "id": "8e203e47",
   "metadata": {},
   "source": [
    "## 생성(creational) 패턴\n",
    "**생성 패턴**: 객체를 인스턴스화 할 때의 복잡성을 최대한 추상화하기 위한 것  \n",
    "- 객체 초기화를 위한 파라미터를 결정하거나 초기화에 필요한 관련 객체를 준비하는 것 등의 모든 관련 작업을 단순화 하려는 것  \n",
    "- 더 간단한 인터페이스를 제공할 수 있고 사용자는 보다 안전하게 객체 생성 가능  \n",
    "- 객체 생성의 기본 형태는 디자인을 복잡하게 만들거나 문제를 유발할 수 있으므로 생성패턴을 통해 이를 제어함으로써 문제를 해결하고자 하는 것  \n",
    "\n",
    "객체 생성을 위한 다섯가지 패턴 중 주로 싱글턴 패턴을 피하기 위한 방법에 대해 살펴보고 특히 파이썬에서 많이 사용되는 Borg 패턴으로 대체한 후 기존 버전과에 차이점과 장점에 대해 알아보기  "
   ]
  },
  {
   "cell_type": "markdown",
   "id": "b4a78574",
   "metadata": {},
   "source": [
    "### 팩토리  \n",
    "파이썬의 핵심 기능 중 하나는 모든 것이 <span style=\"color:red\">객체</span>라는 것이며 따라서 모두 똑같이 취급될 수 있다는 것임  \n",
    "즉 클래스, 함수 또는 사용자 정의 객체 각각의 역할이 특별히 구분되어 있지 않아 모두 파라미터나 할당 등에 사용될 수 있음  \n",
    "이러한 이유로 파이썬에서는 팩토리 패턴이 별로 필요하지 않음.  \n",
    "간단히 객체들을 생성할 수 있는 함수를 만들 수 있으며, 생성하려는 클래스를 파라미터로 전달할 수 있음"
   ]
  },
  {
   "cell_type": "markdown",
   "id": "ae0c0ab8",
   "metadata": {},
   "source": [
    "### 싱글턴과 공유 상태(monostate)  \n",
    "싱글턴 패턴은 파이썬에 의해 완전히 추상화 되지 않은 패턴  \n",
    "대부분의 경우 이 패턴은 실제로 필요하지 않거나 나쁜 선택임  \n",
    "\n",
    "싱글턴의 문제  \n",
    "- 싱글턴은 객체 지향 소프트웨어를 위한 전역변수의 한 형태이며 결국은 나쁜 선택임  \n",
    "- 싱글턴은 단위 테스트가 어려움\n",
    "- 어떤 객체에 의해서 언제든지 수정될 수 있다는 사실은 예측하기 어렵다는 뜻이고, 실제로는 부작용이 큰 문제를 일으킬 수 있음  \n",
    "\n",
    "일반적으로 싱글턴은 가능하면 사용하지 않는 것이 좋음  \n",
    "어떤 극단적인 경우에 꼭 필요하다면 파이썬에서 이를 해결하는 가장 쉬운 방법은 모듈을 사용하는 것임  \n",
    "모듈에 객체를 생성할 수 있으며 모듈을 임포트한 모든 곳에서 사용할 수 있음  \n",
    "파이썬에서 모듈은 이미 싱글턴이라는 것을 의미함  \n",
    "즉, 여러번 임포트 하더라도 sys.modules에 로딩되는 것은 항상 한 개임  \n",
    "<br>\n",
    "\n",
    "#### 공유 상태  \n",
    "객체가 어떻게 호출, 생성 또는 초기화 되는지에 상관 없이 하나의 인스턴스만 갖는 싱글턴을 사용하는 것보다는 여러 인스턴스에서 사용할 수 있도록 데이터를 복제하는 것이 좋음  \n",
    "\n",
    "**<i>모노 스테이트 패턴</i>**(SNGMONO)의 주요 개념은 싱글턴인지 아닌지에 상관 없이 일반 객체처럼 많은 인스턴스를 만들 수 있어야 한다는 것임  \n",
    "이 패턴의 장점은 완전히 투명한 방법으로 정보를 동기화하기 대문에 사용자는 내부에서 어떻게 동작하는지 전혀 신경쓰지 않아도 된다는 점임\n",
    "이 패턴을 사용하는 것이 싱글턴을 사용하는 것보다 에러가 발생할 가능성이 적고 테스트가 어렵다거나 파생 클래스를 만들기 어렵다는 싱글턴의 단점을 해결할 수 있기 때문에 더욱 좋은 선택임  \n",
    "\n",
    "얼마나 많은 정보를 동기화해야 하는지 여부에 따라 다양한 수준으로 이 패턴을 적용할 수 있음  \n",
    "\n",
    "가장 간단한 형태로 모든 인스턴스에 하나의 속성만 공유될 필요가 있다고 할 때  \n",
    "-> 단지 클래스 변수를 사용하는 것처럼 쉽게 구현할 수 있으나 속성의 값을 업데이트하고 검색하는 올바른 인터페이스를 제공해야 함  \n",
    "\n",
    "Git 저장소에서 최신 태그의 코드를 가져오는 객체가 있다고 가정  \n",
    "이 객체의 인스턴스는 여러 개가 있을 수 있으며 어떤 클라이언트에서든 코드 가져오기 요청을 하면 tag라는 공통의 속성을 참조할 것임  \n",
    "tag는 언제든지 새 버전으로 업데이트될 수 있으며 fetch 요청을 하면 기존의 인스턴스뿐 아니라 새로운 인스턴스에서도 해당 버전을 참조해야 함  \n"
   ]
  },
  {
   "cell_type": "code",
   "execution_count": 8,
   "id": "bf18f356",
   "metadata": {},
   "outputs": [],
   "source": [
    "class GitFetcher:\n",
    "    _current_tag = None\n",
    "    \n",
    "    def __init__(self, tag):\n",
    "        self.current_tag = tag\n",
    "        \n",
    "    @property\n",
    "    def current_tag(self):\n",
    "        if self._current_tag is None:\n",
    "            raise AttributeError(\"tag가 초기화되지 않음\")\n",
    "        return self._current_tag\n",
    "    \n",
    "    @current_tag.setter\n",
    "    def current_tag(self, new_tag):\n",
    "        self.__class__._current_tag = new_tag\n",
    "        \n",
    "    def pull(self):\n",
    "        print(f\"{self.current_tag}에서 풀\")\n",
    "        return self.current_tag"
   ]
  },
  {
   "cell_type": "code",
   "execution_count": 22,
   "id": "12a8bc12",
   "metadata": {},
   "outputs": [
    {
     "name": "stdout",
     "output_type": "stream",
     "text": [
      "===0.1===\n",
      "0.1에서 풀\n",
      "0.1\n",
      "===0.2===\n",
      "0.2에서 풀\n",
      "0.2\n",
      "0.2에서 풀\n",
      "0.2\n",
      "===0.3===\n",
      "0.3에서 풀\n",
      "0.3\n",
      "0.3에서 풀\n",
      "0.3\n"
     ]
    }
   ],
   "source": [
    "f1 = GitFetcher(0.1)\n",
    "print(\"===0.1===\")\n",
    "print(f1.pull())\n",
    "f2 = GitFetcher(0.2)\n",
    "print(\"===0.2===\")\n",
    "print(f2.pull())\n",
    "print(f1.pull())\n",
    "f1.current_tag = 0.3\n",
    "print(\"===0.3===\")\n",
    "print(f2.pull())\n",
    "print(f1.pull())"
   ]
  },
  {
   "cell_type": "markdown",
   "id": "57810197",
   "metadata": {},
   "source": [
    "더 많은 속성이 필요하거나 공유 속성을 좀 더 캡슐화하고 싶다면 깔끔한 디자인을 위해 디스크립터를 이용할 수 있음  \n",
    "다음 코드와 같은 디스크립터를 사용하여 문제를 해결하면 좀 더 많은 코드가 필요한 것이 사실이지만, 구체적인 책임을 캡슐화하고 코드를 분리하여 각각이 응집력을 갖게 되므로 단일 책임 원칙을 준수할 수 있게 됨  "
   ]
  },
  {
   "cell_type": "code",
   "execution_count": 23,
   "id": "c72e8782",
   "metadata": {},
   "outputs": [],
   "source": [
    "class SharedAttribute:\n",
    "    def __init__(self, initial_value=None):\n",
    "        self.value = initial_value\n",
    "        self._name = None\n",
    "    \n",
    "    def __get__(self, instance, owner):\n",
    "        if instance is None:\n",
    "            return self\n",
    "        if self.value is None:\n",
    "            raise AttributeError(f\"{self._name} was never set\")\n",
    "        return self.value\n",
    "    \n",
    "    def __set__(self, instance, new_value):\n",
    "        self.value = new_value\n",
    "        \n",
    "    def __set_name__(self, owner, name):\n",
    "        self._name = name"
   ]
  },
  {
   "cell_type": "markdown",
   "id": "1430e25d",
   "metadata": {},
   "source": [
    "뿐만 아니라 디스크립터를 사용함으로써 재사용성 또한 높아질 수 있음  \n",
    "만약 이 로직을 반복해야 한다면 그저 새로운 디스크립터 객체를 멤버로 만들기만 하면 됨  \n",
    "DRY 원칙을 자연스럽게 준수 가능  \n",
    "\n",
    "동일한 로직을 현재 태그 기준이 아니라 현재 브랜치 기준으로 적용하고 싶으면 다른 코드는 그대로 두고 새로운 클래스 속성만 추가하면 됨  "
   ]
  },
  {
   "cell_type": "code",
   "execution_count": 24,
   "id": "1412400d",
   "metadata": {},
   "outputs": [],
   "source": [
    "class GitFetcher:\n",
    "    current_tag = SharedAttribute()\n",
    "    current_branch = SharedAttribute()\n",
    "    \n",
    "    def __init__(self, tag, branch=None):\n",
    "        self.current_tag = tag\n",
    "        self.current_branch = branch\n",
    "        \n",
    "    def pull(self):\n",
    "        print(f\"{self.current_tag}에서 풀\")\n",
    "        return self.current_tag"
   ]
  },
  {
   "cell_type": "markdown",
   "id": "091e90d5",
   "metadata": {},
   "source": [
    "지금까지는 새로운 접근 방법의 균형점과 트레이드 오프가 명확  \n",
    "새로운 구현은 좀 더 많은 코드를 사용하지만 재사용할 수 있으므로 장기적으로 보면 중복된 코드나 로직을 제거  \n",
    "\n",
    "이 솔루션의 또 다른 중요한 이점은 단위 테스트의 반복을 줄일 수 있다는 점임  \n",
    "이제 모든 클래스를 테스트할 필요 없이 디스크립터 객체에 대해서만 테스트하면 되기 때문에 전체 품질에 대해서도 보장 가능"
   ]
  },
  {
   "cell_type": "markdown",
   "id": "787a446e",
   "metadata": {},
   "source": [
    "**<i>borg 패턴</i>**  \n",
    "이전의 솔루션은 대부분의 경우에 잘 동작하지만 꼭 싱글턴을 사용해야하는 경우라면 최후의 더 나은 대안이 있음  \n",
    "이는 실제로도 모노 스테이트 패턴으로 파이썬에서는 borg 패턴이라고 부름  \n",
    "주요 개념은 같은 클래스의 모든 인스턴스가 모든 속성을 복제하는 객체를 만드는 것  \n",
    "*모든 속성이 완벽하게 복제된다는 것은 부작용 또한 염두에 둬야 한다는 것을 뜻함*  \n",
    "그러나 여전히 이 패턴은 싱글턴보다 많은 장점을 가짐  \n",
    "\n",
    "이 예제에서는 이전의 객체를 두 개로 나눔\n",
    "1. Git 태그에 기반을 두어 동작\n",
    "2. 브랜치 기반 동작"
   ]
  },
  {
   "cell_type": "code",
   "execution_count": 26,
   "id": "78d4a8c5",
   "metadata": {},
   "outputs": [],
   "source": [
    "class BaseFetcher:\n",
    "    def __init__(self, source):\n",
    "        self.source = source\n",
    "        \n",
    "class TagFetcher(BaseFetcher):\n",
    "    _attributes = {}\n",
    "    \n",
    "    def __init__(self, source):\n",
    "        self.__dict__ = self.__class__._attributes\n",
    "        super().__init__(source)\n",
    "        \n",
    "    def pull(self):\n",
    "        print(f\"{self.source} 태그에서 풀\")\n",
    "        return f\"Tag = {self.source}\"\n",
    "    \n",
    "class BranchFetcher(BaseFetcher):\n",
    "    _attributes = {}\n",
    "    \n",
    "    def __init__(self, source):\n",
    "        self.__dict__ = self.__class__._attributes\n",
    "        super().__init__(source)\n",
    "        \n",
    "    def pull(self):\n",
    "        print(f\"{self.source} 브랜치에서 풀\")\n",
    "        return f\"Branch = {self.source}\""
   ]
  },
  {
   "cell_type": "markdown",
   "id": "29346624",
   "metadata": {},
   "source": [
    "두 객체 모두 초기화 메서드를 공유하는 기본 클래스를 가짐  \n",
    "그러나 borg 로직을 제대로 구현하려면 코드를 약간 수정해야 함  \n",
    "속성을 저장할 사전을 클래스 속성으로 지정하고, 객체를 초기화할 때 모든 객체에서 바로 이 동일한 사전을 참조하도록 해야 함  \n",
    "\n",
    "사전은 레퍼런스 형태로 전달되는 변경 가능한 mutable 객체이므로 한 곳에서 사전을 업데이트하면 모든 객체에 동일하게 업데이트 됨  \n",
    "즉, 이런 타입의 새로운 객체에 대해서는 같은 사전을 사용할 것이므로 사전은 공통적으로 지속 업데이트 될 것임  \n",
    "\n",
    "의도치 않게 다른 클래스의 객체에도 영향을 미칠 수 있으므로 기본 클래스에 사전과 관련된 로직을 추가하면 안된다는 점에 주의  \n",
    "이 때문에 많은 사람들이 이것을 패턴 보다는 관용구에 가깝다고 생각함  \n",
    "\n",
    "DRY 원칙을 준수하면서 추상화를 하려면 다음과 같이 믹스인 클래스를 만들면 됨  "
   ]
  },
  {
   "cell_type": "code",
   "execution_count": 27,
   "id": "6ded7d15",
   "metadata": {},
   "outputs": [],
   "source": [
    "class SharedAllMixin:\n",
    "    def __init__(self, *args, **kwargs):\n",
    "        try:\n",
    "            self.__class__._attributes\n",
    "        except AttributeError:\n",
    "            self.__class__._attributes = {}\n",
    "                \n",
    "        self.__dict__ = self.__class__._attributes\n",
    "        super().__init__(*args, **kwargs)\n",
    "        \n",
    "class BaseFetcher:\n",
    "    def __init__(self, source):\n",
    "        self.source = source\n",
    "        \n",
    "class TagFetcher(SharedAllMixin, BaseFetcher):\n",
    "    def pull(self):\n",
    "        print(f\"{self.source} 태그에서 풀\")\n",
    "        return f\"Tag = {self.source}\"\n",
    "    \n",
    "class BranchFetcher(SharedAllMixin, BaseFetcher):\n",
    "    def pull(self):\n",
    "        print(f\"{self.source} 브랜치에서 풀\")\n",
    "        return f\"Branch = {self.source}\""
   ]
  },
  {
   "cell_type": "markdown",
   "id": "08d73cb4",
   "metadata": {},
   "source": [
    "이버에는 각각의 클래스에서 믹스인 클래스를 사용해 사전을 만듦  \n",
    "만약 사전이 없는 경우에는 초기화를 함  \n",
    "나머지는 동일한 로직  \n",
    "\n",
    "이렇게 구현하면 상속에도 문제가 없으므로 보다 실용적인 대안이 됨  "
   ]
  },
  {
   "cell_type": "markdown",
   "id": "5080f56e",
   "metadata": {},
   "source": [
    "**<i>빌더</i>**  \n",
    "빌더 패턴은 객체의 복잡한 초기화를 추상화하는 흥미로운 패턴임  \n",
    "이 패턴은 언어의 특수성에 의존하지 않으므로 다른 언어와 마찬가지로 파이썬에도 똑같이 적용됨  \n",
    "간단한 경우에서부터 프레임워크, 라이브러리 또는 API의 디자인에까지 복잡한 케이스에 적용할 수 있음  \n",
    "디스크립터와 마찬가지로 여러 사용자가 사용하는 API 같은 것을 노출하는 경우에만 구현해야 함  \n",
    "\n",
    "이 패턴의 큰 개념은 필요로하는 모든 객체를 직접 생성해주는 하나의 복잡한 객체를 만들어야 한다는 것임  \n",
    "사용자가 필요로 하는 모든 보조 객체를 직접 생성하여 메인 객체에 전달하는 것이 아니라 한 번에 모든 것을 처리해주는 추상화를 해야한다는 것  빌더 객체는 필요한 모든 것들을 어떻게 생성하고 연결하는 지 알고 있음  \n",
    "빌더 객체는 클래스 메서드와 같은 사용자 인터페이스를 제공하며, 사용자는 최종 객체에 대한 모든 정보를 해당 인터페이스에 파라미터로 전달하면 됨  "
   ]
  },
  {
   "cell_type": "markdown",
   "id": "4a6b8db3",
   "metadata": {},
   "source": [
    "## 구조(structural) 패턴  \n",
    "구조 패턴은 인터페이스를 복잡하게 하지 않으면서도 기능을 확장하여 더 강력한 인터페이스 또는 객체를 만들어야 하는 상황에 유용  \n",
    "이러한 패턴의 가장 큰 장점은 향상된 기능을 깔끔하게 구현할 수 있다는 것임  \n",
    "즉 여러 개의 객체를 조합하거나(e.g. 컴포지트 패턴) 작고 응집력 높은 인터페이스들을 조합하기만 하면 됨  \n",
    "\n",
    "### 어댑터 패턴  \n",
    "어댑터 패턴 = 래퍼(wrapper)  \n",
    "호환되지 않는 두 개 이상의 객체에 대한 인터페이스를 동시에 사용할 수 있게 함  \n",
    "\n",
    "개발을 하다 보면 일반적으로 다형성을 가진 여러 클래스나 모델을 사용하게 됨  \n",
    "> 예시> fetch() 메서드로 데이터를 가져오는 여러 객체가 있다고 할 때  \n",
    "fetch 인터페이스를 유지하면 클라이언트는 크게 코드를 바꿀 필요가 없음  <br><br>\n",
    "그러나 fetch 메서드를 가지지 않은 새로운 데이터 소스를 추가해야되는 순간이 오기 마련임  \n",
    "심지어 새로운 객체는 기존 인터페이스와 호환이 되지 않을 뿐만 아니라 다른 팀에서 작업한 API를 사용하는 등의 이유로 수정 권한이 없는 경우도 있음  \n",
    "이러한 새로운 객체를 직접 사용하는 대신에 해당 객체를 수용할 수 있는 새로운 인터페이스를 개발할 수 있음  \n",
    "\n",
    "새로운 인터페이스를 개발하는 2가지 방법\n",
    "1. **사용하려는 클래스를 상속 받는 클래스를 만들기**\n",
    "    - 상속 받은 클래스는(필요한 경우 파라미터나 서명을 포함하여) search 메서드를 래핑하는 새로운 별칭의 fetch 메서드를 가짐  \n",
    "    - 상속을 통해 외부 클래스를 임포트하고 새로운 메서드를 갖는 클래스를 만든 다음 해당 메서드를 호출  \n",
    "    - 외부 의존성 객체에 search() 메서드가 있다고 가정하고 이 메서드는 기존과 다른 방식으로 질의하기 때문에 하나의 파라미터만 있으며, 따라서 adapter 메서드는 기존 파라미터를 알맞게 변환해서 외부 함수를 호출해야 함  \n",
    "    ```python\n",
    "    from _adapter_base import UsernameLookup\n",
    "\n",
    "    class UserSource(UsernameLookup):\n",
    "        def fetch(self, user_id, username):\n",
    "            user_namespace = self._adapt_arguments(user_id, username)\n",
    "            return self.search(user_namespace)\n",
    "\n",
    "        @staticmethod\n",
    "        def _adapt_arguments(user_id, username):\n",
    "            return f\"{user_id}: {username}\"\n",
    "    ```\n",
    "    - 어떤 경우는 기존 클래스가 이미 다른 클래스에서 파생된 클래스일 수 있음. 그러나 파이썬은 다중 상속을 지원하므로 큰 문제가 되지는 않음  \n",
    "    - 그러나 상속으로 위의 문제를 해결하기에는 다음과 같은 단점이 있음\n",
    "        - 상속은 얼마나 많은 외부 라이브러리를 가져올 지 정확히 알기 어려움 => **강한 결합**을 만들고 융통성을 떨어뜨림\n",
    "        - 개념적으로 상속은 **is-a** 관계에 한정해서 적용하는 것이 바람직한데, 타사 라이브러리를 정확히 이해하지 못한 채로 상속을 받는다면 is-a 관계인지 분명하게 알 수 없기 때문에 문제가 생김<br><br>\n",
    "2. **컴포지션 사용하기**\n",
    "    - 컴포지션을 사용하는 것은 상속을 사용해 문제를 해결하는 것보다 나은 방법이 될 수 있음  \n",
    "    - 객체에 UsernameLookup 인스턴스를 제공할 수 있다면 다음 코드와 같이 파라미터를 해당 인스턴스에 전달하기만 하면 됨  \n",
    "    ```python\n",
    "    class UserSource:\n",
    "        ...\n",
    "        def fetch(self, user_id, username):\n",
    "            user_namespace = self._adapt_arguments(user_id, username)\n",
    "            return self.username_lookup.search(user_namespace)\n",
    "    ```\n",
    "    - 만약 여러 메서드에 대해서 위와 같은 작업을 해야 한다면 &#95;&#95;getattr&#95;&#95;() 매직 메서드를 사용하는 것과 같은 일반적인 방법을 생각해볼 수 있음 "
   ]
  },
  {
   "cell_type": "markdown",
   "id": "d2c39044",
   "metadata": {},
   "source": [
    "### 컴포지트(composite)\n",
    "프로그램에서 사용하는 객체는 내부적으로 또 다른 여러 객체를 사용해서 작업하게 되는데, 객체에는 아래와 같은 종류가 있음\n",
    "1. 잘 정의된 로직을 가진 기본 객체\n",
    "2. 기본 객체들을 묶어서 사용하는 컨테이너 객체\n",
    "\n",
    "문제는 이러한 기본 객체와 컨테이너 객체를 특별한 구분 없이 동일하게 사용하길 원하는 경우에 발생  \n",
    "\n",
    "객체는 구조화된 트리 형태로 볼 수 있음  \n",
    "- 기본 객체: 리프 노드\n",
    "- 컨테이너 객체: 중간 노드  \n",
    "\n",
    "클라이언트는 기본객체/컨테이너객체 중 아무거나 호출하여 결과를 얻고자 할 것임  \n",
    "컴포지트 객체도 클라이언트처럼 동작함  \n",
    "리프노드인지 중간노드인지에 상관 없이 해당 요청을 관련 노드가 처리할 수 있을 때까지 계속 전달  \n",
    "\n",
    "> 여러 상품을 보유하고 있는 온라인 매장의 예시  \n",
    "상품: 개별 상품 / 패키지 상품\n",
    "상품에는 개별 가격이 있고, 패키지 상품은 할인율을 감안하여 가격이 게산되어야 함  \n",
    "상품의 묶음을 나타내는 객체를 만들고, 전체 가격을 확인하는 기능 위임  \n",
    "전체 가격을 확인하려면 하위 상품이 없을 때까지 계속 상품의 가격을 확인하면 됨"
   ]
  },
  {
   "cell_type": "code",
   "execution_count": 32,
   "id": "a60b4992",
   "metadata": {},
   "outputs": [],
   "source": [
    "from typing import Iterable, Union\n",
    "\n",
    "class Product:\n",
    "    def __init__(self, name, price):\n",
    "        self._name = name\n",
    "        self._price = price\n",
    "        \n",
    "    @property\n",
    "    def price(self):\n",
    "        return self._price\n",
    "    \n",
    "class ProductBundle:\n",
    "    def __init__(self, name, perc_discount, *products: Iterable[Union[Product, \"ProductBundle\"]]) -> None:\n",
    "        self._name = name\n",
    "        self._perc_discount = perc_discount\n",
    "        self._products = products\n",
    "    \n",
    "    @property\n",
    "    def price(self):\n",
    "        total = sum(p.price for p in self._products)\n",
    "        return total * (1 - self._perc_discount)"
   ]
  },
  {
   "cell_type": "markdown",
   "id": "79ba21ed",
   "metadata": {},
   "source": [
    "프로퍼티를 통해 공용 인터페이스를 노출하는 대신 price는 private 속성으로 남겨둠  \n",
    "ProductBundle 클래스는 이 속성을 사용하여 포함된 제품의 모든 가격을 합산한 다음에 할인율을 적용함  \n",
    "\n",
    "이러한 객체 간의 유일한 차이점은 파라미터가 다르다는 것임  \n",
    "완벽하게 호환되게 하려면 동일한 인터페이스를 따르는 것처럼 흉내 내어 상품을 추가하는 메서드를 만들면 됨  \n",
    "이러한 추가 작업을 하지 않아도 된다는 점에서 작은 차이가 있더라도 컴포지트 패턴을 사용하는 장점이 있음 "
   ]
  },
  {
   "cell_type": "markdown",
   "id": "67129d00",
   "metadata": {},
   "source": [
    "### 데코레이터  \n",
    "여기서 언급되는 데코레이터 패턴은 5장에서 학습한 데코레이터와 전혀 다른 개념이므로 혼동해서는 안됨  \n",
    "\n",
    "이 패턴을 사용하면 상속을 하지 않고도 객체의 기능을 동적으로 확장할 수 있음  \n",
    "보다 유연한 객체를 만들려고 할 때 다중 상속의 좋은 대안이 될 수 있음  \n",
    "사용자가 객체에 적용할 수 있는 일련의 연산(데코레이션)을 정의할 수 있는 구조를 만들기  \n",
    "\n",
    "다음 예제는 전달된 파라미터를 사용해서 쿼리에 사용할 수 있는 사전 형태의 객체를 반환함  \n",
    "예를 들어 elasticsearch에 사용하기 위한 쿼리 같은 객체를 만드는 것인데, 패턴의 개념에 초점을 맞추기 위해 자세한 구현은 생략  \n",
    "\n",
    "가장 기본적인 형태는 제공된 파라미터를 기반으로 생성자에서 사전을 만들고 그것을 그대로 반환하는 것  \n",
    "클라이언트는 render() 메서드를 호출한다고 가정  "
   ]
  },
  {
   "cell_type": "code",
   "execution_count": 34,
   "id": "5de5a908",
   "metadata": {},
   "outputs": [],
   "source": [
    "class DictQuery:\n",
    "    def __init__(self, **kwargs):\n",
    "        self._raw_query = kwargs\n",
    "        \n",
    "    def render(self) -> dict:\n",
    "        return self._raw_query"
   ]
  },
  {
   "cell_type": "markdown",
   "id": "e4ebc509",
   "metadata": {},
   "source": [
    "이제 필터링이나 정규화 같은 다양한 방법의 변환을 거쳐 쿼리를 생성  \n",
    "데코레이터를 만들어 render 메서드에 적용할 수 있지만 런타임에서 변경하려면 유연하지 않을 수 있음  \n",
    "또는 이들 중 일부만 취하려고 하거나 제외하려는 경우도 문제 발생 가능  \n",
    "\n",
    "이를 해결하기 위해 새로운 디자인 채택이 필요  \n",
    "동일한 인터페이스를 가지고 여러 단계를 거쳐 결과를 향상할 수도 있고 결합도 할 수 있는 또 다른 객체 생성하기  \n",
    "이 객체들은 연결되어있으며 각각의 객체는 본래 의도에 더해 새로운 기능이 추가될 수 있음  \n",
    "이렇게 새로운 기능을 추가하는 단계가 바로 데코레이션 단계  \n",
    "\n",
    "파이썬은 덕 타이핑을 지원하기 때문에 새로운 기본 클래스를 만들어서 클래스 계층 구조에 새로 편입시킬 필요가 없음  \n",
    "그저 render() 메서드가 있는 새로운 클래스를 만드는 것만으로 충분`"
   ]
  },
  {
   "cell_type": "code",
   "execution_count": 39,
   "id": "ee1d990b",
   "metadata": {},
   "outputs": [],
   "source": [
    "class QueryEnhancer:\n",
    "    def __init__(self, query: DictQuery):\n",
    "        self.decorated = query\n",
    "        \n",
    "    def render(self):\n",
    "        return self.decorated.render()\n",
    "    \n",
    "class RemoveEmpty(QueryEnhancer):\n",
    "    def render(self):\n",
    "        original = super().render()\n",
    "        return {k: v for k, v in original.items() if v}\n",
    "    \n",
    "class CaseInsensitive(QueryEnhancer):\n",
    "    def render(self):\n",
    "        original = super().render()\n",
    "        return {k: v.lower() for k, v in original.items()}"
   ]
  },
  {
   "cell_type": "markdown",
   "id": "27741373",
   "metadata": {},
   "source": [
    "QueryEnhancer를 상속받은 클래스들은 공통된 인터페이스를 가지고 있으므로 상호 교환이 가능  \n",
    "이 객체는 데코레이팅된 객체를 수신하도록 설계됨  \n",
    "값을 받아서 변환한 다음 수정된 버전을 반환함  \n",
    "\n",
    "만약 False로 평가되는 값을 모두 지우고 쿼리에 알맞게 정규화를 하려면 다음과 같이 하면 됨"
   ]
  },
  {
   "cell_type": "code",
   "execution_count": 40,
   "id": "ec382a43",
   "metadata": {},
   "outputs": [
    {
     "name": "stdout",
     "output_type": "stream",
     "text": [
      "{'key': 'value', 'empty': '', 'none': None, 'upper': 'UPPERCASE', 'title': 'Title'}\n",
      "{'key': 'value', 'upper': 'uppercase', 'title': 'title'}\n"
     ]
    }
   ],
   "source": [
    "original = DictQuery(key=\"value\", empty=\"\", none=None, upper=\"UPPERCASE\", title=\"Title\")\n",
    "new_query = CaseInsensitive(RemoveEmpty(original))\n",
    "print(original.render())\n",
    "print(new_query.render())"
   ]
  },
  {
   "cell_type": "markdown",
   "id": "bf0cc219",
   "metadata": {},
   "source": [
    "파이썬의 동적인 특성을 활용해 다른 방법으로 데코레이터 패턴을 구현할 수도 있음  \n",
    "파이썬에서는 함수 또한 객체이므로 각각의 데코레이션 단계를 함수로 정의한 다음 기본 데코레이터 객체(QueryEnhancer)에 전달할 수도 있음  "
   ]
  },
  {
   "cell_type": "code",
   "execution_count": 43,
   "id": "4ffda860",
   "metadata": {},
   "outputs": [],
   "source": [
    "from typing import Iterable, Callable, Dict\n",
    "\n",
    "class QueryEnhancer:\n",
    "    def __init__(self, query: DictQuery, *decorators: Iterable[Callable[[Dict[str, str]], Dict[str, str]]]) -> None:\n",
    "        self._decorated = query\n",
    "        self._decorators = decorators\n",
    "        \n",
    "    def render(self):\n",
    "        current_result = self._decorated.render()\n",
    "        for deco in self._decorators:\n",
    "            current_result = deco(current_result)\n",
    "        return current_result"
   ]
  },
  {
   "cell_type": "markdown",
   "id": "06bddbfb",
   "metadata": {},
   "source": [
    "호환성을 위해 render() 메서드의 형태를 그대로 유지했기 때문에 클라이언트는 코드를 수정하지 않아도 됨  \n",
    "그러나 다음 코드와 같이 QueryEnhancer를 사용하는 방법은 약간 다름"
   ]
  },
  {
   "cell_type": "code",
   "execution_count": 46,
   "id": "cdf314f8",
   "metadata": {},
   "outputs": [
    {
     "data": {
      "text/plain": [
       "{'foo': 'bar', 'upper': 'uppercase', 'title': 'title'}"
      ]
     },
     "execution_count": 46,
     "metadata": {},
     "output_type": "execute_result"
    }
   ],
   "source": [
    "def remove_empty(original: Dict):\n",
    "    return {k: v for k, v in original.items() if v}\n",
    "\n",
    "def case_insensitive(original: Dict):\n",
    "    return {k: v.lower() for k, v in original.items()}\n",
    "\n",
    "query = DictQuery(foo=\"bar\", empty=\"\", none=None, upper=\"UPPERCASE\", title=\"Title\")\n",
    "QueryEnhancer(query, remove_empty, case_insensitive).render()"
   ]
  },
  {
   "cell_type": "markdown",
   "id": "6320adb6",
   "metadata": {},
   "source": [
    "이 예제에서 함수 기반의 접근법이 더 쉽게 이해될 수 있음  \n",
    "입력 데이터에 따라 보다 복잡한 형태로 데코레이팅을 하는 경우도 있음  \n",
    "이러한 경우에는 객체 지향적인 접근 방식을 사용하는 것이 좋음  \n",
    "특히 디자인에 명시적으로 표현하기 위해 지식별로 클래스를 만들고 계층 구조를 구성하려는 경우에는 더욱 객체 지향적ㅇ니 방식이 좋음  "
   ]
  },
  {
   "cell_type": "markdown",
   "id": "6b44d17f",
   "metadata": {},
   "source": [
    "### 파사드(Facade)\n",
    "파사드는 객체간 상호작용을 단순화하려는 많은 상황에서 유용  \n",
    "패턴은 여러 객체가 다대다 관계를 이루며 상호작용하는 경우에 사용됨  \n",
    "**각각의 객체에 대한 모든 연결을 만드는 대산 파사드 역할을 하는 중간 객체를 만드는 것**\n",
    "\n",
    "파사드는 허브 또는 단일 참조점(single point of reference)의 역할을 함  \n",
    "새로운 객체가 다른 객체에 연결하려고 할 때마다 연결해야 하는 N개의 객체에 대해 N개의 인터페이스를 만든ㄹ어야 한다면 너무 복잡할 것임  \n",
    "이럴 때 단지 파사드와 대화하게 하고 파사드에서 적절히 요청을 전달해주면 편리할 것  \n",
    "외부 오브젝트의 입장에서는 파사드 내부의 모든 내용이 완전히 불투명해야 함  \n",
    "\n",
    "이 패턴을 사용하면 \n",
    "- 객체의 결합력을 낮춰줄 수 있음\n",
    "- 인터페이스의 개수를 줄이고 보다 나은 캡슐화를 지원할 수 있게 됨\n",
    "- 보다 간단한 디자인을 유도  \n",
    "\n",
    "이 패턴은 도메인 문제를 개선하기 위해서 뿐만 아니라 보다 나은 API 설계를 위해서도 사용할 수 있음  \n",
    "이 패턴을 사용하여 단일 인터페이스를 제공하면 단일 진리점(single point of truth) 또는 코드 진입점(entry point for code) 역할을 하여 사용자가 노출된 기능을 쉽게 사용할 수 있음  \n",
    "뿐만 아니라 기능만 노출하고 나머지 모든 것은 인터페이스 뒤에 숨김으로써 세부 코드는 원하는 만큼 리팩토링을 해도 됨  \n",
    "-> 파사드 뒤에서 작업하는 한 자연스럽게 하위 호환성이 유지될 것이며 사용자는 그 영향을 받지 않을 것이기 때문  \n",
    "\n",
    "파사드는 클래스나 객체에 한정된 것이 아니라 패키지(모듈의 묶음)에도 적용 가능  \n",
    "파사드는 패키지의 레이아웃을 결정하는 데 사용할 수도 있음  \n",
    "-> 사용자에게 노출해야 하는 임포트 가능한 외부용 레이아웃과 직접 임포트해서는 안되는 내부용 레이아웃을 구분하는 것  \n",
    "\n",
    "파이썬에서 디렉토리의 패키지를 빌드할 때는 &#95;&#95;init&#95;&#95;.py 파일을 나머지 파일들과 함께 둠  \n",
    "이것이 모듈의 루트로서 파사드와 같은 역할을 수행  \n",
    "나머지 파일들은 익스포트할 객체를 정의하지만 클라이언트가 직접 임포트해서는 안됨  \n",
    "-> init 파일이 파일을 임포트하고 클라이언트는 그곳에서 다시 임포트해야됨  \n",
    "- 이렇게 함으로써 사용자에게 객체를 어디서 가져와야 할 지 단일 진입점을 제공  \n",
    "\n",
    "보다 중요한 것은 패키지를 구성하는 나머지 파일들을 마음껏 리팩토링하거나 재정렬 할 수 있따는 것  \n",
    "\n",
    "파이썬 자체에서 사용중인 파사드 패턴의 예로는 os 모듈이 있음  \n",
    "이 모듈은 OS의 기능을 그룹화 하지만 그 아래에는 POSIX(Portable Operating System Interface) PS 용 posix 모듈을 사용함  \n",
    "중요한 점은 이식성을 위해 posix 모듈을 직접 임포트하지 않고 대신 os 모듈을 임포트해야 한다는 것임  \n",
    "왜냐하면 os모듈이 어느 플랫폼에서 호출되었는지 확인하여 적절한 기능을 제공할 것이기 때문"
   ]
  },
  {
   "cell_type": "code",
   "execution_count": null,
   "id": "ffbff836",
   "metadata": {},
   "outputs": [],
   "source": []
  }
 ],
 "metadata": {
  "kernelspec": {
   "display_name": "Python 3 (ipykernel)",
   "language": "python",
   "name": "python3"
  },
  "language_info": {
   "codemirror_mode": {
    "name": "ipython",
    "version": 3
   },
   "file_extension": ".py",
   "mimetype": "text/x-python",
   "name": "python",
   "nbconvert_exporter": "python",
   "pygments_lexer": "ipython3",
   "version": "3.9.12"
  }
 },
 "nbformat": 4,
 "nbformat_minor": 5
}
