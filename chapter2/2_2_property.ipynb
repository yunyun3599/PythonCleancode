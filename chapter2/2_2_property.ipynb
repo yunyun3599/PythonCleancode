{
 "cells": [
  {
   "cell_type": "markdown",
   "id": "bcd718d9",
   "metadata": {},
   "source": [
    "# 프로퍼티, 속성과 객체 메서드의 다른 타입들\n",
    "python은 public, private, protected 프로퍼티를 가지는 다른 언어들과는 다르게 public만 존재함\n",
    "강제사항은 없으나 밑줄로 시작하는 속성은 해당 객체에 대해 private을 의미 (외부에서 호출하지 않기를 기대하는 것이며 금지하는 것은 아님)"
   ]
  },
  {
   "cell_type": "code",
   "execution_count": 2,
   "id": "ea6eb070",
   "metadata": {},
   "outputs": [
    {
     "name": "stdout",
     "output_type": "stream",
     "text": [
      "postgresql://localhost\n",
      "60\n",
      "{'source': 'postgresql://localhost', '_timeout': 60}\n"
     ]
    }
   ],
   "source": [
    "class Connector:\n",
    "    def __init__(self, source):\n",
    "        self.source = source\n",
    "        self._timeout = 60\n",
    "        \n",
    "conn = Connector(\"postgresql://localhost\")\n",
    "print(conn.source)\n",
    "print(conn._timeout)\n",
    "print(conn.__dict__)"
   ]
  },
  {
   "cell_type": "markdown",
   "id": "f455c8c3",
   "metadata": {},
   "source": [
    "위의 코드에서 source는 public이고 timeout은 private이나 실제로는 두가지 속성에 모두 접근 가능"
   ]
  },
  {
   "cell_type": "markdown",
   "id": "21b2660c",
   "metadata": {},
   "source": [
    "#### 일부 속성을 private로 만들 수 있다는 오해: 이중 밑줄 이용"
   ]
  },
  {
   "cell_type": "code",
   "execution_count": 3,
   "id": "7176de71",
   "metadata": {},
   "outputs": [
    {
     "name": "stdout",
     "output_type": "stream",
     "text": [
      "connecting with 60s\n"
     ]
    },
    {
     "ename": "AttributeError",
     "evalue": "'Connector' object has no attribute '__timeout'",
     "output_type": "error",
     "traceback": [
      "\u001b[1;31m---------------------------------------------------------------------------\u001b[0m",
      "\u001b[1;31mAttributeError\u001b[0m                            Traceback (most recent call last)",
      "Input \u001b[1;32mIn [3]\u001b[0m, in \u001b[0;36m<cell line: 11>\u001b[1;34m()\u001b[0m\n\u001b[0;32m      9\u001b[0m conn \u001b[38;5;241m=\u001b[39m Connector(\u001b[38;5;124m\"\u001b[39m\u001b[38;5;124mpostgresql://localhost\u001b[39m\u001b[38;5;124m\"\u001b[39m)\n\u001b[0;32m     10\u001b[0m conn\u001b[38;5;241m.\u001b[39mconnect()\n\u001b[1;32m---> 11\u001b[0m \u001b[38;5;28mprint\u001b[39m(\u001b[43mconn\u001b[49m\u001b[38;5;241;43m.\u001b[39;49m\u001b[43m__timeout\u001b[49m)\n",
      "\u001b[1;31mAttributeError\u001b[0m: 'Connector' object has no attribute '__timeout'"
     ]
    }
   ],
   "source": [
    "class Connector:\n",
    "    def __init__(self, source):\n",
    "        self.source = source\n",
    "        self.__timeout = 60\n",
    "        \n",
    "    def connect(self):\n",
    "        print(\"connecting with {0}s\".format(self.__timeout))\n",
    "        \n",
    "conn = Connector(\"postgresql://localhost\")\n",
    "conn.connect()\n",
    "print(conn.__timeout)"
   ]
  },
  {
   "cell_type": "markdown",
   "id": "8844b53f",
   "metadata": {},
   "source": [
    "위처럼 timeout 속성을 숨겼으므로 timeout이 private이라고 생각할 수 있으나 위에서 난 에러는 Attribute에러로 __timeout이라는 속성이 존재하지 않는다는 내용  \n",
    "밑줄 두개를 이용하면 파이썬은 다른 이름을 만듦: **이름 맹글링**\n",
    "- 만들어지는 속성의 이름 = \"_class-name__attribute-name\" = 위의 경우 \"&#95;Connector&#95;&#95;timeout\""
   ]
  },
  {
   "cell_type": "code",
   "execution_count": 4,
   "id": "c3307fd3",
   "metadata": {},
   "outputs": [
    {
     "name": "stdout",
     "output_type": "stream",
     "text": [
      "{'source': 'postgresql://localhost', '_Connector__timeout': 60}\n",
      "60\n",
      "30\n"
     ]
    }
   ],
   "source": [
    "print(vars(conn))\n",
    "print(conn._Connector__timeout)\n",
    "conn._Connector__timeout = 30\n",
    "print(conn._Connector__timeout)"
   ]
  },
  {
   "cell_type": "markdown",
   "id": "3e24f9a6",
   "metadata": {},
   "source": [
    "이름 맹글링을 통해 만들어진 이름으로 해당 변수에 접근 가능  \n",
    "\n",
    "**이중 밑줄을 사용하는 이유**  \n",
    "&emsp;= 여러번 확장되는 클래스의 매서드를 이름 충돌 없이 오버라이드 하기 위함  \n",
    "    \n",
    "이중 밑줄은 파이썬스러운 코드가 아니므로 속성을 private으로 정의하려는 경우 하나의 밑줄을 사용할 것!"
   ]
  },
  {
   "cell_type": "markdown",
   "id": "903619ac",
   "metadata": {},
   "source": [
    "### 프로퍼티\n",
    "객체에 값을 저장하거나 객체의 상태나 다른 속성의 값을 기반으로 계산을 수행하려고 할 때 프로퍼티를 사용하는 것은 좋은 선택  \n",
    "\n",
    "**프로퍼티**: 객체의 어떤 속성에 대한 접근을 제어하려는 경우 사용  \n",
    "- 다른 프로그래밍 언어와 달리 접근 메서드(getter, setter)를 사용하지 않고 프로퍼티를 사용\n",
    "- 프로퍼티는 명렁-쿼리 분리 원칙(command and query separation, 상태 변경과 값 반환을 위한 객체의 메서드는 따로 있어야 한다)을 따르기 좋은 방법\n",
    "- @property 데코레이터 = 무언가에 응답하기 위한 쿼리\n",
    "- @proptert_name.setter = 무언가를 하기 위한 커맨드"
   ]
  },
  {
   "cell_type": "code",
   "execution_count": 12,
   "id": "cab0a5f5",
   "metadata": {},
   "outputs": [],
   "source": [
    "import re\n",
    "\n",
    "EMAIL_FORMAT = re.compile(r\"[^@]+@[^@]+[^@]+\")\n",
    "\n",
    "def is_valid_email(potentially_valid_email: str):\n",
    "    return re.match(EMAIL_FORMAT, potentially_valid_email) is not None\n",
    "\n",
    "class User:\n",
    "    def __init__(self, username):\n",
    "        self.username = username\n",
    "        self._email = None\n",
    "        \n",
    "    @property\n",
    "    def email(self):\n",
    "        return self._email\n",
    "\n",
    "    @email.setter\n",
    "    def email(self, new_email):\n",
    "        if not is_valid_email(new_email):\n",
    "            raise ValueError(\"유효한 이메일이 아니므로 {0} 값을 사용할 수 없음\".format(new_email))\n",
    "        self._email = new_email"
   ]
  },
  {
   "cell_type": "code",
   "execution_count": 13,
   "id": "bdca65d0",
   "metadata": {},
   "outputs": [
    {
     "ename": "ValueError",
     "evalue": "유효한 이메일이 아니므로 jsmith@ 값을 사용할 수 없음",
     "output_type": "error",
     "traceback": [
      "\u001b[1;31m---------------------------------------------------------------------------\u001b[0m",
      "\u001b[1;31mValueError\u001b[0m                                Traceback (most recent call last)",
      "Input \u001b[1;32mIn [13]\u001b[0m, in \u001b[0;36m<cell line: 2>\u001b[1;34m()\u001b[0m\n\u001b[0;32m      1\u001b[0m u1 \u001b[38;5;241m=\u001b[39m User(\u001b[38;5;124m\"\u001b[39m\u001b[38;5;124mjsmith\u001b[39m\u001b[38;5;124m\"\u001b[39m)\n\u001b[1;32m----> 2\u001b[0m u1\u001b[38;5;241m.\u001b[39memail \u001b[38;5;241m=\u001b[39m \u001b[38;5;124m\"\u001b[39m\u001b[38;5;124mjsmith@\u001b[39m\u001b[38;5;124m\"\u001b[39m\n",
      "Input \u001b[1;32mIn [12]\u001b[0m, in \u001b[0;36mUser.email\u001b[1;34m(self, new_email)\u001b[0m\n\u001b[0;32m     17\u001b[0m \u001b[38;5;129m@email\u001b[39m\u001b[38;5;241m.\u001b[39msetter\n\u001b[0;32m     18\u001b[0m \u001b[38;5;28;01mdef\u001b[39;00m \u001b[38;5;21memail\u001b[39m(\u001b[38;5;28mself\u001b[39m, new_email):\n\u001b[0;32m     19\u001b[0m     \u001b[38;5;28;01mif\u001b[39;00m \u001b[38;5;129;01mnot\u001b[39;00m is_valid_email(new_email):\n\u001b[1;32m---> 20\u001b[0m         \u001b[38;5;28;01mraise\u001b[39;00m \u001b[38;5;167;01mValueError\u001b[39;00m(\u001b[38;5;124m\"\u001b[39m\u001b[38;5;124m유효한 이메일이 아니므로 \u001b[39m\u001b[38;5;132;01m{0}\u001b[39;00m\u001b[38;5;124m 값을 사용할 수 없음\u001b[39m\u001b[38;5;124m\"\u001b[39m\u001b[38;5;241m.\u001b[39mformat(new_email))\n\u001b[0;32m     21\u001b[0m     \u001b[38;5;28mself\u001b[39m\u001b[38;5;241m.\u001b[39m_email \u001b[38;5;241m=\u001b[39m new_email\n",
      "\u001b[1;31mValueError\u001b[0m: 유효한 이메일이 아니므로 jsmith@ 값을 사용할 수 없음"
     ]
    }
   ],
   "source": [
    "u1 = User(\"jsmith\")\n",
    "u1.email = \"jsmith@\""
   ]
  },
  {
   "cell_type": "code",
   "execution_count": 14,
   "id": "0391d464",
   "metadata": {},
   "outputs": [
    {
     "name": "stdout",
     "output_type": "stream",
     "text": [
      "jsmith@g.co\n"
     ]
    }
   ],
   "source": [
    "u1.email = \"jsmith@g.co\"\n",
    "print(u1.email)"
   ]
  },
  {
   "cell_type": "code",
   "execution_count": null,
   "id": "f1e07bd9",
   "metadata": {},
   "outputs": [],
   "source": []
  }
 ],
 "metadata": {
  "kernelspec": {
   "display_name": "Python 3 (ipykernel)",
   "language": "python",
   "name": "python3"
  },
  "language_info": {
   "codemirror_mode": {
    "name": "ipython",
    "version": 3
   },
   "file_extension": ".py",
   "mimetype": "text/x-python",
   "name": "python",
   "nbconvert_exporter": "python",
   "pygments_lexer": "ipython3",
   "version": "3.9.12"
  }
 },
 "nbformat": 4,
 "nbformat_minor": 5
}
