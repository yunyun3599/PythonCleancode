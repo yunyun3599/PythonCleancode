{
 "cells": [
  {
   "cell_type": "markdown",
   "id": "81fcd137",
   "metadata": {},
   "source": [
    "# 이터러블 객체\n",
    "반복을 위하 정의한 로직을 사용해 자체 이터러블 구현  \n",
    "**이터러블**: &#95;iter&#95;&#95; 매직 메서드를 구현한 객체  \n",
    "**이터레이터**: &#95;&#95;next&#95;&#95;매직 메서드를 구현한 객체  \n",
    "\n",
    "#### 이터러블 프로토콜\n",
    "- 파이썬의 자체 프로토콜로 이터러블 프로토콜을 이용해 파이썬의 반복이 동작함\n",
    "```python\n",
    "for e in myobject:\n",
    "```\n",
    "\n",
    "위의 형태로 반복할 수 있는지 확인하기 위해 파이썬은 다음 두 가지를 차례대로 확인함\n",
    "- 객체가 &#95;&#95;next&#95;&#95;나 &#95;&#95;iter&#95;&#95;이터레이터 메서드 중 하나를 포함하는지 여부\n",
    "- 객체가 시퀀스이고 __len__과 __getitem__를 모두 가졌는지 여부\n",
    "\n",
    "<hr>"
   ]
  },
  {
   "cell_type": "markdown",
   "id": "4771b447",
   "metadata": {},
   "source": [
    "### 이터러블 객체 만들기\n",
    "객체를 반복하려고 하면 파이썬은 해당 객체의 iter() 함수를 호출  \n",
    "iter() 함수가 처음으로 하는 일은 해당 객체에 &#95;&#95;iter&#95;&#95; 메서드가 있는 지를 확인하고 있다면 &#95;&#95;iter&#95;&#95; 메서드를 실행  "
   ]
  },
  {
   "cell_type": "code",
   "execution_count": 5,
   "id": "d792b586",
   "metadata": {},
   "outputs": [],
   "source": [
    "# 일정 기간의 날짜를 하루 간격으롱 반복하는 객체의 코드\n",
    "\n",
    "from datetime import timedelta\n",
    "\n",
    "class DateRangeIterable:\n",
    "    \"\"\"자체 이터레이터 메서드를 가지고 있는 이터러블\"\"\"\n",
    "    \n",
    "    def __init__(self, start_date, end_date):\n",
    "        self.start_date = start_date\n",
    "        self.end_date = end_date\n",
    "        self._present_day = start_date\n",
    "        \n",
    "    def __iter__(self):\n",
    "        return self\n",
    "    \n",
    "    def __next__(self):\n",
    "        if self._present_day >= self.end_date:\n",
    "            raise StopIteration\n",
    "        today = self._present_day\n",
    "        self._present_day += timedelta(days=1)\n",
    "        return today"
   ]
  },
  {
   "cell_type": "code",
   "execution_count": 6,
   "id": "def44d00",
   "metadata": {},
   "outputs": [
    {
     "name": "stdout",
     "output_type": "stream",
     "text": [
      "2019-01-01\n",
      "2019-01-02\n",
      "2019-01-03\n",
      "2019-01-04\n"
     ]
    }
   ],
   "source": [
    "from datetime import date\n",
    "\n",
    "for day in DateRangeIterable(date(2019, 1, 1), date(2019, 1, 5)):\n",
    "    print(day)"
   ]
  },
  {
   "cell_type": "markdown",
   "id": "ee7371c0",
   "metadata": {},
   "source": [
    "__위의 코드에서는__\n",
    "1. 파이썬이 iter() 함수 호출\n",
    "1. iter() 함수는 &#95;&#95;iter&#95;&#95; 매직 메서드 호출\n",
    "1. &#95;&#95;iter&#95;&#95; 메서드는 self를 반환하고 있으므로 객체 자신이 이터러블임을 나타냄 => 루프의 각 단계에서마다 자신의 next() 함수를 호출\n",
    "1. next() 함수는 다시  &#95;&#95;next&#95;&#95; 메서드에 위임\n",
    "1. &#95;&#95;next&#95;&#95; 메서드는 요소를 어떻게 생산하고 하나씩 반환할 것인지 결정\n",
    "1. 더이상 생산할 것이 없을 경우 파이썬에게 StopIteration 예외를 발생시켜 전달  \n",
    "\n",
    "__for 루프의 작동 원리는 StopIteration이 발생할 때까지 next()를 호출하는 것__"
   ]
  },
  {
   "cell_type": "code",
   "execution_count": 11,
   "id": "d2389677",
   "metadata": {},
   "outputs": [
    {
     "name": "stdout",
     "output_type": "stream",
     "text": [
      "2019-01-01\n",
      "2019-01-02\n",
      "2019-01-03\n",
      "2019-01-04\n"
     ]
    },
    {
     "ename": "StopIteration",
     "evalue": "",
     "output_type": "error",
     "traceback": [
      "\u001b[1;31m---------------------------------------------------------------------------\u001b[0m",
      "\u001b[1;31mStopIteration\u001b[0m                             Traceback (most recent call last)",
      "Input \u001b[1;32mIn [11]\u001b[0m, in \u001b[0;36m<cell line: 6>\u001b[1;34m()\u001b[0m\n\u001b[0;32m      4\u001b[0m \u001b[38;5;28mprint\u001b[39m(\u001b[38;5;28mnext\u001b[39m(r))\n\u001b[0;32m      5\u001b[0m \u001b[38;5;28mprint\u001b[39m(\u001b[38;5;28mnext\u001b[39m(r))\n\u001b[1;32m----> 6\u001b[0m \u001b[38;5;28mprint\u001b[39m(\u001b[38;5;28;43mnext\u001b[39;49m\u001b[43m(\u001b[49m\u001b[43mr\u001b[49m\u001b[43m)\u001b[49m)\n",
      "Input \u001b[1;32mIn [5]\u001b[0m, in \u001b[0;36mDateRangeIterable.__next__\u001b[1;34m(self)\u001b[0m\n\u001b[0;32m     16\u001b[0m \u001b[38;5;28;01mdef\u001b[39;00m \u001b[38;5;21m__next__\u001b[39m(\u001b[38;5;28mself\u001b[39m):\n\u001b[0;32m     17\u001b[0m     \u001b[38;5;28;01mif\u001b[39;00m \u001b[38;5;28mself\u001b[39m\u001b[38;5;241m.\u001b[39m_present_day \u001b[38;5;241m>\u001b[39m\u001b[38;5;241m=\u001b[39m \u001b[38;5;28mself\u001b[39m\u001b[38;5;241m.\u001b[39mend_date:\n\u001b[1;32m---> 18\u001b[0m         \u001b[38;5;28;01mraise\u001b[39;00m \u001b[38;5;167;01mStopIteration\u001b[39;00m\n\u001b[0;32m     19\u001b[0m     today \u001b[38;5;241m=\u001b[39m \u001b[38;5;28mself\u001b[39m\u001b[38;5;241m.\u001b[39m_present_day\n\u001b[0;32m     20\u001b[0m     \u001b[38;5;28mself\u001b[39m\u001b[38;5;241m.\u001b[39m_present_day \u001b[38;5;241m+\u001b[39m\u001b[38;5;241m=\u001b[39m timedelta(days\u001b[38;5;241m=\u001b[39m\u001b[38;5;241m1\u001b[39m)\n",
      "\u001b[1;31mStopIteration\u001b[0m: "
     ]
    }
   ],
   "source": [
    "r = DateRangeIterable(date(2019, 1, 1), date(2019, 1, 5))\n",
    "print(next(r))\n",
    "print(next(r))\n",
    "print(next(r))\n",
    "print(next(r))\n",
    "print(next(r))"
   ]
  },
  {
   "cell_type": "markdown",
   "id": "9954064f",
   "metadata": {},
   "source": [
    "위의 코드의 경우 한 번 실행하면 끝의 날짜에 도달한 상태이므로 이후에 호출하면 계속 StopIteration 예외가 발생  \n",
    "두 번 이상 반복하고자 하면 첫번째 반복에서만 정상 작동하고 두번째부터는 작동하지 않음  \n",
    "\n",
    "아래의 예제에서 볼 수 있 듯 두번째 max에서는 에러가 발생함"
   ]
  },
  {
   "cell_type": "code",
   "execution_count": 12,
   "id": "2ac94c50",
   "metadata": {},
   "outputs": [
    {
     "name": "stdout",
     "output_type": "stream",
     "text": [
      "2019-01-01, 2019-01-02, 2019-01-03, 2019-01-04\n"
     ]
    },
    {
     "ename": "ValueError",
     "evalue": "max() arg is an empty sequence",
     "output_type": "error",
     "traceback": [
      "\u001b[1;31m---------------------------------------------------------------------------\u001b[0m",
      "\u001b[1;31mValueError\u001b[0m                                Traceback (most recent call last)",
      "Input \u001b[1;32mIn [12]\u001b[0m, in \u001b[0;36m<cell line: 3>\u001b[1;34m()\u001b[0m\n\u001b[0;32m      1\u001b[0m r1 \u001b[38;5;241m=\u001b[39m DateRangeIterable(date(\u001b[38;5;241m2019\u001b[39m, \u001b[38;5;241m1\u001b[39m, \u001b[38;5;241m1\u001b[39m), date(\u001b[38;5;241m2019\u001b[39m, \u001b[38;5;241m1\u001b[39m, \u001b[38;5;241m5\u001b[39m))\n\u001b[0;32m      2\u001b[0m \u001b[38;5;28mprint\u001b[39m(\u001b[38;5;124m\"\u001b[39m\u001b[38;5;124m, \u001b[39m\u001b[38;5;124m\"\u001b[39m\u001b[38;5;241m.\u001b[39mjoin(\u001b[38;5;28mmap\u001b[39m(\u001b[38;5;28mstr\u001b[39m, r1)))\n\u001b[1;32m----> 3\u001b[0m \u001b[38;5;28;43mmax\u001b[39;49m\u001b[43m(\u001b[49m\u001b[43mr1\u001b[49m\u001b[43m)\u001b[49m\n",
      "\u001b[1;31mValueError\u001b[0m: max() arg is an empty sequence"
     ]
    }
   ],
   "source": [
    "r1 = DateRangeIterable(date(2019, 1, 1), date(2019, 1, 5))\n",
    "print(\", \".join(map(str, r1)))\n",
    "max(r1)"
   ]
  },
  {
   "cell_type": "markdown",
   "id": "3c19dd42",
   "metadata": {},
   "source": [
    "문제 발생의 이유: __반복 프로토콜의 작동 방식__ 때문\n",
    "- 이터러블 객체는 이터레이터를 생성하고 이를 이용해 반복을 수행\n",
    "- 위에서 &#95;&#95;iter&#95;&#95;는 self를 반환했으나 호출될 때마다 새로운 이터레이터를 만들 수 있음"
   ]
  },
  {
   "cell_type": "code",
   "execution_count": 13,
   "id": "48f72dfa",
   "metadata": {},
   "outputs": [],
   "source": [
    "class DateRangeContainerIterable:\n",
    "    \"\"\"자체 이터레이터 메서드를 가지고 있는 이터러블\"\"\"\n",
    "    \n",
    "    def __init__(self, start_date, end_date):\n",
    "        self.start_date = start_date\n",
    "        self.end_date = end_date\n",
    "                \n",
    "    def __iter__(self):\n",
    "        current_day = self.start_date\n",
    "        while current_day < self.end_date:\n",
    "            yield current_day\n",
    "            current_day += timedelta(days=1)"
   ]
  },
  {
   "cell_type": "code",
   "execution_count": 16,
   "id": "61059755",
   "metadata": {},
   "outputs": [
    {
     "name": "stdout",
     "output_type": "stream",
     "text": [
      "2019-01-01, 2019-01-02, 2019-01-03, 2019-01-04\n",
      "max value: 2019-01-04\n"
     ]
    }
   ],
   "source": [
    "r1 = DateRangeContainerIterable(date(2019, 1, 1), date(2019, 1, 5))\n",
    "print(\", \".join(map(str, r1)))\n",
    "print(\"max value:\", max(r1))"
   ]
  },
  {
   "cell_type": "markdown",
   "id": "0f2e1e62",
   "metadata": {},
   "source": [
    "위의 코드에서 for 루프는 &#95;&#95;iter&#95;&#95;를 호출하고 &#95;&#95;iter&#95;&#95;는 다시 제너레이터를 생성함  \n",
    "이와 같은 형태의 객체를 __컨테이너 이터러블(container iterable)__이라고 한다\n",
    "\n",
    "___\n",
    "*참고*  \n",
    "yield 키워드는 제너레이터를 반환할 때 사용됨  \n",
    "파이썬에서 제너레이터는 여러 개의 데이터를 미리 만들어 놓지 않고 필요할 때마다 즉석에서 하나씩 만들어낼 수 있는 객체를 의미"
   ]
  },
  {
   "cell_type": "markdown",
   "id": "78e67f2e",
   "metadata": {},
   "source": [
    "# 시퀀스 만들기\n",
    "객체에 &#95;&#95;iter&#95;&#95; 메서드를 정의하지 않았지만 반복하기를 원하는 경우도 있는데, iter() 함수는 객체에 &#95;&#95;iter&#95;&#95;가 정의되어 있지 않으면 &#95;&#95;getitme&#95;&#95;을 찾고 없으면 TypeError를 발생시킴  \n",
    "\n",
    "\n",
    "위의 경우는 이터러블을 사용하므로 한 번에 하나의 날짜만 보관하여 메모리를 적게 사용하나 n번째 요소를 얻기 위한 시간 복잡도는 O(n)이다.   \n",
    "시퀀스로 구현하게 된다면 더 많은 메모리가 사용되지만 (모든 것을 한 번에 보관) 특정 요소를 가져오기 위한 인덱싱의 시간 복잡도는 O(1)이다."
   ]
  },
  {
   "cell_type": "code",
   "execution_count": 20,
   "id": "b99c0c47",
   "metadata": {},
   "outputs": [],
   "source": [
    "class DateRangeSequence:\n",
    "    def __init__(self, start_date, end_date):\n",
    "        self.start_date = start_date\n",
    "        self.end_date = end_date\n",
    "        self._range = self._create_range()\n",
    "        \n",
    "    def _create_range(self):\n",
    "        days = []\n",
    "        current_day = self.start_date\n",
    "        while current_day < self.end_date:\n",
    "            days.append(current_day)\n",
    "            current_day += timedelta(days=1)\n",
    "        return days\n",
    "    \n",
    "    def __getitem__(self, day_no):\n",
    "        return self._range[day_no]\n",
    "    \n",
    "    def __len__(self):\n",
    "        return len(self._range)"
   ]
  },
  {
   "cell_type": "code",
   "execution_count": 21,
   "id": "0cfb43f4",
   "metadata": {},
   "outputs": [
    {
     "name": "stdout",
     "output_type": "stream",
     "text": [
      "2019-01-01\n",
      "2019-01-02\n",
      "2019-01-03\n",
      "2019-01-04\n"
     ]
    }
   ],
   "source": [
    "s1 = DateRangeSequence(date(2019, 1, 1), date(2019, 1, 5))\n",
    "for day in s1:\n",
    "    print(day)"
   ]
  },
  {
   "cell_type": "markdown",
   "id": "2f4d6ba9",
   "metadata": {},
   "source": [
    "아래와 같이 음수 인덱스도 동작"
   ]
  },
  {
   "cell_type": "code",
   "execution_count": 23,
   "id": "2426b9b6",
   "metadata": {},
   "outputs": [
    {
     "name": "stdout",
     "output_type": "stream",
     "text": [
      "2019-01-01\n",
      "2019-01-04\n",
      "2019-01-04\n"
     ]
    }
   ],
   "source": [
    "print(s1[0])\n",
    "print(s1[-1])\n",
    "print(s1[3])"
   ]
  },
  {
   "cell_type": "code",
   "execution_count": null,
   "id": "68c45ebc",
   "metadata": {},
   "outputs": [],
   "source": []
  },
  {
   "cell_type": "code",
   "execution_count": null,
   "id": "fc0e5f56",
   "metadata": {},
   "outputs": [],
   "source": []
  }
 ],
 "metadata": {
  "kernelspec": {
   "display_name": "Python 3 (ipykernel)",
   "language": "python",
   "name": "python3"
  },
  "language_info": {
   "codemirror_mode": {
    "name": "ipython",
    "version": 3
   },
   "file_extension": ".py",
   "mimetype": "text/x-python",
   "name": "python",
   "nbconvert_exporter": "python",
   "pygments_lexer": "ipython3",
   "version": "3.9.12"
  }
 },
 "nbformat": 4,
 "nbformat_minor": 5
}
