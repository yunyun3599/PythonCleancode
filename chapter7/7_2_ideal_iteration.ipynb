{
 "cells": [
  {
   "cell_type": "markdown",
   "id": "1af61ec7",
   "metadata": {},
   "source": [
    "# 이상적인 반복\n",
    "- 파이썬에서 반복을 할 때 유용하게 사용할 수 있는 관용적인 코드  \n",
    "- 제너레이터 활용\n",
    "\n",
    "## 관용적인 반복 코드\n",
    "내장함수인 enumerate()는 이터러블을 입력받아 인덱스 번호와 원본의 원소를 튜플형태로 변환하여 enumerate 객체를 반환함"
   ]
  },
  {
   "cell_type": "code",
   "execution_count": 1,
   "id": "2c525212",
   "metadata": {},
   "outputs": [
    {
     "data": {
      "text/plain": [
       "[(0, 'a'), (1, 'b'), (2, 'c'), (3, 'd'), (4, 'e'), (5, 'f')]"
      ]
     },
     "execution_count": 1,
     "metadata": {},
     "output_type": "execute_result"
    }
   ],
   "source": [
    "list(enumerate(\"abcdef\"))"
   ]
  },
  {
   "cell_type": "markdown",
   "id": "5231a867",
   "metadata": {},
   "source": [
    "더 저수준에서 enumerate와 유사한 객체를 생성  \n",
    "이 객체는 단순히 시작 값을 입력하면 무한 시퀀스를 만드는 역할을 함  \n",
    "객체의 next 함수를 호출할 때마다 다음 시퀀스 값을 무제한 출력해줌"
   ]
  },
  {
   "cell_type": "code",
   "execution_count": 2,
   "id": "f09ee256",
   "metadata": {},
   "outputs": [],
   "source": [
    "class NumberSequence:\n",
    "    def __init__(self, start=0):\n",
    "        self.current = start\n",
    "    \n",
    "    def next(self):\n",
    "        current = self.current\n",
    "        self.current += 1\n",
    "        return current"
   ]
  },
  {
   "cell_type": "markdown",
   "id": "0b3fb542",
   "metadata": {},
   "source": [
    "이 인터페이스에 기반을 두어 클라이언트를 작성하면 명시적으로 next() 함수를 호출해야 함"
   ]
  },
  {
   "cell_type": "code",
   "execution_count": 3,
   "id": "5ce11ffb",
   "metadata": {},
   "outputs": [
    {
     "name": "stdout",
     "output_type": "stream",
     "text": [
      "0\n",
      "1\n",
      "10\n",
      "11\n"
     ]
    }
   ],
   "source": [
    "seq = NumberSequence()\n",
    "print(seq.next())\n",
    "print(seq.next())\n",
    "\n",
    "seq2 = NumberSequence(10)\n",
    "print(seq2.next())\n",
    "print(seq2.next())"
   ]
  },
  {
   "cell_type": "markdown",
   "id": "b4802684",
   "metadata": {},
   "source": [
    "이 코드로 enumerate() 함수를 사용하도록 재작성할 수는 없음  \n",
    "이는 일반 파이썬의 for 루프를 사용하기 위한 인터페이스를 지원하지 않기 때문  \n",
    "따라서 이터러블 형태의 파라미터로도 사용할 수 없음"
   ]
  },
  {
   "cell_type": "code",
   "execution_count": 4,
   "id": "dbc87f89",
   "metadata": {},
   "outputs": [
    {
     "ename": "TypeError",
     "evalue": "'NumberSequence' object is not iterable",
     "output_type": "error",
     "traceback": [
      "\u001b[1;31m---------------------------------------------------------------------------\u001b[0m",
      "\u001b[1;31mTypeError\u001b[0m                                 Traceback (most recent call last)",
      "Input \u001b[1;32mIn [4]\u001b[0m, in \u001b[0;36m<cell line: 1>\u001b[1;34m()\u001b[0m\n\u001b[1;32m----> 1\u001b[0m \u001b[38;5;28mlist\u001b[39m(\u001b[38;5;28;43mzip\u001b[39;49m\u001b[43m(\u001b[49m\u001b[43mNumberSequence\u001b[49m\u001b[43m(\u001b[49m\u001b[43m)\u001b[49m\u001b[43m,\u001b[49m\u001b[43m \u001b[49m\u001b[38;5;124;43m\"\u001b[39;49m\u001b[38;5;124;43mabcedf\u001b[39;49m\u001b[38;5;124;43m\"\u001b[39;49m\u001b[43m)\u001b[49m)\n",
      "\u001b[1;31mTypeError\u001b[0m: 'NumberSequence' object is not iterable"
     ]
    }
   ],
   "source": [
    "list(zip(NumberSequence(), \"abcedf\"))"
   ]
  },
  {
   "cell_type": "markdown",
   "id": "79e1faa9",
   "metadata": {},
   "source": [
    "위처럼 iterable 하지 않아 이터러블 형태의 파라미터로 사용할 수 없음을 확인할 수 있음  \n",
    "\n",
    "NumberSequence가 반복을 지원하지 않기 때문에 이와 같은 문제가 생기므로 이 문제를 해결하기 위해 &#95;&#95;iter&#95;&#95;() 매직 메서드를 구현하여 객체가 반복 가능하게 만들어야 함  \n",
    "또한 next() 메서드를 수정하여 &#95;&#95;next&#95;&#95; 매직 메서드를 구현하면 객체는 이터레이터가 됨"
   ]
  },
  {
   "cell_type": "code",
   "execution_count": 5,
   "id": "1dedf0ba",
   "metadata": {},
   "outputs": [],
   "source": [
    "class SequenceOfNumbers:\n",
    "    \n",
    "    def __init__(self, start=0):\n",
    "        self.current = start\n",
    "        \n",
    "    def __next__(self):\n",
    "        current = self.current\n",
    "        self.current += 1\n",
    "        return current\n",
    "    \n",
    "    def __iter__(self):\n",
    "        return self"
   ]
  },
  {
   "cell_type": "markdown",
   "id": "32604b45",
   "metadata": {},
   "source": [
    "이렇게 하면 요소를 반복할 수 있을 뿐만 아니라, next() 메서드를 호출할 필요도 없음  \n",
    "-> &#95;&#95;next&#95;&#95;() 메서드를 구현했으므로 next() 내장함수를 사용할 수 있기 때문"
   ]
  },
  {
   "cell_type": "code",
   "execution_count": 6,
   "id": "772fbb79",
   "metadata": {},
   "outputs": [
    {
     "data": {
      "text/plain": [
       "[(0, 'a'), (1, 'b'), (2, 'c'), (3, 'd'), (4, 'e'), (5, 'f')]"
      ]
     },
     "execution_count": 6,
     "metadata": {},
     "output_type": "execute_result"
    }
   ],
   "source": [
    "list(zip(SequenceOfNumbers(), \"abcdef\"))"
   ]
  },
  {
   "cell_type": "code",
   "execution_count": 7,
   "id": "cd1442dd",
   "metadata": {},
   "outputs": [
    {
     "name": "stdout",
     "output_type": "stream",
     "text": [
      "100\n",
      "101\n"
     ]
    }
   ],
   "source": [
    "seq = SequenceOfNumbers(100)\n",
    "print(next(seq))\n",
    "print(next(seq))"
   ]
  },
  {
   "cell_type": "markdown",
   "id": "df2e30a2",
   "metadata": {},
   "source": [
    "### next() 함수\n",
    "next() 내장함수는 이터러블을 다음 요소로 이동시키고 기존의 값을 반환함  \n",
    "만약 이터레이터가 더 이상의 값을 가지고 있지 않다면 **StopIteration** 예외 발생  \n",
    "**StopIteration** 예외는 반복이 끝났음을 나타내며 사용할 수 있는 요소가 더 이상 없음을 나타냄  "
   ]
  },
  {
   "cell_type": "code",
   "execution_count": 9,
   "id": "83a2ae6f",
   "metadata": {},
   "outputs": [
    {
     "name": "stdout",
     "output_type": "stream",
     "text": [
      "h\n",
      "e\n",
      "l\n",
      "l\n",
      "o\n"
     ]
    },
    {
     "ename": "StopIteration",
     "evalue": "",
     "output_type": "error",
     "traceback": [
      "\u001b[1;31m---------------------------------------------------------------------------\u001b[0m",
      "\u001b[1;31mStopIteration\u001b[0m                             Traceback (most recent call last)",
      "Input \u001b[1;32mIn [9]\u001b[0m, in \u001b[0;36m<cell line: 7>\u001b[1;34m()\u001b[0m\n\u001b[0;32m      5\u001b[0m \u001b[38;5;28mprint\u001b[39m(\u001b[38;5;28mnext\u001b[39m(word))\n\u001b[0;32m      6\u001b[0m \u001b[38;5;28mprint\u001b[39m(\u001b[38;5;28mnext\u001b[39m(word))\n\u001b[1;32m----> 7\u001b[0m \u001b[38;5;28mprint\u001b[39m(\u001b[38;5;28;43mnext\u001b[39;49m\u001b[43m(\u001b[49m\u001b[43mword\u001b[49m\u001b[43m)\u001b[49m)\n",
      "\u001b[1;31mStopIteration\u001b[0m: "
     ]
    }
   ],
   "source": [
    "word = iter(\"hello\")\n",
    "print(next(word))\n",
    "print(next(word))\n",
    "print(next(word))\n",
    "print(next(word))\n",
    "print(next(word))\n",
    "print(next(word))"
   ]
  },
  {
   "cell_type": "markdown",
   "id": "a5188e08",
   "metadata": {},
   "source": [
    "StopIteration이 발생하는 문제를 해결하고 싶다면, StopIteration 예외를 캐치하는 것 외에도 next() 함수의 두번째 파라미터에 기본 값을 제공할 수도 있음  \n",
    "기본값을 제공하면 StopIteration을 발생시키는 것 대신 기본값을 반환함"
   ]
  },
  {
   "cell_type": "code",
   "execution_count": 10,
   "id": "9e2626c0",
   "metadata": {},
   "outputs": [
    {
     "data": {
      "text/plain": [
       "'default_value'"
      ]
     },
     "execution_count": 10,
     "metadata": {},
     "output_type": "execute_result"
    }
   ],
   "source": [
    "next(word, \"default_value\")"
   ]
  },
  {
   "cell_type": "markdown",
   "id": "8aa49bb0",
   "metadata": {},
   "source": [
    "### 제너레이터 사용하기\n",
    "앞의 코드는 제너레이터를 사용하여 훨씬 간단하게 작성할 수 있음  \n",
    "제너레이터를 사용하려면 클래스 대신 필요한 값을 yield 하는 함수를 만들면 됨"
   ]
  },
  {
   "cell_type": "code",
   "execution_count": 11,
   "id": "8f13702c",
   "metadata": {},
   "outputs": [],
   "source": [
    "def sequence(start=0):\n",
    "    while True:\n",
    "        yield start\n",
    "        start += 1"
   ]
  },
  {
   "cell_type": "markdown",
   "id": "25c5fa10",
   "metadata": {},
   "source": [
    "**yield** 키워드가 해당 함수를 제너레이터로 만들어 줌  \n",
    "위의 함수는 제너레이터이기 때문에 무한 루프를 사용해도 안전함  \n",
    "제너레이터 함수가 호출되면 yield 문장을 만나기 전까지 실행되고 값을 생성한 후 그 자리에서 멈춤"
   ]
  },
  {
   "cell_type": "code",
   "execution_count": 12,
   "id": "5f5449ac",
   "metadata": {},
   "outputs": [
    {
     "name": "stdout",
     "output_type": "stream",
     "text": [
      "10\n",
      "11\n"
     ]
    },
    {
     "data": {
      "text/plain": [
       "[(0, 'a'), (1, 'b'), (2, 'c'), (3, 'd'), (4, 'e'), (5, 'f')]"
      ]
     },
     "execution_count": 12,
     "metadata": {},
     "output_type": "execute_result"
    }
   ],
   "source": [
    "seq = sequence(10)\n",
    "print(next(seq))\n",
    "print(next(seq))\n",
    "list(zip(sequence(), \"abcdef\"))"
   ]
  },
  {
   "cell_type": "markdown",
   "id": "61feb3e0",
   "metadata": {},
   "source": [
    "### Itertools\n",
    "이터레이션이 파이썬의 중요한 컴포넌트이기 때문에 이터러블로 작업하면 코드가 파이썬과 더 어울린다는 장점이 있음  \n",
    "itertools 모듈을 사용하면 이터러블의 기능을 온전히 활용할 수 있음  \n",
    "위에서 사용한 sequence() 제너레이터는 itertoosl.count()와 유사  \n",
    "\n",
    "이터레이터, 제너레이터, itertools를 연결하여 새로운 객체를 만드는 것도 가능함  \n",
    "앞 예제에서 구매 이력 지표를 계산할 때 특정 기준을 넘은 값에 대해서만 연산을 하는 기능을 넣기위해 가장 간단한 방법은 반복문 내에 조건을 추가하는 것\n",
    "\n",
    "아래의 process() 함수에 조건이 추가됨"
   ]
  },
  {
   "cell_type": "code",
   "execution_count": 25,
   "id": "4cf0f76f",
   "metadata": {},
   "outputs": [],
   "source": [
    "class PurchasesStats:\n",
    "    def __init__(self, purchases):\n",
    "        self.purchases = iter(purchases)\n",
    "        self.min_price: float = None\n",
    "        self.max_price: float = None\n",
    "        self._total_purchases_price: float = 0.0\n",
    "        self._total_purchases = 0\n",
    "        self._initialize()\n",
    "        \n",
    "    def _initialize(self):\n",
    "        try:\n",
    "            first_value = next(self.purchases)\n",
    "        except StopIteration:\n",
    "            raise ValueError(\"no values provided\")\n",
    "    \n",
    "    def process(self):\n",
    "        \"\"\"\n",
    "        반복문 내에 조건문을 아래와 같이 추가\n",
    "        \"\"\"\n",
    "        for purchase_value in self.purchases:\n",
    "            if purchase_value > 1000.0:\n",
    "                print(f\"too many items: {purchase_value}\")\n",
    "                continue\n",
    "            self._update_min(purchase_value)\n",
    "            self._update_max(purchase_value)\n",
    "            self._update_avg(purchase_value)\n",
    "        return self\n",
    "    \n",
    "    def _update_min(self, new_value: float):\n",
    "        if new_value < self.min_price:\n",
    "            self.min_price = new_value\n",
    "            \n",
    "    def _update_max(self, new_value: float):\n",
    "        if new_value > self.max_price:\n",
    "            self.max_price = new_value\n",
    "            \n",
    "    @property\n",
    "    def avg_price(self):\n",
    "        return self._total_purchases_price / self._total_purchases\n",
    "\n",
    "    def _update_avg(self, new_value: float):\n",
    "        self._total_purchases_price += new_value\n",
    "        self._total_purchases += 1\n",
    "        \n",
    "    def __str__(self):\n",
    "        return (\n",
    "            f\"{self.__class__.__name__}({self.min_price}, \"\n",
    "            f\"{self.max_price}, {self.avg_price})\"\n",
    "        )"
   ]
  },
  {
   "cell_type": "markdown",
   "id": "80cc487e",
   "metadata": {},
   "source": [
    "이와 같은 코드는 파이썬스럽지 못하며 지나치게 엄격함.  \n",
    "또한 위와 같은 코드는 기준 수치가 변경된다면 어떻게 해당 수치를 전달할지, 파라미터가 둘 이상 필요하면 어떻게 할지 등 고려할 사항이 많음  \n",
    "위의 객체의 책임은 구매 이력에 대하여 잘 정의된 지표 값을 계산하고 출력하는 것이므로 다른 요구사항을 위의 객체에 반영하는 것은 부적절함.  \n",
    "\n",
    "객체의 책임을 명확하게 하고 클라이언트의 요구로부터 독립시키기 위해 코드를 수정하는 대신 유지하고 클라잉언트 클래스의 요구사항이 무엇이든 그에 맞게 필터링하여 새로운 데이터를 만든다고 가정  \n",
    "1000개 넘게 구매한 이력의 처음 10개만 처리하려고 하면 다음과 같이 하면 됨"
   ]
  },
  {
   "cell_type": "code",
   "execution_count": 36,
   "id": "40ee2370",
   "metadata": {},
   "outputs": [],
   "source": [
    "from itertools import islice\n",
    "\n",
    "purchases = [1, 2, 3, 4, 5, 1001, 6, 7, 8, 9, 10, 11]\n",
    "purchases = islice(filter(lambda p: p > 1000, purchases), 10)\n",
    "\"\"\"\n",
    "for purchase in list(purchases):\n",
    "    print(purchase)\n",
    "하면 1001이 출력되어 purchases 내에 1001이 있음을 확인 가능\n",
    "\"\"\"\n",
    "stats = PurchasesStats(purchases).process()"
   ]
  },
  {
   "cell_type": "markdown",
   "id": "5c352d7a",
   "metadata": {},
   "source": [
    "이런 식으로 필터링을 해도 메모리의 손해는 없음  \n",
    "이는 모든 것이 제너레이터이므로 전체에서 필터링해 연산한 것처럼 보이지만 실제로는 하나씩 가져오므로 모든 것을 메모리에 올릴 필요가 없기 때문"
   ]
  },
  {
   "cell_type": "markdown",
   "id": "cbdada27",
   "metadata": {},
   "source": [
    "#### 이터레이터를 사용한 코드 간소화  \n",
    "이터레이터에 대해 살펴보았고 itertools 모듈까지 확인했으므로 앞의 예제를 간소화 할 수 있음"
   ]
  },
  {
   "cell_type": "code",
   "execution_count": 37,
   "id": "56f6e159",
   "metadata": {},
   "outputs": [],
   "source": [
    "def process_purchases(purchases):\n",
    "    min_, max_, avg = itertools.tee(purchases, 3)\n",
    "    return min(min_), max(max_), median(avg)"
   ]
  },
  {
   "cell_type": "markdown",
   "id": "845bc37b",
   "metadata": {},
   "source": [
    "이 예제에서 itertools.tee는 원래의 이터러블을 세 개의 새로운 이터러블로 분할하여 구매이력을 세 번 반복할 필요 없이 분할된 이터러블을 사용해 필요한 연산을 함  \n",
    "purchases 파라미터에 다른 이터러블 객체를 넘기면 itertoosl.tee 함수 덕분에 오직 한 번만 순회하게 됨  \n",
    "비어있는 시퀀스를 넣어도 min() 함수에서 ValueError를 발생시킬 것이므로 따로 ValueError 예외를 발생시키지 않아도 됨"
   ]
  },
  {
   "cell_type": "markdown",
   "id": "b316ca60",
   "metadata": {},
   "source": [
    "#### 중첩 루프\n",
    "경우에 따라 1차원 이상을 반복해서 값을 찾아야 할 때 가장 쉽게 해결하기 위해서 중첩루프를 사용할 수 있음  \n",
    "중첩루프는 값을 찾는 경우 break 키워드를 호출해야하는데 이런 경우 한 단계가 아니라 두 단계 이상을 벗어나야 하므로 정상적으로 동작하지 않음  \n",
    "플래그나 예외를 사용하는 것은 좋은 방법이 아니므로 가장 좋은 방법은 가능하면 중첩을 풀어 1차원 루프로 만드는 것임\n",
    "\n",
    "아래는 피해야 할 코드임"
   ]
  },
  {
   "cell_type": "code",
   "execution_count": 57,
   "id": "c6241b52",
   "metadata": {},
   "outputs": [],
   "source": [
    "def search_nested_bad(array, desired_value):\n",
    "    coords = None\n",
    "    for i, row in enumerate(array):\n",
    "        for j, cell in enumerate(row):\n",
    "            if cell==desired_value:\n",
    "                coords = (i, j)\n",
    "                break\n",
    "        if coords is not None:\n",
    "            break\n",
    "            \n",
    "    if coords is None:\n",
    "        raise ValueError(f\"{desired_value} not found\")\n",
    "        \n",
    "    logger.info(\"[%i, %i]에서 값 %r 찾음\" % (*coords, desired_value))\n",
    "    return coords"
   ]
  },
  {
   "cell_type": "markdown",
   "id": "1fe17363",
   "metadata": {},
   "source": [
    "다음은 종료 플래그를 사용하지 않은 보다 간단하고 컴팩트한 형태의 코드"
   ]
  },
  {
   "cell_type": "code",
   "execution_count": 58,
   "id": "fb213aff",
   "metadata": {},
   "outputs": [],
   "source": [
    "def _iterate_array2d(array2d):\n",
    "    for i, row in enumerate(array2d):\n",
    "        for j, cell in enumerate(row):\n",
    "            yield (i, j), cell\n",
    "            \n",
    "def search_nested(array, desired_value):\n",
    "    try:\n",
    "        coord = next(\n",
    "            coord \n",
    "            for (coord, cell) in _iterate_array2d(array) \n",
    "            if cell == desired_value\n",
    "        )\n",
    "    except StopIteration:\n",
    "        raise ValueError(f\"{desired_value} not found\")\n",
    "        \n",
    "    logger.info(\"[%i, %i]에서 값 %r 찾음\" % (*coord, desired_value))\n",
    "    return coord"
   ]
  },
  {
   "cell_type": "markdown",
   "id": "53e2f0f6",
   "metadata": {},
   "source": [
    "제너레이터를 통해 반복을 추상화 하였음.  \n",
    "지금은 2차원 배열을 사용했으나 더 많은 차원의 배열을 사용하는 경우에도 클라이언트는 그것에 대해 알 필요 없이 기존 코드를 그대로 사용하면 됨  "
   ]
  },
  {
   "cell_type": "code",
   "execution_count": null,
   "id": "1b0f9037",
   "metadata": {},
   "outputs": [],
   "source": []
  }
 ],
 "metadata": {
  "kernelspec": {
   "display_name": "Python 3 (ipykernel)",
   "language": "python",
   "name": "python3"
  },
  "language_info": {
   "codemirror_mode": {
    "name": "ipython",
    "version": 3
   },
   "file_extension": ".py",
   "mimetype": "text/x-python",
   "name": "python",
   "nbconvert_exporter": "python",
   "pygments_lexer": "ipython3",
   "version": "3.9.12"
  }
 },
 "nbformat": 4,
 "nbformat_minor": 5
}
