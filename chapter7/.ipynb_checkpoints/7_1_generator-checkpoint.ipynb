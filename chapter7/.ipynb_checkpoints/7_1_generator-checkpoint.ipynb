{
 "cells": [
  {
   "cell_type": "markdown",
   "id": "b1b04d29",
   "metadata": {},
   "source": [
    "#  제너레이터 만들기\n",
    "제너레이터는 파이썬에서 고성능이면서도 메모리를 적게 사용하는 반복을 위한 방법  \n",
    "제너레이터는 한 번에 하나씩 구성요소를 반환해주는 이터러블을 생성해주는 객체임  \n",
    "- 거대한 요소를 한꺼번에 메모리에 저장하는 대신 특정 요소를 어떻게 만드는 지 아는 객체를 만들어서 필요할 때마다 하나씩만 가져옴  \n",
    "- 게으른 연산(lazy computation을 통해 무거운 객체를 사용할 수 있게 함. 게으른 연산의 특성을 가졌기 때문에 무한 시퀀스를 사용 가능\n",
    "\n",
    "## 제너레이터 개요  \n",
    "**예제: 대규모의 구매 정보에서 최저 판매가, 최고 판매가, 평균 판매가를 구하는 것**  \n",
    "아래와 같이 두 개의 필드만 있는 csv 파일이 있다고 가정 \n",
    "\n",
    "|purchase_date|price|\n",
    "|:---:|:---:|\n",
    "|20220818|10,000| \n",
    "\n",
    "모든 구매 정보를 받아 필요한 지표를 구해주는 객체 생성  \n",
    "최솟값이나 최댓값 같은 지표는 min(), max() 같은 내장함수를 통해 쉽게 구할 수 있으나 어떠한 지표들은 단번에 구할 수 없고 모든 구매 이력을 반복해야 함  \n",
    "\n",
    "아래는 for 루프를 통해 각 단계에서 각 지표를 업데이트 하는 코드 (추후 제너레이터에 대한 학습 후 깔끔한 형태로 재구현)"
   ]
  },
  {
   "cell_type": "code",
   "execution_count": 2,
   "id": "050497c5",
   "metadata": {},
   "outputs": [],
   "source": [
    "class PurchasesStats:\n",
    "    def __init__(self, purchases):\n",
    "        self.purchases = iter(purchases)\n",
    "        self.min_price: float = None\n",
    "        self.max_price: float = None\n",
    "        self._total_purchases_price: float = 0.0\n",
    "        self._total_purchases = 0\n",
    "        self._initialize()\n",
    "        \n",
    "    def _initialize(self):\n",
    "        try:\n",
    "            first_value = next(self.purchases)\n",
    "        except StopIteration:\n",
    "            raise ValueError(\"no values provided\")\n",
    "            \n",
    "    def process(self):\n",
    "        for purchase_value in self.purchases:\n",
    "            self._update_min(purchase_value)\n",
    "            self._update_max(purchase_value)\n",
    "            self._update_avg(purchase_value)\n",
    "        return self\n",
    "    \n",
    "    def _update_min(self, new_value: float):\n",
    "        if new_value < self.min_price:\n",
    "            self.min_price = new_value\n",
    "            \n",
    "    def _update_max(self, new_value: float):\n",
    "        if new_value > self.max_price:\n",
    "            self.max_price = new_value\n",
    "            \n",
    "    @property\n",
    "    def avg_price(self):\n",
    "        return self._total_purchases_price / self._total_purchases\n",
    "\n",
    "    def _update_avg(self, new_value: float):\n",
    "        self._total_purchases_price += new_value\n",
    "        self._total_purchases += 1\n",
    "        \n",
    "    def __str__(self):\n",
    "        return (\n",
    "            f\"{self.__class__.__name__}({self.min_price}, \"\n",
    "            f\"{self.max_price}, {self.avg_price})\"\n",
    "        )"
   ]
  },
  {
   "cell_type": "markdown",
   "id": "68933fdf",
   "metadata": {},
   "source": [
    "위의 객체는 모든 구매 정보를 받아서 필요한 계산을 함.  \n",
    "아래의 함수는 모든 정보를 로드해서 어딘가에 담아서 반환해 주는 함수임"
   ]
  },
  {
   "cell_type": "code",
   "execution_count": 3,
   "id": "cd0421db",
   "metadata": {},
   "outputs": [],
   "source": [
    "def _load_purchases(filename):\n",
    "    purchases = []\n",
    "    with open(filename) as f:\n",
    "        for line in f:\n",
    "            *_, price_raw = line.partition(\",\")\n",
    "            purchases.append(float(price_raw))\n",
    "            \n",
    "    return purchases"
   ]
  },
  {
   "cell_type": "markdown",
   "id": "e4d2cac6",
   "metadata": {},
   "source": [
    "위의 코드는 파일에서 모든 정보를 읽어서 리스트에 저장하여 정상적인 결과를 반환하나 성능에 문제가 있음  \n",
    "-> 파일에 상당히 많은 데이터가 있다면 로드하는데 시간이 오래 걸리고 메인 메모리에 담지 못할 만큼 큰 데이터일 수 있음  \n",
    "\n",
    "위 코드는 한 번에 하나의 데이터만을 사용하고 있음  \n",
    "반복문을 돌면서 한 번에 하나의 데이터만 사용하므로 한 번에 모든 데이터를 읽어와서 메모리에 보관해야 할 이유가 없으므로 이 부분을 수정할 필요가 있음  \n",
    "\n",
    "이 상황은 **제너레이터**를 만듦으로써 해결할 수 있음  \n",
    "제너레이터를 통해 파일의 전체 내용을 리스트에 보관하는 대신에 필요한 값만 그때그때 가져오는 것임  "
   ]
  },
  {
   "cell_type": "code",
   "execution_count": 4,
   "id": "d1610d54",
   "metadata": {},
   "outputs": [],
   "source": [
    "def load_purchases(filename):\n",
    "    with open(filename) as f:\n",
    "        for line in f:\n",
    "            *_, price_raw = line.partition(\",\")\n",
    "            yield float(price_raw)"
   ]
  },
  {
   "cell_type": "markdown",
   "id": "a51e429a",
   "metadata": {},
   "source": [
    "이렇게 수정하면 메모리 사용량을 많이 떨어뜨릴 수 있음  \n",
    "-> 결과 담을 리스트 사라짐  \n",
    "-> return 문 사라짐  \n",
    "\n",
    "이 경우 load_purchases 함수를 제너레이터 함수 또는 단순히 제너레이터라고 부름  \n",
    "\n",
    "파이썬에서 어떤 함수라도 yield 키워드를 사용하면 제너레이터 함수가 됨  \n",
    "yield가 포함된 함수를 호출하면 제너레이터의 인스턴스를 만듦"
   ]
  },
  {
   "cell_type": "code",
   "execution_count": 5,
   "id": "ca590d28",
   "metadata": {},
   "outputs": [
    {
     "data": {
      "text/plain": [
       "<generator object load_purchases at 0x000001EEC72373C0>"
      ]
     },
     "execution_count": 5,
     "metadata": {},
     "output_type": "execute_result"
    }
   ],
   "source": [
    "load_purchases(\"file\")"
   ]
  },
  {
   "cell_type": "markdown",
   "id": "b81bc998",
   "metadata": {},
   "source": [
    "모든 제너레이터 객체는 이터러블임  \n",
    "이터러블은 for 루프와 함께 사용 가능  \n",
    "위에서 load&#95;purchase 함수를 제너레이터 함수로 변경했음에도 함수의 사용 코드(for 루프를 사용하여 지표를 계산하는 코드)는 그대로임  \n",
    "이터러블을 사용하면 for 루프의 다형성을 보장하는 강력한 추상화가 가능  \n",
    "\n",
    "##  제너레이터 표현식  \n",
    "제너레이터를 사용하면\n",
    "- 많은 메모리 절약 가능\n",
    "- 제너레이터는 이터레이터이므로 리스트나 튜플, 세트 등 많은 메모리를 필요로 하는 이터러블이나 컨테이너의 대안이 될 수 있음  \n",
    "\n",
    "comprehension에 의해 정의될 수 있는 리스트, 세트, 딕셔너리 처럼 제너레이터도 제너레이터 표현식으로 정의 가능  \n",
    "*comprehension = 이터러블 객체를 쉽게 생성하기 위한 기법으로* ```lc = [i for i in range (10)]```*과 같은 문장*\n",
    "\n",
    "제너레이터 표현식은 대괄호가 아닌 괄호를 이용하며 sum()이나 max()와 같이 이터러블 연산이 가능한 함수에 직접 전달할 수 있음"
   ]
  },
  {
   "cell_type": "code",
   "execution_count": 6,
   "id": "f5686398",
   "metadata": {},
   "outputs": [
    {
     "data": {
      "text/plain": [
       "[0, 1, 4, 9, 16, 25, 36, 49, 64, 81]"
      ]
     },
     "execution_count": 6,
     "metadata": {},
     "output_type": "execute_result"
    }
   ],
   "source": [
    "[x**2 for x in range(10)]"
   ]
  },
  {
   "cell_type": "code",
   "execution_count": 8,
   "id": "39ca7a70",
   "metadata": {},
   "outputs": [
    {
     "data": {
      "text/plain": [
       "<generator object <genexpr> at 0x000001EEC7237970>"
      ]
     },
     "execution_count": 8,
     "metadata": {},
     "output_type": "execute_result"
    }
   ],
   "source": [
    "(x**2 for x in range(10))"
   ]
  },
  {
   "cell_type": "code",
   "execution_count": 9,
   "id": "e38cf186",
   "metadata": {},
   "outputs": [
    {
     "data": {
      "text/plain": [
       "285"
      ]
     },
     "execution_count": 9,
     "metadata": {},
     "output_type": "execute_result"
    }
   ],
   "source": [
    "sum(x**2 for x in range(10))"
   ]
  },
  {
   "cell_type": "code",
   "execution_count": null,
   "id": "a91ef443",
   "metadata": {},
   "outputs": [],
   "source": []
  }
 ],
 "metadata": {
  "kernelspec": {
   "display_name": "Python 3 (ipykernel)",
   "language": "python",
   "name": "python3"
  },
  "language_info": {
   "codemirror_mode": {
    "name": "ipython",
    "version": 3
   },
   "file_extension": ".py",
   "mimetype": "text/x-python",
   "name": "python",
   "nbconvert_exporter": "python",
   "pygments_lexer": "ipython3",
   "version": "3.9.12"
  }
 },
 "nbformat": 4,
 "nbformat_minor": 5
}
