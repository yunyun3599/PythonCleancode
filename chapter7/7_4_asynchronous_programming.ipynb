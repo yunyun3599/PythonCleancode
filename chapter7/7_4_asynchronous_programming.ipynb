{
 "cells": [
  {
   "cell_type": "markdown",
   "id": "1fe27e85",
   "metadata": {},
   "source": [
    "# 비동기 프로그래밍\n",
    "여러 코루틴이 특정 순서로 동작하도록 스케줄링 할 수 있으며 일시 정지된 yield from 코루틴과 통신 가능  \n",
    "이러한 기능을 통해 얻을 수 있는 가장 큰 장점은 **논블로킹** 방식으로 병렬 I/O 작업을 할 수 있다는 것\n",
    "- 서드파티 라이브러리에서 구현한 저수준의 제너레이터 필요\n",
    "- 이 라이브러리들은 코루틴이 일시 중단된 동안 실제 I/O 처리를 함  \n",
    "- 코루틴이 정지된 동안 프로그램들은 다른 작업을 할 수 있어 효율적임  \n",
    "- 프로그램은 yield from 문장에 의해 중단되기도 하고 생산된 값을 받기도 하며 제어권을 주고 받음  \n",
    "\n",
    "코루틴과 제너레이터는 기술적으로는 동일하지만 의미적으로는 상이  \n",
    "**제너레이터**: 효율적인 반복을 원할 때\n",
    "**코루틴**: 논블로킹 I/O 작업을 원할 때  \n",
    "\n",
    "제너레이터와 코루틴의 차이는 있으나 파이썬의 동적 특성으로 인해 이러한 객체를 혼합해서 사용하다가 개발 마지막 단계에서 런타임 오류가 발생하기 도 함  \n",
    "앞서 확인했던 yield from 사용 예제 중\n",
    "1) chain 함수 예제 -> 객체들은 코루틴이 아니었으나 문제없이 잘 동작했음  \n",
    "2) 여러 코루틴에게 값을 보내고 예외를 던지고 값을 가져오는 예제 -> 코루틴 이용  \n",
    "위 두가지 예제는 명백히 다른 성격의 예제이나 다음과 같은 코드를 보면 반환하는 객체가 무엇인지 명확하지 않음  \n",
    "```python\n",
    "result = yield from iterable_or_awaitable()\n",
    "```\n",
    "iterable_or_awaitable이 반환하는 것이 단순히 문자열과 같은 이터러블이어도 문법상 문제가 없음  \n",
    "혹은 실제 코루틴이어도 동작함  \n",
    "이런 유형의 문제들은 추후 큰 문제를 야기하므로 파이썬의 타이핑 시스템이 확장됨  \n",
    "\n",
    "파이썬 3.5 이전의 코루틴은 @coroutine 데코레이터가 적용된 제너레이터일 뿐이었으며 yield from 구문을 사용해 호출했음  \n",
    "그러나 이제는 코루틴이라는 새로운 타입이 추가됨  \n",
    "\n",
    "새로운 구문으로 await와 async def 또한 추가됨  \n",
    "- await: yield from을 대신하기 위한 용도로 awaitable 객체에 대해서만 동작함  \n",
    "    - 코루틴은 awaitable임\n",
    "    - awaitable 인터페이스를 따르지 않는 객체에 await를 호출하면 예외 발생\n",
    "- async def는 @coroutine 데코레이터를 대신하여 코루틴을 정의하는 새로운 방법임  \n",
    "    - 호출 시 실제로 객체를 만들어 코루틴 인스턴스를 반환\n",
    "    \n",
    "파이썬에서 비동기 프로그래밍을 한다는 것은 일련의 코루틴을 관리하는 이벤트 루프가 있다는 뜻임 (이벤트 루프라 하면 지금은 표준 라이브러리에 추가된 asyncio를 뜻하나 동일한 일을 할 수 있는 다른 라이브러리들도 많이 존재함)  \n",
    "일련의 코루틴들은 이벤트 루프에 속하며, 이벤트 루프의 스케줄링 메커니즘에 따라 호출됨  \n",
    "각각의 코루틴이 실행되면 사용자가 작성한 내부 코드가 실행되고 다시 이벤트 루프에 제어권을 반납하려면 await <coroutine>을 호출하면 됨  \n",
    "await <coroutine>은 yield처럼 호출자에 제어권을 넘겨줌으로써 이벤트 루프가 작업을 비동기적으로 관리할 수 있게 해줌  "
   ]
  },
  {
   "cell_type": "code",
   "execution_count": null,
   "id": "0199fbd6",
   "metadata": {},
   "outputs": [],
   "source": []
  }
 ],
 "metadata": {
  "kernelspec": {
   "display_name": "Python 3 (ipykernel)",
   "language": "python",
   "name": "python3"
  },
  "language_info": {
   "codemirror_mode": {
    "name": "ipython",
    "version": 3
   },
   "file_extension": ".py",
   "mimetype": "text/x-python",
   "name": "python",
   "nbconvert_exporter": "python",
   "pygments_lexer": "ipython3",
   "version": "3.9.12"
  }
 },
 "nbformat": 4,
 "nbformat_minor": 5
}
