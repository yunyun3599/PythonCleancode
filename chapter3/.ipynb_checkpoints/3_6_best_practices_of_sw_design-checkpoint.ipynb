{
 "cells": [
  {
   "cell_type": "markdown",
   "id": "4d7f1c1d",
   "metadata": {},
   "source": [
    "## 소프트웨어의 독립성 (orthogonality)\n",
    "- 모듈, 클래스 또는 함수를 변경하면 수정한 컴포넌트가 외부 세계에 영향을 미치지 않아야 함. (불가능하다면 영향을 최소화하려고 시도)  \n",
    "    - 영향 최소화를 위한 디자인 원칙으로는 관심사의 분리, 응집력, 컴포넌트의 격리 등이 있음\n",
    "- 변경(부작용)을 내부 문제로 만드는 것\n",
    "    - 어떤 객체의 메서드를 호출하는 것은 다른 관련 없는 객체의 내부 상태를 변경해서는 안된다는 것"
   ]
  },
  {
   "cell_type": "code",
   "execution_count": 3,
   "id": "6e9727c7",
   "metadata": {},
   "outputs": [],
   "source": [
    "def calculate_price(base_price: float, tax: float, discount: float) -> float:\n",
    "    return (base_price * (1+tax)) * (1 - discount)\n",
    "\n",
    "def show_price(price: float) -> str:\n",
    "    return \"$ {0:,.2f}\".format(price)\n",
    "\n",
    "def str_final_price(base_price: float, tax: float, discount: float, fmt_function=str) -> str:\n",
    "    return fmt_function(calculate_price(base_price, tax, discount))"
   ]
  },
  {
   "cell_type": "markdown",
   "id": "ae0fe2ee",
   "metadata": {},
   "source": [
    "위의 경우 calculate_price와 show_price는 독립성을 가짐 -> 하나를 변경해도 다른 하난느 변경되지 않음  \n",
    "마지막 함수는 아무것도 전달하지 않으면 문자열 변환을 기본 표현 함수로 사용하고 사용자 정의 함수를 전달하면 해당 함수를 사용해 문자열을 포맷함"
   ]
  },
  {
   "cell_type": "code",
   "execution_count": 4,
   "id": "31eeabaa",
   "metadata": {},
   "outputs": [
    {
     "name": "stdout",
     "output_type": "stream",
     "text": [
      "6.0\n",
      "1200.0\n",
      "$ 1,080.00\n"
     ]
    }
   ],
   "source": [
    "print(str_final_price(10, 0.2, 0.5))\n",
    "print(str_final_price(1000, 0.2, 0))\n",
    "print(str_final_price(1000, 0.2, 0.1, fmt_function=show_price))"
   ]
  },
  {
   "cell_type": "markdown",
   "id": "2f478b4e",
   "metadata": {},
   "source": [
    "코드의 두 부분이 독립적 = 다른 부분에 영향을 주지 않고 변경 가능 = 변경된 부분의 단위 테스트가 나머지 단위 테스트와도 독립적"
   ]
  },
  {
   "cell_type": "markdown",
   "id": "ad913f2a",
   "metadata": {},
   "source": [
    "## 코드 구조\n",
    "코드를 구조화하는 방법은 팀의 작업 효율성과 유지보수성에 영향을 미침  \n",
    "여러 정의(클래스, 함수, 상수 등)가 들어있는 큰 파일을 만드는 것은 좋지 않음  \n",
    "\n",
    "만약 코드의 여러 부분이 해당 파일의 정의에 종속되어 있어도 전체적인 호환성을 유지하면서 패키지로 나누는 것 가능  \n",
    "- &#95;&#95;init&#95;&#95;.py 파일을 가진 새 디렉토리를 만드는 것\n",
    "- &#95;&#95;init&#95;&#95;.py파일에 다른 파일에 있던 모든 정의를 가져옴으로써 호환성 보장  \n",
    "\n",
    "위의 방법은 다음과 같은 이유로 인해 더 효율적임\n",
    "1. 각 파일을 탐색하고 검색이 쉬움\n",
    "1. 모듈을 임포트 할 때 구문을 분석하고 메모리에 로드할 객체가 줄어듦\n",
    "1. 의존성이 줄었기 때문에 더 적은 모듈만 가져오면 됨  \n",
    "1. 프로젝트를 위한 컨벤션을 갖는 데 도움이 됨\n",
    "    - e.g. 모든 파일에서 상수를 정의하는 대신 프로젝트에서 사용할 상수 값을 저장할 특정한 파일을 만들고 다음과 같이 임포트하면 됨\n",
    "    > from myproject.constants import CONNECTION_TIMEOUT "
   ]
  },
  {
   "cell_type": "code",
   "execution_count": null,
   "id": "8669e1ed",
   "metadata": {},
   "outputs": [],
   "source": []
  }
 ],
 "metadata": {
  "kernelspec": {
   "display_name": "Python 3 (ipykernel)",
   "language": "python",
   "name": "python3"
  },
  "language_info": {
   "codemirror_mode": {
    "name": "ipython",
    "version": 3
   },
   "file_extension": ".py",
   "mimetype": "text/x-python",
   "name": "python",
   "nbconvert_exporter": "python",
   "pygments_lexer": "ipython3",
   "version": "3.9.12"
  }
 },
 "nbformat": 4,
 "nbformat_minor": 5
}
