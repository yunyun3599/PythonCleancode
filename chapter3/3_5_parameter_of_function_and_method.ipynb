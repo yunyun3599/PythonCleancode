{
 "cells": [
  {
   "cell_type": "markdown",
   "id": "11bff6f3",
   "metadata": {},
   "source": [
    "# 함수와 메서드의 인자\n",
    "파이썬 함수의 인자 전달 매커니즘을과 소프트웨어 엔지니어링에서의 모범 사례에서 발견되는 일반적인 원칙"
   ]
  },
  {
   "cell_type": "markdown",
   "id": "3b53ccd2",
   "metadata": {},
   "source": [
    "### 파이썬 함수 인자 동작방식\n",
    "#### 인자가 함수에 복사되는 방법\n",
    "- 모든 인자는 값에 의해 전달 됨(passed by a value)  \n",
    "- 함수에 값을 전달하면 함수의 서명에 있는 변수에 할당하고 나중에 사용\n",
    "- 변형 가능한(mutable) 객체를 전달하고 함수에서 값을 변경하면 함수 반환 시 실제 값이 변경되는 부작용이 생길 수 있음"
   ]
  },
  {
   "cell_type": "code",
   "execution_count": 1,
   "id": "9a34b85d",
   "metadata": {},
   "outputs": [
    {
     "name": "stdout",
     "output_type": "stream",
     "text": [
      "hello in function\n",
      "hello\n",
      "['h', 'e', 'l', 'l', 'o', ' ', 'i', 'n', ' ', 'f', 'u', 'n', 'c', 't', 'i', 'o', 'n']\n",
      "['h', 'e', 'l', 'l', 'o', ' ', 'i', 'n', ' ', 'f', 'u', 'n', 'c', 't', 'i', 'o', 'n']\n"
     ]
    }
   ],
   "source": [
    "def function(arg):\n",
    "    arg += \" in function\"\n",
    "    print(arg)\n",
    "    \n",
    "immutable = \"hello\"\n",
    "function(immutable)\n",
    "mutable = list(\"hello\")\n",
    "print(immutable)\n",
    "function(mutable)\n",
    "print(mutable)"
   ]
  },
  {
   "cell_type": "markdown",
   "id": "85dd139d",
   "metadata": {},
   "source": [
    "위의 예시에서 string 객체는 불변형(immutable) 타입이므로 arg += &#60;expression&#62;은 arg + &#60;expression&#62; 형태의 새로운 객체를 만들어서 arg에 다시 할당  \n",
    "이 시점에서 arg는 함수 스코프 내에 있는 로컬 변수이며 호출자의 원래 변수와는 관련 없음\n",
    "\n",
    "변형(mutable) 객체인 리스트를 전달하면 해당 문장은 다른 의미를 가짐  \n",
    "이 연산자는 원래 리스트 객체에 대한 잠조를 보유하고 있는 변수를 통해 값을 수정하므로 함수 내에서도 실제 값을 수정할 수 있음"
   ]
  },
  {
   "cell_type": "markdown",
   "id": "786fbef8",
   "metadata": {},
   "source": [
    "#### 가변인자\n",
    "가변 인자의 예시: 문자열 연산를 위해 &#37; 연산자 혹은 format 메서드를 사용하는 경우  \n",
    "가변 인자를 사용하려면 해당 인자를 패킹(packing)할 변수의 이름 앞에 별표(&#42;)를 사용"
   ]
  },
  {
   "cell_type": "code",
   "execution_count": 5,
   "id": "5a7683d2",
   "metadata": {
    "scrolled": true
   },
   "outputs": [
    {
     "name": "stdout",
     "output_type": "stream",
     "text": [
      "1\n",
      "2\n",
      "3\n"
     ]
    }
   ],
   "source": [
    "def f(first, second, third):\n",
    "    print(first)\n",
    "    print(second)\n",
    "    print(third)\n",
    "    \n",
    "l = [1, 2, 3]\n",
    "f(*l)"
   ]
  },
  {
   "cell_type": "markdown",
   "id": "9df16cae",
   "metadata": {},
   "source": [
    "리스트의 값을 각 위치별로 변수에 언패킹하는 방향으로도 동작 가능"
   ]
  },
  {
   "cell_type": "code",
   "execution_count": 8,
   "id": "ee968b79",
   "metadata": {},
   "outputs": [
    {
     "name": "stdout",
     "output_type": "stream",
     "text": [
      "1\n",
      "2\n",
      "3\n"
     ]
    }
   ],
   "source": [
    "a, b, c = [1, 2, 3]\n",
    "print(a)\n",
    "print(b)\n",
    "print(c)"
   ]
  },
  {
   "cell_type": "code",
   "execution_count": 9,
   "id": "93c7f179",
   "metadata": {},
   "outputs": [
    {
     "name": "stdout",
     "output_type": "stream",
     "text": [
      "요소: 1 - 나머지: [2, 3, 4, 5]\n",
      "요소: 5 - 나머지: [0, 1, 2, 3, 4]\n",
      "0\n",
      "[1, 2, 3, 4]\n",
      "5\n",
      "1 2 []\n"
     ]
    }
   ],
   "source": [
    "def show(e, rest):\n",
    "    print(\"요소: {0} - 나머지: {1}\".format(e, rest))\n",
    "    \n",
    "first, *rest = [1, 2, 3, 4, 5]\n",
    "show(first, rest)\n",
    "\n",
    "*rest, last = range(6)\n",
    "show(last, rest)\n",
    "\n",
    "first, *middle, last = range(6)\n",
    "print(first)\n",
    "print(middle)\n",
    "print(last)\n",
    "first, last, *empty = (1, 2)\n",
    "print(first, last, empty)"
   ]
  },
  {
   "cell_type": "markdown",
   "id": "e8b29c5c",
   "metadata": {},
   "source": [
    "함수 언패킹의 가장 좋은 사용 예 = **반복**  \n",
    "일련의 요소를 반복해야 하고 각 요소가 차례로 있다면 각 요소를 반복할 때 언패킹하는 것이 좋음.\n",
    "\n",
    "**데이터베이스에서 결과를 리스트로 받아서 사용자를 생성하는 예시**"
   ]
  },
  {
   "cell_type": "code",
   "execution_count": 11,
   "id": "51fd803d",
   "metadata": {},
   "outputs": [],
   "source": [
    "USERS = [(i, f\"first_name_{i} \", f\"last_name_{i}\") for i in range (1000)]\n",
    "\n",
    "class User:\n",
    "    def __init__(self, user_id, first_name, last_name):\n",
    "        self.user_id = user_id\n",
    "        self.first_name = first_name\n",
    "        self.last_name = last_name\n",
    "        \n",
    "    def bad_user_from_rows(dbrows) -> list:\n",
    "        \"\"\"DB 레코드에서 사용자를 생성하는 파이썬스럽지 않은 잘못된 사용 예\"\"\"\n",
    "        return [User(row[0], row[1], row[2]) for row in dbrows]\n",
    "    \n",
    "    def users_from_rows(dbrows) -> list:\n",
    "        \"\"\"DB 레코드에서 사용자 생성\"\"\"\n",
    "        return [\n",
    "            User(user_id, first_name, last_name)\n",
    "            for (user_id, first_name, last_name) in dbrows\n",
    "        ]"
   ]
  },
  {
   "cell_type": "markdown",
   "id": "9837b859",
   "metadata": {},
   "source": [
    "두 번째 함수(users_from_rows)가 훨씬 읽기 쉬우며 첫번째 함수(bad_user_from_rows)는 row[i] 형태의 데이터를 사용하므로 뜻하는 바를 알기 어려움  \n",
    "위와 같은 기능을 적절히 사용한 예시는 max 함수에서 찾아볼 수 있음"
   ]
  },
  {
   "cell_type": "code",
   "execution_count": 19,
   "id": "98af321b",
   "metadata": {},
   "outputs": [
    {
     "name": "stdout",
     "output_type": "stream",
     "text": [
      "max(iterable, *[, default=obj, key=func]) -> value\n",
      "max(arg1, arg2, *args, *[, key=func]) -> value\n",
      "\n",
      "With a single iterable argument, return its biggest item. The\n",
      "default keyword-only argument specifies an object to return if\n",
      "the provided iterable is empty.\n",
      "With two or more arguments, return the largest argument.\n"
     ]
    }
   ],
   "source": [
    "print(max.__doc__)"
   ]
  },
  {
   "cell_type": "markdown",
   "id": "bc4eea9a",
   "metadata": {},
   "source": [
    "비슷한 표기법으로는 이중별표(&#42;&#42;)를 키워드 인자에 사용할 수 있음  \n",
    "이중 별표를 사용하여 함수에 전달하면 파라미터의 이름으로 키를 사용하고, 파라미터의 값으로 사전의 값을 사용함\n",
    "```python\n",
    "function(**{\"key\": \"value\"})\n",
    "```\n",
    "위의 코드는 아래와 동일\n",
    "```python\n",
    "function(key=\"value\")\n",
    "```"
   ]
  },
  {
   "cell_type": "markdown",
   "id": "210eecbe",
   "metadata": {},
   "source": [
    "이중 별표로 시작하는 파라미터를 함수에 사용하면 반대 현상이 벌어짐  \n",
    "-> 키워드 제공 인자들이 사전으로 패킹됨"
   ]
  },
  {
   "cell_type": "code",
   "execution_count": 33,
   "id": "f0519a6e",
   "metadata": {},
   "outputs": [
    {
     "name": "stdout",
     "output_type": "stream",
     "text": [
      "{'key': 'value'}\n"
     ]
    }
   ],
   "source": [
    "def function(**kwargs):\n",
    "    print(kwargs)\n",
    "    \n",
    "function(key=\"value\")"
   ]
  },
  {
   "cell_type": "markdown",
   "id": "98e02295",
   "metadata": {},
   "source": [
    "### 함수 인자의 개수\n",
    "너무 많은 인자를 사용하는 함수나 메서드가 왜 나쁜 디자인의 징후인지 확인\n",
    "**대안**\n",
    "1. 일반적인 소프트웨어 디자인의 원칙을 사용 = **구체화(reification)**\n",
    "    - 전달하는 모든 인자를 포함하는 새로운 객체를 만들기\n",
    "    \n",
    "    \n",
    "2. 가변인자, 키워드 인자 등 파이썬의 특정 기능 사용\n",
    "    - 동적 서명을 가진 함수 만들기\n",
    "    - 매우 동적이어서 유지보수하기 어렵기 때문에 남용하지 않도록 주의  \n",
    "*파라미터 값에 대응하여 너무 많은 것들을 함수에서 처리하고 있다면 여러 작은 함수로 분리하는 것이 좋음*"
   ]
  },
  {
   "cell_type": "markdown",
   "id": "b3dbdf68",
   "metadata": {},
   "source": [
    "#### 함수 인자와 결합력\n",
    "함수 서명의 인수가 많을수록 호출자 함수와 밀접하게 결합될 가능성이 커짐  \n",
    "- f1 함수가 f2 호출을 위한 모든 정보를 갖고 있고 f2가 여러 개의 파라미터를 사용한다고 하면 f2는 추상화가 부족했을 것임  \n",
    "- f1은 f2에 필요한 모든 정보를 갖고 있으므로 내부적으로 무엇을 하는 지 알아낼 수 있으며 거의 자체적으로 수행 가능하므로 f2는 그리 많은 것을 추상화하지 않은 것  \n",
    "- f2는 다른 환경에서 사용하기가 어려워 f1에서만 유용하기 때문에 재사용성이 떨어짐\n",
    "\n",
    "#### 많은 인자를 취하는 작은 함수의 서명\n",
    "너무 많은 파라미터를 사용하는 함수에 대한 리팩토링\n",
    "- 공통 객체에 파라미터 대부분이 포함되어 있다면 쉽게 수정 가능\n",
    "```python\n",
    "track_request(request.headers, request.ip_addr, request.request_id)\n",
    "```\n",
    "위와 같은 경우 대부분의 파라미터가 request와 관련 있으므로 그냥 request를 파라미터로 전달하면 코드를 향상시킬 수 있음  \n",
    "\n",
    "*위와 같이 파라미터를 전달할 것을 권장하나 변경 가능한(mutable) 객체를 전달할 때는 부작용에 주의!! 전달받은 객체를 변경해서는 안됨*\n",
    "\n",
    "- 파라미터 그룹핑: 하나의 객체에 파라미터를 담는 것\n",
    "- 최후의 수단으로 함수의 서명을 변경하여 다양한 인자 허용 가능\n",
    "    - 인자가 많은데 &#42;args 또는 &#42;&#42;kwargs를 사용하면 더 이해하기 어려운 상황을 만들 수 있으므로 인터페이스에 대한 문서화 및 정확한 사용 확인 필수\n",
    "    - 키워드 인자나 가변인자를 사용하면 매우 좋은 docstring을 만들어 놓지 않는 한 나중에 해당 함수에 사용된 파라미터를 보고도 정확한 동작을 알기 어려움"
   ]
  },
  {
   "cell_type": "code",
   "execution_count": null,
   "id": "4ea4ef35",
   "metadata": {},
   "outputs": [],
   "source": []
  }
 ],
 "metadata": {
  "kernelspec": {
   "display_name": "Python 3 (ipykernel)",
   "language": "python",
   "name": "python3"
  },
  "language_info": {
   "codemirror_mode": {
    "name": "ipython",
    "version": 3
   },
   "file_extension": ".py",
   "mimetype": "text/x-python",
   "name": "python",
   "nbconvert_exporter": "python",
   "pygments_lexer": "ipython3",
   "version": "3.9.12"
  }
 },
 "nbformat": 4,
 "nbformat_minor": 5
}
