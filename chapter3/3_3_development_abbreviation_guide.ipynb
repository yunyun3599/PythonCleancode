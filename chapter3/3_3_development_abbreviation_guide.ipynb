{
 "cells": [
  {
   "cell_type": "markdown",
   "id": "c1bbc26e",
   "metadata": {},
   "source": [
    "# 개발 지침 약어"
   ]
  },
  {
   "cell_type": "markdown",
   "id": "041626cb",
   "metadata": {},
   "source": [
    "### DRY/OAOO\n",
    "- DRY: Do not Repeate Yourself\n",
    "- OAOO: Once and Only Once  \n",
    "\n",
    "코드에 있는 지식은 단 한번, 단 한 곳에 정의되어야 함  \n",
    "\n",
    "**코드 중복으로 인해 생기는 문제점**\n",
    "1. 오류가 발생하기 쉬움\n",
    "1. 비용이 비쌈: 변경하는 데 더 많은 시간이 소요됨  \n",
    "1. 신뢰성이 떨어짐  \n",
    "---\n",
    "코드 중복으로 인한 나쁜 코드의 예"
   ]
  },
  {
   "cell_type": "code",
   "execution_count": 1,
   "id": "d23e88e0",
   "metadata": {},
   "outputs": [],
   "source": [
    "def process_students_list(students):\n",
    "    students_ranking = sorted(students, key=lambda s: s.passed * 11 - s.failed * 5 - s.years * 2)\n",
    "    \n",
    "    # 학생별 순위 출력\n",
    "    for student in students_ranking:\n",
    "        print(\n",
    "            \"이름: {0}, 점수: {1}\".format(\n",
    "                student.name, \n",
    "                (student.passed * 11 - student.failed * 5 - student.years * 2)\n",
    "            ))"
   ]
  },
  {
   "cell_type": "markdown",
   "id": "2eb086b2",
   "metadata": {},
   "source": [
    "sorted 함수의 key로 사용되는 lambda가 특별한 도메인 지식을 나타내지만 아무런 정의가 없음  \n",
    "도메인 문제에 대한 지식이 사용된 경우 의미를 부여해야하므로 아래와 같이 코드를 바꾸는 것이 도움이 됨"
   ]
  },
  {
   "cell_type": "code",
   "execution_count": 2,
   "id": "0ea8cf8c",
   "metadata": {},
   "outputs": [],
   "source": [
    "def score_for_student(student):\n",
    "    return student.passed * 11 - student.failed * 5 - student.years * 2\n",
    "\n",
    "def process_students_list(students):\n",
    "    student_ranking = sorted(students, key=score_for_student)\n",
    "    \n",
    "    #학생별 순위 출력\n",
    "    for student in student_ranking:\n",
    "        print(\n",
    "            \"이름: {0}, 점수: {1}\".format(\n",
    "                student.name, score_for_student(student)\n",
    "            ))"
   ]
  },
  {
   "cell_type": "markdown",
   "id": "e881d0f7",
   "metadata": {},
   "source": [
    "### YAGNI\n",
    "= You Ain't Gonna Need It  \n",
    "= 굳이 필요 없는 추가 개발 하지 않기\n",
    "- 과잉 엔지니어링을 하지 않기 위해 솔루션 작성 시 계속 염두에 두어야 하는 원칙\n",
    "- 유지보수가 간으한 소프트웨어를 만드는 것은 미래의 요구사항을 예측하는 것이 아님  \n",
    "- 현재의 요구사항을 잘 해결하기 위한 소프트웨어를 작성하고 가능한 나중에 수정하기 쉽도록 작성하기"
   ]
  },
  {
   "cell_type": "markdown",
   "id": "e055963b",
   "metadata": {},
   "source": [
    "### KIS\n",
    "= Keep It Simple  \n",
    "=  소프트웨어 컴포넌트 설계 시 과잉 엔지니어링을 피하기\n",
    "- 문제를 올바르게 해결하는 최소한의 기능을 구현  \n",
    "\n",
    "아래 클래스는 제공된 키워드 파라미터 세트에서 네임 스페이스를 작성하지만 복잡한 코드 인터페이스를 가짐"
   ]
  },
  {
   "cell_type": "code",
   "execution_count": 5,
   "id": "d9e9801e",
   "metadata": {},
   "outputs": [],
   "source": [
    "class ComplicatedNamespace:\n",
    "    \"\"\"프로퍼티를 가진 객체를 초기화하는 복잡한 예제\"\"\"\n",
    "    \n",
    "    ACCEPTED_VALUES = (\"id_\", \"user\", \"location\")\n",
    "    \n",
    "    @classmethod\n",
    "    def init_with_data(cls, **data):\n",
    "        instance = cls()\n",
    "        for key, value in data.items():\n",
    "            if key in cls.ACCEPTED_VALUES:\n",
    "                setattr(instance, key, value)\n",
    "        return instance"
   ]
  },
  {
   "cell_type": "markdown",
   "id": "60d93a22",
   "metadata": {},
   "source": [
    "객체를 초기화하기 위해 추가 클래스 메서드를 만드는 것은 불필요  \n",
    "반복을 통해 setattr을 호출하는 것 역시 이상"
   ]
  },
  {
   "cell_type": "code",
   "execution_count": 7,
   "id": "ecb340fc",
   "metadata": {},
   "outputs": [
    {
     "name": "stdout",
     "output_type": "stream",
     "text": [
      "42 root 127.0.0.1\n",
      "False\n"
     ]
    }
   ],
   "source": [
    "cn = ComplicatedNamespace.init_with_data(id_=42, user=\"root\", location=\"127.0.0.1\", extra=\"excluded\")\n",
    "print(cn.id_, cn.user, cn.location)\n",
    "print(hasattr(cn, \"extra\"))"
   ]
  },
  {
   "cell_type": "markdown",
   "id": "8ee077be",
   "metadata": {},
   "source": [
    "초기화를 위해 init&#95;with&#95;data 라는 일반적이지 않은 메서드의 이름을 알아야 하는 것도 불편한 부부  \n",
    "파이썬에서 다른 객체를 초기화 할 때는 &#95;&#95;init&#95;&#95;메서드를 사용하는 것이 간편  \n",
    "\n",
    "---\n",
    "위의 예제는 아래처럼 바꾸는 것이 적절"
   ]
  },
  {
   "cell_type": "code",
   "execution_count": 8,
   "id": "2752365e",
   "metadata": {},
   "outputs": [],
   "source": [
    "class Namespace:\n",
    "    \"\"\"Create an object from keyword arguments\"\"\"\n",
    "    \n",
    "    ACCEPTED_VALUES = (\"id_\", \"user\", \"location\")\n",
    "    \n",
    "    def __init__(self, **data):\n",
    "        accepted_data = {\n",
    "            k: v for k, v in data.items() if k in self.ACCEPTED_VALUES\n",
    "        }\n",
    "        self.__dict__.update(accepted_data)"
   ]
  },
  {
   "cell_type": "markdown",
   "id": "3d7750e1",
   "metadata": {},
   "source": [
    "### EAFP/LBYL\n",
    "- EAFP: Easier to Ask Forgiveness than Permission  \n",
    "- LBYL: Look Before You Leap  \n",
    "\n",
    "**EAFP**는 일단 코드를 실행하고 실제 동작하지 않을 경우에 대응한다는 뜻  \n",
    "일반적으로는 코드를 실행하고 발생한 예외를 catch하고 except 블록에서 바로잡는 코드를 실행  \n",
    "\n",
    "**LBYL**은 도약하기 전에 무엇을 사용하려고 하는 지를 확인하라는 뜻  \n",
    "e.g) 파일을 사용하기 전에 먼저 파일을 사용할 수 있는 지를 확인\n",
    "```python\n",
    "if os.path.exists(filename):\n",
    "    with open(filename) as f:\n",
    "        ...\n",
    "```\n",
    "\n",
    "위의 방식은 EAFP방식으로 만들어진 파이썬스러운 방식은 아님  \n",
    "따라서 위의 코드를 아래와 같이 바꾸는 것이 적절  \n",
    "```python\n",
    "try:\n",
    "    with open(filename) as f:\n",
    "        ...\n",
    "except FileNotFoundError as e:\n",
    "    logger.error(e)\n",
    "```"
   ]
  },
  {
   "cell_type": "code",
   "execution_count": null,
   "id": "c2d422a7",
   "metadata": {},
   "outputs": [],
   "source": []
  }
 ],
 "metadata": {
  "kernelspec": {
   "display_name": "Python 3 (ipykernel)",
   "language": "python",
   "name": "python3"
  },
  "language_info": {
   "codemirror_mode": {
    "name": "ipython",
    "version": 3
   },
   "file_extension": ".py",
   "mimetype": "text/x-python",
   "name": "python",
   "nbconvert_exporter": "python",
   "pygments_lexer": "ipython3",
   "version": "3.9.12"
  }
 },
 "nbformat": 4,
 "nbformat_minor": 5
}
