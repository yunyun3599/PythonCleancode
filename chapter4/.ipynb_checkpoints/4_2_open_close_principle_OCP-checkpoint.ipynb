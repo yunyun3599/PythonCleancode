{
 "cells": [
  {
   "cell_type": "markdown",
   "id": "8dac672e",
   "metadata": {},
   "source": [
    "# 개방/폐쇄 원칙\n",
    "모듈은 유지보수가 쉽도록 로직을 캡슐화하여 확장에는 개방되고 수정에는 폐쇄되도록 해야한다는 것\n",
    "- 확장 가능하고 새로운 요구사항이나 도메인 변화에 잘 적응하는 코드를 작성해야 함 -> 새로운 요구사항에 대해 새로운 것을 추가할 뿐 기존 코드는 그대로 유지  \n",
    "- 이상적으로는 요구사항이 추가되면 새로운 기능을 구현하기 위한 모듈만 확장하고 기존 코드는 수정해서는 안됨  \n",
    "\n",
    "### 개방/폐쇄 원칙을 따르지 않을 경우 유지보수의 어려움 \n",
    "다른 시스템에서 발생한 이벤트를 분류하는 기능을 가진 예제  \n",
    "데이터는 사전 형태로 저장되어있고 로그나 쿼리 등의 방법으로 이미 데이터를 수집했다고 가정  "
   ]
  },
  {
   "cell_type": "code",
   "execution_count": null,
   "id": "828213b6",
   "metadata": {},
   "outputs": [],
   "source": [
    "# openclosed_1\n",
    "\n",
    "class Event:\n",
    "    def __init__(self, raw_data):\n",
    "        self.raw_data = raw_data\n",
    "        \n",
    "class UnknownEvent(Event):\n",
    "    \"\"\"데이터만으로 식별할 수 없는 이벤트\"\"\"\n",
    "    \n",
    "class LoginEvent(Event):\n",
    "    \"\"\"로그인 사용자에 의한 이벤트\"\"\"\n",
    "    \n",
    "class LogoutEvent(Event):\n",
    "    \"\"\"로그아웃 사용자에 의한 이벤트\"\"\"\n",
    "\n",
    "class SystemMonitor:\n",
    "    \"\"\"시스템에서 발생한 이벤트 분류\"\"\"\n",
    "    \n",
    "    def __init__(self, event_data):\n",
    "        self.event_data = event_data\n",
    "        \n",
    "    def identify_event(self):\n",
    "        if (\n",
    "            self.event_data[\"before\"][\"session\"] == 0 \n",
    "            and self.event_data[\"after\"][\"session\"] == 1\n",
    "        ):\n",
    "            return LoginEvent(self.event_data)\n",
    "        elif (\n",
    "            self.event_data[\"before\"][\"session\"] == 1 \n",
    "            and self.event_data[\"after\"][\"session\"] == 0\n",
    "        ):\n",
    "            return LogoutEvent(self.event_data)\n",
    "        \n",
    "        return UnknownEvent(self.event_data)"
   ]
  },
  {
   "cell_type": "code",
   "execution_count": 4,
   "id": "207140e6",
   "metadata": {},
   "outputs": [
    {
     "name": "stdout",
     "output_type": "stream",
     "text": [
      "LoginEvent\n",
      "LogoutEvent\n",
      "UnknownEvent\n"
     ]
    }
   ],
   "source": [
    "l1 = SystemMonitor({\"before\": {\"session\": 0}, \"after\": {\"session\": 1}})\n",
    "print(l1.identify_event().__class__.__name__)\n",
    "l2 = SystemMonitor({\"before\": {\"session\": 1}, \"after\": {\"session\": 0}})\n",
    "print(l2.identify_event().__class__.__name__)\n",
    "l3 = SystemMonitor({\"before\": {\"session\": 1}, \"after\": {\"session\": 1}})\n",
    "print(l3.identify_event().__class__.__name__)"
   ]
  },
  {
   "cell_type": "markdown",
   "id": "307c7620",
   "metadata": {},
   "source": [
    "위의 코드의 경우 이벤트 유형을 결정하는 노리가 일체형으로 중앙집중화 되어있다는 문제가 있음  \n",
    "처리하려는 이벤트가 늘어날수록 메서드도 커질 것이므로 매우 큰 메서드가 될 가능성이 있음  \n",
    "새로운 유형의 이벤트를 추가할 때마다 메스드를 수정해야 함  \n",
    "\n",
    "**메서드를 변경하지 않고도 새로운 유형의 이벤트를 추가하기 (폐쇄 원칙)**  \n",
    "**새로운 이벤트가 추가될 때 이미 존재하는 코드를 변경하지 않고 코드를 확장하여 새로운 유형의 이벤트를 지원하기 (개방 원칙)**"
   ]
  },
  {
   "cell_type": "markdown",
   "id": "e8e45b95",
   "metadata": {},
   "source": [
    "### 확장성을 가진 이벤트 시스템으로 리팩토링\n",
    "개방/폐쇄 원칙을 따르는 디자인을 만들기 위해 추상화 수행  \n",
    "- SystemMonitor 클래스를 추상적인 이벤트와 협력하도록 변경하고, 이벤트에 대응하는 개별 로직은 각 이벤트 클래스에 위임하기\n",
    "- 각각의 이벤트에 다형성을 가진 새로운 메서드 추가하기 (이 메서드는 전달되는 데이터가 해당 클래스의 타입과 일치하는 지 판단하는 역할)"
   ]
  },
  {
   "cell_type": "code",
   "execution_count": 11,
   "id": "639e0f8d",
   "metadata": {},
   "outputs": [],
   "source": [
    "# openclosed_2\n",
    "class Event:\n",
    "    def __init__(self, raw_data):\n",
    "        self.raw_data = raw_data\n",
    "        \n",
    "    @staticmethod\n",
    "    def meets_condition(event_data: dict):\n",
    "        return False\n",
    "    \n",
    "\n",
    "class UnknownEvent(Event):\n",
    "    \"\"\"데이터만으로 식별할 수 없는 이벤트\"\"\"\n",
    "    \n",
    "    \n",
    "    \n",
    "class LoginEvent(Event):\n",
    "    @staticmethod\n",
    "    def meets_condition(event_data: dict):\n",
    "        return (\n",
    "            event_data[\"before\"][\"session\"] == 0 \n",
    "            and event_data[\"after\"][\"session\"] == 1\n",
    "        )\n",
    "    \n",
    "class LogoutEvent(Event):\n",
    "    @staticmethod\n",
    "    def meets_condition(event_data: dict):\n",
    "        return (\n",
    "            event_data[\"before\"][\"session\"] == 1 \n",
    "            and event_data[\"after\"][\"session\"] == 0\n",
    "        )\n",
    "    \n",
    "class SystemMonitor:\n",
    "    \"\"\"시스템에서 발생한 이벤트 분류\"\"\"\n",
    "    \n",
    "    def __init__(self, event_data):\n",
    "        self.event_data = event_data\n",
    "    \n",
    "    def identify_event(self):\n",
    "        for event_cls in Event.__subclasses__():\n",
    "            try:\n",
    "                if event_cls.meets_condition(self.event_data):\n",
    "                    return event_cls(self.event_data)\n",
    "            except KeyError:\n",
    "                continue\n",
    "                \n",
    "        return UnknownEvent(self.event_data)"
   ]
  },
  {
   "cell_type": "code",
   "execution_count": 12,
   "id": "b7f591c5",
   "metadata": {},
   "outputs": [
    {
     "name": "stdout",
     "output_type": "stream",
     "text": [
      "LoginEvent\n",
      "LogoutEvent\n",
      "UnknownEvent\n"
     ]
    }
   ],
   "source": [
    "l1 = SystemMonitor({\"before\": {\"session\": 0}, \"after\": {\"session\": 1}})\n",
    "print(l1.identify_event().__class__.__name__)\n",
    "l2 = SystemMonitor({\"before\": {\"session\": 1}, \"after\": {\"session\": 0}})\n",
    "print(l2.identify_event().__class__.__name__)\n",
    "l3 = SystemMonitor({\"before\": {\"session\": 1}, \"after\": {\"session\": 1}})\n",
    "print(l3.identify_event().__class__.__name__)"
   ]
  },
  {
   "cell_type": "markdown",
   "id": "bb244e62",
   "metadata": {},
   "source": [
    "위의 예제는 상호작용이 추상화를 통해 이루어지고 있음  \n",
    "분류 메서드는 특정 이벤트 타입 대신에 일반적인 인터페이스를 따르는 제네릭 이벤트와 동작함  \n",
    "이 인터페이스를 따르는 제네릭들은 모두 meets_condition 메서드를 구현하여 다형성을 보장"
   ]
  },
  {
   "cell_type": "markdown",
   "id": "e4d2b168",
   "metadata": {},
   "source": [
    "### 이벤트 시스템 확장\n",
    "위의 디자인이 실제로 원하는 대로 확장 가능함을 확인하기  \n",
    "- 새로운 요구사항으로 인해 모니터링 중인 시스템의 사용자 트랜잭션에 대응하는 이벤트를 지원해야 한다고 가정"
   ]
  },
  {
   "cell_type": "code",
   "execution_count": 17,
   "id": "758c2402",
   "metadata": {},
   "outputs": [],
   "source": [
    "# openclosed_3\n",
    "class Event:\n",
    "    def __init__(self, raw_data):\n",
    "        self.raw_data = raw_data\n",
    "        \n",
    "    @staticmethod\n",
    "    def meets_condition(event_data: dict):\n",
    "        return False\n",
    "    \n",
    "\n",
    "class UnknownEvent(Event):\n",
    "    \"\"\"데이터만으로 식별할 수 없는 이벤트\"\"\"\n",
    "    \n",
    "    \n",
    "    \n",
    "class LoginEvent(Event):\n",
    "    @staticmethod\n",
    "    def meets_condition(event_data: dict):\n",
    "        return (\n",
    "            event_data[\"before\"][\"session\"] == 0 \n",
    "            and event_data[\"after\"][\"session\"] == 1\n",
    "        )\n",
    "    \n",
    "class LogoutEvent(Event):\n",
    "    @staticmethod\n",
    "    def meets_condition(event_data: dict):\n",
    "        return (\n",
    "            event_data[\"before\"][\"session\"] == 1 \n",
    "            and event_data[\"after\"][\"session\"] == 0\n",
    "        )\n",
    "    \n",
    "class TransactionEvent(Event):\n",
    "    \"\"\"시스템에서 발생한 트랜잭션 이벤트\"\"\"\n",
    "    \n",
    "    @staticmethod\n",
    "    def meets_condition(event_data: dict):\n",
    "        return event_data[\"after\"].get(\"transaction\") is not None\n",
    "    \n",
    "class SystemMonitor:\n",
    "    \"\"\"시스템에서 발생한 이벤트 분류\"\"\"\n",
    "    \n",
    "    def __init__(self, event_data):\n",
    "        self.event_data = event_data\n",
    "    \n",
    "    def identify_event(self):\n",
    "        for event_cls in Event.__subclasses__():\n",
    "            try:\n",
    "                if event_cls.meets_condition(self.event_data):\n",
    "                    return event_cls(self.event_data)\n",
    "            except KeyError:\n",
    "                continue\n",
    "                \n",
    "        return UnknownEvent(self.event_data)"
   ]
  },
  {
   "cell_type": "code",
   "execution_count": 18,
   "id": "aa42d319",
   "metadata": {},
   "outputs": [
    {
     "name": "stdout",
     "output_type": "stream",
     "text": [
      "LoginEvent\n",
      "LogoutEvent\n",
      "UnknownEvent\n",
      "TransactionEvent\n"
     ]
    }
   ],
   "source": [
    "l1 = SystemMonitor({\"before\": {\"session\": 0}, \"after\": {\"session\": 1}})\n",
    "print(l1.identify_event().__class__.__name__)\n",
    "l2 = SystemMonitor({\"before\": {\"session\": 1}, \"after\": {\"session\": 0}})\n",
    "print(l2.identify_event().__class__.__name__)\n",
    "l3 = SystemMonitor({\"before\": {\"session\": 1}, \"after\": {\"session\": 1}})\n",
    "print(l3.identify_event().__class__.__name__)\n",
    "l4 = SystemMonitor({\"after\": {\"transaction\": \"Tx001\"}})\n",
    "print(l4.identify_event().__class__.__name__)"
   ]
  },
  {
   "cell_type": "markdown",
   "id": "fe54378b",
   "metadata": {},
   "source": [
    "새 이벤트를 추가했으나 SystemMonitor.identify_event() 메서드는 전혀 수정하지 않음 = **이 메서드는 새로운 유형의 이벤트에 대해 폐쇄되어있음**  \n",
    "필요할 때마다 새로운 유형의 이벤트를 추가할 수 있게 해줌 = **새로운 타입의 확장에 대해 개방되어 있음**"
   ]
  },
  {
   "cell_type": "markdown",
   "id": "4af2739e",
   "metadata": {},
   "source": [
    "### OCP 최종 정리\n",
    "개방/폐쇄 원칙은 다형성의 효과적인 사용과 밀접하게 관련되어있음.  \n",
    "- 다형성을 따르는 형태의 계약을 만들고 모델을 쉽게 확장할 수 있는 일반적인 구조로 디자인하기  \n",
    "\n",
    "이 원칙은 유지보수성에 대한 문제를 해결\n",
    "- OCP를 따르지 않으면 파급 효과가 생기거나 작은 변경이 코드 전체에 영향을 미치거나 다른 부분을 손상시키게 됨  \n",
    "\n",
    "코드를 변경하지 않고 기능을 확장하기 위해서는 보호하려는 추상화에 대해서 적절한 폐쇄를 해야함  \n",
    "- 특정 요구사항에 대해 적절한 추상화가 다른 유형의 요구사항에 대해서는 적절하지 않을 수 있으므로 가장 확장 가능한 요구사항에 적합한 폐쇄를 선택해야 함"
   ]
  },
  {
   "cell_type": "code",
   "execution_count": null,
   "id": "fb6818e3",
   "metadata": {},
   "outputs": [],
   "source": []
  }
 ],
 "metadata": {
  "kernelspec": {
   "display_name": "Python 3 (ipykernel)",
   "language": "python",
   "name": "python3"
  },
  "language_info": {
   "codemirror_mode": {
    "name": "ipython",
    "version": 3
   },
   "file_extension": ".py",
   "mimetype": "text/x-python",
   "name": "python",
   "nbconvert_exporter": "python",
   "pygments_lexer": "ipython3",
   "version": "3.9.12"
  }
 },
 "nbformat": 4,
 "nbformat_minor": 5
}
