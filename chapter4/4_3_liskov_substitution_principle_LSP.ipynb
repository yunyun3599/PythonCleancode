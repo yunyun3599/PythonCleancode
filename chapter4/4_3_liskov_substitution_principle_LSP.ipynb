{
 "cells": [
  {
   "cell_type": "markdown",
   "id": "c35c0c67",
   "metadata": {},
   "source": [
    "# 리스코프 치환 원칙 (LSP)\n",
    "리스코프 치환 원칙은 설계 시 안정성을 유지하기 위해 객체 타입이 유지해야하는 일련의 특성  \n",
    "LSP의 주요 개념은 **어떤 클래스에서든 클라이언트는 특별한 주의를 기울이지 않고도 하위 타입을 사용할 수 있어야 한다는 것**  \n",
    "\n",
    "> 만약 S가 T의 하위 타입이라면 프로그램을 변경하지 않고 T 타입의 객체를 S 타입의 객체로 치환 가능해야 함\n",
    "\n",
    "LSP의 규칙에 따르면 하위 클래스는 상위 클래스에서 정의한 계약을 따르도록 디자인 되어야 함"
   ]
  },
  {
   "cell_type": "markdown",
   "id": "76a4936e",
   "metadata": {},
   "source": [
    "### 도구를 사용해 LSP 문제 검사하기\n",
    "LSP 문제를 Mypy나 Pylint같은 도구를 사용해 쉽게 검출할 수 있음  \n",
    "\n",
    "#### 메서드 서명의 잘못된 데이터 타입 검사\n",
    "Event 클래스의 하위 클래스 중 하나가 호환되지 않는 방식으로 메서드를 재정의하면 Mypy는 어노테이션을 검사하여 이를 확인함"
   ]
  },
  {
   "cell_type": "code",
   "execution_count": 2,
   "id": "7e52a049",
   "metadata": {},
   "outputs": [],
   "source": [
    "class Event:\n",
    "    def meets_condition(self, event_data: dict) -> bool:\n",
    "        return False\n",
    "    \n",
    "class LoginEvent(Event):\n",
    "    def meets_condition(self, event_data: list) -> bool:\n",
    "        return bool(event_data)"
   ]
  },
  {
   "cell_type": "markdown",
   "id": "6ba9102d",
   "metadata": {},
   "source": [
    "위의 경우 Mypy를 실행하면 다음과 같은 오류 메세지가 표시됨\n",
    "> error: Argument 1 of \"meets_condition\" incompatible with supertype \"Event\"\n",
    "\n",
    "이와 같은 오류가 나는 이유는 파생 클래스가 부모 클래스에서 정의한 파라미터와 다른 타입을 사용했기 때문임.  \n",
    "LSP 원칙에 따르면 호출자는 아무런 차이를 느끼지 않고 투명하게 Event 또는 LoginEvent를 사용할 수 있어야 함.  \n",
    "위의 예제에서 반환 값을 bool이 아닌 다른 값으로 변경해도 동일한 오류 발생"
   ]
  },
  {
   "cell_type": "markdown",
   "id": "4dd097f5",
   "metadata": {},
   "source": [
    "#### Pylint로 호환되지 않는 서명 검사\n",
    "또 다른 자주 발생하는 LSP 위반 사례 = 계층의 파라미터 타입이 다른 것이 아니라 메서드의 서명 자체가 완전히 다른 경우  "
   ]
  },
  {
   "cell_type": "code",
   "execution_count": 3,
   "id": "ca2ca340",
   "metadata": {},
   "outputs": [],
   "source": [
    "# lsp_1.py\n",
    "class LogoutEvent(Event):\n",
    "    def meets_condition(self, event_data: dict, override: bool) -> bool:\n",
    "        if override:\n",
    "            return True\n",
    "        return False"
   ]
  },
  {
   "cell_type": "markdown",
   "id": "274dff4f",
   "metadata": {},
   "source": [
    "위와 같은 코드에 대해 Pylint는 다음과 같은 정보를 출력\n",
    "> Parameters differ from overriden 'meets_condition' method (argumentsdiffer)"
   ]
  },
  {
   "cell_type": "markdown",
   "id": "a69339c3",
   "metadata": {},
   "source": [
    "### 애매한 LSP 위반 사례\n",
    "자동화된 도구로 LSP를 위반했는 지 여부를 확인하기 어려울 때 코드리뷰를 통해 자세히 코드를 살펴봐야 함  \n"
   ]
  },
  {
   "cell_type": "code",
   "execution_count": 9,
   "id": "69e5476b",
   "metadata": {},
   "outputs": [],
   "source": [
    "# lsp_2.py\n",
    "class Event:\n",
    "    def __init__(self, raw_data):\n",
    "        self.raw_data = raw_data\n",
    "        \n",
    "    @staticmethod\n",
    "    def meets_condition(event_data: dict):\n",
    "         return False\n",
    "        \n",
    "    @staticmethod\n",
    "    def meets_condition_pre(event_data: dict):\n",
    "        \"\"\"\n",
    "        인터페이스 계약의 사전 조건\n",
    "        ''event_data'' 파라미터가 적절한 형태인지 유효성 검사\n",
    "        \"\"\"\n",
    "        \n",
    "        assert isinstance(event_data, dict), f\"{event_data!r} is not a dict\"\n",
    "        for moment in (\"before\", \"after\"):\n",
    "            assert moment in event_data, f\"{moment} not in {event_data}\"\n",
    "            assert isinstance(event_data[moment], dict)\n",
    "     \n",
    "    \n",
    "class UnknownEvent(Event):\n",
    "    \"\"\"데이터만으로 식별할 수 없는 이벤트\"\"\"\n",
    "    \n",
    "class LoginEvent(Event):\n",
    "    @staticmethod\n",
    "    def meets_condition(event_data: dict):\n",
    "        return (\n",
    "            event_data[\"before\"][\"session\"] == 0 \n",
    "            and event_data[\"after\"][\"session\"] == 1\n",
    "        )\n",
    "    \n",
    "class LogoutEvent(Event):\n",
    "    @staticmethod\n",
    "    def meets_condition(event_data: dict):\n",
    "        return (\n",
    "            event_data[\"before\"][\"session\"] == 1 \n",
    "            and event_data[\"after\"][\"session\"] == 0\n",
    "        )\n",
    "            \n",
    "class SystemMonitor:\n",
    "    \"\"\"시스템에서 발생한 이벤트 분류\"\"\"\n",
    "    \n",
    "    def __init__(self, event_data):\n",
    "        self.event_data = event_data\n",
    "        \n",
    "    def identify_event(self):\n",
    "        Event.meets_condition_pre(self.event_data)\n",
    "        event_cls = next(\n",
    "            (\n",
    "                event_cls\n",
    "                for event_cls in Event.__subclasses__()\n",
    "                if event_cls.meets_condition(self.event_data)\n",
    "            ),\n",
    "            UnknownEvent,\n",
    "        )\n",
    "        return event_cls(self.event_data)"
   ]
  },
  {
   "cell_type": "markdown",
   "id": "551c373b",
   "metadata": {},
   "source": [
    "위의 경우 Event에서 키 before와 after가 필수적이고 그 값 또한 사전타입이어야 한다고 명시되어있음  \n",
    "하위클래스에서 보다 제한적인 파라미터를 요구하는 경우 검사에 통과하지 못함.  \n",
    "그러나 아래의 트랜잭션 이벤트 클래스는 올바르게 설계되어있음"
   ]
  },
  {
   "cell_type": "code",
   "execution_count": 10,
   "id": "7864dc20",
   "metadata": {},
   "outputs": [],
   "source": [
    "class TransactionEvent(Event):\n",
    "    \"\"\"시스템에서 발생한 이벤트 분류\"\"\"\n",
    "    \n",
    "    @staticmethod\n",
    "    def meets_condition(event_data: dict):\n",
    "        return event_data[\"after\"].get(\"transaction\") is not None"
   ]
  },
  {
   "cell_type": "markdown",
   "id": "b1618bb5",
   "metadata": {},
   "source": [
    "그러나 앞의 LoginEvent와 LogoutEvent 클래스는 before와 after의 \"session\"이라는 키를 사용하기 때문에 그대로 사용할 수 없음  \n",
    "이렇게 되면 KeyError가 발생하므로 나머지 클래스를 사용하는 것과 같은 방식으로 클래스를 사용할 수 없음  \n",
    "따라서 TransactionEvent와 마찬가지로 대괄호 대신 .get()메서드로 수정하여 해결할 수 있음"
   ]
  },
  {
   "cell_type": "code",
   "execution_count": 11,
   "id": "19e0fd5a",
   "metadata": {},
   "outputs": [
    {
     "name": "stdout",
     "output_type": "stream",
     "text": [
      "LoginEvent\n",
      "LogoutEvent\n",
      "UnknownEvent\n"
     ]
    },
    {
     "ename": "KeyError",
     "evalue": "'session'",
     "output_type": "error",
     "traceback": [
      "\u001b[1;31m---------------------------------------------------------------------------\u001b[0m",
      "\u001b[1;31mKeyError\u001b[0m                                  Traceback (most recent call last)",
      "Input \u001b[1;32mIn [11]\u001b[0m, in \u001b[0;36m<cell line: 8>\u001b[1;34m()\u001b[0m\n\u001b[0;32m      6\u001b[0m \u001b[38;5;28mprint\u001b[39m(l3\u001b[38;5;241m.\u001b[39midentify_event()\u001b[38;5;241m.\u001b[39m\u001b[38;5;18m__class__\u001b[39m\u001b[38;5;241m.\u001b[39m\u001b[38;5;18m__name__\u001b[39m)\n\u001b[0;32m      7\u001b[0m l4 \u001b[38;5;241m=\u001b[39m SystemMonitor({\u001b[38;5;124m\"\u001b[39m\u001b[38;5;124mbefore\u001b[39m\u001b[38;5;124m\"\u001b[39m: {}, \u001b[38;5;124m\"\u001b[39m\u001b[38;5;124mafter\u001b[39m\u001b[38;5;124m\"\u001b[39m:{\u001b[38;5;124m\"\u001b[39m\u001b[38;5;124mtransaction\u001b[39m\u001b[38;5;124m\"\u001b[39m: \u001b[38;5;124m\"\u001b[39m\u001b[38;5;124mTx001\u001b[39m\u001b[38;5;124m\"\u001b[39m}})\n\u001b[1;32m----> 8\u001b[0m \u001b[38;5;28mprint\u001b[39m(\u001b[43ml4\u001b[49m\u001b[38;5;241;43m.\u001b[39;49m\u001b[43midentify_event\u001b[49m\u001b[43m(\u001b[49m\u001b[43m)\u001b[49m\u001b[38;5;241m.\u001b[39m\u001b[38;5;18m__class__\u001b[39m\u001b[38;5;241m.\u001b[39m\u001b[38;5;18m__name__\u001b[39m)\n",
      "Input \u001b[1;32mIn [9]\u001b[0m, in \u001b[0;36mSystemMonitor.identify_event\u001b[1;34m(self)\u001b[0m\n\u001b[0;32m     48\u001b[0m \u001b[38;5;28;01mdef\u001b[39;00m \u001b[38;5;21midentify_event\u001b[39m(\u001b[38;5;28mself\u001b[39m):\n\u001b[0;32m     49\u001b[0m     Event\u001b[38;5;241m.\u001b[39mmeets_condition_pre(\u001b[38;5;28mself\u001b[39m\u001b[38;5;241m.\u001b[39mevent_data)\n\u001b[1;32m---> 50\u001b[0m     event_cls \u001b[38;5;241m=\u001b[39m \u001b[38;5;28;43mnext\u001b[39;49m\u001b[43m(\u001b[49m\n\u001b[0;32m     51\u001b[0m \u001b[43m        \u001b[49m\u001b[43m(\u001b[49m\n\u001b[0;32m     52\u001b[0m \u001b[43m            \u001b[49m\u001b[43mevent_cls\u001b[49m\n\u001b[0;32m     53\u001b[0m \u001b[43m            \u001b[49m\u001b[38;5;28;43;01mfor\u001b[39;49;00m\u001b[43m \u001b[49m\u001b[43mevent_cls\u001b[49m\u001b[43m \u001b[49m\u001b[38;5;129;43;01min\u001b[39;49;00m\u001b[43m \u001b[49m\u001b[43mEvent\u001b[49m\u001b[38;5;241;43m.\u001b[39;49m\u001b[43m__subclasses__\u001b[49m\u001b[43m(\u001b[49m\u001b[43m)\u001b[49m\n\u001b[0;32m     54\u001b[0m \u001b[43m            \u001b[49m\u001b[38;5;28;43;01mif\u001b[39;49;00m\u001b[43m \u001b[49m\u001b[43mevent_cls\u001b[49m\u001b[38;5;241;43m.\u001b[39;49m\u001b[43mmeets_condition\u001b[49m\u001b[43m(\u001b[49m\u001b[38;5;28;43mself\u001b[39;49m\u001b[38;5;241;43m.\u001b[39;49m\u001b[43mevent_data\u001b[49m\u001b[43m)\u001b[49m\n\u001b[0;32m     55\u001b[0m \u001b[43m        \u001b[49m\u001b[43m)\u001b[49m\u001b[43m,\u001b[49m\n\u001b[0;32m     56\u001b[0m \u001b[43m        \u001b[49m\u001b[43mUnknownEvent\u001b[49m\u001b[43m,\u001b[49m\n\u001b[0;32m     57\u001b[0m \u001b[43m    \u001b[49m\u001b[43m)\u001b[49m\n\u001b[0;32m     58\u001b[0m     \u001b[38;5;28;01mreturn\u001b[39;00m event_cls(\u001b[38;5;28mself\u001b[39m\u001b[38;5;241m.\u001b[39mevent_data)\n",
      "Input \u001b[1;32mIn [9]\u001b[0m, in \u001b[0;36m<genexpr>\u001b[1;34m(.0)\u001b[0m\n\u001b[0;32m     48\u001b[0m \u001b[38;5;28;01mdef\u001b[39;00m \u001b[38;5;21midentify_event\u001b[39m(\u001b[38;5;28mself\u001b[39m):\n\u001b[0;32m     49\u001b[0m     Event\u001b[38;5;241m.\u001b[39mmeets_condition_pre(\u001b[38;5;28mself\u001b[39m\u001b[38;5;241m.\u001b[39mevent_data)\n\u001b[0;32m     50\u001b[0m     event_cls \u001b[38;5;241m=\u001b[39m \u001b[38;5;28mnext\u001b[39m(\n\u001b[0;32m     51\u001b[0m         (\n\u001b[0;32m     52\u001b[0m             event_cls\n\u001b[0;32m     53\u001b[0m             \u001b[38;5;28;01mfor\u001b[39;00m event_cls \u001b[38;5;129;01min\u001b[39;00m Event\u001b[38;5;241m.\u001b[39m__subclasses__()\n\u001b[1;32m---> 54\u001b[0m             \u001b[38;5;28;01mif\u001b[39;00m \u001b[43mevent_cls\u001b[49m\u001b[38;5;241;43m.\u001b[39;49m\u001b[43mmeets_condition\u001b[49m\u001b[43m(\u001b[49m\u001b[38;5;28;43mself\u001b[39;49m\u001b[38;5;241;43m.\u001b[39;49m\u001b[43mevent_data\u001b[49m\u001b[43m)\u001b[49m\n\u001b[0;32m     55\u001b[0m         ),\n\u001b[0;32m     56\u001b[0m         UnknownEvent,\n\u001b[0;32m     57\u001b[0m     )\n\u001b[0;32m     58\u001b[0m     \u001b[38;5;28;01mreturn\u001b[39;00m event_cls(\u001b[38;5;28mself\u001b[39m\u001b[38;5;241m.\u001b[39mevent_data)\n",
      "Input \u001b[1;32mIn [9]\u001b[0m, in \u001b[0;36mLoginEvent.meets_condition\u001b[1;34m(event_data)\u001b[0m\n\u001b[0;32m     27\u001b[0m \u001b[38;5;129m@staticmethod\u001b[39m\n\u001b[0;32m     28\u001b[0m \u001b[38;5;28;01mdef\u001b[39;00m \u001b[38;5;21mmeets_condition\u001b[39m(event_data: \u001b[38;5;28mdict\u001b[39m):\n\u001b[0;32m     29\u001b[0m     \u001b[38;5;28;01mreturn\u001b[39;00m (\n\u001b[1;32m---> 30\u001b[0m         \u001b[43mevent_data\u001b[49m\u001b[43m[\u001b[49m\u001b[38;5;124;43m\"\u001b[39;49m\u001b[38;5;124;43mbefore\u001b[39;49m\u001b[38;5;124;43m\"\u001b[39;49m\u001b[43m]\u001b[49m\u001b[43m[\u001b[49m\u001b[38;5;124;43m\"\u001b[39;49m\u001b[38;5;124;43msession\u001b[39;49m\u001b[38;5;124;43m\"\u001b[39;49m\u001b[43m]\u001b[49m \u001b[38;5;241m==\u001b[39m \u001b[38;5;241m0\u001b[39m \n\u001b[0;32m     31\u001b[0m         \u001b[38;5;129;01mand\u001b[39;00m event_data[\u001b[38;5;124m\"\u001b[39m\u001b[38;5;124mafter\u001b[39m\u001b[38;5;124m\"\u001b[39m][\u001b[38;5;124m\"\u001b[39m\u001b[38;5;124msession\u001b[39m\u001b[38;5;124m\"\u001b[39m] \u001b[38;5;241m==\u001b[39m \u001b[38;5;241m1\u001b[39m\n\u001b[0;32m     32\u001b[0m     )\n",
      "\u001b[1;31mKeyError\u001b[0m: 'session'"
     ]
    }
   ],
   "source": [
    "l1 = SystemMonitor({\"before\": {\"session\": 0}, \"after\": {\"session\": 1}})\n",
    "print(l1.identify_event().__class__.__name__)\n",
    "l2 = SystemMonitor({\"before\": {\"session\": 1}, \"after\": {\"session\": 0}})\n",
    "print(l2.identify_event().__class__.__name__)\n",
    "l3 = SystemMonitor({\"before\": {\"session\": 1}, \"after\": {\"session\": 1}})\n",
    "print(l3.identify_event().__class__.__name__)\n",
    "l4 = SystemMonitor({\"before\": {}, \"after\":{\"transaction\": \"Tx001\"}})\n",
    "print(l4.identify_event().__class__.__name__)"
   ]
  },
  {
   "cell_type": "code",
   "execution_count": 18,
   "id": "5ece21e8",
   "metadata": {},
   "outputs": [],
   "source": [
    "# lsp_2.py\n",
    "class Event:\n",
    "    def __init__(self, raw_data):\n",
    "        self.raw_data = raw_data\n",
    "        \n",
    "    @staticmethod\n",
    "    def meets_condition(event_data: dict):\n",
    "         return False\n",
    "        \n",
    "    @staticmethod\n",
    "    def meets_condition_pre(event_data: dict):\n",
    "        \"\"\"\n",
    "        인터페이스 계약의 사전 조건\n",
    "        ''event_data'' 파라미터가 적절한 형태인지 유효성 검사\n",
    "        \"\"\"\n",
    "        \n",
    "        assert isinstance(event_data, dict), f\"{event_data!r} is not a dict\"\n",
    "        for moment in (\"before\", \"after\"):\n",
    "            assert moment in event_data, f\"{moment} not in {event_data}\"\n",
    "            assert isinstance(event_data[moment], dict)\n",
    "     \n",
    "    \n",
    "class UnknownEvent(Event):\n",
    "    \"\"\"데이터만으로 식별할 수 없는 이벤트\"\"\"\n",
    "    \n",
    "    \n",
    "class LoginEvent(Event):\n",
    "    @staticmethod\n",
    "    def meets_condition(event_data: dict):\n",
    "        return (\n",
    "            event_data[\"before\"].get(\"session\") == 0\n",
    "            and event_data[\"after\"].get(\"session\") == 1\n",
    "        )\n",
    "    \n",
    "class LogoutEvent(Event):\n",
    "    @staticmethod\n",
    "    def meets_condition(event_data: dict):\n",
    "        return (\n",
    "            event_data[\"before\"].get(\"session\") == 1\n",
    "            and event_data[\"after\"].get(\"session\") == 0\n",
    "        )\n",
    "    \n",
    "class TransactionEvent(Event):\n",
    "    \"\"\"시스템에서 발생한 이벤트 분류\"\"\"\n",
    "    \n",
    "    @staticmethod\n",
    "    def meets_condition(event_data: dict):\n",
    "        return event_data[\"after\"].get(\"transaction\") is not None\n",
    "    \n",
    "class SystemMonitor:\n",
    "    \"\"\"시스템에서 발생한 이벤트 분류\"\"\"\n",
    "    \n",
    "    def __init__(self, event_data):\n",
    "        self.event_data = event_data\n",
    "        \n",
    "    def identify_event(self):\n",
    "        Event.meets_condition_pre(self.event_data)\n",
    "        event_cls = next(\n",
    "            (\n",
    "                event_cls\n",
    "                for event_cls in Event.__subclasses__()\n",
    "                if event_cls.meets_condition(self.event_data)\n",
    "            ),\n",
    "            UnknownEvent,\n",
    "        )\n",
    "        return event_cls(self.event_data)"
   ]
  },
  {
   "cell_type": "code",
   "execution_count": 19,
   "id": "00ccf72f",
   "metadata": {},
   "outputs": [
    {
     "name": "stdout",
     "output_type": "stream",
     "text": [
      "LoginEvent\n",
      "LogoutEvent\n",
      "UnknownEvent\n",
      "TransactionEvent\n"
     ]
    }
   ],
   "source": [
    "l1 = SystemMonitor({\"before\": {\"session\": 0}, \"after\": {\"session\": 1}})\n",
    "print(l1.identify_event().__class__.__name__)\n",
    "l2 = SystemMonitor({\"before\": {\"session\": 1}, \"after\": {\"session\": 0}})\n",
    "print(l2.identify_event().__class__.__name__)\n",
    "l3 = SystemMonitor({\"before\": {\"session\": 1}, \"after\": {\"session\": 1}})\n",
    "print(l3.identify_event().__class__.__name__)\n",
    "l4 = SystemMonitor({\"before\": {}, \"after\":{\"transaction\": \"Tx001\"}})\n",
    "print(l4.identify_event().__class__.__name__)"
   ]
  },
  {
   "cell_type": "markdown",
   "id": "c16fb9cb",
   "metadata": {},
   "source": [
    "### LSP 최종 정리\n",
    "LSP는 객체 지향 소프트웨어 설계의 핵심이 되는 다형성을 강조하기 때문에 좋은 디자인의 기초가 됨.  \n",
    "인터페이스의 메서드가 올바른 계층구조를 갖도록 하여 상속된 클래스가 부모 클래스와 다형성을 유지하도록 하는 것  \n",
    "\n",
    "- 새로운 클래스가 원래의 계약과 호환되지 않는 확장을 하려고 하면 클라이언트와의 계약이 깨져서 결과적으로 그러한 확장이 가능하지 않을 것\n",
    "- 확장을 가능하게 하려면 수정에 대해 폐쇄되어야 한다는 원칙을 깨야하는데 이는 바람직하지 않은 형태임 \n",
    "\n",
    "LSP에서 제안하는 방식으로 클래스를 디자인하면 계층을 올바르게 확장하는 데 도움이 됨 -> **LSP가 OCP에 기여**"
   ]
  },
  {
   "cell_type": "code",
   "execution_count": null,
   "id": "5d787574",
   "metadata": {},
   "outputs": [],
   "source": []
  }
 ],
 "metadata": {
  "kernelspec": {
   "display_name": "Python 3 (ipykernel)",
   "language": "python",
   "name": "python3"
  },
  "language_info": {
   "codemirror_mode": {
    "name": "ipython",
    "version": 3
   },
   "file_extension": ".py",
   "mimetype": "text/x-python",
   "name": "python",
   "nbconvert_exporter": "python",
   "pygments_lexer": "ipython3",
   "version": "3.9.12"
  }
 },
 "nbformat": 4,
 "nbformat_minor": 5
}
