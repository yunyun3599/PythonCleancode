{
 "cells": [
  {
   "cell_type": "markdown",
   "id": "2e6e67ee",
   "metadata": {},
   "source": [
    "# 의존성 역전 원칙\n",
    "의존성을 역전시킨다는 것은 코드가 세부사항이나 구체적인 구현에 적응하도록 하지 않고, 대신 API 같은 것에 적응하도록 하는 것  \n",
    "추상화를 통해 세부사항에 의존하지 않도록 해야하지만, 반대로 세부사항은 추상화에 의존해야 함  \n",
    "\n",
    "A,B 두 객체가 상호 교류한다고 할 때 A는 B의 인스턴스를 사용하지만 우리가 B 모듈을 직접 관리하지는 않음.  \n",
    "코드가 B에 크게 의존하면 B 코드 변경 시에 원래의 코드는 쉽게 깨지게 됨  \n",
    "이러한 상황을 방지하기 위해 **의존성을 거꾸로 뒤집어서 역전**시켜야 함 (B가 A에 적응 필요)\n",
    "이를 위해서는 인터페이스를 개발하고 코드가 B의 구체적인 구현에 의존하지 않는 대신 정의한 인터페이스에 의존적이도록 해야 함. (해당 인터페이스를 준수하는 것은 B의 책임) "
   ]
  },
  {
   "cell_type": "markdown",
   "id": "ff59ddfa",
   "metadata": {},
   "source": [
    "### 엄격한 의존의 예\n",
    "이벤트 모니터링 시스템의 마지막 부분은 식별된 이벤트를 데이터 수집기로 전달하여 분석하는 것  \n",
    "\n",
    "\n",
    "|EventStreamer|\n",
    "|---|\n",
    "|+stream()|  \n",
    "\n",
    "|Syslog|\n",
    "|---|\n",
    "|+send()|\n",
    "\n",
    "Syslog = 데이터를 목표지에 전송하는 이벤트 전송 클래스\n",
    "> EventStreamer <>- Syslog  \n",
    "\n",
    "위의 형태는 저수준의 내용에 따라 고수준의 클래스가 변경되어야하므로 별로 좋은 디자인이 아님  \n",
    "    -> 만약 Syslog로 데이터를 보내는 방식이 변경되면 EventStreamer를 수정해야 함 (다른 데이터에 대해서는 전송 목적지를 변경하거나 새로운 데이터를 추가하기 위해 stream() 메서드를 지속적으로 수정해야하므로 문제 발생)"
   ]
  },
  {
   "cell_type": "markdown",
   "id": "4217cba3",
   "metadata": {},
   "source": [
    "### 의존성을 거꾸로\n",
    "위의 문제를 해결하려면 EventStreamer를 구체 클래스가 아닌 인터페이스와 대화하도록 하는 것이 좋음  \n",
    "이렇게 하면 인터페이스의 구현은 세부 구현사항을 가진 저수준 클래스가 담당하게 됨  \n",
    "\n",
    "|EventStreamer|\n",
    "|---|\n",
    "|+stream()|  \n",
    "\n",
    "|DataTargetClient|\n",
    "|---|\n",
    "|+send()|\n",
    "\n",
    "|Syslog|\n",
    "|---|\n",
    "|+send()|\n",
    "\n",
    "EventStreamer는 특정 데이터의 구체적인 구현과 관련이 없도록 함 (실제 인터페이스를 정확하게 구현하고 변화를 수용하는 것은 특정 데이터 대상 각각에 달려있음)  \n",
    "\n",
    "- 이전의 EventStreamer 구현은 Syslog 유형의 객체와만 동작했기 떄문에 유연성이 떨어짐\n",
    "- send() 메서드를 구현하는 객체라면 EventStreamer는 어떤 것과도 통신할 수 있기 때문에 이를 인터페이스의 메서드로 사용하게 됨  \n",
    "- Syslog는 send() 메서드가 정의된 DataTargetClient 추상 기본 클래스를 확장\n",
    "- 이 추상 기본 클래스(DataTargetClient)를 확장하는 이메일 같은 새로운 유형의 데이터 대상이 추가되어도 send() 메서드의 구현은 모두 새로운 클래스에 달려있음  \n",
    "\n",
    "런타임 중에도 send() 메서드를 구현한 객체의 프로퍼티를 수정해도 잘 동작하는데, 이는 의존성을 동적으로 제공한다고 하여 종종 **의존성 주입(dependency injection)**이라고 함\n"
   ]
  }
 ],
 "metadata": {
  "kernelspec": {
   "display_name": "Python 3 (ipykernel)",
   "language": "python",
   "name": "python3"
  },
  "language_info": {
   "codemirror_mode": {
    "name": "ipython",
    "version": 3
   },
   "file_extension": ".py",
   "mimetype": "text/x-python",
   "name": "python",
   "nbconvert_exporter": "python",
   "pygments_lexer": "ipython3",
   "version": "3.9.12"
  }
 },
 "nbformat": 4,
 "nbformat_minor": 5
}
