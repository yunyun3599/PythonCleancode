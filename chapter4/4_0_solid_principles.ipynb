{
 "cells": [
  {
   "cell_type": "markdown",
   "id": "26eadd6f",
   "metadata": {},
   "source": [
    "# 솔리드(SOLID) 원칙\n",
    "### S: 단일 책임 원칙\n",
    "### O: 개방/폐쇄의 원칙\n",
    "### L: 리스코프(Liskov) 치환 원칙\n",
    "### I: 인터페이스 분리 원칙\n",
    "### D: 의존성 역전 원칙"
   ]
  },
  {
   "cell_type": "code",
   "execution_count": null,
   "id": "d3f72ff4",
   "metadata": {},
   "outputs": [],
   "source": []
  }
 ],
 "metadata": {
  "kernelspec": {
   "display_name": "Python 3 (ipykernel)",
   "language": "python",
   "name": "python3"
  },
  "language_info": {
   "codemirror_mode": {
    "name": "ipython",
    "version": 3
   },
   "file_extension": ".py",
   "mimetype": "text/x-python",
   "name": "python",
   "nbconvert_exporter": "python",
   "pygments_lexer": "ipython3",
   "version": "3.9.12"
  }
 },
 "nbformat": 4,
 "nbformat_minor": 5
}
