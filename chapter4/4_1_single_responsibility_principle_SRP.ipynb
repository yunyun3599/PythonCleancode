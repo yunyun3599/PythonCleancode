{
 "cells": [
  {
   "cell_type": "markdown",
   "id": "628e142f",
   "metadata": {},
   "source": [
    "# 단일 책임 원칙 (Single Responsibility Principle - SRP)\n",
    "소프트웨어 컴포넌트(일반적으로 클래스)가 단 하나의 책임을 져야한다는 원칙  \n",
    "도메인의 문제가 변경되면 클래스를 업데이트해야 하나 다른 이유로 클래스를 수정하게 된다면 추상화가 잘못되어 클래스에 너무 많은 책임이 있는 것  \n",
    "\n",
    "### 너무 많은 책임을 가진 클래스\n",
    "로그 파일이나 데이터베이스 등의 소스에서 이벤트 정보를 읽어 로그별로 필요한 액션을 분류하는 애플리케이션의 예제  \n",
    "\n",
    "**SRP를 준수하지 않은 디자인** \n",
    "\n",
    "|SystemMonitor|\n",
    "|------|\n",
    "|+load_activity()|\n",
    "|+identify_events()|\n",
    "|+stream_events()|  "
   ]
  },
  {
   "cell_type": "code",
   "execution_count": 3,
   "id": "19f73acd",
   "metadata": {},
   "outputs": [],
   "source": [
    "# srp_1.py\n",
    "class SystemMonitor:\n",
    "    def load_activity(self):\n",
    "        \"\"\"소스에서 처리할 이벤트를 가져오기\"\"\"\n",
    "\n",
    "    def identify_events(self):\n",
    "        \"\"\"가져온 데이터를 파싱하여 도메인 객체 이벤트로 변환\"\"\"\n",
    "    \n",
    "    def stream_events(self):\n",
    "        \"\"\"파싱한 이벤트를 외부 에이전트로 전송\"\"\""
   ]
  },
  {
   "cell_type": "markdown",
   "id": "3c2f6f40",
   "metadata": {},
   "source": [
    "위의 클래스는 독립적인 동작을 하는 메서드를 하나의 인터페이스에 정의했다는 문제가 있음.  \n",
    "**로더(loader) 메서드**  \n",
    "- 자체적인 절차를 가짐\n",
    "- 데이터 소스에 연결, 데이터 로드, 예상 형식으로 파싱 등의 작업 수행\n",
    "- 데이터 구조를 바꾸는 등의 이유로 위의 작업 중 어떤 것을 수정해야 한다면 SystemMonitor 클래스 변경 필요 -> 데이터 표현 변경으로 인한 시스템 모니터링 객체 변경은 X  \n",
    "\n",
    "**위의 예제는 클래스를 변경해야 하는 이유가 너무 많으므로 외부 요소에 의한 영향을 최소화하기 위해 보다 작고 응집력 있는 추상화 필요**"
   ]
  },
  {
   "cell_type": "markdown",
   "id": "062058eb",
   "metadata": {},
   "source": [
    "### 책임 분산\n",
    "모든 메서드를 다른 클래스로 분리하여 클래스마다 단일 책임을 갖도록 하기\n",
    "\n",
    "|ActivityReader|\n",
    "|------|\n",
    "|+load()|\n",
    "\n",
    "|SystemMonitor|\n",
    "|------|\n",
    "|+identify_event()|\n",
    "\n",
    "|Output|\n",
    "|------|\n",
    "|+stream()|\n",
    "\n",
    "|AlertSystem|\n",
    "|------|\n",
    "|+run()|  \n",
    "\n",
    "데이터 소스에서 이벤트를 로드하는 방법을 변경해도 AlertSystem은 이러한 변경사항과는 관련이 없으므로 SystemMonitor는 아무 것도 수정하지 않아도 됨  \n",
    "**각 클래스의 유지 보수가 쉬워짐**  \n",
    "\n",
    "애플리케이션의 다른 부분에서 로그를 다른 용도로 읽어야 한다고 할 때 단순히 ActivityReader 타입의 객체를 사용하면 됨  \n",
    "**인터페이스의 재사용이 쉬워짐**  "
   ]
  },
  {
   "cell_type": "code",
   "execution_count": null,
   "id": "3b371f18",
   "metadata": {},
   "outputs": [],
   "source": []
  }
 ],
 "metadata": {
  "kernelspec": {
   "display_name": "Python 3 (ipykernel)",
   "language": "python",
   "name": "python3"
  },
  "language_info": {
   "codemirror_mode": {
    "name": "ipython",
    "version": 3
   },
   "file_extension": ".py",
   "mimetype": "text/x-python",
   "name": "python",
   "nbconvert_exporter": "python",
   "pygments_lexer": "ipython3",
   "version": "3.9.12"
  }
 },
 "nbformat": 4,
 "nbformat_minor": 5
}
