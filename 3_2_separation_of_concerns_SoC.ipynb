{
 "cells": [
  {
   "cell_type": "markdown",
   "id": "fc37b336",
   "metadata": {},
   "source": [
    "# 관심사의 분리\n",
    "책임이 다르면 컴포넌트, 계층 또는 모듈로 분리되어야 함  \n",
    "프로그램의 각 부분은 기능의 일부분(관심사)에 대해서만 책임을 지며 나머지 부분에 대해서는 알 필요가 없음  \n",
    "\n",
    "**관심사 분리의 목표:** 파급 효과를 최소화하여 유지보수성을 향상시키는 것  \n",
    "*파급효과 = 어느 지점에서의 변화가 전체로 전파되는 것*"
   ]
  },
  {
   "cell_type": "markdown",
   "id": "6109eaba",
   "metadata": {},
   "source": [
    "## 응집력(cohesion)과 결합력(coupling)\n",
    "### 응집력\n",
    "객체가 작고 잘 정의된 목적을 가져야 하며 가능하면 작아야 함.  \n",
    "객체의 응집력이 높을 수록 더 유용하고 재사용성이 높아지므로 더 좋은 디자인  \n",
    "\n",
    "### 결합력\n",
    "두 개 이상의 객체가 서로 어떻게 의존하는 지\n",
    "객체 또는 메서드의 두 부분이 너무 의존적이라면 바람직하지 않은 결과를 가져옴\n",
    "- **낮은 재사용성**\n",
    "    - 어떤 함수에 특정 객체에 지나치게 의존하거나 너무 많은 파라미터를 가진 경우 이 함수는 해당 객체에 결합되기 됨 -> 다른 상황에서는 이 함수를 사용하기 어려워짐\n",
    "- **파급(ripple) 효과**\n",
    "    - 너무 가깝게 붙어 있게 되면 두 부분 중 하나를 변경하면 다른 부분에도 영향을 미침\n",
    "- **낮은 수준의 추상화**\n",
    "    - 두 함수가 너무 가깝게 관련되어 있으면 서로 다른 추상화 레벨에서 문제를 해결하기 어렵기 때문에 관심사가 분리되어 있다고 보기 어려움  \n",
    "> 잘 정의된 소프트웨어는 높은 응집력과 낮은 결합력을 가짐"
   ]
  },
  {
   "cell_type": "code",
   "execution_count": null,
   "id": "b91560d8",
   "metadata": {},
   "outputs": [],
   "source": []
  }
 ],
 "metadata": {
  "kernelspec": {
   "display_name": "Python 3 (ipykernel)",
   "language": "python",
   "name": "python3"
  },
  "language_info": {
   "codemirror_mode": {
    "name": "ipython",
    "version": 3
   },
   "file_extension": ".py",
   "mimetype": "text/x-python",
   "name": "python",
   "nbconvert_exporter": "python",
   "pygments_lexer": "ipython3",
   "version": "3.9.12"
  }
 },
 "nbformat": 4,
 "nbformat_minor": 5
}
