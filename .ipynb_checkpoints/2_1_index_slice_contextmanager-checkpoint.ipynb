{
 "cells": [
  {
   "cell_type": "markdown",
   "id": "90144141",
   "metadata": {},
   "source": [
    "# 인덱스와 슬라이스"
   ]
  },
  {
   "cell_type": "markdown",
   "id": "af98128d",
   "metadata": {},
   "source": [
    "### 음수 인덱스를 통해 뒤에서부터 접근하기"
   ]
  },
  {
   "cell_type": "code",
   "execution_count": 4,
   "id": "b40b808a",
   "metadata": {},
   "outputs": [
    {
     "name": "stdout",
     "output_type": "stream",
     "text": [
      "9\n",
      "5\n"
     ]
    }
   ],
   "source": [
    "my_numbers = (4, 5, 3, 9)\n",
    "print(my_numbers[-1])\n",
    "print(my_numbers[-3])"
   ]
  },
  {
   "cell_type": "markdown",
   "id": "43e7dd21",
   "metadata": {},
   "source": [
    "### slice를 통한 특정 구간의 요소 구하기"
   ]
  },
  {
   "cell_type": "code",
   "execution_count": 11,
   "id": "e40ce5cc",
   "metadata": {},
   "outputs": [
    {
     "name": "stdout",
     "output_type": "stream",
     "text": [
      "(2, 3, 5)\n",
      "(1, 1, 2)\n",
      "(3, 5, 8, 13, 21)\n",
      "(1, 1, 2, 3, 5, 8, 13, 21)\n",
      "(1, 3, 8)\n"
     ]
    }
   ],
   "source": [
    "my_numbers = (1, 1, 2, 3, 5, 8, 13, 21)\n",
    "print(my_numbers[2:5])\n",
    "print(my_numbers[:3])\n",
    "print(my_numbers[3:])\n",
    "print(my_numbers[::])\n",
    "print(my_numbers[1:7:2])   # 1에서 7 사이의 위치에 있는 요소를 2칸씩 점프하여 가져옴"
   ]
  },
  {
   "cell_type": "code",
   "execution_count": 13,
   "id": "41c5e6a9",
   "metadata": {},
   "outputs": [
    {
     "name": "stdout",
     "output_type": "stream",
     "text": [
      "(1, 3, 8)\n"
     ]
    }
   ],
   "source": [
    "# 시퀀스에 간격을 전달하는 것 = 슬라이스를 전달하는 것\n",
    "# slice는 파이썬 내장 객체로 직접 빌드하여 전달도 가능\n",
    "interval = slice(1, 7, 2)\n",
    "print(my_numbers[interval])"
   ]
  },
  {
   "cell_type": "code",
   "execution_count": 14,
   "id": "1bd2543a",
   "metadata": {},
   "outputs": [
    {
     "name": "stdout",
     "output_type": "stream",
     "text": [
      "True\n"
     ]
    }
   ],
   "source": [
    "interval = slice(None, 3)\n",
    "print(my_numbers[interval] == my_numbers[:3])"
   ]
  },
  {
   "cell_type": "markdown",
   "id": "3e6e8858",
   "metadata": {},
   "source": [
    "## 자체 시퀀스 생성\n",
    "- 슬라이스 객체를 만들어 시퀀스에 전달하는 방법은 __getitem__이라는 매직 메서드 덕분에 동작\n",
    "- 시퀀스는 __getitem_과 __len__을 모두 구현하는 객체이므로 반복 가능\n",
    "- 리스트, 튜플, 문자열은 표준 라이브러리에 있는 시퀀스 객체"
   ]
  },
  {
   "cell_type": "code",
   "execution_count": 33,
   "id": "f775c7a4",
   "metadata": {},
   "outputs": [],
   "source": [
    "class Items:\n",
    "    def __init__(self, *values):\n",
    "        self._values = list(values)\n",
    "        \n",
    "    def __len__(self):\n",
    "        return len(self._values)\n",
    "    \n",
    "    def __getitem__(self, item):\n",
    "        return self._values.__getitem__(item)"
   ]
  },
  {
   "cell_type": "markdown",
   "id": "7c25d25b",
   "metadata": {},
   "source": [
    "**위의 코드는 클래스가 표준 라이브러리 객체를 감싸는 래퍼인 경우**\n",
    "- self._values = list(values)로 클래스가 리스트 래퍼\n",
    "- getitem에서 동일한 메서드를 호출하여 호환성을 유지 (리스트의 getitem 함수를 그대로 호출)"
   ]
  },
  {
   "cell_type": "code",
   "execution_count": 34,
   "id": "993faf67",
   "metadata": {},
   "outputs": [
    {
     "name": "stdout",
     "output_type": "stream",
     "text": [
      "3\n",
      "1\n"
     ]
    }
   ],
   "source": [
    "item = Items(1,2,3)\n",
    "print(item.__len__())\n",
    "print(item.__getitem__(0))"
   ]
  },
  {
   "cell_type": "markdown",
   "id": "b44064a5",
   "metadata": {},
   "source": [
    "### 래퍼나 내장 객체를 사용하지 않고 자체적인 시퀀스를 구현하는 경우\n",
    "1. 범위로 인덱싱하는 결과는 해당 클래스와 같은 타입의 인스턴스일 것\n",
    "1. slice에 의해 제공된 범위는 파이썬이 하는 것처럼 마지막 요소는 제외해야 함"
   ]
  },
  {
   "cell_type": "code",
   "execution_count": 35,
   "id": "4cbc5c61",
   "metadata": {},
   "outputs": [
    {
     "data": {
      "text/plain": [
       "range(26, 51)"
      ]
     },
     "execution_count": 35,
     "metadata": {},
     "output_type": "execute_result"
    }
   ],
   "source": [
    "#1번 사항\n",
    "range(1, 100)[25:50] #결과도 range여야 함"
   ]
  },
  {
   "cell_type": "markdown",
   "id": "0af50b33",
   "metadata": {},
   "source": [
    "# 컨텍스트 관리자 (Context manager)\n",
    "##### 주요 동작의 전후에 작업을 실행하려고 할 때 유용\n",
    "- 파일을 열면 파일 디스크립터 누수를 막기 위해 작업 종료 시 적절히 닫는 과정 필요\n",
    "- 서비스나 소켓 연결에 대해서도 적절히 닫는 과정 필요  \n",
    "\n",
    "<u>위와 같은 상황을 해결하는 일반적인 방법은 **finally** 블록에 정리 코드를 넣는 것</u>\n",
    "\n",
    "```python\n",
    "fd = open(filename)\n",
    "try:\n",
    "    process_file(fd)\n",
    "finally:\n",
    "    fd.close()\n",
    "```\n",
    "\n",
    "##### 위 코드에 대한 조금 더 파이썬스러운 방식은 아래와 같음\n",
    "```python\n",
    "with open(filename) as fd:\n",
    "    process_file(fd)\n",
    "```\n",
    "###   \n",
    "with문은 컨텍스트 관리자로 진입하게 해줌  \n",
    "컨텍스트 관리자의 구성 메서드\n",
    "1. &#95;&#95;enter&#95;&#95;\n",
    "2. &#95;&#95;exit&#95;&#95;\n",
    "\n",
    "with문은 &#95;&#95;enter&#95;&#95;메서드 호출 -> 메서드가 반환한 것을 as 이후에 지정된 변수에 할당  \n",
    "해당 블록에 대한 마지막 문장이 끝나면 컨텍스트가 종료되며 컨텍스트 관리자 객체의 &#95;&#95;exit&#95;&#95; 메서드를 호출함  \n",
    "_블록 내에 예외 or 오류가 있어도 &#95;&#95;exit&#95;&#95; 메서드는 호출됨_\n",
    "\n",
    "<blockQuote>컨텍스트 관리자는 관심사를 분리하고 독립적으로 유지되어야하는 코드를 분리하는 좋은 방법</blockQuote>\n",
    "<blockQuote>블록의 전후에 필요로하는 특정 논리를 제공하기 위해 자체 컨텍스트 관리자 구현 가능</blockQuote>\n",
    "\n",
    "---"
   ]
  },
  {
   "cell_type": "markdown",
   "id": "a14c5a2c",
   "metadata": {},
   "source": [
    "### 스크립트를 사용해 데이터베이스 백업을 하려는 예시\n",
    "- 데이터베이스 실행 X 일 때에만 백업 가능\n",
    "- 백업 위해서는 서비스 중지\n",
    "- 백업 끝나면 프로세스 재시작"
   ]
  },
  {
   "cell_type": "markdown",
   "id": "e43c6996",
   "metadata": {},
   "source": [
    "#### 컨텍스트 관리자 없이 단일 함수로 구현한 경우"
   ]
  },
  {
   "cell_type": "code",
   "execution_count": 39,
   "id": "a59bab79",
   "metadata": {},
   "outputs": [],
   "source": [
    "def stop_database():\n",
    "    run(\"systemctl stop postgresql.service\")\n",
    "    \n",
    "def start_database():\n",
    "    run()"
   ]
  },
  {
   "cell_type": "code",
   "execution_count": null,
   "id": "67e76ad0",
   "metadata": {},
   "outputs": [],
   "source": []
  }
 ],
 "metadata": {
  "kernelspec": {
   "display_name": "Python 3 (ipykernel)",
   "language": "python",
   "name": "python3"
  },
  "language_info": {
   "codemirror_mode": {
    "name": "ipython",
    "version": 3
   },
   "file_extension": ".py",
   "mimetype": "text/x-python",
   "name": "python",
   "nbconvert_exporter": "python",
   "pygments_lexer": "ipython3",
   "version": "3.9.12"
  }
 },
 "nbformat": 4,
 "nbformat_minor": 5
}
