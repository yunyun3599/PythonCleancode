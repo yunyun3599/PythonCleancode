{
 "cells": [
  {
   "cell_type": "markdown",
   "id": "1d22bb6c",
   "metadata": {},
   "source": [
    "# Chapter1. 소개. 코드 포매팅과 도구"
   ]
  },
  {
   "cell_type": "markdown",
   "id": "212adaa3",
   "metadata": {},
   "source": [
    "## docstring"
   ]
  },
  {
   "cell_type": "code",
   "execution_count": 1,
   "id": "4ebf733f",
   "metadata": {},
   "outputs": [],
   "source": [
    "dict.update??"
   ]
  },
  {
   "cell_type": "code",
   "execution_count": 2,
   "id": "71cbd4b8",
   "metadata": {},
   "outputs": [
    {
     "data": {
      "text/plain": [
       "'D.update([E, ]**F) -> None.  Update D from dict/iterable E and F.\\nIf E is present and has a .keys() method, then does:  for k in E: D[k] = E[k]\\nIf E is present and lacks a .keys() method, then does:  for k, v in E: D[k] = v\\nIn either case, this is followed by: for k in F:  D[k] = F[k]'"
      ]
     },
     "execution_count": 2,
     "metadata": {},
     "output_type": "execute_result"
    }
   ],
   "source": [
    "dict.update.__doc__"
   ]
  },
  {
   "cell_type": "code",
   "execution_count": 7,
   "id": "d564b89f",
   "metadata": {},
   "outputs": [],
   "source": [
    "def my_function():\n",
    "    \"\"\"임의의 계산 수행\"\"\"\n",
    "    return None"
   ]
  },
  {
   "cell_type": "code",
   "execution_count": 8,
   "id": "0ca42520",
   "metadata": {},
   "outputs": [
    {
     "data": {
      "text/plain": [
       "'임의의 계산 수행'"
      ]
     },
     "execution_count": 8,
     "metadata": {},
     "output_type": "execute_result"
    }
   ],
   "source": [
    "my_function.__doc__"
   ]
  },
  {
   "cell_type": "code",
   "execution_count": 9,
   "id": "9915ac0a",
   "metadata": {},
   "outputs": [],
   "source": [
    "my_function??"
   ]
  },
  {
   "cell_type": "markdown",
   "id": "1d827396",
   "metadata": {},
   "source": [
    "## 어노테이션\n",
    "#### 코드 사용자에게 함수 인자로 어떤 값이 와야 하는지 힌트를 주는 것"
   ]
  },
  {
   "cell_type": "code",
   "execution_count": 13,
   "id": "2fdb58ce",
   "metadata": {},
   "outputs": [],
   "source": [
    "class Point:\n",
    "    def __init__(self, lat, long):\n",
    "        self.lat = lat\n",
    "        self.long = long\n",
    "        \n",
    "        \n",
    "def locate(latitude: float, longitute: float) -> Point:\n",
    "    \"\"\"멥에서 좌표에 해당하는 객체를 검색\"\"\""
   ]
  },
  {
   "cell_type": "code",
   "execution_count": 14,
   "id": "f7de43c5",
   "metadata": {},
   "outputs": [
    {
     "data": {
      "text/plain": [
       "{'latitude': float, 'longitute': float, 'return': __main__.Point}"
      ]
     },
     "execution_count": 14,
     "metadata": {},
     "output_type": "execute_result"
    }
   ],
   "source": [
    "locate.__annotations__"
   ]
  },
  {
   "cell_type": "code",
   "execution_count": 15,
   "id": "013bb474",
   "metadata": {},
   "outputs": [],
   "source": [
    "class Point2:\n",
    "    lat: float\n",
    "    long: float"
   ]
  },
  {
   "cell_type": "code",
   "execution_count": 16,
   "id": "44ccbcad",
   "metadata": {},
   "outputs": [
    {
     "data": {
      "text/plain": [
       "{'lat': float, 'long': float}"
      ]
     },
     "execution_count": 16,
     "metadata": {},
     "output_type": "execute_result"
    }
   ],
   "source": [
    "Point2.__annotations__"
   ]
  },
  {
   "cell_type": "markdown",
   "id": "eeac356c",
   "metadata": {},
   "source": [
    "### docstring과 어노테이션"
   ]
  },
  {
   "cell_type": "code",
   "execution_count": 17,
   "id": "55cccad6",
   "metadata": {},
   "outputs": [],
   "source": [
    "def data_from_response(response: dict) -> dict:\n",
    "    if response[\"status\"] != 200:\n",
    "        raise ValueError\n",
    "    return {\"data\": response[\"payload\"]}"
   ]
  },
  {
   "cell_type": "code",
   "execution_count": 18,
   "id": "c67a2f7f",
   "metadata": {},
   "outputs": [],
   "source": [
    "# docstring으로 data_from_response 보완"
   ]
  },
  {
   "cell_type": "code",
   "execution_count": 20,
   "id": "534958d4",
   "metadata": {},
   "outputs": [],
   "source": [
    "def data_from_response(response: dict) -> dict:\n",
    "    \"\"\"\n",
    "    response에 문제가 없다면 response의 payload를 반환\n",
    "    \n",
    "    - response 사전의 예제::\n",
    "    {\n",
    "        \"status\": 200, # <int>\n",
    "        \"timestamp\": \"....\", # 현재 시간의 ISO 포맷 문자열\n",
    "        \"payload\": { ... } # 반환하려는 사전 데이터\n",
    "    }\n",
    "    \n",
    "    - 반환 사전의 예제::\n",
    "    { \"data\": {..} }\n",
    "    \n",
    "    - 발생 가능한 예외:\n",
    "    - HTTP status가 200이 아닌 경우 ValueError 발생\n",
    "    \"\"\"\n",
    "    if response[\"status\"] != 200:\n",
    "        raise ValueError\n",
    "    return {\"data\": response[\"payload\"]}"
   ]
  },
  {
   "cell_type": "code",
   "execution_count": 22,
   "id": "e0ad685e",
   "metadata": {},
   "outputs": [
    {
     "data": {
      "text/plain": [
       "'\\n    response에 문제가 없다면 response의 payload를 반환\\n    \\n    - response 사전의 예제::\\n    {\\n        \"status\": 200, # <int>\\n        \"timestamp\": \"....\", # 현재 시간의 ISO 포맷 문자열\\n        \"payload\": { ... } # 반환하려는 사전 데이터\\n    }\\n    \\n    - 반환 사전의 예제::\\n    { \"data\": {..} }\\n    \\n    - 발생 가능한 예외:\\n    - HTTP status가 200이 아닌 경우 ValueError 발생\\n    '"
      ]
     },
     "execution_count": 22,
     "metadata": {},
     "output_type": "execute_result"
    }
   ],
   "source": [
    "data_from_response.__doc__"
   ]
  },
  {
   "cell_type": "code",
   "execution_count": 23,
   "id": "147d692f",
   "metadata": {},
   "outputs": [],
   "source": [
    "data_from_response??"
   ]
  },
  {
   "cell_type": "code",
   "execution_count": null,
   "id": "9b961645",
   "metadata": {},
   "outputs": [],
   "source": []
  }
 ],
 "metadata": {
  "kernelspec": {
   "display_name": "Python 3 (ipykernel)",
   "language": "python",
   "name": "python3"
  },
  "language_info": {
   "codemirror_mode": {
    "name": "ipython",
    "version": 3
   },
   "file_extension": ".py",
   "mimetype": "text/x-python",
   "name": "python",
   "nbconvert_exporter": "python",
   "pygments_lexer": "ipython3",
   "version": "3.8.10"
  }
 },
 "nbformat": 4,
 "nbformat_minor": 5
}
