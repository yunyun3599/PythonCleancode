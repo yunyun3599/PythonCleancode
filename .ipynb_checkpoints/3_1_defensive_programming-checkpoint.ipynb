{
 "cells": [
  {
   "cell_type": "markdown",
   "id": "ed3b3c57",
   "metadata": {},
   "source": [
    "# 방어적 프로그래밍\n",
    "객체, 함수 또는 메서드와 같은 코드의 모든 부분을 유효하지 않은 것으로부터 스스로 보호할 수 있게 하는 것  \n",
    "\n",
    "- 예상할 수 있는 시나리오의 오류를 처리하는 방법 (에러 핸들링 프로시저)\n",
    "- 발생하지 않아야 하는 오류를 처리하는 방법 (assertion)"
   ]
  },
  {
   "cell_type": "markdown",
   "id": "237641e3",
   "metadata": {},
   "source": [
    "## 에러 핸들링\n",
    "에러 핸들링 프로시저는 일반적으로 데이터 입력 확인 시 자주 사용됨  \n",
    "에러 핸들링의 목적은 에러에 대해 실행을 계속할 수 있을 지 아니면 극복할 수 없는 오류여서 프로그램을 중단할지를 결정하기 위함  \n",
    "\n",
    "\n",
    "**에러 처리 방법의 종류**\n",
    "- 값 대체\n",
    "- 에러 로깅\n",
    "- 예외 처리"
   ]
  },
  {
   "cell_type": "markdown",
   "id": "4fdd6911",
   "metadata": {},
   "source": [
    "### 1. 값 대체\n",
    "오류로 인해 잘못된 값을 생성하거나 정체가 종료될 위험이 있을 경우 결과 값을 안전한 다른 값으로 대체하는 것  \n",
    "- 기본 값, 잘 알려진 상수, 초기값 등으로 대체  \n",
    "\n",
    "제공되지 않은 데이터에 기본 값을 사용하기  \n",
    "- 설정되지 않은 환경 변수의 기본 값, 설정 파일의 누락된 항목 또는 함수의 파라미터 등은 기본 값으로 동작이 가능"
   ]
  },
  {
   "cell_type": "code",
   "execution_count": 2,
   "id": "2477b2f3",
   "metadata": {},
   "outputs": [
    {
     "name": "stdout",
     "output_type": "stream",
     "text": [
      "localhost\n",
      "5432\n"
     ]
    }
   ],
   "source": [
    "configuration = {\"dbport\": 5432}\n",
    "print(configuration.get(\"dbhost\", \"localhost\"))\n",
    "print(configuration.get(\"dbport\"))"
   ]
  },
  {
   "cell_type": "code",
   "execution_count": 3,
   "id": "7071c85a",
   "metadata": {},
   "outputs": [
    {
     "name": "stdout",
     "output_type": "stream",
     "text": [
      "None\n",
      "5432\n"
     ]
    }
   ],
   "source": [
    "import os\n",
    "print(os.getenv(\"DBHOST\"))\n",
    "print(os.getenv(\"DBPROT\", 5432))"
   ]
  },
  {
   "cell_type": "markdown",
   "id": "82c8ba9f",
   "metadata": {},
   "source": [
    "위의 두 경우 모두 두번째 파라미터를 제공하지 않으면 함수에서 정의한 기본값인 None을 반환  \n",
    "사용자 정의 함수에도 파라미터의 기본값을 직접 정의 가능\n",
    "```python\n",
    "    def connect_database(host=\"localhost\", port=5432):\n",
    "        logger.info(\"다음 정보로 데이터베이스에 접속: %s:%i\", host, port)\n",
    "```"
   ]
  },
  {
   "cell_type": "markdown",
   "id": "7c7c66c4",
   "metadata": {},
   "source": [
    "### 2. 예외 처리\n",
    "에러가 발생하기 쉽다는 가정으로 계속 실행하는 것보다 차라리 실행을 멈추는 것이 더 좋은 경우  \n",
    "예외적인 상황을 명확하게 알려주고 원래의 비즈니스 로직에 따라 흐름을 유지하는 것  \n",
    "비즈니스 로직의 일부로 go-to 문을 사용하여 예외처리를 해서는 안 됨. 호출자가 알아야 하는 실질적인 문제가 있는 경우에는 예외 발생 O  \n",
    "예외는 호출자에게 잘못을 알려주는 것으로 예외는 캡슐화를 약화시키기 때문에 신중하게 사용해야 함  \n",
    "함수가 너무 많은 예외를 발생시키면 호출할 때마다 발생 가능한 부작용을 염두하여 문맥을 유지해야 하므로 응집력은 약하고 너무 많은 책임을 갖고 있게 됨"
   ]
  },
  {
   "cell_type": "markdown",
   "id": "54f349b2",
   "metadata": {},
   "source": [
    "#### 올바른 수준의 추상화 단계에서 예외 처리\n",
    "  - 함수가 처리하는 예외는 캡슐화된 로직과 일치해야 함\n",
    "  \n",
    "서로 다른 수준의 추상화를 혼합하는 예제  \n",
    "애플리케이션에서 디코딩한 데이터를 외부 컴포넌트에 전달하는 객체"
   ]
  },
  {
   "cell_type": "code",
   "execution_count": 5,
   "id": "ba22a224",
   "metadata": {},
   "outputs": [],
   "source": [
    "class DataTransport:\n",
    "    \"\"\"다른 레벨에서 예외를 처리하는 객체의 예\"\"\"\n",
    "    \n",
    "    retry_threshold: int = 5\n",
    "    retry_n_times: int = 3\n",
    "        \n",
    "    def __init__(self, connector):\n",
    "        self._connector = connector\n",
    "        self.connection = None\n",
    "        \n",
    "    def deliver_event(self, event):\n",
    "        try:\n",
    "            self.connect()\n",
    "            data = event.decode()\n",
    "            self.send(data)\n",
    "        except ConnectionError as e:\n",
    "            logger.info(\"연결 실패: %s\", e)\n",
    "            raise\n",
    "        except ValueError as e:\n",
    "            logger.error(\"%r 잘못된 데이터 포함: %s\", event, e)\n",
    "            raise\n",
    "            \n",
    "    def connect(self):\n",
    "        for _ in range(self.retry_n_times):\n",
    "            try:\n",
    "                self.connection = self._connector.connect()\n",
    "            except ConnectionError as e:\n",
    "                logger.info(\n",
    "                \"%s: 새로운 연결 시도 %is\", e, self.retry_threshold)\n",
    "                time.sleep(self.retry_threshold)\n",
    "            else:\n",
    "                return self.connection\n",
    "        raise ConnectionError(f\"{self.retry_n_times} 번째 재시도 연결 실패\")\n",
    "        \n",
    "    def send(self, data):\n",
    "        return self.connection.send(data)"
   ]
  },
  {
   "cell_type": "markdown",
   "id": "dbfc3a93",
   "metadata": {},
   "source": [
    "위의 예시에서 ValueError와 ConnectionError는 별 관계가 없음  \n",
    "ConnectionError는 connect 메서드 내에서 처리되어야 함 -> 행동을 명확하게 분리 가능  \n",
    "ValueError는 event의 decode 메서드에 속한 에러  \n",
    "\n",
    "위와 같이 구현을 수정하면 deliver_event에서는 예외를 catch 할 필요 X"
   ]
  },
  {
   "cell_type": "code",
   "execution_count": 7,
   "id": "5ca04e0a",
   "metadata": {},
   "outputs": [],
   "source": [
    "def connect_with_retry(connector, retry_n_times, retry_threshold=5):\n",
    "    \"\"\"\n",
    "    connector의 연결을 맺는다. <retry_n_times>회 재시도\n",
    "    \n",
    "    연결에 성공하면 connection 객체 반환\n",
    "    재시도까지 모두 실패하면 ConnectionError 발생\n",
    "    \n",
    "    :param connector: '.connect()' 메서드를 가진 객체\n",
    "    :param retry_n_times int: ''connector.connect()''를 호출 시도하는 횟수\n",
    "    :param retry_threshold int: 재시도 사이의 간격\n",
    "    \"\"\"\n",
    "    \n",
    "    for _ in range(retry_n_times):\n",
    "        try:\n",
    "            return connector.connect()\n",
    "        except ConnectionError as e:\n",
    "            logger.info(\n",
    "                \"%s: 새로운 연결 시도 %is\", e, retry_threshold\n",
    "            )\n",
    "            time.sleep(retry_threshold)\n",
    "            \n",
    "    exc = ConnectionError(f\"{retry_n_times} 번째 재시도 연결 실패\")\n",
    "    logger.exception(exc)\n",
    "    raise exc"
   ]
  },
  {
   "cell_type": "markdown",
   "id": "98f09031",
   "metadata": {},
   "source": [
    "deliver_event 메서드에서 위의 함수를 호출하면 됨.  \n",
    "\n",
    "**아래의 코드는 위의 사항을 적용한 메서드**"
   ]
  },
  {
   "cell_type": "code",
   "execution_count": 9,
   "id": "5bfdaf06",
   "metadata": {},
   "outputs": [],
   "source": [
    "class DataTransport:\n",
    "    \"\"\"추상화 수준에 따른 예외 분리를 한 객체의 예제\"\"\"\n",
    "    retry_threshold: int = 5\n",
    "    retry_n_times: int = 3\n",
    "    \n",
    "    def __init__(self, connector):\n",
    "        self._connector = connector\n",
    "        self.connection = None\n",
    "        \n",
    "    def deliver_event(self, events):\n",
    "        self.connection = connect_with_retry(\n",
    "            self._connector, self.retry_n_times, self.retry_threshold\n",
    "        )\n",
    "        self.send(event)\n",
    "        \n",
    "    def send(self, event):\n",
    "        try:\n",
    "            return self.connection.send(event.decode())\n",
    "        except ValueError as e:\n",
    "            logger.error(\"%r 잘못된 데이터 포함: %s\", event, e)\n",
    "            raise"
   ]
  },
  {
   "cell_type": "markdown",
   "id": "699f77fb",
   "metadata": {},
   "source": [
    "#### Traceback 노출 금지\n",
    "어떠한 문제를 해결하기 위한 traceback 정보 등은 로그로 남기는 것이 중요하나 이런 세부사항은 사용자에게는 보여선 안됨  "
   ]
  },
  {
   "cell_type": "markdown",
   "id": "6fc237f4",
   "metadata": {},
   "source": [
    "#### 비어있는 except 블록 지양\n",
    "일부 오류에 대비하여 프로그램을 방어하는 것은 좋은 일이나 너무 방어적인 것은 심각한 문제로 이어질 수 있음  \n",
    "-> 너무 방어적이어서 아무것도 하지 않은 채로 지나가는 비어있는 except 블록은 가장 안 좋은 예  \n",
    "```python\n",
    "try:\n",
    "    process_data()\n",
    "except:\n",
    "    pass\n",
    "```\n",
    "위의 경우 문제는 절대 실패하지 않는다는 것임  \n",
    "에러는 결코 조용히 전달되어서는 안되므로 다음 2가지 대안을 생각해 볼 수 있음  \n",
    "1. 보다 구체적인 예외 사용하기 (Exception은 너무 광범위한 예외)\n",
    "1. except 블록에서 실제 오류를 처리  \n",
    "\n",
    "가장 좋은 방법은 두 항목을 동시에 적용하는 것"
   ]
  },
  {
   "cell_type": "markdown",
   "id": "b6ddf909",
   "metadata": {},
   "source": [
    "#### 원본 예외 포함\n",
    "오류 처리 과정에서 다른 오류를 발생시키고 메세지를 변경하려고 할 때는 원래의 예외를 포함하는 것이 좋음  \n",
    "```python\n",
    "raise <e> from <original_exception>\n",
    "```\n",
    "위의 구문을 사용하여 원본의 traceback이 새로운 exception에 포함되고 원본 예외는 &#95;&#95;cause&#95;&#95; 속성으로 설정할 수 있음  \n",
    "아래 예시는 기본 옝외를 사용자 정의 예외로 래핑하는 경우"
   ]
  },
  {
   "cell_type": "code",
   "execution_count": 10,
   "id": "d7d20c71",
   "metadata": {},
   "outputs": [],
   "source": [
    "class InternalDataError(Exception):\n",
    "    \"\"\"업무 도메인 데이터의 예외\"\"\"\n",
    "    \n",
    "    def process(data_dictionary, record_id):\n",
    "        try:\n",
    "            return data_dictionary[record_id]\n",
    "        except KeyError as e:\n",
    "            raise InternalDataError(\"Record not present\") from e"
   ]
  },
  {
   "cell_type": "markdown",
   "id": "aea9d4ef",
   "metadata": {},
   "source": [
    "## 파이썬에서 어설션 사용하기\n",
    "어설션: 절대로 일어나지 않아야 하는 상황에 사용됨 -> assert 문에 사용된 표현식은 불가능한 조건을 의미  \n",
    "- 어설션은 에러핸들링과 다르게 프로그램을 계속할 가능성이 있는데, 이런 오류가 발생하면 프로그램을 중지해야 함  \n",
    "- 어설션은 잘못된 시나리오에 도달할 경우 프로그램이 더 큰 피해를 입지 않도록 하는 것이므로 프로그램을 중단시키는 것이 좋기 때문에 어설션을 비즈니스 로직과 섞거나 소프트웨어 제어 흐름 메커니즘으로 사용해서는 안됨\n",
    "```python\n",
    "try:\n",
    "    assert condition.holds(), \"조건에 맞지 않음.\"\n",
    "except AssertionError:\n",
    "    alternative_procedure()\n",
    "```\n",
    "따라서 위의 예제는 좋지 않은 예제이다.  \n",
    "\n",
    "Assertion에 실패하면 반드시 프로그램을 종료해야하는데, 위의 코드는 AssertionError를 처리하였으므로 좋지 못한 예라고 볼 수 있음.  \n",
    "또한 어설션 문장이 함수라는 것도 위 예제의 문제임.  \n",
    "- 위의 예제는 assert condition.holds()라는 함수를 이용했음\n",
    "- 함수 호출은 부작용을 가질 수 있으며 항상 반복 가능하지는 않음\n",
    "- 함수 호출은 디버거를 사용해 해당 라인에서 중지하여 편하게 오류 결과를 볼 수 없으며 다시 함수를 호출한다 하더라도 잘못된 값이었는지 알 수 없음  \n",
    "\n",
    "아래는 보다 나은 방법임\n",
    "```python\n",
    "result = condition.holds()\n",
    "assert result > 0, \"에러 {0}\".format(result)\n",
    "```"
   ]
  },
  {
   "cell_type": "code",
   "execution_count": null,
   "id": "ba7926b4",
   "metadata": {},
   "outputs": [],
   "source": []
  }
 ],
 "metadata": {
  "kernelspec": {
   "display_name": "Python 3 (ipykernel)",
   "language": "python",
   "name": "python3"
  },
  "language_info": {
   "codemirror_mode": {
    "name": "ipython",
    "version": 3
   },
   "file_extension": ".py",
   "mimetype": "text/x-python",
   "name": "python",
   "nbconvert_exporter": "python",
   "pygments_lexer": "ipython3",
   "version": "3.9.12"
  }
 },
 "nbformat": 4,
 "nbformat_minor": 5
}
