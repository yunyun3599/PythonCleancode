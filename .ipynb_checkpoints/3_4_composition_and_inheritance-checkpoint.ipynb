{
 "cells": [
  {
   "cell_type": "markdown",
   "id": "c53d3964",
   "metadata": {},
   "source": [
    "# 컴포지션과 상속\n",
    "객체 지향 디자인에서 일반적으로 사용되는 개념: **상속**  \n",
    "\n",
    "- 상속을 사용할 때는 그 위험성도 염두해 둬야 하는데, 가장 주된 위험은 부모 클래스를 확장하여 새로운 클래스를 만들 때마다 부모와 강력하게 결합된 새로운 클래스가 생긴다는 점  \n",
    "- 상속 관련 기능 중 가장 많이 사용하는 것은 코드 재사용인데, 단지 부모 클래스에 있는 메서드를 얻을 수 있기 때문에 상속을 하는 것은 좋지 않은 방법  \n",
    "- 코드를 재사용하는 올바른 방법은 여러 상황에서 동작 가능하고 쉽게 조합할 수 있는 응집력 높은 객체를 사용하는 것"
   ]
  },
  {
   "cell_type": "markdown",
   "id": "d41baf71",
   "metadata": {},
   "source": [
    "## 상속이 좋은 선택인 경우\n",
    "새로운 하위 클래스를 만들 때 클래스가 올바르게 정의되었는지 확인하기 위해 상속된 모든 메서드를 실제로 사용할 것인지 생각해 보는 것이 좋음  \n",
    "\n",
    "대부분의 메서드를 필요로 하지 않고 재정의 하거나 대체해야한다면 다음과 같은 이유로 설계상의 실수라고 볼 수 있음\n",
    "1. 상위 클래스는 잘 정의된 인터페이스 대신 막연한 정의와 너무 많은 책임을 가짐\n",
    "1. 하위 클래스는 확장하려고 하는 상위 클래스의 적절한 세분화가 아님\n",
    "\n",
    "#### 상속을 잘 사용한 예\n",
    "- public 메서드와 속성 인터페이스를 정의한 컴포넌트에 대해 이 클래스의 기능을 그대로 물려받으면서 추가 기능을 더하려는 경우 or 특정 기능을 수정하려는 경우\n",
    "- e.g) http.server 패키지에서 BaseHTTPRequestHandler 기본 클래스와 이 기본 인터페이스의 일부를 추가하거나 변경하여 확장하는 SimpleHTTPRequestHandler 하위 클래스\n",
    "- 인터페이스 정의도 상속의 또 다른 좋은 예\n",
    "- 예외 역시 상속의 또 다른 예\n",
    "    - 파이썬의 표준 예외는 Exception에서 파생됨\n",
    "    - except Exception: 과 같은 일반 구문을 통해 모든 에러를 catch할 수 있게 해줌"
   ]
  },
  {
   "cell_type": "markdown",
   "id": "042705d9",
   "metadata": {},
   "source": [
    "## 상속 안티패턴\n",
    "부모 클래스는 파생 클래스의 공통 정의의 일부가 되므로 클래스의 public 메서드는 부모 클래스가 정의하는 것과 일치해야 함  \n",
    "\n",
    "**파이썬의 전형적인 안티패턴의 예시**\n",
    "도메인 문제를 해결하기 위해 적절한 데이터 구조를 만든 후에 이 데이터 구조를 사용하는 객체를 만들지 않고 데이터 구조 자체를 객체로 만드는 경우  \n",
    "\n",
    "*예제) 여러 고객에게 정책을 적용하는 기능을 가진 보험 관리 시스템*\n",
    "- 동시에 변경 사항을 고객에게 적용하거나 저장하기 위해 고객 정보를 메모리에 보관 필요\n",
    "- 새 고객 정보를 기록하고 정책을 변경하거나 일부 데이터를 편집 하는 기능 필요\n",
    "- 정책 자체가 변경되면 현재 트랜잭션의 고객 모두에게 적용 필요  \n",
    "\n",
    "특정 고객의 레코드에 상수시간 접근 필요 -> policy_transaction&#91;customer_id&#93;처럼 구현하는 것이 좋아보임 (+ 딕셔너리 타입도 고려 가능)"
   ]
  },
  {
   "cell_type": "code",
   "execution_count": 4,
   "id": "538c8c12",
   "metadata": {},
   "outputs": [],
   "source": [
    "import collections\n",
    "\n",
    "class TransactionalPolicy(collections.UserDict):\n",
    "    \"\"\"잘못된 상속의 예\"\"\"\n",
    "    def change_in_policy(self, customer_id, **new_policy_data):\n",
    "        self[customer_id].update(**new_policy_data)"
   ]
  },
  {
   "cell_type": "code",
   "execution_count": 9,
   "id": "f85efee4",
   "metadata": {},
   "outputs": [
    {
     "name": "stdout",
     "output_type": "stream",
     "text": [
      "{'fee': 1000.0, 'expiration_date': datetime.datetime(2020, 1, 3, 0, 0)}\n",
      "{'fee': 1000.0, 'expiration_date': datetime.datetime(2020, 1, 4, 0, 0)}\n"
     ]
    }
   ],
   "source": [
    "from datetime import datetime\n",
    "\n",
    "policy = TransactionalPolicy({\n",
    "    \"client001\": {\n",
    "        \"fee\": 1000.0, \n",
    "        \"expiration_date\": datetime(2020, 1, 3)\n",
    "    }\n",
    "})\n",
    "print(policy[\"client001\"])\n",
    "policy.change_in_policy(\"client001\", expiration_date=datetime(2020, 1, 4))\n",
    "print(policy[\"client001\"])"
   ]
  },
  {
   "cell_type": "code",
   "execution_count": 10,
   "id": "9206e27d",
   "metadata": {},
   "outputs": [
    {
     "data": {
      "text/plain": [
       "['_MutableMapping__marker',\n",
       " '__abstractmethods__',\n",
       " '__class__',\n",
       " '__class_getitem__',\n",
       " '__contains__',\n",
       " '__copy__',\n",
       " '__delattr__',\n",
       " '__delitem__',\n",
       " '__dict__',\n",
       " '__dir__',\n",
       " '__doc__',\n",
       " '__eq__',\n",
       " '__format__',\n",
       " '__ge__',\n",
       " '__getattribute__',\n",
       " '__getitem__',\n",
       " '__gt__',\n",
       " '__hash__',\n",
       " '__init__',\n",
       " '__init_subclass__',\n",
       " '__ior__',\n",
       " '__iter__',\n",
       " '__le__',\n",
       " '__len__',\n",
       " '__lt__',\n",
       " '__module__',\n",
       " '__ne__',\n",
       " '__new__',\n",
       " '__or__',\n",
       " '__reduce__',\n",
       " '__reduce_ex__',\n",
       " '__repr__',\n",
       " '__reversed__',\n",
       " '__ror__',\n",
       " '__setattr__',\n",
       " '__setitem__',\n",
       " '__sizeof__',\n",
       " '__slots__',\n",
       " '__str__',\n",
       " '__subclasshook__',\n",
       " '__weakref__',\n",
       " '_abc_impl',\n",
       " 'change_in_policy',\n",
       " 'clear',\n",
       " 'copy',\n",
       " 'data',\n",
       " 'fromkeys',\n",
       " 'get',\n",
       " 'items',\n",
       " 'keys',\n",
       " 'pop',\n",
       " 'popitem',\n",
       " 'setdefault',\n",
       " 'update',\n",
       " 'values']"
      ]
     },
     "execution_count": 10,
     "metadata": {},
     "output_type": "execute_result"
    }
   ],
   "source": [
    "dir(policy)"
   ]
  },
  {
   "cell_type": "markdown",
   "id": "f525389d",
   "metadata": {},
   "source": [
    "위의 예시는 원하는 기능을 수행하지만 불필요한 메서드들이 많이 포함되어 있음  \n",
    "\n",
    "위의 디자인의 주요 문제점\n",
    "1. 계층 구조가 잘못됨\n",
    "    - 기본 클래스에서 새 클래스를 만드는 것은 개념적인 확장을 의미하는데, TransactionaPolicy라는 이름만 보고 사전 타입이라는 것을 알기 어려움\n",
    "1. 결합력(coupling)에 대한 문제\n",
    "    - TransactionalPolicy에 pop()이나 items()와 같은 불필요한 메서드가 포함되어있음\n",
    "    - 불필요한 메서드가 public이므로 사용자는 부작용이 있을 수도 있는 위의 메서드들을 호출할 수 있음\n",
    "    \n",
    "**위의 문제들이 바로 구현 객체를 도메인 객체와 혼합할 때 발생하는 문제**  \n",
    "**확장은 온전히 기본 클래스에 추가되며 보다 특화된 것을 구현할 때만 이루어져야 함.**"
   ]
  },
  {
   "cell_type": "markdown",
   "id": "9eab7f37",
   "metadata": {},
   "source": [
    "올바른 해결책은?? **컴포지션**을 사용하는 것  \n",
    "- TransactionalPolicy 자체가 사전이 되는 것이 아니라 사전을 활용하는 것  \n",
    "- 사전을 private 속성에 저장하고 &#95;&#95;getitem&#95;&#95;()으로 사전의 프록시를 만든 후 필요한 public 메서드 추가 구현하기"
   ]
  },
  {
   "cell_type": "code",
   "execution_count": 20,
   "id": "bdaa1936",
   "metadata": {},
   "outputs": [],
   "source": [
    "class TransactionalPolilcy:\n",
    "    \"\"\"컴포지션을 사용한 리팩토링 예제\"\"\"\n",
    "    \n",
    "    def __init__(self, policy_data, **extra_data):\n",
    "        self._data = {**policy_data, **extra_data}\n",
    "        \n",
    "    def change_in_policy(self, customer_id, **new_policy_data):\n",
    "        self._data[customer_id].update(**new_policy_data)\n",
    "        \n",
    "    def __getitem__(self, customer_id):\n",
    "        return self._data[customer_id]\n",
    "    \n",
    "    def __len__(self):\n",
    "        return len(self._data)"
   ]
  },
  {
   "cell_type": "markdown",
   "id": "56909022",
   "metadata": {},
   "source": [
    "## 파이썬의 다중 상속\n",
    "파이썬은 다중 상속을 지원함  \n",
    "부적절하게 사용된 다중 상속은 잘못 구현되면 큰 문제를 초래할 수 있으므로 조심하여 사용해야 함\n",
    "\n",
    "다중 상속을 올바르게 사용하기 위해서 새로운 패턴(e.g 어댑터 패턴)과 믹스인(mixin)을 사용"
   ]
  },
  {
   "cell_type": "markdown",
   "id": "5d240ff6",
   "metadata": {},
   "source": [
    "### 메서드 결정 순서(MRO)\n",
    "다중 상속 시 다이아몬드 문제와 같은 제약 조건이 발생할 수 있음  \n",
    "\n",
    "**다이아몬드 문제** \n",
    "\n",
    "&emsp;&emsp;A  \n",
    "&emsp;B&emsp;&nbsp;C  \n",
    "&emsp;&emsp;D  \n",
    "\n",
    "B와 C가 A를 상속하고 D가 B와 C를 상속하는 경우 D의 입장에서 B와 C가 같은 이름의 메서드를 가진 경우 어떤 메서드를 사용해야 할 지 모호해지는 문제"
   ]
  },
  {
   "cell_type": "code",
   "execution_count": 22,
   "id": "b39841c3",
   "metadata": {},
   "outputs": [],
   "source": [
    "class BaseModule:\n",
    "    module_name = \"top\"\n",
    "    \n",
    "    def __init__(self, module_name):\n",
    "        self.name = module_name\n",
    "    \n",
    "    def __str__(self):\n",
    "        return f\"{self.module_name}:{self.name}\"\n",
    "        \n",
    "class BaseModule1(BaseModule):\n",
    "    module_name = \"module-1\"\n",
    "    \n",
    "class BaseModule2(BaseModule):\n",
    "    module_name = \"module-2\"\n",
    "    \n",
    "class BaseModule3(BaseModule):\n",
    "    module_name = \"module-3\"\n",
    "    \n",
    "class ConcreteModuleA12(BaseModule1, BaseModule2):\n",
    "    \"\"\"1과 2 확장\"\"\"\n",
    "    \n",
    "class ConcreteModuleB23(BaseModule2, BaseModule3):\n",
    "    \"\"\"2와 3 확장\"\"\""
   ]
  },
  {
   "cell_type": "code",
   "execution_count": 23,
   "id": "ab414971",
   "metadata": {},
   "outputs": [
    {
     "data": {
      "text/plain": [
       "'module-1:test'"
      ]
     },
     "execution_count": 23,
     "metadata": {},
     "output_type": "execute_result"
    }
   ],
   "source": [
    "str(ConcreteModuleA12(\"test\"))"
   ]
  },
  {
   "cell_type": "markdown",
   "id": "07c3086d",
   "metadata": {},
   "source": [
    "위의 예제에서 ConcreteModuleA12이 BaseModule1과 BaseModule2를 상속받아 &#95;&#95;str&#95;&#95;를 호출한 결과 두 부모 클래스 중 어떤 메서드가 호출될 지 불명확해 보임\n",
    "- 결과적으로 충돌이 발생하지 않고 어떠한 메서드가 호출됨\n",
    "- 이 때 호출되는 메서드를 정의하는 알고리즘이 C3 linearization 또는 MRO임\n",
    "\n",
    "구체적으로 클래스에게 결정 순서를 물어볼 수도 있음"
   ]
  },
  {
   "cell_type": "code",
   "execution_count": 24,
   "id": "b57b044d",
   "metadata": {},
   "outputs": [
    {
     "data": {
      "text/plain": [
       "['ConcreteModuleA12', 'BaseModule1', 'BaseModule2', 'BaseModule', 'object']"
      ]
     },
     "execution_count": 24,
     "metadata": {},
     "output_type": "execute_result"
    }
   ],
   "source": [
    "[cls.__name__ for cls in ConcreteModuleA12.mro()]"
   ]
  },
  {
   "cell_type": "markdown",
   "id": "dac143a3",
   "metadata": {},
   "source": [
    "### 믹스인(mixin)\n",
    "믹스인은 코드를 재사용하기 위해 일반적인 행동을 캡슐화해놓은 기본 클래스  \n",
    "믹스인 클래스는 그 자체로는 유용하지 않으며 대부분이 클래스에 정의된 메서드나 속성에 의존하기 때문에 이 클래스만 확장해서는 확실히 동작하지 않음  \n",
    "보통은 다른 클래스와 함께 믹스인 클래스를 다중 상속하여 믹스인에 있는 메서드나 속성을 사용  \n",
    "\n",
    "**문자열을 받아서 하이픈(&#45;)으로 구분된 값을 반환하는 파서**"
   ]
  },
  {
   "cell_type": "code",
   "execution_count": 25,
   "id": "feaa9dc0",
   "metadata": {},
   "outputs": [
    {
     "data": {
      "text/plain": [
       "['aaaa', 'bbbb', 'cccc', 'dddd', 'eeee']"
      ]
     },
     "execution_count": 25,
     "metadata": {},
     "output_type": "execute_result"
    }
   ],
   "source": [
    "class BaseTokenizer:\n",
    "    def __init__(self, str_token):\n",
    "        self.str_token = str_token\n",
    "    \n",
    "    def __iter__(self):\n",
    "        yield from self.str_token.split(\"-\")\n",
    "        \n",
    "tk = BaseTokenizer(\"aaaa-bbbb-cccc-dddd-eeee\")\n",
    "list(tk)"
   ]
  },
  {
   "cell_type": "markdown",
   "id": "9a4a0392",
   "metadata": {},
   "source": [
    "기본 클래스를 변경하지 않고 값을 대문자로 변환하는 예제"
   ]
  },
  {
   "cell_type": "code",
   "execution_count": 28,
   "id": "041c5653",
   "metadata": {},
   "outputs": [
    {
     "data": {
      "text/plain": [
       "['AAAA', 'BBBB', 'CCCC', 'DDDD', 'EEEE']"
      ]
     },
     "execution_count": 28,
     "metadata": {},
     "output_type": "execute_result"
    }
   ],
   "source": [
    "class UpperIterableMixin:\n",
    "    def __iter__(self):\n",
    "        return map(str.upper, super().__iter__())\n",
    "\n",
    "class Tokenizer(UpperIterableMixin, BaseTokenizer):\n",
    "    pass\n",
    "\n",
    "tk = Tokenizer(\"aaaa-bbbb-cccc-dddd-eeee\")\n",
    "list(tk)"
   ]
  },
  {
   "cell_type": "markdown",
   "id": "506d1f81",
   "metadata": {},
   "source": [
    "Tokenizer 클래스는 믹스인을 사용하기 때문에 새로운 코드가 필요 없음  \n",
    "Tokenizer는 믹스인에서 &#95;&#95;iter&#95;&#95;를 호출하고 다시 super()를 호출하여 다음 클래스 BaseTokenizer에 위임하는데 이 때는 이미 대문자를 전달하기 때문에 원하는 결과를 얻을 수 있음"
   ]
  },
  {
   "cell_type": "code",
   "execution_count": null,
   "id": "025a1ab6",
   "metadata": {},
   "outputs": [],
   "source": []
  }
 ],
 "metadata": {
  "kernelspec": {
   "display_name": "Python 3 (ipykernel)",
   "language": "python",
   "name": "python3"
  },
  "language_info": {
   "codemirror_mode": {
    "name": "ipython",
    "version": 3
   },
   "file_extension": ".py",
   "mimetype": "text/x-python",
   "name": "python",
   "nbconvert_exporter": "python",
   "pygments_lexer": "ipython3",
   "version": "3.9.12"
  }
 },
 "nbformat": 4,
 "nbformat_minor": 5
}
