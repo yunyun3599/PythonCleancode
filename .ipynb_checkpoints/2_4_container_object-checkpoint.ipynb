{
 "cells": [
  {
   "cell_type": "markdown",
   "id": "a1d9b7e3",
   "metadata": {},
   "source": [
    "# 컨테이너 객체\n",
    "\n",
    "컨테이너는 &#95;&#95;contains&#95;&#95; 메서드를 구현한 객체로, &#95;&#95;contains&#95;&#95; 메서드는 일반적으로 Boolean 값을 반환  \n",
    "&#95;&#95;contains&#95;&#95; 메서드는 파이썬에서 in 키워드가 발견될 때 호출됨\n",
    "```python\n",
    "element in container\n",
    "```\n",
    "코드는 파이썬에서 다음과 같이 해석됨   \n",
    "```python\n",
    "container.__contains__(element)\n",
    "```\n",
    "&#95;&#95;contains&#95;&#95; 메서드를 잘 이용하면 코드의 가독성이 높아짐  \n",
    "<hr>\n",
    "다음은 2차원 지도에서 특정 위치에 표시를 하려고 할 때에 대한 코드"
   ]
  },
  {
   "cell_type": "code",
   "execution_count": 1,
   "id": "1ee94dab",
   "metadata": {},
   "outputs": [],
   "source": [
    "def mark_coordinate(grid, coord):\n",
    "    if 0 <= coord.x < grid.width and 0 <= coord.y < grid.height:\n",
    "        grid[coord] = MARKED"
   ]
  },
  {
   "cell_type": "markdown",
   "id": "c8b1e609",
   "metadata": {},
   "source": [
    "위의 코드에서 if문의 의도를 무엇인지 직관적으로 이해하기 어렵고 매번 경계선을 검사하기 위해 if문을 중복해서 호출하게 됨.  \n",
    "지도에서 자체적으로 grid 영역을 판단하는 방법을 쓰고 이를 더 작은 객체에게 위임하면 지도에 특정 좌표가 포함되어 있는지만 물어보면 됨"
   ]
  },
  {
   "cell_type": "code",
   "execution_count": 13,
   "id": "0c039554",
   "metadata": {},
   "outputs": [],
   "source": [
    "class Boundaries:\n",
    "    def __init__(self, width, height):\n",
    "        self.width = width\n",
    "        self.height = height\n",
    "        \n",
    "    def __contains__(self, coord):\n",
    "        x, y = coord\n",
    "        return 0 <= x < self.width and 0 <= y < self.height\n",
    "\n",
    "class Grid:\n",
    "    def __init__(self, width, height):\n",
    "        self.width =  width\n",
    "        self.height = height\n",
    "        self.limits = Boundaries(width, height)\n",
    "        \n",
    "    def __contains__(self, coord):\n",
    "        return coord in self.limits\n",
    "    \n",
    "def mark_coordinate(grid, coord):\n",
    "    if coord in grid:\n",
    "        grid[coord] = 'MARKED'"
   ]
  },
  {
   "cell_type": "code",
   "execution_count": null,
   "id": "a560d59e",
   "metadata": {},
   "outputs": [],
   "source": []
  },
  {
   "cell_type": "markdown",
   "id": "5962f915",
   "metadata": {},
   "source": [
    "위와 같이 코드를 작성하면   \n",
    "- 구성이 간단하고 위임을 통해 문제 해결 가능\n",
    "- 짧고 응집력 있는 메서드"
   ]
  },
  {
   "cell_type": "markdown",
   "id": "abdb2499",
   "metadata": {},
   "source": [
    "<hr>\n",
    "\n",
    "# 객체의 동적인 속성\n",
    "&#95;&#95;getattr&#95;&#95; 매직 메서드를 사용해 객체에서 속성을 얻는 방법 제어 가능  \n",
    "&#60;myobject&#62;, &#60;myattribute&#62;를 호출하여 파이썬은 객체의 사전에서 &#60;myattribute&#62;를 찾아서 &#95;&#95;getattr&#95;&#95;를 호출  \n",
    "객체에 찾고 있는 속성이 없는 경우 속성(myattribute)의 이름을 파라미터로 전달하여 &#95;&#95;getattr&#95;&#95;이라는 추가 메서드가 호출되고 이 값을 사용하여 반환값을 제어 및 새로운 속성 생성이 가능"
   ]
  },
  {
   "cell_type": "code",
   "execution_count": 18,
   "id": "33736ca5",
   "metadata": {},
   "outputs": [],
   "source": [
    "class DynamicAttributes:\n",
    "    def __init__(self, attribute):\n",
    "        self.attribute = attribute\n",
    "    \n",
    "    def __getattr__(self, attr):\n",
    "        if attr.startswith(\"fallback_\"):\n",
    "            name = attr.replace(\"fallback_\", \"\")\n",
    "            return f\"[fallback resolve] {name}\"\n",
    "        raise AttributeError(f\"{self.__class__.__name__}에는 {attr} 속성이 없음.\")"
   ]
  },
  {
   "cell_type": "code",
   "execution_count": 36,
   "id": "6be96209",
   "metadata": {},
   "outputs": [
    {
     "name": "stdout",
     "output_type": "stream",
     "text": [
      "1. value\n",
      "2. [fallback resolve] test\n",
      "3. new value\n",
      "4. default\n",
      "5. dyn.__dict__ = {'attribute': 'value', 'fallback_new': 'new value'}\n"
     ]
    },
    {
     "ename": "AttributeError",
     "evalue": "DynamicAttributes에는 something 속성이 없음.",
     "output_type": "error",
     "traceback": [
      "\u001b[1;31m---------------------------------------------------------------------------\u001b[0m",
      "\u001b[1;31mAttributeError\u001b[0m                            Traceback (most recent call last)",
      "Input \u001b[1;32mIn [36]\u001b[0m, in \u001b[0;36m<cell line: 8>\u001b[1;34m()\u001b[0m\n\u001b[0;32m      6\u001b[0m \u001b[38;5;28mprint\u001b[39m(\u001b[38;5;124m\"\u001b[39m\u001b[38;5;124m4.\u001b[39m\u001b[38;5;124m\"\u001b[39m, \u001b[38;5;28mgetattr\u001b[39m(dyn, \u001b[38;5;124m\"\u001b[39m\u001b[38;5;124msomething\u001b[39m\u001b[38;5;124m\"\u001b[39m, \u001b[38;5;124m\"\u001b[39m\u001b[38;5;124mdefault\u001b[39m\u001b[38;5;124m\"\u001b[39m))\n\u001b[0;32m      7\u001b[0m \u001b[38;5;28mprint\u001b[39m(\u001b[38;5;124m\"\u001b[39m\u001b[38;5;124m5. dyn.__dict__ =\u001b[39m\u001b[38;5;124m\"\u001b[39m, dyn\u001b[38;5;241m.\u001b[39m\u001b[38;5;18m__dict__\u001b[39m)\n\u001b[1;32m----> 8\u001b[0m \u001b[38;5;28mprint\u001b[39m(\u001b[38;5;124m\"\u001b[39m\u001b[38;5;124m6.\u001b[39m\u001b[38;5;124m\"\u001b[39m, \u001b[43mdyn\u001b[49m\u001b[38;5;241;43m.\u001b[39;49m\u001b[43msomething\u001b[49m)\n",
      "Input \u001b[1;32mIn [18]\u001b[0m, in \u001b[0;36mDynamicAttributes.__getattr__\u001b[1;34m(self, attr)\u001b[0m\n\u001b[0;32m      7\u001b[0m     name \u001b[38;5;241m=\u001b[39m attr\u001b[38;5;241m.\u001b[39mreplace(\u001b[38;5;124m\"\u001b[39m\u001b[38;5;124mfallback_\u001b[39m\u001b[38;5;124m\"\u001b[39m, \u001b[38;5;124m\"\u001b[39m\u001b[38;5;124m\"\u001b[39m)\n\u001b[0;32m      8\u001b[0m     \u001b[38;5;28;01mreturn\u001b[39;00m \u001b[38;5;124mf\u001b[39m\u001b[38;5;124m\"\u001b[39m\u001b[38;5;124m[fallback resolve] \u001b[39m\u001b[38;5;132;01m{\u001b[39;00mname\u001b[38;5;132;01m}\u001b[39;00m\u001b[38;5;124m\"\u001b[39m\n\u001b[1;32m----> 9\u001b[0m \u001b[38;5;28;01mraise\u001b[39;00m \u001b[38;5;167;01mAttributeError\u001b[39;00m(\u001b[38;5;124mf\u001b[39m\u001b[38;5;124m\"\u001b[39m\u001b[38;5;132;01m{\u001b[39;00m\u001b[38;5;28mself\u001b[39m\u001b[38;5;241m.\u001b[39m\u001b[38;5;18m__class__\u001b[39m\u001b[38;5;241m.\u001b[39m\u001b[38;5;18m__name__\u001b[39m\u001b[38;5;132;01m}\u001b[39;00m\u001b[38;5;124m에는 \u001b[39m\u001b[38;5;132;01m{\u001b[39;00mattr\u001b[38;5;132;01m}\u001b[39;00m\u001b[38;5;124m 속성이 없음.\u001b[39m\u001b[38;5;124m\"\u001b[39m)\n",
      "\u001b[1;31mAttributeError\u001b[0m: DynamicAttributes에는 something 속성이 없음."
     ]
    }
   ],
   "source": [
    "dyn = DynamicAttributes(\"value\")\n",
    "print(\"1.\", dyn.attribute)\n",
    "print(\"2.\", dyn.fallback_test)\n",
    "dyn.__dict__[\"fallback_new\"] = \"new value\"\n",
    "print(\"3.\", dyn.fallback_new)\n",
    "print(\"4.\", getattr(dyn, \"something\", \"default\"))\n",
    "print(\"5. dyn.__dict__ =\", dyn.__dict__)\n",
    "print(\"6.\", dyn.something)"
   ]
  },
  {
   "cell_type": "markdown",
   "id": "f280b1f5",
   "metadata": {},
   "source": [
    "1. 객체에 있는 속성을 요청하고 그 결과 값을 반환\n",
    "1. 객체에 없는 fallback_test라는 메서드를 호출하므로 &#95;&#95;getattr&#95;&#95;이 호출되어 값을 반환\n",
    "1. fallback_new 라는 새로운 속성이 생성됨 \n",
    "```python\n",
    "dyn.fallback_new = \"new value\"\n",
    "```\n",
    "와 동일. 이 때 &#95;&#95;getattr&#95;&#95;가 호출되지 않았으므로 &#95;&#95;getattr&#95;&#95;의 로직은 적용되지 않았음.\n",
    "1. 값을 검색할 수 없는 경우 AttributeError 예외가 발생. 예외 메시지를 포함해 일관성을 유지하고 내장 getattr() 함수에서도 필요한 부분 "
   ]
  },
  {
   "cell_type": "markdown",
   "id": "1a7e2b3a",
   "metadata": {},
   "source": [
    "<hr>\n",
    "\n",
    "# 호출형(callable) 객체\n",
    "이다. \n",
    "함수처럼 동작하는 객체를 정의하면 매우 편리한데, 가장 흔한 사례는 데코레이터를 만드는 것  \n",
    "데코레이터 생성 외에도 &#95;&#95;call&#95;&#95;을 사용하면 객체를 일반 함수처럼 호출할 수 있음. 여기에 전달된 모든 파라미터는 &#95;&#95;call&#95;&#95; 메서드에 그대로 전달됨\n",
    "*객체를 이렇게 사용하면 객체는 상태가 있으므로 함수 호출 사이에 정보를 저장할 수 있다는 장점이 있음*  \n",
    "\n",
    "파이썬은\n",
    "```python\n",
    "object(*args, **kwargs)\n",
    "```\n",
    "구문을 \n",
    "```python\n",
    "object.__call__(*args, **kwargs)\n",
    "```\n",
    "로 변환\n",
    "\n",
    "아래는 입력된 파라미터와 동일한 값으로 몇 번이나 호출되었는 지를 반환하는 객체를 만들 때 &#95;&#95;call&#95;&#95; 메서드를 사용하는 예"
   ]
  },
  {
   "cell_type": "code",
   "execution_count": 37,
   "id": "4d6d3ecc",
   "metadata": {},
   "outputs": [],
   "source": [
    "from collections import defaultdict\n",
    "\n",
    "class CallCount:\n",
    "    def __init__(self):\n",
    "        self._counts = defaultdict(int)\n",
    "        \n",
    "    def __call__(self, argument):\n",
    "        self._counts[argument] += 1\n",
    "        return self._counts[argument]"
   ]
  },
  {
   "cell_type": "code",
   "execution_count": 38,
   "id": "4b833936",
   "metadata": {},
   "outputs": [
    {
     "name": "stdout",
     "output_type": "stream",
     "text": [
      "1\n",
      "1\n",
      "2\n",
      "3\n",
      "1\n"
     ]
    }
   ],
   "source": [
    "cc = CallCount()\n",
    "print(cc(1))\n",
    "print(cc(2))\n",
    "print(cc(1))\n",
    "print(cc(1))\n",
    "print(cc(\"sth\"))"
   ]
  },
  {
   "cell_type": "markdown",
   "id": "2f445496",
   "metadata": {},
   "source": [
    "<hr>  \n",
    "\n",
    "# 파이썬에서 유의할 점\n",
    "방어코드를 작성하지 않으면 오랜 시간 디버깅하는 데 고생할 수 있는 일반적인 이슈  \n",
    "\n",
    "### 변경 가능한(mutable) 파라미터의 기본 값\n",
    "- 변경 가능한 객체를 함수의 기본 인자로 사용하면 안됨"
   ]
  },
  {
   "cell_type": "code",
   "execution_count": 47,
   "id": "bd0839f7",
   "metadata": {},
   "outputs": [],
   "source": [
    "def wrong_user_display(user_metadata: dict = {\"name\": \"John\", \"age\": 30}):\n",
    "    name = user_metadata.pop(\"name\")\n",
    "    age = user_metadata.pop(\"age\")\n",
    "    return f\"{name} ({age})\""
   ]
  },
  {
   "cell_type": "markdown",
   "id": "c02e0afc",
   "metadata": {},
   "source": [
    "위의 코드는 변경 가능한 인자를 사용했으며 함수의 본문에서 가변 객체를 수정하여 부작용이 발생하는 코드다.  \n",
    "그러나 가장 큰 쿤제는 user_metadata의 기본 인자인데, 이 함수는 인자를 사용하지 않고 처음 호출할 때만 동작한다."
   ]
  },
  {
   "cell_type": "code",
   "execution_count": 48,
   "id": "c046e441",
   "metadata": {},
   "outputs": [
    {
     "name": "stdout",
     "output_type": "stream",
     "text": [
      "John (30)\n",
      "Jane (25)\n"
     ]
    },
    {
     "ename": "KeyError",
     "evalue": "'name'",
     "output_type": "error",
     "traceback": [
      "\u001b[1;31m---------------------------------------------------------------------------\u001b[0m",
      "\u001b[1;31mKeyError\u001b[0m                                  Traceback (most recent call last)",
      "Input \u001b[1;32mIn [48]\u001b[0m, in \u001b[0;36m<cell line: 3>\u001b[1;34m()\u001b[0m\n\u001b[0;32m      1\u001b[0m \u001b[38;5;28mprint\u001b[39m(wrong_user_display())\n\u001b[0;32m      2\u001b[0m \u001b[38;5;28mprint\u001b[39m(wrong_user_display({\u001b[38;5;124m\"\u001b[39m\u001b[38;5;124mname\u001b[39m\u001b[38;5;124m\"\u001b[39m: \u001b[38;5;124m\"\u001b[39m\u001b[38;5;124mJane\u001b[39m\u001b[38;5;124m\"\u001b[39m, \u001b[38;5;124m\"\u001b[39m\u001b[38;5;124mage\u001b[39m\u001b[38;5;124m\"\u001b[39m: \u001b[38;5;241m25\u001b[39m}))\n\u001b[1;32m----> 3\u001b[0m \u001b[38;5;28mprint\u001b[39m(\u001b[43mwrong_user_display\u001b[49m\u001b[43m(\u001b[49m\u001b[43m)\u001b[49m)\n",
      "Input \u001b[1;32mIn [47]\u001b[0m, in \u001b[0;36mwrong_user_display\u001b[1;34m(user_metadata)\u001b[0m\n\u001b[0;32m      1\u001b[0m \u001b[38;5;28;01mdef\u001b[39;00m \u001b[38;5;21mwrong_user_display\u001b[39m(user_metadata: \u001b[38;5;28mdict\u001b[39m \u001b[38;5;241m=\u001b[39m {\u001b[38;5;124m\"\u001b[39m\u001b[38;5;124mname\u001b[39m\u001b[38;5;124m\"\u001b[39m: \u001b[38;5;124m\"\u001b[39m\u001b[38;5;124mJohn\u001b[39m\u001b[38;5;124m\"\u001b[39m, \u001b[38;5;124m\"\u001b[39m\u001b[38;5;124mage\u001b[39m\u001b[38;5;124m\"\u001b[39m: \u001b[38;5;241m30\u001b[39m}):\n\u001b[1;32m----> 2\u001b[0m     name \u001b[38;5;241m=\u001b[39m \u001b[43muser_metadata\u001b[49m\u001b[38;5;241;43m.\u001b[39;49m\u001b[43mpop\u001b[49m\u001b[43m(\u001b[49m\u001b[38;5;124;43m\"\u001b[39;49m\u001b[38;5;124;43mname\u001b[39;49m\u001b[38;5;124;43m\"\u001b[39;49m\u001b[43m)\u001b[49m\n\u001b[0;32m      3\u001b[0m     age \u001b[38;5;241m=\u001b[39m user_metadata\u001b[38;5;241m.\u001b[39mpop(\u001b[38;5;124m\"\u001b[39m\u001b[38;5;124mage\u001b[39m\u001b[38;5;124m\"\u001b[39m)\n\u001b[0;32m      4\u001b[0m     \u001b[38;5;28;01mreturn\u001b[39;00m \u001b[38;5;124mf\u001b[39m\u001b[38;5;124m\"\u001b[39m\u001b[38;5;132;01m{\u001b[39;00mname\u001b[38;5;132;01m}\u001b[39;00m\u001b[38;5;124m (\u001b[39m\u001b[38;5;132;01m{\u001b[39;00mage\u001b[38;5;132;01m}\u001b[39;00m\u001b[38;5;124m)\u001b[39m\u001b[38;5;124m\"\u001b[39m\n",
      "\u001b[1;31mKeyError\u001b[0m: 'name'"
     ]
    }
   ],
   "source": [
    "print(wrong_user_display())\n",
    "print(wrong_user_display({\"name\": \"Jane\", \"age\": 25}))\n",
    "print(wrong_user_display())"
   ]
  },
  {
   "cell_type": "markdown",
   "id": "dd4e2703",
   "metadata": {},
   "source": [
    "위와 같은 문제가 생기는 이유는 기본값을 이용해 함수를 호출하면 기본 데이터로 사용될 사전을 한 번만 생성하고 이 값은 프로그램이 실행되는 동안 계속 메모리에 남아있게 되는데, 함수 본체에서 객체를 수정하고 있으므로 이 상태에서 함수의 파라미터에 값을 전달하면 조금 전에 사용한 기본 인자 대신 변경된 값을 사용하게 되기 때문  \n",
    "첫번째 호출 시 key를 지워버렸으므로 두번째 호출시에는 정상 동작을 하지 않음  \n",
    "\n",
    "**해결법**  \n",
    "기본 초기 값으로 None을 사용하고 함수 본문에서 기본 값을 할당하면 됨  \n",
    "각 함수는 자체 스코프와 생명주기를 가지므로 None이 나타날 때마다 user_metadata를 사전에 할당"
   ]
  },
  {
   "cell_type": "markdown",
   "id": "03de837b",
   "metadata": {},
   "source": [
    "### 내장(built-in) 타입 확장\n",
    "리스트, 문자열, 사전과 같은 내장 타입을 확장하는 올바른 방법은 collections 모듈을 사용하는 것  \n",
    "&#60;e.g.&#62; dict를 직접 확장하는 클래스를 만들면 예상하지 못한 결과를 얻을 수 있음  \n",
    "- 클래스의 메서드를 서로 호출하지 않기 때문에 메서드 중에 하나를 오버라이드하면 나머지에는 반영되지 않아 예기치 않은 결과 발생\n",
    "- &#95;&#95;getitem&#95;&#95;을 오버라이드하고 for 루프를 사용해 객체를 반복하려고하면 해당 로직이 적용되지 않음\n",
    "\n",
    "**해결법**  \n",
    "collections.UserDict를 사용하여 문제를 해결 가능  \n",
    "\n",
    "**&#60;입력 받은 숫자를 접두어가 있는 문자열로 변환하는 리스트를 만드는 예제&#62;**"
   ]
  },
  {
   "cell_type": "code",
   "execution_count": 49,
   "id": "a4df5c27",
   "metadata": {},
   "outputs": [],
   "source": [
    "class BadList(list):\n",
    "    def __getitem__(self, index):\n",
    "        value = super().__getitem__(index)\n",
    "        if index % 2 == 0:\n",
    "            prefix = \"짝수\"\n",
    "        else:\n",
    "            prefix = \"홀수\"\n",
    "        return f\"[{prefix} {value}]\""
   ]
  },
  {
   "cell_type": "code",
   "execution_count": 51,
   "id": "47d0a9cf",
   "metadata": {},
   "outputs": [
    {
     "name": "stdout",
     "output_type": "stream",
     "text": [
      "b1[0]: [짝수 0]\n",
      "b1[1]: [홀수 1]\n"
     ]
    },
    {
     "ename": "TypeError",
     "evalue": "sequence item 0: expected str instance, int found",
     "output_type": "error",
     "traceback": [
      "\u001b[1;31m---------------------------------------------------------------------------\u001b[0m",
      "\u001b[1;31mTypeError\u001b[0m                                 Traceback (most recent call last)",
      "Input \u001b[1;32mIn [51]\u001b[0m, in \u001b[0;36m<cell line: 4>\u001b[1;34m()\u001b[0m\n\u001b[0;32m      2\u001b[0m \u001b[38;5;28mprint\u001b[39m(\u001b[38;5;124m\"\u001b[39m\u001b[38;5;124mb1[0]:\u001b[39m\u001b[38;5;124m\"\u001b[39m, b1[\u001b[38;5;241m0\u001b[39m])\n\u001b[0;32m      3\u001b[0m \u001b[38;5;28mprint\u001b[39m(\u001b[38;5;124m\"\u001b[39m\u001b[38;5;124mb1[1]:\u001b[39m\u001b[38;5;124m\"\u001b[39m, b1[\u001b[38;5;241m1\u001b[39m])\n\u001b[1;32m----> 4\u001b[0m \u001b[38;5;28mprint\u001b[39m(\u001b[38;5;124;43m\"\u001b[39;49m\u001b[38;5;124;43m\"\u001b[39;49m\u001b[38;5;241;43m.\u001b[39;49m\u001b[43mjoin\u001b[49m\u001b[43m(\u001b[49m\u001b[43mb1\u001b[49m\u001b[43m)\u001b[49m)\n",
      "\u001b[1;31mTypeError\u001b[0m: sequence item 0: expected str instance, int found"
     ]
    }
   ],
   "source": [
    "b1 = BadList((0, 1, 2, 3, 4, 5))\n",
    "print(\"b1[0]:\", b1[0])\n",
    "print(\"b1[1]:\", b1[1])\n",
    "print(\"\".join(b1))"
   ]
  },
  {
   "cell_type": "markdown",
   "id": "8dd47d8d",
   "metadata": {},
   "source": [
    "join은 문자열 리스트를 반복하는 함수로 BadList의 &#95;&#95;getitem&#95;&#95;에서 문자열을 반환했기 때문에 괜찮을 것이라 생각했지만 반복의 결과 앞서 정의한 &#95;&#95;getitem&#95;&#95;이 호출되지 않음  \n",
    "*(위의 문제는 CPython의 세부 구현 사항이며 PyPy와 같은 다른 플랫폼에서는 재현되지 않음)*  \n",
    "\n",
    "위의 상황을 리스트가 아니라 **UserList**를 확장하여 수정하면 아래와 같음"
   ]
  },
  {
   "cell_type": "code",
   "execution_count": 52,
   "id": "233d0305",
   "metadata": {},
   "outputs": [],
   "source": [
    "from collections import UserList\n",
    "\n",
    "class GoodList(UserList):\n",
    "    def __getitem__(self, index):\n",
    "        value = super().__getitem__(index)\n",
    "        if index % 2 == 0:\n",
    "            prefix = \"짝수\"\n",
    "        else:\n",
    "            prefix = \"홀수\"\n",
    "        \n",
    "        return f\"[{prefix}] {value}\""
   ]
  },
  {
   "cell_type": "code",
   "execution_count": 59,
   "id": "7b30f00a",
   "metadata": {},
   "outputs": [
    {
     "name": "stdout",
     "output_type": "stream",
     "text": [
      "b1[0]: [짝수] 0\n",
      "b1[1]: [홀수] 1\n",
      "[짝수] 0; [홀수] 1; [짝수] 2\n"
     ]
    }
   ],
   "source": [
    "g1 = GoodList((0, 1, 2))\n",
    "print(\"b1[0]:\", g1[0])\n",
    "print(\"b1[1]:\", g1[1])\n",
    "print(\"; \".join(g1))"
   ]
  },
  {
   "cell_type": "code",
   "execution_count": null,
   "id": "1e71e857",
   "metadata": {},
   "outputs": [],
   "source": []
  }
 ],
 "metadata": {
  "kernelspec": {
   "display_name": "Python 3 (ipykernel)",
   "language": "python",
   "name": "python3"
  },
  "language_info": {
   "codemirror_mode": {
    "name": "ipython",
    "version": 3
   },
   "file_extension": ".py",
   "mimetype": "text/x-python",
   "name": "python",
   "nbconvert_exporter": "python",
   "pygments_lexer": "ipython3",
   "version": "3.9.12"
  }
 },
 "nbformat": 4,
 "nbformat_minor": 5
}
