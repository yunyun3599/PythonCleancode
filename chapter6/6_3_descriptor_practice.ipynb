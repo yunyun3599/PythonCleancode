{
 "cells": [
  {
   "cell_type": "markdown",
   "id": "3e4c3f99",
   "metadata": {},
   "source": [
    "# 디스크립터 실전  \n",
    "- 디스크립터를 통해 처리할 수 있는 몇 가지 상황 알아보기  \n",
    "- 디스크립터에 대한 여러 구현 방법과 각각의 장단점 등 살펴보기\n",
    "- 디스크립터를 사용하기에 가장 적합한 시나리오는 어떤 것들이 있는 지 알아보기  \n",
    "\n",
    "## 디스크립터를 사용한 애플리케이션  \n",
    "- 최종적으로 코드 중복을 최소화 하는 방향의 예제로 발전시키기 \n",
    "- 중복 코드를 디스크립터로 추상화함으로써 클라이언트의 코드 줄이기\n",
    "\n",
    "### 디스크립터를 사용하지 않은 예  \n",
    "예제: 속성을 가진 일반 클래스의 속성 값이 달라질 때마다 추적  \n",
    "-> 방법1: 속성의 setter 메서드에서 값이 변경될 때 검사하여 리스트와 같은 내부 변수에 값을 저장하기  \n",
    "예제의 내용: 여행자 클래스, 현재 어느 도시에 있는 지를 속성으로 가짐. 사용자가 방문한 모든 도시를 추적"
   ]
  },
  {
   "cell_type": "code",
   "execution_count": 1,
   "id": "137303ee",
   "metadata": {},
   "outputs": [],
   "source": [
    "class Traveller:\n",
    "    def __init__(self, name, current_city):\n",
    "        self.name = name\n",
    "        self._current_city = current_city\n",
    "        self._cities_visited = [current_city]\n",
    "        \n",
    "    @property\n",
    "    def current_city(self):\n",
    "        return self._current_city\n",
    "    \n",
    "    @current_city.setter\n",
    "    def current_city(self, new_city):\n",
    "        if new_city != self._current_city:\n",
    "            self._cities_visited.append(new_city)\n",
    "            self._current_city = new_city\n",
    "            \n",
    "    @property\n",
    "    def cities_visited(self):\n",
    "        return self._cities_visited"
   ]
  },
  {
   "cell_type": "code",
   "execution_count": 4,
   "id": "f4d62d2d",
   "metadata": {},
   "outputs": [
    {
     "data": {
      "text/plain": [
       "['Barcelona', 'Paris', 'Brussels', 'Amsterdam']"
      ]
     },
     "execution_count": 4,
     "metadata": {},
     "output_type": "execute_result"
    }
   ],
   "source": [
    "alice = Traveller(\"Alice\", \"Barcelona\")\n",
    "alice.current_city = \"Paris\"\n",
    "alice.current_city = \"Brussels\"\n",
    "alice.current_city = \"Amsterdam\"\n",
    "alice.cities_visited"
   ]
  },
  {
   "cell_type": "markdown",
   "id": "a0ecd996",
   "metadata": {},
   "source": [
    "위의 기능만 구현해도 된다면 추가로 구현할 필요 없이 프로퍼티만 사용해도 충분함.  \n",
    "그러나 애플리케이션 여러 곳에서 똑같은 로직을 사용하여 속성의 모든 변수를 추적해야한다면 같은 로직을 반복해야함.  \n",
    "\n",
    "### 이상적인 구현 방법  \n",
    "모든 클래스에 적용할 수 있도록 디스크립터를 사용하여 이전 섹션의 문제를 해결해보기  \n",
    "속성에 대해 이름을 가진 일반적인 디스크립터 생성. 이 디스크립터는 값이 달라질 경우 리스트에 저장하여 추적하는 기능을 가짐  \n",
    "\n",
    "디스크립터는 특정 도메인과 관련이 없게 다른 유형의 클래스에서도 동일한 결과를 내도록 설계되었음"
   ]
  },
  {
   "cell_type": "code",
   "execution_count": 5,
   "id": "894a1dec",
   "metadata": {},
   "outputs": [],
   "source": [
    "class HistoryTracedAttribute:\n",
    "    def __init__(self, trace_attribute_name) -> None:\n",
    "        \"\"\"\n",
    "        속성의 이름은 디스크립터에 할당된 변수 중 하나로 이 예제에서는 current_city임\n",
    "        이에대한 추적을 저장할 변수의 이름을 디스크립터에 전달.\n",
    "        이 예에서는 cities_visited라는 속성에 current_city의 모든 값을 추적하도록 지시\n",
    "        \"\"\"  \n",
    "        self.trace_attribute_name = trace_attribute_name\n",
    "        self._name = None\n",
    "        \n",
    "    def __set_name__(self, owner, name):\n",
    "        self._name = name\n",
    "        \n",
    "    def __get__(self, instance, owner):\n",
    "        if instance is None:\n",
    "            return self\n",
    "        return instance.__dict__[self._name] \n",
    "    \n",
    "    def __set__(self, instance, value):\n",
    "        self._track_change_in_value_for_instance(instance, value)\n",
    "        instance.__dict__[self._name] = value\n",
    "        \n",
    "    def _track_change_in_value_for_instance(self, instance, value):\n",
    "        \"\"\"\n",
    "        디스크립터를 처음으로 호출할 때는 추적 값이 존재하지 않을 것이므로 나중에 추가할 수 있도록 비어있는 배열로 초기화\n",
    "        \"\"\"\n",
    "        self._set_default(instance)\n",
    "        if self._needs_to_track_change(instance, value):\n",
    "            instance.__dict__[self.trace_attribute_name].append(value)\n",
    "            \n",
    "    def _needs_to_track_change(self, instance, value) -> bool:\n",
    "        try:\n",
    "            current_value = instance.__dict__[self._name]\n",
    "        except KeyError:\n",
    "            \"\"\"\n",
    "            처음 Traveller를 호출할 때는 방문지가 없으므로 인스턴스 사전에서 current_city 키도 존재하 않음\n",
    "            이런 경우도 새로운 여행지가 생긴 것이므로 추적의 대상이 됨.\n",
    "            \"\"\"\n",
    "            return true\n",
    "        return value != current_value # 새 값이 설정된 값과 다를 때만 변경 사항 저장\n",
    "    \n",
    "    def _set_default(self, instance):\n",
    "        instance.__dict__.setdefault(self.trace_attribute_name, []) \n",
    "        # 사전의 setdefault 메서드는 KeyError를 피하기 위해서 사용됨\n",
    "        # setdefault는 두 개의 파라미터를 받는데 첫 번째 파라미터의 키가 있으면 해당 값을 반환하고, 없으면 두번째 파라미터를 반환\n",
    "        \n",
    "class Traveller:\n",
    "    current_city = HistoryTracedAttribute(\"cities_visited\")\n",
    "    \n",
    "    def __init__(self, name, current_city):\n",
    "        \"\"\"\n",
    "        Traveller의 __init__메서드에서 디스크립터가 이미 생성된 단계.\n",
    "        할당 명령은 2단계 값을 추적하기 위한 빈 리스트 만들기를 실행하고, \n",
    "        3단계를 실행하여 리스트에 값을 추가하고 나중에 검색하기 위한 키를 설정함\n",
    "        \"\"\"\n",
    "        self.name = name\n",
    "        self.current_city = current_city"
   ]
  },
  {
   "cell_type": "markdown",
   "id": "cb5bda40",
   "metadata": {},
   "source": [
    "디스크립터 코드는 다소 복잡해졌으나 클라이언트 클래스의 코드는 상당히 간단해짐.  \n",
    "위의 디스크립터를 여러번 사용한다면 디스크립터를 사용하는 것이 클래스마다 중복 코드를 생성하는 것보다 나음  \n",
    "디스크립터 안에는 어떠한 비즈니스 로직도 포함되어 있지 않기 때문에 완전히 다른 어떤 클래스에서 적용하여도 같은 효과를 냄  \n",
    "디스크립터는 비즈니스 로직의 구현보다는 라이브러리, 프레임워크 또는 내부 API를 정의하는 데 적합함."
   ]
  },
  {
   "cell_type": "markdown",
   "id": "64785177",
   "metadata": {},
   "source": [
    "## 다른 형태의 디스크립터\n",
    "### 전역 상태 공유 이슈\n",
    "디스크립터는 클래스 속성으로 설정해야함. \n",
    "- 클래스 속성의 문제점: 해당 클래스의 모든 인스턴스에서 공유됨\n",
    "- 디스크립터 객체에 데이터를 보관하면 모든 객체가 동일한 값에 접근할 수 있음\n",
    "\n",
    "아래의 코드는 각 객체에 데이터를 저장하는 대신 디스크립터가 데이터 자체를 유지하도록 잘못 정의하면 어떻게 되는 지에 대한 예시"
   ]
  },
  {
   "cell_type": "code",
   "execution_count": 9,
   "id": "a1ac91e3",
   "metadata": {},
   "outputs": [],
   "source": [
    "class SharedDataDescriptor:\n",
    "    def __init__(self, initial_value):\n",
    "        self.value = initial_value\n",
    "        \n",
    "    def __get__(self, instance, owner):\n",
    "        if instance is None:\n",
    "            return self\n",
    "        return self.value\n",
    "    \n",
    "    def __set__(self, instance, value):\n",
    "        self.value = value\n",
    "        \n",
    "class ClientClass:\n",
    "    descriptor = SharedDataDescriptor(\"첫 번째 값\")"
   ]
  },
  {
   "cell_type": "code",
   "execution_count": 10,
   "id": "d243a307",
   "metadata": {},
   "outputs": [
    {
     "name": "stdout",
     "output_type": "stream",
     "text": [
      "1. 첫 번째 값\n",
      "2. 첫 번째 값\n",
      "3. client2를 위한 값\n",
      "4. client2를 위한 값\n"
     ]
    }
   ],
   "source": [
    "client1 = ClientClass()\n",
    "print(\"1. \"+client1.descriptor)\n",
    "\n",
    "client2 = ClientClass()\n",
    "print(\"2. \"+client2.descriptor)\n",
    "client2.descriptor = \"client2를 위한 값\"\n",
    "print(\"3. \"+client2.descriptor)\n",
    "print(\"4. \"+client1.descriptor)"
   ]
  },
  {
   "cell_type": "markdown",
   "id": "fc24c757",
   "metadata": {},
   "source": [
    "한 객체의 값을 변경하면 갑자기 모든 객체의 값이 한꺼번에 변경됨  \n",
    "이는 ClientClass.descriptor가 고유하기 때문  \n",
    "\n",
    "이를 해결하기 위해서 디스크립터는 각 인스턴스의 값을 보관했다가 반환해야 함.  \n",
    "이것이 각 인스턴스의 &#95;&#95;dict&#95;&#95; 사전에 값을 설정하고 검색하는 이유\n",
    "\n",
    "앞에서 살펴본 바에 따르면 getattr()과 setattr()을 사용할 수 없으므로 &#95;&#95;dict&#95;&#95; 속성을 수정하는 것이 최후의 사용 가능한 선택임\n",
    "\n",
    "### 객체의 사전에 접근하기\n",
    "디스크립터는 객체의 사전 &#95;&#95;dict&#95;&#95;에 값을 저장하고 조회함\n",
    "\n",
    "### 약한 참조 사용\n",
    "&#95;&#95;dict&#95;&#95;를 사용하지 않으려는 경우 또 다른 대안은 디스크립터 객체가 직접 내부 매핑을 통해 각 인스턴스의 값을 보관하고 반환하는 것  \n",
    "단, 내부 매핑을 할 때 사전을 사용하지 않도록 주의할 것  \n",
    "- 클라이언트 클래스는 디스크립터에 대한 참조를 가지며 디스크립터는 디스크립터를 사용하는 객체에 대한 참조를 가지므로 순환 종속성이 생겨 결과적으로 결코 가비지 컬렉션이 되지 않는 문제가 있음  \n",
    "- 이를 해결하기 위해 사전은 weakref(WEAKREF 01) 모듈에 정의된 것처럼 약한 키가 되어야 함 (약한 참조만으로는 객체를 살아있도록 유지할 수 없음)\n",
    "\n",
    "이 경우 디스크립터의 코드는 다음과 같음"
   ]
  },
  {
   "cell_type": "code",
   "execution_count": 13,
   "id": "b5996ad9",
   "metadata": {},
   "outputs": [],
   "source": [
    "from weakref import WeakKeyDictionary\n",
    "\n",
    "class DescriptorClass:\n",
    "    def __init__(self, initial_value):\n",
    "        self.value = initial_value\n",
    "        self.mapping = weakKeyDictionary()\n",
    "        \n",
    "    def __get__(self, instacne, owner):\n",
    "        if instance is None:\n",
    "            return self\n",
    "        return self.mapping.get(instance, self.value)\n",
    "    \n",
    "    def __set__(self, instance, value):\n",
    "        self.mapping[instance] = value"
   ]
  },
  {
   "cell_type": "markdown",
   "id": "ad92acaf",
   "metadata": {},
   "source": [
    "위와 같이 하면 문제가 해결되나 몇 가지 고려사항이 있음  \n",
    "- 인스턴스 객체는 더이상 속성을 보유하지 않고 대신 디스크립터가 속성을 보유함  \n",
    "    - 객체의 사전에 있는 내용을 찾으려고 해도 (e.g. vars(client) 호출) 객체는 속성을 보유하지 않으므로 완전한 데이터를 반환하지 않음  \n",
    "- 객체는 &#95;&#95;hash&#95;&#95; 메서드를 구현하여 해시가 가능해야함. 만약 해시가 가능하지 않으면 WeakKeyDictionary에 매핑할 수 없음  \n",
    "\n",
    "이러한 이유로 각 인스턴스의 &#95;&#95;dict&#95;&#95; 사전을 사용하는 방법을 선호 "
   ]
  },
  {
   "cell_type": "markdown",
   "id": "dcfa7d11",
   "metadata": {},
   "source": [
    "## 디스크립터에 대한 추가 고려사항  \n",
    "디스크립터를 사용하는 것이 좋은 선택일 경우 어떤 일을 할 수 있는 지, 처음에 접근했던 방법을 디스크립터를 사용해 어떻게 개선할 수 있을 지에 대한 관점에서 고려사항 검토하기  \n",
    "디스크립터를 사용해 구현한 후에 원래 구현과 비교하여 장단점 비교해보기  \n",
    "\n",
    "### 코드 재사용  \n",
    "디스크립터는 코드 중복을 피하기 위한 일반적인 도구이자 강력한 추상화 도구임  \n",
    "디스크립터가 필요한 곳을 찾는 가장 좋은 방법은 프로퍼티가 필요한 구조가 반복되는 경우를 찾는 것  \n",
    "\n",
    "**프로퍼티**: 디스크립터의 특수한 경우 (@property 데코레이터는 get, set, delete 작업을 정의하여 디스크립터 프로토콜을 모두 구현한 디스크립터  \n",
    "-> 디스크립터는 프로퍼티보다 훨씬 복잡한 작업에 사용될 수 있음  \n",
    "\n",
    "디스크립터는 데코레이터가 클래스 메서드에서도 동작할 수 있도록 도와 더 나은 데코레이터를 만들 수 있게 함  \n",
    "앞서 데코레이터를 사용할 만한 가치가 있는 지 결정하기 위해 활용한 3의 규칙을 디스크립터 사용 가치를 판별할 때도 활용할 수 있음  \n",
    "\n",
    "3의 규칙 외에도 클라이언트가 사용하게 되는 내부 API에 대해서는 디스크립터를 사용하는 것이 좋음  \n",
    "-> 일회성 솔루션이 아닌 라이브러리나 프레임워크의 디자인에 대해서는 기능을 확장하기 좋기 때문  \n",
    "\n",
    "- 디스크립터에는 특별한 이유나 확실한 장점이 없는 이상 비즈니스 로직을 넣으면 안됨  \n",
    "- 디스크립터의 코드에는 비즈니스 코드가 아닌 구현 코드가 더 많이 포함되어야 함  \n",
    "- 디스크립터는 비즈니스 로직에서 사용할 새로운 객체나 데이터 구조를 정의하는 것과 유사"
   ]
  },
  {
   "cell_type": "markdown",
   "id": "986243ed",
   "metadata": {},
   "source": [
    "### 클래스 데코레이터 피하기\n",
    "5장에서 이벤트 객체의 직렬화 방식을 결정하기 위해 사용한 클래스 데코레이터를 떠올려 보면 두 개의 클래스 데코레이터를 사용하여 구현하였음\n",
    "```python\n",
    "@Serialization(\n",
    "    username=show_original,\n",
    "    password=hide_field, \n",
    "    ip=show_original, \n",
    "    timestamp=format_time\n",
    ")\n",
    "@dataclass\n",
    "class LoginEvent:\n",
    "    username: str\n",
    "    password: str\n",
    "    ip: str\n",
    "    timestamp: datetime\n",
    "```\n",
    "\n",
    "첫 번째 것은 어노테이션에서 속성을 가져와 변수를 선언할 때 사용하는 반면 두번째는 파일을 처리하는 방법을 정의함  \n",
    "위의 두 가지 데코레이터를 디스크립터로 변경하는 것에 대한 예제  \n",
    "-> 각 속성의 값에 대해 요건에 맞게 변환 후 수정된 벼전을 반환하는 디스크립터를 만듦"
   ]
  },
  {
   "cell_type": "code",
   "execution_count": 16,
   "id": "51016315",
   "metadata": {},
   "outputs": [],
   "source": [
    "from functools import partial\n",
    "from typing import Callable\n",
    "\n",
    "class BaseFieldTransformation:\n",
    "    \n",
    "    def __init__(self, transformation: Callable[[], str]) -> None:\n",
    "        self._name = None\n",
    "        self.transformation = transformation\n",
    "        \n",
    "    def __get__(self, instance, owner):\n",
    "        if instance is None:\n",
    "            return self\n",
    "        raw_value = instance.__dict__[self._name]\n",
    "        return self.transformation(raw_value)\n",
    "    \n",
    "    def __set_name__(self, owner, name):\n",
    "        self._name = name\n",
    "        \n",
    "    def __set__(self, instance, value):\n",
    "        instance.__dict__[self._name] = value\n",
    "        \n",
    "ShowOriginal = partial(BaseFieldTransformation, transformation=lambda x: x)\n",
    "HideField = partial(BaseFieldTransformation, transformation=lambda x: \"**민감한 정보 삭제**\")\n",
    "FormatTime = partial(BaseFieldTransformation, transformation=lambda ft: ft.strftime(\"%Y-%m-%d %H:%M\"))"
   ]
  },
  {
   "cell_type": "markdown",
   "id": "e5e6f3f3",
   "metadata": {},
   "source": [
    "하나의 파라미터를 취하여 하나의 값을 반환하는 함수를 가진 디스크립터  \n",
    "위 예제는 하위 클래스를 추가 생성하는 방법을오 functools.partial을 사용  \n",
    "- functools.partial()은 하나 이상의 인수가 이미 채워진 새 버전의 함수를 만들 때 사용하는 함수  \n",
    "\n",
    "클래스 변환 함수에 호출 가능한 함수를 직접 전달하여 함수의 새 버전을 생성  \n",
    "\n",
    "이벤트 클래스는 아래와 같음"
   ]
  },
  {
   "cell_type": "code",
   "execution_count": 17,
   "id": "bc778919",
   "metadata": {},
   "outputs": [],
   "source": [
    "class LoginEvent:\n",
    "    username = ShowOriginal()\n",
    "    password = HideField()\n",
    "    ip = ShowOriginal()\n",
    "    timestamp = FormatTime()\n",
    "    \n",
    "    def __init__(self, username, password, ip, timestamp):\n",
    "        self.username = username\n",
    "        self.password = password\n",
    "        self.ip = ip\n",
    "        self.timestamp = timestamp\n",
    "        \n",
    "    def serialize(self):\n",
    "        return {\n",
    "            \"username\": self.username,\n",
    "            \"password\": self.password,\n",
    "            \"ip\": self.ip,\n",
    "            \"timestamp\": self.timestamp\n",
    "        }"
   ]
  },
  {
   "cell_type": "code",
   "execution_count": 20,
   "id": "70a20566",
   "metadata": {},
   "outputs": [
    {
     "name": "stdout",
     "output_type": "stream",
     "text": [
      "{'username': 'john', 'password': 'secret password', 'ip': '1.1.1.1', 'timestamp': datetime.datetime(2022, 8, 6, 6, 52, 46, 311276)}\n",
      "{'username': 'john', 'password': '**민감한 정보 삭제**', 'ip': '1.1.1.1', 'timestamp': '2022-08-06 06:52'}\n",
      "**민감한 정보 삭제**\n"
     ]
    }
   ],
   "source": [
    "from datetime import datetime\n",
    "\n",
    "le = LoginEvent(\"john\", \"secret password\", \"1.1.1.1\", datetime.utcnow())\n",
    "print(vars(le))\n",
    "print(le.serialize())\n",
    "print(le.password)"
   ]
  },
  {
   "cell_type": "markdown",
   "id": "790e04df",
   "metadata": {},
   "source": [
    "데코레이터를 사용한 이전 구현과 비교하였을 때의 차이점\n",
    "- serialize() 메서드를 추가하고 필드를 결과 사전에 표시하기 전에 숨겼으나 메모리의 이벤트 인스턴스에서 변환을 적용하지 않은 원래의 값을 구할 수 있음  \n",
    "- 객체의 public 속성을 요청하면 디스크립터가 결과를 보여주기 전에 변환 작업을 적용함. 객체의 &#95;&#95;dict&#95;&#95; 사전에 접근하여 원본 값을 가져올 수 있음. 그러나 기본적으로는 값을 요청하면 변환된 값을 반환함  \n",
    "- 템플릿 메서드 디자인 패턴으로 클래스마다 고유한 변환 함수를 갖도록 클래스 계층 구조를 만들 수 있으나 이번 예제에서는 파생 클래스의 변경 사항이 상대적으로 적기 때문에 (1개의 함수) 파생 클래스를 기본 클래스의 부분 애플리케이션으로 만드는 방법을 선택함  \n",
    "- 새로운 변환 필드를 생성하는 것은 새로운 기본 클래스를 정의하는 것만큼 간단해야함.  \n",
    "- 디스크립터는 객체이므로 모델을 만들어서 객체지향 프로그래밍의 규칙을 적용 가능  \n",
    "    - 위의 예제는 4장 SOLID 원칙의 OCP를 따름\n",
    "    - 새로운 변환 기능을 추가할 때 기본 클래스를 수정하지 않고 파생 클래스를 만들면 되기 때문\n",
    "    \n",
    "&#95;&#95;init&#95;&#95;()과 serialize() 메서드를 구현한 기본 클래스를 만들고 그것을 상속받아 LoginEvent 클래스를 간단히 정의하는 방법은 아래와 같음\n",
    "```python\n",
    "class LoginEvent(BaseEvent):\n",
    "    username = ShowOriginal()\n",
    "    password = HideField()\n",
    "    ip = ShowOriginal()\n",
    "    timestamp = FormatTime()\n",
    "```\n",
    "이렇게 코드를 작성하면 클래스가 훨씬 깔끔해 보임.  \n",
    "기본 클래스는 공통 메서드만 추상화 할 것이고 결과적으로 각 이벤트 클래스는 더 작고 간단하게 됨  \n",
    "각 이벤트 클래스가 단순해질 뿐 아니라 디스크립터 자체도 매우 작아서 클래스 데코레이터보다 훨씬 간단하므로 디스크립터를 사용한 방식이 보다 뛰어남"
   ]
  },
  {
   "cell_type": "code",
   "execution_count": null,
   "id": "2f9d30ed",
   "metadata": {},
   "outputs": [],
   "source": []
  }
 ],
 "metadata": {
  "kernelspec": {
   "display_name": "Python 3 (ipykernel)",
   "language": "python",
   "name": "python3"
  },
  "language_info": {
   "codemirror_mode": {
    "name": "ipython",
    "version": 3
   },
   "file_extension": ".py",
   "mimetype": "text/x-python",
   "name": "python",
   "nbconvert_exporter": "python",
   "pygments_lexer": "ipython3",
   "version": "3.9.12"
  }
 },
 "nbformat": 4,
 "nbformat_minor": 5
}
