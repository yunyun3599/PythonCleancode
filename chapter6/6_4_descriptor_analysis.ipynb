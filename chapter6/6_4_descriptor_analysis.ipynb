{
 "cells": [
  {
   "cell_type": "markdown",
   "id": "aaacb5dd",
   "metadata": {},
   "source": [
    "# 디스크립터 분석\n",
    "\n",
    "## 파이썬 내부에서의 디스크립터 활용\n",
    "좋은 디스크립터인지 확인하는 간단한 방법은 다른 파이썬 객체와 얼마나 유사한 지를 보는 것  \n",
    "좋은 디스크립터는 파이썬 자체의 디스크립터와 동일  \n",
    "파이썬이 내부 로직의 일부를 해결하기 위해 디스크립터를 사용하는 가장 일반적인 시나리오 살펴보기  \n",
    "\n",
    "### 함수와 메서드\n",
    "함수는 &#95;&#95;get&#95;&#95; 메서드를 구현했기 때문에 클래스 안에서 메서드처럼 동작 가능  \n",
    "메서드 = 추가 파라미터를 가진 함수.\n",
    "- 관습적으로 메서드의 첫 번째 파라미터는 \"self\"라는 이름을 사용하여 메서드를 소유하고 있는 클래스의 인스턴스를 나타냄  \n",
    "- 메서드에서 \"self\"를 사용하는 것은 객체를 받아서 수정을 하는 함수를 사용하는 것과 동일  \n",
    "```python\n",
    "class MyClass:\n",
    "    def method(self, ...):\n",
    "        self.x = 1\n",
    "```\n",
    "위의 코드는 아래처럼 정의하는 것과 같음\n",
    "```python\n",
    "class MyClass: \n",
    "    pass\n",
    "def method(myclass_instance, ...):\n",
    "    myclass_instance.x = 1\n",
    "method(MyClass())\n",
    "```\n",
    "\n",
    "따라서 메서드는 객체를 수정하는 또 다른 함수일 뿐이며, 객체 안에서 정의되었기 때문에 객체에 바인딩되어 있다고 말함\n",
    "```python\n",
    "instance = MyClass()\n",
    "instance.method(...)\n",
    "```\n",
    "위와 같이 호출하면 파이썬은 실제로 아래와 같이 처리함\n",
    "```python\n",
    "instance = MyClass()\n",
    "MyClass.method(instance, ...)\n",
    "```\n",
    "\n",
    "함수는 디스크립터 프로토콜을 구현했으므로 메서드를 호출하기 전에 &#95;&#95;get&#95;&#95;() 메서드가 먼저 호출되고 필요한 변환을 함 "
   ]
  },
  {
   "cell_type": "code",
   "execution_count": 1,
   "id": "6c431f1d",
   "metadata": {},
   "outputs": [
    {
     "data": {
      "text/plain": [
       "<method-wrapper '__get__' of function object at 0x000001B1165A5DC0>"
      ]
     },
     "execution_count": 1,
     "metadata": {},
     "output_type": "execute_result"
    }
   ],
   "source": [
    "def function(): pass\n",
    "\n",
    "function.__get__"
   ]
  },
  {
   "cell_type": "markdown",
   "id": "a2c38228",
   "metadata": {},
   "source": [
    "instance.method(...) 구문에서는 괄호 안의 인자를 처리하기 전에 \"instance.method\" 부분이 먼저 평가됨  \n",
    "method는 클래스 속성으로 정의된 객체이고 &#95;&#95;get&#95;&#95;메서드가 있기 때문에 &#95;&#95;get&#95;&#95;메서드가 호출됨  \n",
    "&#95;&#95;get&#95;&#95; 메서드가 하는 일 = 함수를 메서드로 변환하는 것 = 함수를 작업하려는 객체의 인스턴스에 바인딩  \n",
    "\n",
    "아래 예제는 외부에서 호출 가능한 형태의 함수 or 메서드를 클래스 내에 호출 가능한 객체로 정의한 것\n",
    "- Method 클래스의 인스턴스는 함수나 메서드 형태로 다른 클래스에서 사용될 것  \n",
    "- 이 함수는 단지 전달받은 3개의 인자를 그대로 출력  \n",
    "- 첫 번째 파라미터: instance. 클래스에 정의될 경우 self 가 됨\n",
    "- &#95;&#95;call&#95;&#95;() 메서드에서 self는 MyClass의 인스턴스가 아닌 Method의 인스턴스를 나타내는 것. (파라미터로 전달된 instance가 MyClass 타입의 객체임)"
   ]
  },
  {
   "cell_type": "code",
   "execution_count": 2,
   "id": "72426aaa",
   "metadata": {},
   "outputs": [],
   "source": [
    "class Method:\n",
    "    def __init__(self, name):\n",
    "        self.name = name\n",
    "        \n",
    "    def __call__(self, instance, arg1, arg2):\n",
    "        print(f\"{self.name}: {instance} 호출됨. 인자는 {arg1}와 {arg2}입니다.\")\n",
    "        \n",
    "class MyClass:\n",
    "    method = Method(\"Internal call\")"
   ]
  },
  {
   "cell_type": "code",
   "execution_count": 5,
   "id": "5eebad8a",
   "metadata": {},
   "outputs": [
    {
     "name": "stdout",
     "output_type": "stream",
     "text": [
      "External call: <__main__.MyClass object at 0x000001B11769B160> 호출됨. 인자는 first와 second입니다.\n"
     ]
    }
   ],
   "source": [
    "# case1\n",
    "instance = MyClass()\n",
    "Method(\"External call\")(instance, \"first\", \"second\")"
   ]
  },
  {
   "cell_type": "code",
   "execution_count": 6,
   "id": "eaaddbf0",
   "metadata": {},
   "outputs": [
    {
     "ename": "TypeError",
     "evalue": "__call__() missing 1 required positional argument: 'arg2'",
     "output_type": "error",
     "traceback": [
      "\u001b[1;31m---------------------------------------------------------------------------\u001b[0m",
      "\u001b[1;31mTypeError\u001b[0m                                 Traceback (most recent call last)",
      "Input \u001b[1;32mIn [6]\u001b[0m, in \u001b[0;36m<cell line: 2>\u001b[1;34m()\u001b[0m\n\u001b[0;32m      1\u001b[0m \u001b[38;5;66;03m# case2\u001b[39;00m\n\u001b[1;32m----> 2\u001b[0m \u001b[43minstance\u001b[49m\u001b[38;5;241;43m.\u001b[39;49m\u001b[43mmethod\u001b[49m\u001b[43m(\u001b[49m\u001b[38;5;124;43m\"\u001b[39;49m\u001b[38;5;124;43mfirst\u001b[39;49m\u001b[38;5;124;43m\"\u001b[39;49m\u001b[43m,\u001b[49m\u001b[43m \u001b[49m\u001b[38;5;124;43m\"\u001b[39;49m\u001b[38;5;124;43msecond\u001b[39;49m\u001b[38;5;124;43m\"\u001b[39;49m\u001b[43m)\u001b[49m\n",
      "\u001b[1;31mTypeError\u001b[0m: __call__() missing 1 required positional argument: 'arg2'"
     ]
    }
   ],
   "source": [
    "# case2\n",
    "instance.method(\"first\", \"second\")"
   ]
  },
  {
   "cell_type": "markdown",
   "id": "db9e3378",
   "metadata": {},
   "source": [
    "case2에서 오류가 발생한 이유는 파라미터의 위치가 한 칸씩 밀려서 Method.&#95;&#95;call&#95;&#95;기준으로 self자리에 instance가 전달되고, instance 자리에 \"first\"가 전달되고 arg1 자리에 \"second\"가 전달되는데, arg2 자리에는 아무 값도 전달되지 않았기 때문  \n",
    "\n",
    "이 문제를 해결하려면 메서드를 디스크립터로 변경하면 됨  \n",
    "디스크립터로 변경하면 instance.method 호출 시 Method.&#95;&#95;get&#95;&#95; 메서드를 먼저 호출할 것임.  \n",
    "여기에서 첫 번째 파라미터로 Method의 인스턴스를 전달함으로써 객체에 바인딩하면 됨"
   ]
  },
  {
   "cell_type": "code",
   "execution_count": 13,
   "id": "75cedb66",
   "metadata": {},
   "outputs": [],
   "source": [
    "from types import MethodType\n",
    "\n",
    "class Method:\n",
    "    def __init__(self, name):\n",
    "        self.name = name\n",
    "        \n",
    "    def __call__(self, instance, arg1, arg2):\n",
    "        print(f\"{self.name}: {instance} 호출됨. 인자는 {arg1}와 {arg2}입니다.\")\n",
    "        \n",
    "    def __get__(self, instance, owner):\n",
    "        if instance is None:\n",
    "            return self\n",
    "        return MethodType(self, instance)\n",
    "    \n",
    "class MyClass:\n",
    "    method = Method(\"Internal call\")"
   ]
  },
  {
   "cell_type": "code",
   "execution_count": 14,
   "id": "d2d38592",
   "metadata": {},
   "outputs": [
    {
     "name": "stdout",
     "output_type": "stream",
     "text": [
      "External call: <__main__.MyClass object at 0x000001B1176BB0D0> 호출됨. 인자는 first와 second입니다.\n"
     ]
    }
   ],
   "source": [
    "# case1\n",
    "instance = MyClass()\n",
    "Method(\"External call\")(instance, \"first\", \"second\")"
   ]
  },
  {
   "cell_type": "code",
   "execution_count": 15,
   "id": "e47cd44e",
   "metadata": {},
   "outputs": [
    {
     "name": "stdout",
     "output_type": "stream",
     "text": [
      "Internal call: <__main__.MyClass object at 0x000001B1176BB0D0> 호출됨. 인자는 first와 second입니다.\n"
     ]
    }
   ],
   "source": [
    "# case2\n",
    "instance.method(\"first\", \"second\")"
   ]
  },
  {
   "cell_type": "markdown",
   "id": "4fb2d0c3",
   "metadata": {},
   "source": [
    "이제 두가지 케이스의 호출 모두 성공함  \n",
    "\n",
    "수정한 사항은 types 모듈의 MethodType을 사용하여 함수를 메서드로 변환하는 것.  \n",
    "이 클래스의 첫 번째 파라미터는 호출 가능한 것이어야 하는데, 여기에서는 self로 self는 Method의 인스턴스로 &#95;&#95;call&#95;&#95;메서드를 구현했으므로 호출 가능한 형태임  \n",
    "두번째 파라미터는 이 함수에 바인딩 할 객체임  \n",
    "\n",
    "파이썬의 함수 객체도 이와 비슷하게 동작하므로 클래스 내부에 함수를 정의할 경우 메서드처럼 사용 가능한 것  \n",
    "사용자 정의 호출 가능한 객체를 정의할 때는 지금처럼 디스크립터로 만들어서 클래스 속성으로도 사용할 수 있도록 하는 것이 좋음"
   ]
  },
  {
   "cell_type": "markdown",
   "id": "89b2c37b",
   "metadata": {},
   "source": [
    "### 메서드를 위한 빌트인 데코레이터  \n",
    "@property, @classmethod, @staticmethod 데코레이터는 디스크립터  \n",
    "\n",
    "메서드를 인스턴스가 아닌 클래스에서 직접 호출할 때는 관습적으로 디스크립터 자체를 반환  \n",
    "프로퍼티를 클래스에서 직접 호출하면 계산할 속성이 없으므로 일종의 디스크립터인 프로퍼티 객체 자체를 반환함  \n",
    "\n",
    "- @classmethod를 사용하면 디스크립터의 &#95;&#95;get&#95;&#95; 함수가 메서드를 인스턴스에서 호출하든 클래스에서 직접 호출하든 상관 없이 데코레이팅 함수에 첫 번째 파라미터로 메서드를 소유한 클래스를 넘겨줌  \n",
    "- @staticmethod를 사용하면 정의한 파라미터 이외의 파라미터를 넘기지 않도록 함. \n",
    "    - &#95;&#95;get&#95;&#95;메서드에서 함수의 첫 번째 파라미터에 self를 바인딩하는 작업을 취소\n",
    "    \n",
    "예를 들어 @property 데코레이터처럼 동작하나 클래스를 대상으로 한다는 것만 다른 @classproperty 데코레이터를 만들었다고 가정하면 아래의 코드가 정상 동작해야함\n",
    "```python\n",
    "class TableEvent:\n",
    "    schema = \"public\"\n",
    "    table = \"user\"\n",
    "    \n",
    "    @classproperty\n",
    "    def topic(cls):\n",
    "        prefix = read_prefix_from_config()\n",
    "        return f\"{prefix}{cls.schema}.{cls.table}\"\n",
    "```\n",
    "> TableEvent.topic  \n",
    "결과 >> 'public.user'\n",
    "\n",
    "> TableEvent().topic  \n",
    "결과 >> 'public.user'"
   ]
  },
  {
   "cell_type": "markdown",
   "id": "d79a0422",
   "metadata": {},
   "source": [
    "### 슬롯(slot)\n",
    "클래스에 &#95;&#95;slot&#95;&#95; 속성을 정의하면 클래스가 기대하는 특정 속성만 정의하고 다른 것은 제한할 수 있음  \n",
    "&#95;&#95;slot&#95;&#95;에 정의되지 않은 속성을 동적으로 추가하려고 할 경우 AttributeError가 발생  \n",
    "이 속성을 정의하면 클래스는 정적으로 되고, &#95;&#95;dict&#95;&#95; 속성을 갖지 않으므로 객체에 동적으로 속성을 추가할 수 없음  \n",
    "\n",
    "**객체의 사전이 없는데 속성을 가져올 수 있는 이유**: 디스크립터 사용  \n",
    "- &#95;&#95;slot&#95;&#95;에 정의된 이름마다 디스크립터를 만들어서 값을 저장하고 있으므로 나중에 검색도 가능"
   ]
  },
  {
   "cell_type": "code",
   "execution_count": 19,
   "id": "39372d78",
   "metadata": {},
   "outputs": [],
   "source": [
    "class Coordinate2D:\n",
    "    __slots__ = (\"lat\", \"long\")\n",
    "    \n",
    "    def __init__(self, lat, long):\n",
    "        self.lat = lat\n",
    "        self.long = long\n",
    "        \n",
    "    def __repr__(self):\n",
    "        return f\"{self.__class__.__name__}({self.lat}, {self.long})\""
   ]
  },
  {
   "cell_type": "markdown",
   "id": "09986186",
   "metadata": {},
   "source": [
    "위의 기능은 파이썬의 동적인 특성을 없애므로 조심해서 사용할 필요가 있음  \n",
    "일반적으로 이는 정적인 객체에만 사용해야 하며 코드의 다른 부분에서 절대로 동적으로 속성을 추가할 일이 없다는 것을 확신할 때에만 사용할 것  \n",
    "슬롯을 사용한 객체의 장점 = 메모리를 덜 사용함 => 사전 형태가 아닌 고정된 필드의 값만 저장하면 되기 때문"
   ]
  },
  {
   "cell_type": "markdown",
   "id": "bc06261e",
   "metadata": {},
   "source": [
    "## 데코레이터를 디스크립터로 구현하기  \n",
    "위에서 파이썬이 디스크립터를 사용하여 함수를 클래스 안에 선언했을 때도 메서드처럼 사용할 수 있게 하는 것을 살펴봄  \n",
    "데코레이터가 호출되는 형태에 맞춰 동작하도록 디스크립터 프로토콜의 &#95;&#95;get&#95;&#95; 메서드를 활용하는 방법도 알아봄  \n",
    "위의 기법을 활용하면 사용자 정의 데코레이터 개발 중 발생하는 문제 해결 가능  \n",
    "\n",
    "데코레이터를 이와 같은 형태로 만들기 위한 일반적인 방법은 &#95;&#95;get&#95;&#95; 메서드를 구현하고 types.MethodType을 사용해 데코레이터 자체를 객체에 바인딩된 메서드로 만드는 것  \n",
    "이렇게 하려면 데코레이터를 객체로 구현해야 하는데 만약 함수로 구현하는 경우 &#95;&#95;get&#95;&#95;() 메서드가 이미 존재할 것이기 때문에 정상적으로 동작하지 않게 됨.  \n",
    "따라서 더 깔끔한 방법은 데코레이터를 위한 클래스를 정의하는 것"
   ]
  },
  {
   "cell_type": "code",
   "execution_count": null,
   "id": "3fb6fbb6",
   "metadata": {},
   "outputs": [],
   "source": []
  }
 ],
 "metadata": {
  "kernelspec": {
   "display_name": "Python 3 (ipykernel)",
   "language": "python",
   "name": "python3"
  },
  "language_info": {
   "codemirror_mode": {
    "name": "ipython",
    "version": 3
   },
   "file_extension": ".py",
   "mimetype": "text/x-python",
   "name": "python",
   "nbconvert_exporter": "python",
   "pygments_lexer": "ipython3",
   "version": "3.9.12"
  }
 },
 "nbformat": 4,
 "nbformat_minor": 5
}
