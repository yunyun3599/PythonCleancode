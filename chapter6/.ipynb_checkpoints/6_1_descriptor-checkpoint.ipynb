{
 "cells": [
  {
   "cell_type": "markdown",
   "id": "f4e450f0",
   "metadata": {},
   "source": [
    "# 디스크립터 개요\n",
    "### 디스크립터 메커니즘\n",
    "디스크립터를 구현하기 위해서는 최소 두 개의 클래스 필요\n",
    "1. 클라이언트 클래스: 디스크립터 구현의 기능을 활용할 도메인 모델. 솔루션을 위해 생성한 일반적인 추상화 객체\n",
    "1. 디스크립터 클래스: 디스크립터 로직의 구현체  \n",
    "\n",
    "**디스크립터:** 디스크립터 프로토콜을 구현한 클래스의 인스턴스. 이 클래스는 다음 매직 메서드 중에 최소 한 개 이상을 포함해야 함  \n",
    "- &#95;&#95;get&#95;&#95;\n",
    "- &#95;&#95;set&#95;&#95;\n",
    "- &#95;&#95;delete&#95;&#95;\n",
    "- &#95;&#95;set&#95;name&#95;&#95;\n",
    "\n",
    "**네이밍 컨벤션**\n",
    "- ClientClass: 클라이언트 클래스. 클래스 속성으로 디스크립터를 가짐  \n",
    "- DescriptorClass: 디스크립터 클래스. 디스크립터 프로토콜을 따르는 매직 메서드를 구현해야 함  \n",
    "- client: ClientClass의 인스턴스. client = ClientClass()\n",
    "- descriptor: DescriptorClass의 인스턴스. descriptor = DescriptorClass  \n",
    "\n",
    "**주의할 점:** 이 프로토콜이 동작하려면 디스크립터 객체가 클래스 속성으로 정의되어야 함. 이 객체를 인스턴스 속성으로 생성하면 동작하지 않으므로 init 메서드가 아니라 클래스 본문에 있어야 함 (DescriptorClass() -> X / DescriptorClass -> O)  \n",
    "\n",
    "디스크립터 프로토콜의 일부만 구현해도 됨.   \n",
    "디스크립터 클래스 & 디스크립터의 로직을 사용하는 클래스(디스크립터 객체를 멤버로 갖는 클래스)  \n",
    "ClientClass의 인스턴스에서 descriptor 속성을 호출하면 디스크립터 프로토콜이 사용됨  \n",
    "\n",
    "일반적인 클래스의 속성 or 프로퍼티에 접근하면 아래와 같은 예상된 결과를 얻을 수 있음"
   ]
  },
  {
   "cell_type": "code",
   "execution_count": 2,
   "id": "e4c9b46f",
   "metadata": {},
   "outputs": [
    {
     "name": "stdout",
     "output_type": "stream",
     "text": [
      "<__main__.Attribute object at 0x000001C66D5ABCD0>\n",
      "42\n"
     ]
    }
   ],
   "source": [
    "class Attribute:\n",
    "    value = 42\n",
    "    \n",
    "class Client:\n",
    "    attribute = Attribute()\n",
    "    \n",
    "print(Client().attribute)\n",
    "print(Client().attribute.value)"
   ]
  },
  {
   "cell_type": "markdown",
   "id": "d4fa8266",
   "metadata": {},
   "source": [
    "그러나 디스크립터의 경우 다르게 동작.  \n",
    "클래스 속성을 객체러 선언하면 디스크립터로 인식되고, 클라이언트에서 해당 속성을 호출하면 객체 자체를 반환하는 것이 아니라 &#95;&#95;get&#95;&#95;메서드의 결과를 반환함"
   ]
  },
  {
   "cell_type": "code",
   "execution_count": 9,
   "id": "0f96ddcb",
   "metadata": {},
   "outputs": [
    {
     "name": "stdout",
     "output_type": "stream",
     "text": [
      "Call: DescriptorClass.__get__(<__main__.ClientClass object at 0x000001C66E5DDE20>, <class '__main__.ClientClass'>)\n",
      "<__main__.ClientClass object at 0x000001C66E5DDE20>\n",
      "Call: DescriptorClass.__get__(<__main__.ClientClass object at 0x000001C66E5DDE20>, <class '__main__.ClientClass'>)\n",
      "True\n"
     ]
    }
   ],
   "source": [
    "import logging\n",
    "\n",
    "logger = logging.getLogger(__name__)\n",
    "\n",
    "class DescriptorClass:\n",
    "    def __get__(self, instance, owner):\n",
    "        if instance is None:\n",
    "            return self\n",
    "        \n",
    "        logger.info(\"Call: %s.__get__(%r, %r)\", self.__class__.__name__, instance, owner)\n",
    "        print(f\"Call: {self.__class__.__name__}.__get__({instance}, {owner})\")\n",
    "        return instance\n",
    "    \n",
    "class ClientClass:\n",
    "    descriptor = DescriptorClass()\n",
    "    \n",
    "client = ClientClass()\n",
    "print(client.descriptor)\n",
    "print(client.descriptor is client)"
   ]
  },
  {
   "cell_type": "markdown",
   "id": "24af6ee5",
   "metadata": {},
   "source": [
    "이 예제에서는 클라이언트 자체를 그대로 반환했으므로 마지막 비교문장은 True가 됨  \n",
    "디스크립터를 사용해 &#95;&#95;get&#95;&#95; 메서드 뒤쪽으로 모든 종류의 논리를 추상화할 수 있으며 클라이언트에게 내용을 숨김 채로 모든 유형의 변환을 투명하게 실행할 수 있음"
   ]
  },
  {
   "cell_type": "code",
   "execution_count": null,
   "id": "ef5486b0",
   "metadata": {},
   "outputs": [],
   "source": []
  }
 ],
 "metadata": {
  "kernelspec": {
   "display_name": "Python 3 (ipykernel)",
   "language": "python",
   "name": "python3"
  },
  "language_info": {
   "codemirror_mode": {
    "name": "ipython",
    "version": 3
   },
   "file_extension": ".py",
   "mimetype": "text/x-python",
   "name": "python",
   "nbconvert_exporter": "python",
   "pygments_lexer": "ipython3",
   "version": "3.9.12"
  }
 },
 "nbformat": 4,
 "nbformat_minor": 5
}
