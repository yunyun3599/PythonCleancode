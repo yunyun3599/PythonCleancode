{
 "cells": [
  {
   "cell_type": "markdown",
   "id": "8a708de6",
   "metadata": {},
   "source": [
    "# 디스크립터 개요\n",
    "### 디스크립터 메커니즘\n",
    "디스크립터를 구현하기 위해서는 최소 두 개의 클래스 필요\n",
    "1. 클라이언트 클래스: 디스크립터 구현의 기능을 활용할 도메인 모델. 솔루션을 위해 생성한 일반적인 추상화 객체\n",
    "1. 디스크립터 클래스: 디스크립터 로직의 구현체  \n",
    "\n",
    "**디스크립터:** 디스크립터 프로토콜을 구현한 클래스의 인스턴스. 이 클래스는 다음 매직 메서드 중에 최소 한 개 이상을 포함해야 함  \n",
    "- &#95;&#95;get&#95;&#95;\n",
    "- &#95;&#95;set&#95;&#95;\n",
    "- &#95;&#95;delete&#95;&#95;\n",
    "- &#95;&#95;set&#95;name&#95;&#95;\n",
    "\n",
    "**네이밍 컨벤션**\n",
    "- ClientClass: 클라이언트 클래스. 클래스 속성으로 디스크립터를 가짐  \n",
    "- DescriptorClass: 디스크립터 클래스. 디스크립터 프로토콜을 따르는 매직 메서드를 구현해야 함  \n",
    "- client: ClientClass의 인스턴스. client = ClientClass()\n",
    "- descriptor: DescriptorClass의 인스턴스. descriptor = DescriptorClass  \n",
    "\n",
    "**주의할 점:** 이 프로토콜이 동작하려면 디스크립터 객체가 클래스 속성으로 정의되어야 함. 이 객체를 인스턴스 속성으로 생성하면 동작하지 않으므로 init 메서드가 아니라 클래스 본문에 있어야 함 (DescriptorClass() -> X / DescriptorClass -> O)  \n",
    "\n",
    "디스크립터 프로토콜의 일부만 구현해도 됨.   \n",
    "디스크립터 클래스 & 디스크립터의 로직을 사용하는 클래스(디스크립터 객체를 멤버로 갖는 클래스)  \n",
    "ClientClass의 인스턴스에서 descriptor 속성을 호출하면 디스크립터 프로토콜이 사용됨  \n",
    "\n",
    "일반적인 클래스의 속성 or 프로퍼티에 접근하면 아래와 같은 예상된 결과를 얻을 수 있음"
   ]
  },
  {
   "cell_type": "code",
   "execution_count": 2,
   "id": "23c28fb6",
   "metadata": {},
   "outputs": [
    {
     "name": "stdout",
     "output_type": "stream",
     "text": [
      "<__main__.Attribute object at 0x000001C66D5ABCD0>\n",
      "42\n"
     ]
    }
   ],
   "source": [
    "class Attribute:\n",
    "    value = 42\n",
    "    \n",
    "class Client:\n",
    "    attribute = Attribute()\n",
    "    \n",
    "print(Client().attribute)\n",
    "print(Client().attribute.value)"
   ]
  },
  {
   "cell_type": "markdown",
   "id": "88b24495",
   "metadata": {},
   "source": [
    "그러나 디스크립터의 경우 다르게 동작.  \n",
    "클래스 속성을 객체로 선언하면 디스크립터로 인식되고, 클라이언트에서 해당 속성을 호출하면 객체 자체를 반환하는 것이 아니라 &#95;&#95;get&#95;&#95;메서드의 결과를 반환함"
   ]
  },
  {
   "cell_type": "code",
   "execution_count": 16,
   "id": "92d55c4f",
   "metadata": {},
   "outputs": [
    {
     "name": "stdout",
     "output_type": "stream",
     "text": [
      "Call: DescriptorClass.__get__(<__main__.ClientClass object at 0x000001C66E78AAF0>, <class '__main__.ClientClass'>)\n",
      "<__main__.ClientClass object at 0x000001C66E78AAF0>\n",
      "Call: DescriptorClass.__get__(<__main__.ClientClass object at 0x000001C66E78AAF0>, <class '__main__.ClientClass'>)\n",
      "True\n"
     ]
    }
   ],
   "source": [
    "import logging\n",
    "\n",
    "logger = logging.getLogger(__name__)\n",
    "\n",
    "class DescriptorClass:\n",
    "    def __get__(self, instance, owner):\n",
    "        if instance is None:\n",
    "            return self\n",
    "        \n",
    "        logger.info(\"Call: %s.__get__(%r, %r)\", self.__class__.__name__, instance, owner)\n",
    "        print(f\"Call: {self.__class__.__name__}.__get__({instance}, {owner})\")\n",
    "        return instance\n",
    "    \n",
    "class ClientClass:\n",
    "    descriptor = DescriptorClass()\n",
    "    \n",
    "client = ClientClass()\n",
    "print(client.descriptor)\n",
    "print(client.descriptor is client)"
   ]
  },
  {
   "cell_type": "markdown",
   "id": "90f1742b",
   "metadata": {},
   "source": [
    "이 예제에서는 클라이언트 자체를 그대로 반환했으므로 마지막 비교문장은 True가 됨  \n",
    "디스크립터를 사용해 &#95;&#95;get&#95;&#95; 메서드 뒤쪽으로 모든 종류의 논리를 추상화할 수 있으며 클라이언트에게 내용을 숨김 채로 모든 유형의 변환을 투명하게 실행할 수 있음"
   ]
  },
  {
   "cell_type": "markdown",
   "id": "c9bdbccd",
   "metadata": {},
   "source": [
    "### 디스크립터 프로토콜의 메서드 탐색\n",
    "디스크립터는 단지 객체이므로 이러한 메서드들은 self를 첫번째 파라미터로 사용함.  \n",
    "self는 디스크립터 객체 자신을 의미함\n",
    "\n",
    "#### &#95;&#95;get&#95;&#95;(self, instance, owner)\n",
    "- instance 파라미터: 디스크립터를 호출한 객체  \n",
    "- owner 파라미터: 해당 객체의 클래스  \n",
    "- instance 파라미터는 디스크립터가 행동을 취하려는 객체이고 owner는 인스턴스의 클래스임.\n",
    "- owner = instance.&#95;&#95;class&#95;&#95; 형태로 instance에서 클래스를 직접 구할 수 있음에도 굳이 owner를 시그니처에 정의한 이유\n",
    "    - client 인스턴스가 아니라 ClientClass에서 descriptor를 호출하는 특별한 경우에 instance의 값은 None이기 때문에 클래스를 구할 수 없기 때문  \n",
    "    \n",
    "아래 예제는 디스크립터가 클래스에서 호출될 때와 인스턴스에서 호출될 때의 차이에 대한 예제. "
   ]
  },
  {
   "cell_type": "code",
   "execution_count": 17,
   "id": "b2935bd8",
   "metadata": {},
   "outputs": [
    {
     "name": "stdout",
     "output_type": "stream",
     "text": [
      "DescriptorClass.ClientClass\n",
      "None\n"
     ]
    }
   ],
   "source": [
    "class DescriptorClass:\n",
    "    def __get__(self, instance, owner):\n",
    "        if instance is None:\n",
    "            return f\"{self.__class__.__name__}.{owner.__name__}\"\n",
    "\n",
    "class ClientClass:\n",
    "    descriptor = DescriptorClass()\n",
    "    \n",
    "# ClientClass에서 직접 호출\n",
    "print(ClientClass.descriptor)\n",
    "\n",
    "# 객체에서 호출\n",
    "print(ClientClass().descriptor)"
   ]
  },
  {
   "cell_type": "markdown",
   "id": "63ece80d",
   "metadata": {},
   "source": [
    "일반적으로 owner 파라미터를 사용하려는 경우가 아니라면 인스턴스가 None일 떄는 단순히 디스크립터 자체를 반환.  \n",
    "\n",
    "#### &#95;&#95;set&#95;&#95;(self, instacne, value)\n",
    "이 메서드는 디스크립터에 값을 할당하려고 할 때 호출됨  \n",
    "&#95;&#95;set&#95;&#95;() 메서드를 구현한 디스크립터에 대해서만 활성화 됨.\n",
    "```python\n",
    "client.descriptor = \"value\"\n",
    "```\n",
    "위의 코드의 경우 instance 파라미터는 client이고 value는 \"value\"라는 문자열임  \n",
    "client.descriptor가 &#95;&#95;set&#95;&#95;() 메서드를 구현하지 않았으면 \"value\"는 descriptor 자체를 덮어쓰게 됨  \n",
    "\n",
    "\n",
    "아래 코드는 이 메서드를 사용하여 속성의 유효성을 검사하는 객체를 만드는 코드임."
   ]
  },
  {
   "cell_type": "code",
   "execution_count": 24,
   "id": "3052ca1b",
   "metadata": {},
   "outputs": [],
   "source": [
    "class Validation:\n",
    "    def __init__(self, validation_function, error_msg: str):\n",
    "        self.validation_function = validation_function\n",
    "        self.error_msg = error_msg\n",
    "        \n",
    "    def __call__(self, value):\n",
    "        if not self.validation_function(value):\n",
    "            raise ValueError(f\"{value!r} {self.error_msg}\")\n",
    "            \n",
    "class Field:\n",
    "    def __init__(self, *validations):\n",
    "        self._name = None\n",
    "        self.validations = validations\n",
    "        \n",
    "    def __set_name__(self, owner, name):\n",
    "        self._name = name\n",
    "        \n",
    "    def __get__(self, instance, owner):\n",
    "        if instance is None:\n",
    "            return self\n",
    "        return instance.__dict__[self._name]\n",
    "    \n",
    "    def validate(self, value):\n",
    "        for validation in self.validations:\n",
    "            validation(value)\n",
    "            \n",
    "    def __set__(self, instance, value):\n",
    "        self.validate(value)\n",
    "        instance.__dict__[self._name] = value\n",
    "        \n",
    "class ClientClass:\n",
    "    descriptor = Field(\n",
    "        Validation(lambda x: isinstance(x, (int, float)), \"는 숫자가 아님\"), \n",
    "        Validation(lambda x: x>= 0 ,\"는 0보다 작음\",)\n",
    "    )"
   ]
  },
  {
   "cell_type": "code",
   "execution_count": 25,
   "id": "65dcc71d",
   "metadata": {},
   "outputs": [
    {
     "name": "stdout",
     "output_type": "stream",
     "text": [
      "client.descriptor:  42\n"
     ]
    }
   ],
   "source": [
    "client = ClientClass()\n",
    "client.descriptor = 42\n",
    "print(\"client.descriptor: \", client.descriptor)"
   ]
  },
  {
   "cell_type": "code",
   "execution_count": 26,
   "id": "899c0c36",
   "metadata": {},
   "outputs": [
    {
     "ename": "ValueError",
     "evalue": "-42 는 0보다 작음",
     "output_type": "error",
     "traceback": [
      "\u001b[1;31m---------------------------------------------------------------------------\u001b[0m",
      "\u001b[1;31mValueError\u001b[0m                                Traceback (most recent call last)",
      "Input \u001b[1;32mIn [26]\u001b[0m, in \u001b[0;36m<cell line: 1>\u001b[1;34m()\u001b[0m\n\u001b[1;32m----> 1\u001b[0m client\u001b[38;5;241m.\u001b[39mdescriptor \u001b[38;5;241m=\u001b[39m \u001b[38;5;241m-\u001b[39m\u001b[38;5;241m42\u001b[39m\n",
      "Input \u001b[1;32mIn [24]\u001b[0m, in \u001b[0;36mField.__set__\u001b[1;34m(self, instance, value)\u001b[0m\n\u001b[0;32m     27\u001b[0m \u001b[38;5;28;01mdef\u001b[39;00m \u001b[38;5;21m__set__\u001b[39m(\u001b[38;5;28mself\u001b[39m, instance, value):\n\u001b[1;32m---> 28\u001b[0m     \u001b[38;5;28;43mself\u001b[39;49m\u001b[38;5;241;43m.\u001b[39;49m\u001b[43mvalidate\u001b[49m\u001b[43m(\u001b[49m\u001b[43mvalue\u001b[49m\u001b[43m)\u001b[49m\n\u001b[0;32m     29\u001b[0m     instance\u001b[38;5;241m.\u001b[39m\u001b[38;5;18m__dict__\u001b[39m[\u001b[38;5;28mself\u001b[39m\u001b[38;5;241m.\u001b[39m_name] \u001b[38;5;241m=\u001b[39m value\n",
      "Input \u001b[1;32mIn [24]\u001b[0m, in \u001b[0;36mField.validate\u001b[1;34m(self, value)\u001b[0m\n\u001b[0;32m     23\u001b[0m \u001b[38;5;28;01mdef\u001b[39;00m \u001b[38;5;21mvalidate\u001b[39m(\u001b[38;5;28mself\u001b[39m, value):\n\u001b[0;32m     24\u001b[0m     \u001b[38;5;28;01mfor\u001b[39;00m validation \u001b[38;5;129;01min\u001b[39;00m \u001b[38;5;28mself\u001b[39m\u001b[38;5;241m.\u001b[39mvalidations:\n\u001b[1;32m---> 25\u001b[0m         \u001b[43mvalidation\u001b[49m\u001b[43m(\u001b[49m\u001b[43mvalue\u001b[49m\u001b[43m)\u001b[49m\n",
      "Input \u001b[1;32mIn [24]\u001b[0m, in \u001b[0;36mValidation.__call__\u001b[1;34m(self, value)\u001b[0m\n\u001b[0;32m      6\u001b[0m \u001b[38;5;28;01mdef\u001b[39;00m \u001b[38;5;21m__call__\u001b[39m(\u001b[38;5;28mself\u001b[39m, value):\n\u001b[0;32m      7\u001b[0m     \u001b[38;5;28;01mif\u001b[39;00m \u001b[38;5;129;01mnot\u001b[39;00m \u001b[38;5;28mself\u001b[39m\u001b[38;5;241m.\u001b[39mvalidation_function(value):\n\u001b[1;32m----> 8\u001b[0m         \u001b[38;5;28;01mraise\u001b[39;00m \u001b[38;5;167;01mValueError\u001b[39;00m(\u001b[38;5;124mf\u001b[39m\u001b[38;5;124m\"\u001b[39m\u001b[38;5;132;01m{\u001b[39;00mvalue\u001b[38;5;132;01m!r}\u001b[39;00m\u001b[38;5;124m \u001b[39m\u001b[38;5;132;01m{\u001b[39;00m\u001b[38;5;28mself\u001b[39m\u001b[38;5;241m.\u001b[39merror_msg\u001b[38;5;132;01m}\u001b[39;00m\u001b[38;5;124m\"\u001b[39m)\n",
      "\u001b[1;31mValueError\u001b[0m: -42 는 0보다 작음"
     ]
    }
   ],
   "source": [
    "client.descriptor = -42"
   ]
  },
  {
   "cell_type": "code",
   "execution_count": 27,
   "id": "54e0e409",
   "metadata": {},
   "outputs": [
    {
     "ename": "ValueError",
     "evalue": "'invalid value' 는 숫자가 아님",
     "output_type": "error",
     "traceback": [
      "\u001b[1;31m---------------------------------------------------------------------------\u001b[0m",
      "\u001b[1;31mValueError\u001b[0m                                Traceback (most recent call last)",
      "Input \u001b[1;32mIn [27]\u001b[0m, in \u001b[0;36m<cell line: 1>\u001b[1;34m()\u001b[0m\n\u001b[1;32m----> 1\u001b[0m client\u001b[38;5;241m.\u001b[39mdescriptor \u001b[38;5;241m=\u001b[39m \u001b[38;5;124m\"\u001b[39m\u001b[38;5;124minvalid value\u001b[39m\u001b[38;5;124m\"\u001b[39m\n",
      "Input \u001b[1;32mIn [24]\u001b[0m, in \u001b[0;36mField.__set__\u001b[1;34m(self, instance, value)\u001b[0m\n\u001b[0;32m     27\u001b[0m \u001b[38;5;28;01mdef\u001b[39;00m \u001b[38;5;21m__set__\u001b[39m(\u001b[38;5;28mself\u001b[39m, instance, value):\n\u001b[1;32m---> 28\u001b[0m     \u001b[38;5;28;43mself\u001b[39;49m\u001b[38;5;241;43m.\u001b[39;49m\u001b[43mvalidate\u001b[49m\u001b[43m(\u001b[49m\u001b[43mvalue\u001b[49m\u001b[43m)\u001b[49m\n\u001b[0;32m     29\u001b[0m     instance\u001b[38;5;241m.\u001b[39m\u001b[38;5;18m__dict__\u001b[39m[\u001b[38;5;28mself\u001b[39m\u001b[38;5;241m.\u001b[39m_name] \u001b[38;5;241m=\u001b[39m value\n",
      "Input \u001b[1;32mIn [24]\u001b[0m, in \u001b[0;36mField.validate\u001b[1;34m(self, value)\u001b[0m\n\u001b[0;32m     23\u001b[0m \u001b[38;5;28;01mdef\u001b[39;00m \u001b[38;5;21mvalidate\u001b[39m(\u001b[38;5;28mself\u001b[39m, value):\n\u001b[0;32m     24\u001b[0m     \u001b[38;5;28;01mfor\u001b[39;00m validation \u001b[38;5;129;01min\u001b[39;00m \u001b[38;5;28mself\u001b[39m\u001b[38;5;241m.\u001b[39mvalidations:\n\u001b[1;32m---> 25\u001b[0m         \u001b[43mvalidation\u001b[49m\u001b[43m(\u001b[49m\u001b[43mvalue\u001b[49m\u001b[43m)\u001b[49m\n",
      "Input \u001b[1;32mIn [24]\u001b[0m, in \u001b[0;36mValidation.__call__\u001b[1;34m(self, value)\u001b[0m\n\u001b[0;32m      6\u001b[0m \u001b[38;5;28;01mdef\u001b[39;00m \u001b[38;5;21m__call__\u001b[39m(\u001b[38;5;28mself\u001b[39m, value):\n\u001b[0;32m      7\u001b[0m     \u001b[38;5;28;01mif\u001b[39;00m \u001b[38;5;129;01mnot\u001b[39;00m \u001b[38;5;28mself\u001b[39m\u001b[38;5;241m.\u001b[39mvalidation_function(value):\n\u001b[1;32m----> 8\u001b[0m         \u001b[38;5;28;01mraise\u001b[39;00m \u001b[38;5;167;01mValueError\u001b[39;00m(\u001b[38;5;124mf\u001b[39m\u001b[38;5;124m\"\u001b[39m\u001b[38;5;132;01m{\u001b[39;00mvalue\u001b[38;5;132;01m!r}\u001b[39;00m\u001b[38;5;124m \u001b[39m\u001b[38;5;132;01m{\u001b[39;00m\u001b[38;5;28mself\u001b[39m\u001b[38;5;241m.\u001b[39merror_msg\u001b[38;5;132;01m}\u001b[39;00m\u001b[38;5;124m\"\u001b[39m)\n",
      "\u001b[1;31mValueError\u001b[0m: 'invalid value' 는 숫자가 아님"
     ]
    }
   ],
   "source": [
    "client.descriptor = \"invalid value\""
   ]
  },
  {
   "cell_type": "markdown",
   "id": "f98090a2",
   "metadata": {},
   "source": [
    "위처럼 프로퍼티 자리에 놓일 수 있는 것은 디스크립터로 추상화할 수 있으며 여러번 재사용이 가능함  \n",
    "위의 예에서는 &#95;&#95;set&#95;&#95;() 메서드가 @property.setter가 하던 일을 대신함"
   ]
  },
  {
   "cell_type": "code",
   "execution_count": null,
   "id": "8facd4b7",
   "metadata": {},
   "outputs": [],
   "source": []
  }
 ],
 "metadata": {
  "kernelspec": {
   "display_name": "Python 3 (ipykernel)",
   "language": "python",
   "name": "python3"
  },
  "language_info": {
   "codemirror_mode": {
    "name": "ipython",
    "version": 3
   },
   "file_extension": ".py",
   "mimetype": "text/x-python",
   "name": "python",
   "nbconvert_exporter": "python",
   "pygments_lexer": "ipython3",
   "version": "3.9.12"
  }
 },
 "nbformat": 4,
 "nbformat_minor": 5
}
