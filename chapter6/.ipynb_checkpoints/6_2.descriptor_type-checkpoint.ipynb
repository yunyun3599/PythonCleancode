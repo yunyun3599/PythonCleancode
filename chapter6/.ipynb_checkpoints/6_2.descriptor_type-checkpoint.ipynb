{
 "cells": [
  {
   "cell_type": "markdown",
   "id": "5f9f2f4a",
   "metadata": {},
   "source": [
    "# 디스크립터 유형\n",
    "디스크립터의 작동 방식에 따라 디스크립터를 구분할 수 있음\n",
    "- 데이터 디스크립터(data descriptor): &#95;&#95;set&#95;&#95;이나 &#95;&#95;delete&#95;&#95;메서드를 구현\n",
    "- 비데이터 디스크립터(non-data descriptor): &#95;&#95;get&#95;&#95;만을 구현\n",
    "- &#95;&#95;set&#95;name&#95;&#95;은 분류에 영향을 미치지 않음  \n",
    "\n",
    "객체 속성을 결정할 때 데이터 디스크립터가 객체의 사전보다 우선적으로 적용되지만 비데이터 디스크립터는 그렇지 않음  \n",
    "- 비데이터 디스크립터는 객체의 사전에 디스크립터와 동일한 이름의 키가 있으면 객체의 사전 값이 적용되고 디스크립터는 절대 호출되지 않음  \n",
    "- 반대로 데이터 디스크립터에서는 디스크립터와 동일한 이름을 갖는 키가 사전에 존재하더라도 디스크립터 자체가 항상 먼저 호출되므로 객체의 키 값은 결코 사용되지 않음  \n",
    "\n",
    "## 비데이터(non-data) 디스크립터\n",
    "아래는 &#95;&#95;get&#95;&#95;메서드만을 구현한 디스크립터임"
   ]
  },
  {
   "cell_type": "code",
   "execution_count": 1,
   "id": "170b863c",
   "metadata": {},
   "outputs": [],
   "source": [
    "class NonDataDescriptor:\n",
    "    def __get__(self, instance, owner):\n",
    "        if instance is None:\n",
    "            return self\n",
    "        return 42\n",
    "    \n",
    "class ClientClass:\n",
    "    descriptor = NonDataDescriptor()"
   ]
  },
  {
   "cell_type": "code",
   "execution_count": 2,
   "id": "37286254",
   "metadata": {},
   "outputs": [
    {
     "data": {
      "text/plain": [
       "42"
      ]
     },
     "execution_count": 2,
     "metadata": {},
     "output_type": "execute_result"
    }
   ],
   "source": [
    "client = ClientClass()\n",
    "client.descriptor"
   ]
  },
  {
   "cell_type": "markdown",
   "id": "e3ab67ab",
   "metadata": {},
   "source": [
    "descriptor 속성을 다른 값으로 바꾸면 이전의 값을 잃고 대신에 새로 설정한 값을 얻음"
   ]
  },
  {
   "cell_type": "code",
   "execution_count": 3,
   "id": "2c2e363f",
   "metadata": {},
   "outputs": [
    {
     "data": {
      "text/plain": [
       "43"
      ]
     },
     "execution_count": 3,
     "metadata": {},
     "output_type": "execute_result"
    }
   ],
   "source": [
    "client.descriptor = 43\n",
    "client.descriptor"
   ]
  },
  {
   "cell_type": "markdown",
   "id": "b5285552",
   "metadata": {},
   "source": [
    "descriptor를 지우고 다시 물으면 갖게 되는 값은 다음과 같다"
   ]
  },
  {
   "cell_type": "code",
   "execution_count": 4,
   "id": "3f50a446",
   "metadata": {},
   "outputs": [
    {
     "data": {
      "text/plain": [
       "42"
      ]
     },
     "execution_count": 4,
     "metadata": {},
     "output_type": "execute_result"
    }
   ],
   "source": [
    "del client.descriptor\n",
    "client.descriptor"
   ]
  },
  {
   "cell_type": "markdown",
   "id": "9150e2dc",
   "metadata": {},
   "source": [
    "처음 client 객체를 만들었을 때 descriptor 속성은 인스턴스가 아니라 클래스 안에 있음.  \n",
    "따라서 client 객체의 사전을 조회하면 그 값은 비어있음"
   ]
  },
  {
   "cell_type": "code",
   "execution_count": 6,
   "id": "9a04f7f0",
   "metadata": {},
   "outputs": [
    {
     "data": {
      "text/plain": [
       "{}"
      ]
     },
     "execution_count": 6,
     "metadata": {},
     "output_type": "execute_result"
    }
   ],
   "source": [
    "vars(client)"
   ]
  },
  {
   "cell_type": "markdown",
   "id": "89957244",
   "metadata": {},
   "source": [
    "여기서 .descriptor 속성을 조회하면 client.&#95;&#95;dict&#95;&#95;에서 \"descriptor\"라는 이름의 키를 찾지 못하고 마침내 클래스에서 디스크립터를 찾게 되므로 이에 따라 &#95;&#95;get&#95;&#95;메서드의 결과가 반환됨  \n",
    "\n",
    "그러나 .descriptor 속성에 다른 값을 설정하면 인스턴스의 사전이 변경되므로 client.&#95;&#95;dict&#95;&#95;는 비어있지 않음"
   ]
  },
  {
   "cell_type": "code",
   "execution_count": 10,
   "id": "a17ab081",
   "metadata": {},
   "outputs": [
    {
     "data": {
      "text/plain": [
       "{'descriptor': 99}"
      ]
     },
     "execution_count": 10,
     "metadata": {},
     "output_type": "execute_result"
    }
   ],
   "source": [
    "client.descriptor = 99\n",
    "vars(client)"
   ]
  },
  {
   "cell_type": "markdown",
   "id": "37d15ba7",
   "metadata": {},
   "source": [
    "따라서 이제 .descriptor 속성을 조회하면 객체의 &#95;&#95;dict&#95;&#95; 사전에서 descriptor 키를 찾을 수 있으므로 클래스까지 검색하지 않고 바로 &#95;&#95;dict&#95;&#95; 사전에서 값을 반환함.  \n",
    "-> 디스크립터 프로토콜이 사용되지 않고 다음에 이 속성을 조회할 때는 덮어써진 99 값을 반환함  \n",
    "\n",
    "그 뒤에 del을 호출해 이 속성을 지우면 객체의 &#95;&#95;dict&#95;&#95; 사전에서 descriptor 키를 지운 것과 같으므로 다시 앞의 경우로 돌아가 디스크립터 프로토콜이 활성화됨"
   ]
  },
  {
   "cell_type": "code",
   "execution_count": 11,
   "id": "a182a87c",
   "metadata": {},
   "outputs": [
    {
     "name": "stdout",
     "output_type": "stream",
     "text": [
      "{}\n"
     ]
    },
    {
     "data": {
      "text/plain": [
       "42"
      ]
     },
     "execution_count": 11,
     "metadata": {},
     "output_type": "execute_result"
    }
   ],
   "source": [
    "del client.descriptor\n",
    "print(vars(client))\n",
    "client.descriptor"
   ]
  },
  {
   "cell_type": "markdown",
   "id": "7d690a2c",
   "metadata": {},
   "source": [
    "## 데이터 디스크립터\n",
    "\n",
    "데이터 디스크립터와의 차이를 살펴보기 위해 &#95;&#95;set&#95;&#95;메서드를 구현한 다른 디스크립터 생성"
   ]
  },
  {
   "cell_type": "code",
   "execution_count": 19,
   "id": "fdd61d5b",
   "metadata": {},
   "outputs": [],
   "source": [
    "class DataDescriptor:\n",
    "    def __get__(self, instance, owner):\n",
    "        if instance is None:\n",
    "            return self\n",
    "        return 42\n",
    "    \n",
    "    def __set__(self, instance, value):\n",
    "        print(f\"{instance}.descriptor를 {value} 값으로 설정\")\n",
    "        instance.__dict__[\"descriptor\"] = value\n",
    "        \n",
    "class ClientClass:\n",
    "    descriptor = DataDescriptor()"
   ]
  },
  {
   "cell_type": "code",
   "execution_count": 20,
   "id": "23b79795",
   "metadata": {},
   "outputs": [
    {
     "data": {
      "text/plain": [
       "42"
      ]
     },
     "execution_count": 20,
     "metadata": {},
     "output_type": "execute_result"
    }
   ],
   "source": [
    "client = ClientClass()\n",
    "client.descriptor"
   ]
  },
  {
   "cell_type": "code",
   "execution_count": 21,
   "id": "5d52deee",
   "metadata": {},
   "outputs": [
    {
     "name": "stdout",
     "output_type": "stream",
     "text": [
      "<__main__.ClientClass object at 0x000001DA29598A60>.descriptor를 99 값으로 설정\n"
     ]
    },
    {
     "data": {
      "text/plain": [
       "42"
      ]
     },
     "execution_count": 21,
     "metadata": {},
     "output_type": "execute_result"
    }
   ],
   "source": [
    "client.descriptor = 99\n",
    "client.descriptor"
   ]
  },
  {
   "cell_type": "markdown",
   "id": "602f2e89",
   "metadata": {},
   "source": [
    "descriptor의 반환 값이 변경되지 않음.  \n",
    "그러나 다른 값으로 할당하면 앞의 예와 마찬가지로 객체의 &#95;&#95;dict&#95;&#95; 사전에는 업데이트 되어야 함"
   ]
  },
  {
   "cell_type": "code",
   "execution_count": 22,
   "id": "2abc9655",
   "metadata": {},
   "outputs": [
    {
     "data": {
      "text/plain": [
       "{'descriptor': 99}"
      ]
     },
     "execution_count": 22,
     "metadata": {},
     "output_type": "execute_result"
    }
   ],
   "source": [
    "vars(client)"
   ]
  },
  {
   "cell_type": "code",
   "execution_count": 23,
   "id": "a5a2b7b6",
   "metadata": {},
   "outputs": [
    {
     "data": {
      "text/plain": [
       "99"
      ]
     },
     "execution_count": 23,
     "metadata": {},
     "output_type": "execute_result"
    }
   ],
   "source": [
    "client.__dict__[\"descriptor\"]"
   ]
  },
  {
   "cell_type": "markdown",
   "id": "2c28a611",
   "metadata": {},
   "source": [
    "이렇게 되는 이유는 &#95;&#95;set&#95;&#95;() 메서드가 호출되면 객체의 사전에 값을 설정하기 때문임  \n",
    "데이터 디스크립터에서 속성을 조회하면 객체의 &#95;&#95;dict&#95;&#95;에서 조회하는 대신 클래스의 descriptor를 먼저 조회함  \n",
    "- 데이터 디스크립터는 인스턴스의 &#95;&#95;dict&#95;&#95;를 오버라이드하여 인스턴스 사전보다 높은 우선순위를 가지지만 비데이터 디스크립터는 인스턴스 사전보다 낮은 우선순위를 가짐"
   ]
  },
  {
   "cell_type": "code",
   "execution_count": 24,
   "id": "aa1d6b29",
   "metadata": {},
   "outputs": [
    {
     "ename": "AttributeError",
     "evalue": "__delete__",
     "output_type": "error",
     "traceback": [
      "\u001b[1;31m---------------------------------------------------------------------------\u001b[0m",
      "\u001b[1;31mAttributeError\u001b[0m                            Traceback (most recent call last)",
      "Input \u001b[1;32mIn [24]\u001b[0m, in \u001b[0;36m<cell line: 1>\u001b[1;34m()\u001b[0m\n\u001b[1;32m----> 1\u001b[0m \u001b[38;5;28;01mdel\u001b[39;00m client\u001b[38;5;241m.\u001b[39mdescriptor\n",
      "\u001b[1;31mAttributeError\u001b[0m: __delete__"
     ]
    }
   ],
   "source": [
    "del client.descriptor"
   ]
  },
  {
   "cell_type": "markdown",
   "id": "3bca5efc",
   "metadata": {},
   "source": [
    "삭제가 되지 않는 이유는 del을 호출하면 인스턴스의 &#95;&#95;dict&#95;&#95;에서 속성을 지우려고 시도하는 것이 아니라 descriptor에서 &#95;&#95;delete&#95;&#95;() 메서드를 호출하게 되는데 이 예제에서는 &#95;&#95;delete&#95;&#95;메서드를 구현하지 않았기 때문  \n",
    "\n",
    "데이터 디스크립터와 비데이터 디스크립터의 차이  \n",
    "- 디스크립터가 &#95;&#95;set&#95;&#95;() 메서드를 구현했다면 객체의 사전보다 높은 우선순위를 가짐  \n",
    "- &#95;&#95;set&#95;&#95;() 메서드를 구현하지 않았다면 객체의 사전이 우선순위를 갖고 그 다음에 디스크립터가 실행됨  \n",
    "\n",
    "```python\n",
    "instance.__dict__[\"descriptor\"] = value\n",
    "```\n",
    "위의 코드에 대해\n",
    "1. 하필 \"descriptor\"라는 이름의 속성 값을 바꾸는 이유: 단순화를 위해 디스크립터의 이름을 따로 설정하지 않았기 때문\n",
    "    - 실제로는 &#95;&#95;init&#95;&#95;메서드에서 디스크립터의 이름을 받아서 내부에 저장하거나 &#95;&#95;set&#95;name&#95;&#95;메서드를 이용해 이름 설정 가능\n",
    "1. 인스턴스의 &#95;&#95;dict&#95;&#95;속성에 직접 접근하는 이유\n",
    " ```python\n",
    "setattr(instance, \"descriptor\", value)\n",
    "```\n",
    "위처럼 단순하게 하지 않은 이유는 디스크립터의 속성에 무언가 할당하려고 하면 &#95;&#95;set&#95;&#95;메서드가 호출되기 때문임.  \n",
    "setattr()을 사용하면 디스크립터의 &#95;&#95;set&#95;&#95;메서드가 호출되고, &#95;&#95;set&#95;&#95;메서드는 setattr을 호출하고 다시 &#95;&#95;set&#95;&#95;이 호출되는 무한루프가 발생  \n",
    "1. 디스크립터가 모든 인스턴스의 프로퍼티 값을 보관할 수 없는 이유  \n",
    "    - 클라이언트 클래스는 이미 디스크립터의 참조를 가지고 있음. 이에 따라 디스크립터가 다시 클라이언트 객체를 참조하면 순환종속성이 생기게 되어 가비지 컬렉션이 되지 않는 문제가 생김. (서로를 가리키고 있기 때문에 참조 카운트가 제거 임계치 이하로 떨어지지 않음)  \n",
    "    - 이에 대한 대안은 weakref 모듈에 있는 약한 참조를 사용하여 약한 참조 키 사전을 만드는 것 "
   ]
  },
  {
   "cell_type": "code",
   "execution_count": null,
   "id": "57b10b7c",
   "metadata": {},
   "outputs": [],
   "source": []
  }
 ],
 "metadata": {
  "kernelspec": {
   "display_name": "Python 3 (ipykernel)",
   "language": "python",
   "name": "python3"
  },
  "language_info": {
   "codemirror_mode": {
    "name": "ipython",
    "version": 3
   },
   "file_extension": ".py",
   "mimetype": "text/x-python",
   "name": "python",
   "nbconvert_exporter": "python",
   "pygments_lexer": "ipython3",
   "version": "3.9.12"
  }
 },
 "nbformat": 4,
 "nbformat_minor": 5
}
